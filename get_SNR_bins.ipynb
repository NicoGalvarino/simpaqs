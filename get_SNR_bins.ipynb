{
 "cells": [
  {
   "cell_type": "code",
   "execution_count": 1,
   "id": "6a78ac5f",
   "metadata": {},
   "outputs": [],
   "source": [
    "import pandas as pd\n",
    "import numpy as np\n",
    "from collections import Counter\n",
    "from astropy.table import QTable, Table\n",
    "import astropy.units as u\n",
    "\n",
    "import matplotlib.pyplot as plt\n",
    "import seaborn as sns\n",
    "sns.set_theme()\n",
    "\n",
    "from qmostetc import SEDTemplate, QMostObservatory, Filter, L1DXU\n",
    "import os\n",
    "\n",
    "from fits_utils import save_to_fits, pandas_from_fits, spec_name"
   ]
  },
  {
   "cell_type": "markdown",
   "id": "3133e582",
   "metadata": {},
   "source": [
    "# SNR bins"
   ]
  },
  {
   "cell_type": "code",
   "execution_count": null,
   "id": "5e554c84",
   "metadata": {},
   "outputs": [],
   "source": [
    "z = 1.5"
   ]
  },
  {
   "cell_type": "code",
   "execution_count": null,
   "id": "b21dd834",
   "metadata": {},
   "outputs": [],
   "source": [
    "from simulate_quasars_no_abs import simulate_quasars"
   ]
  },
  {
   "cell_type": "code",
   "execution_count": 27,
   "id": "d117e1a9",
   "metadata": {},
   "outputs": [
    {
     "name": "stdout",
     "output_type": "stream",
     "text": [
      "Using 1 provided redshifts\n",
      "Creating quasar models:\n"
     ]
    },
    {
     "name": "stderr",
     "output_type": "stream",
     "text": [
      "100%|██████████| 1/1 [00:00<00:00, 274.48it/s]\n"
     ]
    },
    {
     "data": {
      "text/html": [
       "<div><i>Table length=1</i>\n",
       "<table id=\"table5948348160\" class=\"table-striped table-bordered table-condensed\">\n",
       "<thead><tr><th>ID</th><th>REDSHIFT</th><th>absMag</th><th>smcDustEBV</th><th>LOG_MBH</th><th>LOG_REDD</th><th>NAME</th></tr></thead>\n",
       "<thead><tr><th>str24</th><th>float32</th><th>float32</th><th>float32</th><th>float64</th><th>float64</th><th>str11</th></tr></thead>\n",
       "<tr><td>QSO_sim_z1.5_QSO_for_SNR</td><td>1.5</td><td>-23.061964</td><td>0.062106147</td><td>8.141895142387893</td><td>-0.8032895437592349</td><td>QSO_for_SNR</td></tr>\n",
       "</table></div>"
      ],
      "text/plain": [
       "<Table length=1>\n",
       "           ID            REDSHIFT   absMag   ...       LOG_REDD          NAME   \n",
       "         str24           float32   float32   ...       float64          str11   \n",
       "------------------------ -------- ---------- ... ------------------- -----------\n",
       "QSO_sim_z1.5_QSO_for_SNR      1.5 -23.061964 ... -0.8032895437592349 QSO_for_SNR"
      ]
     },
     "execution_count": 27,
     "metadata": {},
     "output_type": "execute_result"
    }
   ],
   "source": [
    "simulate_quasars(1, [z], ['QSO_for_SNR'], output_dir='./../SNR/QSO_model')"
   ]
  },
  {
   "cell_type": "code",
   "execution_count": 28,
   "id": "2cc288f1",
   "metadata": {},
   "outputs": [],
   "source": [
    "moon = 'gray'\n",
    "texp = 47 * u.min"
   ]
  },
  {
   "cell_type": "code",
   "execution_count": 29,
   "id": "1765d534",
   "metadata": {},
   "outputs": [],
   "source": [
    "mags = [15.0, 17.0, 19.0, 20.5, 21.5]\n",
    "fobs = [2., 3., 5., 10., 20., 40.]"
   ]
  },
  {
   "cell_type": "code",
   "execution_count": 40,
   "id": "8257ce62",
   "metadata": {},
   "outputs": [],
   "source": [
    "def process_quasar(mag_value, t_exp, fobs, target_name='QSO_z_1_5_for_SNR', z=1.5, mag_type_str='DECAM_z_AB', \n",
    "                    output_dir='./../SNR/ETC_output', \n",
    "                    template_path='./../SNR/QSO_model/', template_name='QSO_sim_z1.5_QSO_for_SNR.fits', \n",
    "                    airmass=1.2,  # 1.0 - 1.5\n",
    "                    seeing=0.8,  # 0.4 - 1.5\n",
    "                    moon='gray',\n",
    "                    CR_rate=1.67e-7, #l1_type='joined', \n",
    "                    prog_id='4MOST-ETC'):\n",
    "\n",
    "    spectrograph = 'hrs'\n",
    "    qmost = QMostObservatory(spectrograph)\n",
    "\n",
    "    alt = np.arccos(1. / airmass) * 180 / np.pi * u.deg\n",
    "    obs = qmost(alt, seeing*u.arcsec, moon)\n",
    "\n",
    "        # ruleset_name = row['RULESET']\n",
    "        # target_name = row['NAME']\n",
    "        # ruleset = rulesets[ruleset_name]\n",
    "        # etc = ruleset.etc(alt, seeing*u.arcsec, moon)\n",
    "    template_fname = os.path.join(template_path, template_name)\n",
    "    SED = SEDTemplate(template_fname)\n",
    "\n",
    "        # Add the target spectrum from the template with a magnitude\n",
    "    # mag_type_str = row['MAG_TYPE']\n",
    "    survey, band, ab_vega = mag_type_str.split('_')\n",
    "    mag_type = [filt_id for filt_id in Filter.list()\n",
    "                if survey.upper() in filt_id.upper() and '.'+band in filt_id][0]\n",
    "    mag_unit = u.ABmag\n",
    "        # if ab_vega != 'AB':\n",
    "        #     print(\"Warning not AB magnitude in catalog... may be incorrect\")\n",
    "    mag = mag_value * mag_unit\n",
    "        # SED = SED.redshift(row['REDSHIFT_ESTIMATE'])\n",
    "        # etc.set_target(SED(mag, mag_type), 'point')\n",
    "    obs.set_target(SED(mag, mag_type), 'point')\n",
    "\n",
    "    texp_fobs = t_exp * fobs\n",
    "    res = obs.expose(texp_fobs)\n",
    "    if np.isnan(res['target']).any():\n",
    "        res['target'][np.isnan(res['target'])] = 0.\n",
    "    if np.isnan(res['sky']).any():\n",
    "        res['sky'][np.isnan(res['sky'])] = 0.\n",
    "\n",
    "    # Add cosmic rays:\n",
    "    N_pix = len(res)\n",
    "    N_cosmic = np.random.poisson(CR_rate * texp.value * N_pix * 0.8)\n",
    "    idx = np.random.choice(np.arange(N_pix), N_cosmic, replace=False)\n",
    "    CR_boost = 10**np.random.normal(2.0, 0.15, N_cosmic) * u.electron\n",
    "    res['target'][idx] += CR_boost\n",
    "    res['noise'][idx] = np.sqrt(res['noise'][idx]**2 + CR_boost * u.electron)\n",
    "\n",
    "    dxu = L1DXU(qmost, res, texp)\n",
    "\n",
    "    z_str = str(np.round(z, 4))\n",
    "    mag_str = str(np.round(mag_value, 2))\n",
    "    fobs_str = str(np.round(fobs, 3))\n",
    "    model_id = f'QSO_sim_ETC_z{z_str}_mag{mag_str}_fobs{fobs_str}'\n",
    "    filename = f\"{model_id}_LJ1.fits\"\n",
    "\n",
    "    if not os.path.exists(output_dir):\n",
    "        os.makedirs(output_dir)\n",
    "    \n",
    "    output = os.path.join(output_dir, filename)\n",
    "    print(model_id)\n",
    "    try:\n",
    "        hdu_list = dxu.joined()\n",
    "        hdu_list.writeto(output, overwrite=True)\n",
    "    # except ValueError as e:\n",
    "    #     print(f\"Failed to save the joined spectrum: {row['TEMPLATE']}\")\n",
    "    except (ValueError, IndexError) as e:\n",
    "        print(f\"\\nFailed to save the joined spectrum for {target_name} (z={z}): {str(e)}\")\n",
    "\n",
    "    return [filename, mag_value, texp.value, fobs, texp_fobs.value, seeing, airmass]"
   ]
  },
  {
   "cell_type": "code",
   "execution_count": null,
   "id": "44aad9b9",
   "metadata": {},
   "outputs": [
    {
     "name": "stdout",
     "output_type": "stream",
     "text": [
      "QSO_sim_ETC_z1.5_mag15.0_fobs2.0\n"
     ]
    },
    {
     "name": "stderr",
     "output_type": "stream",
     "text": [
      "/opt/anaconda3/envs/etc_4fs/lib/python3.13/site-packages/astropy/units/quantity.py:658: RuntimeWarning: invalid value encountered in divide\n",
      "  result = super().__array_ufunc__(function, method, *arrays, **kwargs)\n"
     ]
    },
    {
     "name": "stdout",
     "output_type": "stream",
     "text": [
      "QSO_sim_ETC_z1.5_mag15.0_fobs3.0\n"
     ]
    },
    {
     "name": "stderr",
     "output_type": "stream",
     "text": [
      "/opt/anaconda3/envs/etc_4fs/lib/python3.13/site-packages/astropy/units/quantity.py:658: RuntimeWarning: invalid value encountered in divide\n",
      "  result = super().__array_ufunc__(function, method, *arrays, **kwargs)\n"
     ]
    },
    {
     "name": "stdout",
     "output_type": "stream",
     "text": [
      "QSO_sim_ETC_z1.5_mag15.0_fobs5.0\n"
     ]
    },
    {
     "name": "stderr",
     "output_type": "stream",
     "text": [
      "/opt/anaconda3/envs/etc_4fs/lib/python3.13/site-packages/astropy/units/quantity.py:658: RuntimeWarning: invalid value encountered in divide\n",
      "  result = super().__array_ufunc__(function, method, *arrays, **kwargs)\n"
     ]
    },
    {
     "name": "stdout",
     "output_type": "stream",
     "text": [
      "QSO_sim_ETC_z1.5_mag15.0_fobs10.0\n"
     ]
    },
    {
     "name": "stderr",
     "output_type": "stream",
     "text": [
      "/opt/anaconda3/envs/etc_4fs/lib/python3.13/site-packages/astropy/units/quantity.py:658: RuntimeWarning: invalid value encountered in divide\n",
      "  result = super().__array_ufunc__(function, method, *arrays, **kwargs)\n"
     ]
    },
    {
     "name": "stdout",
     "output_type": "stream",
     "text": [
      "QSO_sim_ETC_z1.5_mag15.0_fobs20.0\n"
     ]
    },
    {
     "name": "stderr",
     "output_type": "stream",
     "text": [
      "/opt/anaconda3/envs/etc_4fs/lib/python3.13/site-packages/astropy/units/quantity.py:658: RuntimeWarning: invalid value encountered in divide\n",
      "  result = super().__array_ufunc__(function, method, *arrays, **kwargs)\n"
     ]
    },
    {
     "name": "stdout",
     "output_type": "stream",
     "text": [
      "QSO_sim_ETC_z1.5_mag15.0_fobs40.0\n"
     ]
    },
    {
     "name": "stderr",
     "output_type": "stream",
     "text": [
      "/opt/anaconda3/envs/etc_4fs/lib/python3.13/site-packages/astropy/units/quantity.py:658: RuntimeWarning: invalid value encountered in divide\n",
      "  result = super().__array_ufunc__(function, method, *arrays, **kwargs)\n"
     ]
    },
    {
     "name": "stdout",
     "output_type": "stream",
     "text": [
      "QSO_sim_ETC_z1.5_mag17.0_fobs2.0\n"
     ]
    },
    {
     "name": "stderr",
     "output_type": "stream",
     "text": [
      "/opt/anaconda3/envs/etc_4fs/lib/python3.13/site-packages/astropy/units/quantity.py:658: RuntimeWarning: invalid value encountered in divide\n",
      "  result = super().__array_ufunc__(function, method, *arrays, **kwargs)\n"
     ]
    },
    {
     "name": "stdout",
     "output_type": "stream",
     "text": [
      "QSO_sim_ETC_z1.5_mag17.0_fobs3.0\n"
     ]
    },
    {
     "name": "stderr",
     "output_type": "stream",
     "text": [
      "/opt/anaconda3/envs/etc_4fs/lib/python3.13/site-packages/astropy/units/quantity.py:658: RuntimeWarning: invalid value encountered in divide\n",
      "  result = super().__array_ufunc__(function, method, *arrays, **kwargs)\n"
     ]
    },
    {
     "name": "stdout",
     "output_type": "stream",
     "text": [
      "QSO_sim_ETC_z1.5_mag17.0_fobs5.0\n"
     ]
    },
    {
     "name": "stderr",
     "output_type": "stream",
     "text": [
      "/opt/anaconda3/envs/etc_4fs/lib/python3.13/site-packages/astropy/units/quantity.py:658: RuntimeWarning: invalid value encountered in divide\n",
      "  result = super().__array_ufunc__(function, method, *arrays, **kwargs)\n"
     ]
    },
    {
     "name": "stdout",
     "output_type": "stream",
     "text": [
      "QSO_sim_ETC_z1.5_mag17.0_fobs10.0\n"
     ]
    },
    {
     "name": "stderr",
     "output_type": "stream",
     "text": [
      "/opt/anaconda3/envs/etc_4fs/lib/python3.13/site-packages/astropy/units/quantity.py:658: RuntimeWarning: invalid value encountered in divide\n",
      "  result = super().__array_ufunc__(function, method, *arrays, **kwargs)\n"
     ]
    },
    {
     "name": "stdout",
     "output_type": "stream",
     "text": [
      "QSO_sim_ETC_z1.5_mag17.0_fobs20.0\n"
     ]
    },
    {
     "name": "stderr",
     "output_type": "stream",
     "text": [
      "/opt/anaconda3/envs/etc_4fs/lib/python3.13/site-packages/astropy/units/quantity.py:658: RuntimeWarning: invalid value encountered in divide\n",
      "  result = super().__array_ufunc__(function, method, *arrays, **kwargs)\n"
     ]
    },
    {
     "name": "stdout",
     "output_type": "stream",
     "text": [
      "QSO_sim_ETC_z1.5_mag17.0_fobs40.0\n"
     ]
    },
    {
     "name": "stderr",
     "output_type": "stream",
     "text": [
      "/opt/anaconda3/envs/etc_4fs/lib/python3.13/site-packages/astropy/units/quantity.py:658: RuntimeWarning: invalid value encountered in divide\n",
      "  result = super().__array_ufunc__(function, method, *arrays, **kwargs)\n"
     ]
    },
    {
     "name": "stdout",
     "output_type": "stream",
     "text": [
      "QSO_sim_ETC_z1.5_mag19.0_fobs2.0\n"
     ]
    },
    {
     "name": "stderr",
     "output_type": "stream",
     "text": [
      "/opt/anaconda3/envs/etc_4fs/lib/python3.13/site-packages/astropy/units/quantity.py:658: RuntimeWarning: invalid value encountered in divide\n",
      "  result = super().__array_ufunc__(function, method, *arrays, **kwargs)\n"
     ]
    },
    {
     "name": "stdout",
     "output_type": "stream",
     "text": [
      "QSO_sim_ETC_z1.5_mag19.0_fobs3.0\n"
     ]
    },
    {
     "name": "stderr",
     "output_type": "stream",
     "text": [
      "/opt/anaconda3/envs/etc_4fs/lib/python3.13/site-packages/astropy/units/quantity.py:658: RuntimeWarning: invalid value encountered in divide\n",
      "  result = super().__array_ufunc__(function, method, *arrays, **kwargs)\n"
     ]
    },
    {
     "name": "stdout",
     "output_type": "stream",
     "text": [
      "QSO_sim_ETC_z1.5_mag19.0_fobs5.0\n"
     ]
    },
    {
     "name": "stderr",
     "output_type": "stream",
     "text": [
      "/opt/anaconda3/envs/etc_4fs/lib/python3.13/site-packages/astropy/units/quantity.py:658: RuntimeWarning: invalid value encountered in divide\n",
      "  result = super().__array_ufunc__(function, method, *arrays, **kwargs)\n"
     ]
    },
    {
     "name": "stdout",
     "output_type": "stream",
     "text": [
      "QSO_sim_ETC_z1.5_mag19.0_fobs10.0\n"
     ]
    },
    {
     "name": "stderr",
     "output_type": "stream",
     "text": [
      "/opt/anaconda3/envs/etc_4fs/lib/python3.13/site-packages/astropy/units/quantity.py:658: RuntimeWarning: invalid value encountered in divide\n",
      "  result = super().__array_ufunc__(function, method, *arrays, **kwargs)\n"
     ]
    },
    {
     "name": "stdout",
     "output_type": "stream",
     "text": [
      "QSO_sim_ETC_z1.5_mag19.0_fobs20.0\n"
     ]
    },
    {
     "name": "stderr",
     "output_type": "stream",
     "text": [
      "/opt/anaconda3/envs/etc_4fs/lib/python3.13/site-packages/astropy/units/quantity.py:658: RuntimeWarning: invalid value encountered in divide\n",
      "  result = super().__array_ufunc__(function, method, *arrays, **kwargs)\n"
     ]
    },
    {
     "name": "stdout",
     "output_type": "stream",
     "text": [
      "QSO_sim_ETC_z1.5_mag19.0_fobs40.0\n"
     ]
    },
    {
     "name": "stderr",
     "output_type": "stream",
     "text": [
      "/opt/anaconda3/envs/etc_4fs/lib/python3.13/site-packages/astropy/units/quantity.py:658: RuntimeWarning: invalid value encountered in divide\n",
      "  result = super().__array_ufunc__(function, method, *arrays, **kwargs)\n"
     ]
    },
    {
     "name": "stdout",
     "output_type": "stream",
     "text": [
      "QSO_sim_ETC_z1.5_mag20.5_fobs2.0\n"
     ]
    },
    {
     "name": "stderr",
     "output_type": "stream",
     "text": [
      "/opt/anaconda3/envs/etc_4fs/lib/python3.13/site-packages/astropy/units/quantity.py:658: RuntimeWarning: invalid value encountered in divide\n",
      "  result = super().__array_ufunc__(function, method, *arrays, **kwargs)\n"
     ]
    },
    {
     "name": "stdout",
     "output_type": "stream",
     "text": [
      "QSO_sim_ETC_z1.5_mag20.5_fobs3.0\n"
     ]
    },
    {
     "name": "stderr",
     "output_type": "stream",
     "text": [
      "/opt/anaconda3/envs/etc_4fs/lib/python3.13/site-packages/astropy/units/quantity.py:658: RuntimeWarning: invalid value encountered in divide\n",
      "  result = super().__array_ufunc__(function, method, *arrays, **kwargs)\n"
     ]
    },
    {
     "name": "stdout",
     "output_type": "stream",
     "text": [
      "QSO_sim_ETC_z1.5_mag20.5_fobs5.0\n"
     ]
    },
    {
     "name": "stderr",
     "output_type": "stream",
     "text": [
      "/opt/anaconda3/envs/etc_4fs/lib/python3.13/site-packages/astropy/units/quantity.py:658: RuntimeWarning: invalid value encountered in divide\n",
      "  result = super().__array_ufunc__(function, method, *arrays, **kwargs)\n"
     ]
    },
    {
     "name": "stdout",
     "output_type": "stream",
     "text": [
      "QSO_sim_ETC_z1.5_mag20.5_fobs10.0\n"
     ]
    },
    {
     "name": "stderr",
     "output_type": "stream",
     "text": [
      "/opt/anaconda3/envs/etc_4fs/lib/python3.13/site-packages/astropy/units/quantity.py:658: RuntimeWarning: invalid value encountered in divide\n",
      "  result = super().__array_ufunc__(function, method, *arrays, **kwargs)\n"
     ]
    },
    {
     "name": "stdout",
     "output_type": "stream",
     "text": [
      "QSO_sim_ETC_z1.5_mag20.5_fobs20.0\n"
     ]
    },
    {
     "name": "stderr",
     "output_type": "stream",
     "text": [
      "/opt/anaconda3/envs/etc_4fs/lib/python3.13/site-packages/astropy/units/quantity.py:658: RuntimeWarning: invalid value encountered in divide\n",
      "  result = super().__array_ufunc__(function, method, *arrays, **kwargs)\n"
     ]
    },
    {
     "name": "stdout",
     "output_type": "stream",
     "text": [
      "QSO_sim_ETC_z1.5_mag20.5_fobs40.0\n"
     ]
    },
    {
     "name": "stderr",
     "output_type": "stream",
     "text": [
      "/opt/anaconda3/envs/etc_4fs/lib/python3.13/site-packages/astropy/units/quantity.py:658: RuntimeWarning: invalid value encountered in divide\n",
      "  result = super().__array_ufunc__(function, method, *arrays, **kwargs)\n"
     ]
    },
    {
     "name": "stdout",
     "output_type": "stream",
     "text": [
      "QSO_sim_ETC_z1.5_mag21.5_fobs2.0\n"
     ]
    },
    {
     "name": "stderr",
     "output_type": "stream",
     "text": [
      "/opt/anaconda3/envs/etc_4fs/lib/python3.13/site-packages/astropy/units/quantity.py:658: RuntimeWarning: invalid value encountered in divide\n",
      "  result = super().__array_ufunc__(function, method, *arrays, **kwargs)\n"
     ]
    },
    {
     "name": "stdout",
     "output_type": "stream",
     "text": [
      "QSO_sim_ETC_z1.5_mag21.5_fobs3.0\n"
     ]
    },
    {
     "name": "stderr",
     "output_type": "stream",
     "text": [
      "/opt/anaconda3/envs/etc_4fs/lib/python3.13/site-packages/astropy/units/quantity.py:658: RuntimeWarning: invalid value encountered in divide\n",
      "  result = super().__array_ufunc__(function, method, *arrays, **kwargs)\n"
     ]
    },
    {
     "name": "stdout",
     "output_type": "stream",
     "text": [
      "QSO_sim_ETC_z1.5_mag21.5_fobs5.0\n"
     ]
    },
    {
     "name": "stderr",
     "output_type": "stream",
     "text": [
      "/opt/anaconda3/envs/etc_4fs/lib/python3.13/site-packages/astropy/units/quantity.py:658: RuntimeWarning: invalid value encountered in divide\n",
      "  result = super().__array_ufunc__(function, method, *arrays, **kwargs)\n"
     ]
    },
    {
     "name": "stdout",
     "output_type": "stream",
     "text": [
      "QSO_sim_ETC_z1.5_mag21.5_fobs10.0\n"
     ]
    },
    {
     "name": "stderr",
     "output_type": "stream",
     "text": [
      "/opt/anaconda3/envs/etc_4fs/lib/python3.13/site-packages/astropy/units/quantity.py:658: RuntimeWarning: invalid value encountered in divide\n",
      "  result = super().__array_ufunc__(function, method, *arrays, **kwargs)\n"
     ]
    },
    {
     "name": "stdout",
     "output_type": "stream",
     "text": [
      "QSO_sim_ETC_z1.5_mag21.5_fobs20.0\n"
     ]
    },
    {
     "name": "stderr",
     "output_type": "stream",
     "text": [
      "/opt/anaconda3/envs/etc_4fs/lib/python3.13/site-packages/astropy/units/quantity.py:658: RuntimeWarning: invalid value encountered in divide\n",
      "  result = super().__array_ufunc__(function, method, *arrays, **kwargs)\n"
     ]
    },
    {
     "name": "stdout",
     "output_type": "stream",
     "text": [
      "QSO_sim_ETC_z1.5_mag21.5_fobs40.0\n"
     ]
    },
    {
     "name": "stderr",
     "output_type": "stream",
     "text": [
      "/opt/anaconda3/envs/etc_4fs/lib/python3.13/site-packages/astropy/units/quantity.py:658: RuntimeWarning: invalid value encountered in divide\n",
      "  result = super().__array_ufunc__(function, method, *arrays, **kwargs)\n"
     ]
    },
    {
     "data": {
      "text/html": [
       "<div>\n",
       "<style scoped>\n",
       "    .dataframe tbody tr th:only-of-type {\n",
       "        vertical-align: middle;\n",
       "    }\n",
       "\n",
       "    .dataframe tbody tr th {\n",
       "        vertical-align: top;\n",
       "    }\n",
       "\n",
       "    .dataframe thead th {\n",
       "        text-align: right;\n",
       "    }\n",
       "</style>\n",
       "<table border=\"1\" class=\"dataframe\">\n",
       "  <thead>\n",
       "    <tr style=\"text-align: right;\">\n",
       "      <th></th>\n",
       "      <th>filename</th>\n",
       "      <th>mag</th>\n",
       "      <th>texp</th>\n",
       "      <th>fobs</th>\n",
       "      <th>texp_x_fobs</th>\n",
       "    </tr>\n",
       "  </thead>\n",
       "  <tbody>\n",
       "    <tr>\n",
       "      <th>0</th>\n",
       "      <td>QSO_sim_ETC_z1.5_mag15.0_fobs2.0_LJ1.fits</td>\n",
       "      <td>15.0</td>\n",
       "      <td>47.0</td>\n",
       "      <td>2.0</td>\n",
       "      <td>94.0</td>\n",
       "    </tr>\n",
       "    <tr>\n",
       "      <th>1</th>\n",
       "      <td>QSO_sim_ETC_z1.5_mag15.0_fobs3.0_LJ1.fits</td>\n",
       "      <td>15.0</td>\n",
       "      <td>47.0</td>\n",
       "      <td>3.0</td>\n",
       "      <td>141.0</td>\n",
       "    </tr>\n",
       "    <tr>\n",
       "      <th>2</th>\n",
       "      <td>QSO_sim_ETC_z1.5_mag15.0_fobs5.0_LJ1.fits</td>\n",
       "      <td>15.0</td>\n",
       "      <td>47.0</td>\n",
       "      <td>5.0</td>\n",
       "      <td>235.0</td>\n",
       "    </tr>\n",
       "    <tr>\n",
       "      <th>3</th>\n",
       "      <td>QSO_sim_ETC_z1.5_mag15.0_fobs10.0_LJ1.fits</td>\n",
       "      <td>15.0</td>\n",
       "      <td>47.0</td>\n",
       "      <td>10.0</td>\n",
       "      <td>470.0</td>\n",
       "    </tr>\n",
       "    <tr>\n",
       "      <th>4</th>\n",
       "      <td>QSO_sim_ETC_z1.5_mag15.0_fobs20.0_LJ1.fits</td>\n",
       "      <td>15.0</td>\n",
       "      <td>47.0</td>\n",
       "      <td>20.0</td>\n",
       "      <td>940.0</td>\n",
       "    </tr>\n",
       "    <tr>\n",
       "      <th>5</th>\n",
       "      <td>QSO_sim_ETC_z1.5_mag15.0_fobs40.0_LJ1.fits</td>\n",
       "      <td>15.0</td>\n",
       "      <td>47.0</td>\n",
       "      <td>40.0</td>\n",
       "      <td>1880.0</td>\n",
       "    </tr>\n",
       "    <tr>\n",
       "      <th>6</th>\n",
       "      <td>QSO_sim_ETC_z1.5_mag17.0_fobs2.0_LJ1.fits</td>\n",
       "      <td>17.0</td>\n",
       "      <td>47.0</td>\n",
       "      <td>2.0</td>\n",
       "      <td>94.0</td>\n",
       "    </tr>\n",
       "    <tr>\n",
       "      <th>7</th>\n",
       "      <td>QSO_sim_ETC_z1.5_mag17.0_fobs3.0_LJ1.fits</td>\n",
       "      <td>17.0</td>\n",
       "      <td>47.0</td>\n",
       "      <td>3.0</td>\n",
       "      <td>141.0</td>\n",
       "    </tr>\n",
       "    <tr>\n",
       "      <th>8</th>\n",
       "      <td>QSO_sim_ETC_z1.5_mag17.0_fobs5.0_LJ1.fits</td>\n",
       "      <td>17.0</td>\n",
       "      <td>47.0</td>\n",
       "      <td>5.0</td>\n",
       "      <td>235.0</td>\n",
       "    </tr>\n",
       "    <tr>\n",
       "      <th>9</th>\n",
       "      <td>QSO_sim_ETC_z1.5_mag17.0_fobs10.0_LJ1.fits</td>\n",
       "      <td>17.0</td>\n",
       "      <td>47.0</td>\n",
       "      <td>10.0</td>\n",
       "      <td>470.0</td>\n",
       "    </tr>\n",
       "    <tr>\n",
       "      <th>10</th>\n",
       "      <td>QSO_sim_ETC_z1.5_mag17.0_fobs20.0_LJ1.fits</td>\n",
       "      <td>17.0</td>\n",
       "      <td>47.0</td>\n",
       "      <td>20.0</td>\n",
       "      <td>940.0</td>\n",
       "    </tr>\n",
       "    <tr>\n",
       "      <th>11</th>\n",
       "      <td>QSO_sim_ETC_z1.5_mag17.0_fobs40.0_LJ1.fits</td>\n",
       "      <td>17.0</td>\n",
       "      <td>47.0</td>\n",
       "      <td>40.0</td>\n",
       "      <td>1880.0</td>\n",
       "    </tr>\n",
       "    <tr>\n",
       "      <th>12</th>\n",
       "      <td>QSO_sim_ETC_z1.5_mag19.0_fobs2.0_LJ1.fits</td>\n",
       "      <td>19.0</td>\n",
       "      <td>47.0</td>\n",
       "      <td>2.0</td>\n",
       "      <td>94.0</td>\n",
       "    </tr>\n",
       "    <tr>\n",
       "      <th>13</th>\n",
       "      <td>QSO_sim_ETC_z1.5_mag19.0_fobs3.0_LJ1.fits</td>\n",
       "      <td>19.0</td>\n",
       "      <td>47.0</td>\n",
       "      <td>3.0</td>\n",
       "      <td>141.0</td>\n",
       "    </tr>\n",
       "    <tr>\n",
       "      <th>14</th>\n",
       "      <td>QSO_sim_ETC_z1.5_mag19.0_fobs5.0_LJ1.fits</td>\n",
       "      <td>19.0</td>\n",
       "      <td>47.0</td>\n",
       "      <td>5.0</td>\n",
       "      <td>235.0</td>\n",
       "    </tr>\n",
       "    <tr>\n",
       "      <th>15</th>\n",
       "      <td>QSO_sim_ETC_z1.5_mag19.0_fobs10.0_LJ1.fits</td>\n",
       "      <td>19.0</td>\n",
       "      <td>47.0</td>\n",
       "      <td>10.0</td>\n",
       "      <td>470.0</td>\n",
       "    </tr>\n",
       "    <tr>\n",
       "      <th>16</th>\n",
       "      <td>QSO_sim_ETC_z1.5_mag19.0_fobs20.0_LJ1.fits</td>\n",
       "      <td>19.0</td>\n",
       "      <td>47.0</td>\n",
       "      <td>20.0</td>\n",
       "      <td>940.0</td>\n",
       "    </tr>\n",
       "    <tr>\n",
       "      <th>17</th>\n",
       "      <td>QSO_sim_ETC_z1.5_mag19.0_fobs40.0_LJ1.fits</td>\n",
       "      <td>19.0</td>\n",
       "      <td>47.0</td>\n",
       "      <td>40.0</td>\n",
       "      <td>1880.0</td>\n",
       "    </tr>\n",
       "    <tr>\n",
       "      <th>18</th>\n",
       "      <td>QSO_sim_ETC_z1.5_mag20.5_fobs2.0_LJ1.fits</td>\n",
       "      <td>20.5</td>\n",
       "      <td>47.0</td>\n",
       "      <td>2.0</td>\n",
       "      <td>94.0</td>\n",
       "    </tr>\n",
       "    <tr>\n",
       "      <th>19</th>\n",
       "      <td>QSO_sim_ETC_z1.5_mag20.5_fobs3.0_LJ1.fits</td>\n",
       "      <td>20.5</td>\n",
       "      <td>47.0</td>\n",
       "      <td>3.0</td>\n",
       "      <td>141.0</td>\n",
       "    </tr>\n",
       "    <tr>\n",
       "      <th>20</th>\n",
       "      <td>QSO_sim_ETC_z1.5_mag20.5_fobs5.0_LJ1.fits</td>\n",
       "      <td>20.5</td>\n",
       "      <td>47.0</td>\n",
       "      <td>5.0</td>\n",
       "      <td>235.0</td>\n",
       "    </tr>\n",
       "    <tr>\n",
       "      <th>21</th>\n",
       "      <td>QSO_sim_ETC_z1.5_mag20.5_fobs10.0_LJ1.fits</td>\n",
       "      <td>20.5</td>\n",
       "      <td>47.0</td>\n",
       "      <td>10.0</td>\n",
       "      <td>470.0</td>\n",
       "    </tr>\n",
       "    <tr>\n",
       "      <th>22</th>\n",
       "      <td>QSO_sim_ETC_z1.5_mag20.5_fobs20.0_LJ1.fits</td>\n",
       "      <td>20.5</td>\n",
       "      <td>47.0</td>\n",
       "      <td>20.0</td>\n",
       "      <td>940.0</td>\n",
       "    </tr>\n",
       "    <tr>\n",
       "      <th>23</th>\n",
       "      <td>QSO_sim_ETC_z1.5_mag20.5_fobs40.0_LJ1.fits</td>\n",
       "      <td>20.5</td>\n",
       "      <td>47.0</td>\n",
       "      <td>40.0</td>\n",
       "      <td>1880.0</td>\n",
       "    </tr>\n",
       "    <tr>\n",
       "      <th>24</th>\n",
       "      <td>QSO_sim_ETC_z1.5_mag21.5_fobs2.0_LJ1.fits</td>\n",
       "      <td>21.5</td>\n",
       "      <td>47.0</td>\n",
       "      <td>2.0</td>\n",
       "      <td>94.0</td>\n",
       "    </tr>\n",
       "    <tr>\n",
       "      <th>25</th>\n",
       "      <td>QSO_sim_ETC_z1.5_mag21.5_fobs3.0_LJ1.fits</td>\n",
       "      <td>21.5</td>\n",
       "      <td>47.0</td>\n",
       "      <td>3.0</td>\n",
       "      <td>141.0</td>\n",
       "    </tr>\n",
       "    <tr>\n",
       "      <th>26</th>\n",
       "      <td>QSO_sim_ETC_z1.5_mag21.5_fobs5.0_LJ1.fits</td>\n",
       "      <td>21.5</td>\n",
       "      <td>47.0</td>\n",
       "      <td>5.0</td>\n",
       "      <td>235.0</td>\n",
       "    </tr>\n",
       "    <tr>\n",
       "      <th>27</th>\n",
       "      <td>QSO_sim_ETC_z1.5_mag21.5_fobs10.0_LJ1.fits</td>\n",
       "      <td>21.5</td>\n",
       "      <td>47.0</td>\n",
       "      <td>10.0</td>\n",
       "      <td>470.0</td>\n",
       "    </tr>\n",
       "    <tr>\n",
       "      <th>28</th>\n",
       "      <td>QSO_sim_ETC_z1.5_mag21.5_fobs20.0_LJ1.fits</td>\n",
       "      <td>21.5</td>\n",
       "      <td>47.0</td>\n",
       "      <td>20.0</td>\n",
       "      <td>940.0</td>\n",
       "    </tr>\n",
       "    <tr>\n",
       "      <th>29</th>\n",
       "      <td>QSO_sim_ETC_z1.5_mag21.5_fobs40.0_LJ1.fits</td>\n",
       "      <td>21.5</td>\n",
       "      <td>47.0</td>\n",
       "      <td>40.0</td>\n",
       "      <td>1880.0</td>\n",
       "    </tr>\n",
       "  </tbody>\n",
       "</table>\n",
       "</div>"
      ],
      "text/plain": [
       "                                      filename   mag  texp  fobs  texp_x_fobs\n",
       "0    QSO_sim_ETC_z1.5_mag15.0_fobs2.0_LJ1.fits  15.0  47.0   2.0         94.0\n",
       "1    QSO_sim_ETC_z1.5_mag15.0_fobs3.0_LJ1.fits  15.0  47.0   3.0        141.0\n",
       "2    QSO_sim_ETC_z1.5_mag15.0_fobs5.0_LJ1.fits  15.0  47.0   5.0        235.0\n",
       "3   QSO_sim_ETC_z1.5_mag15.0_fobs10.0_LJ1.fits  15.0  47.0  10.0        470.0\n",
       "4   QSO_sim_ETC_z1.5_mag15.0_fobs20.0_LJ1.fits  15.0  47.0  20.0        940.0\n",
       "5   QSO_sim_ETC_z1.5_mag15.0_fobs40.0_LJ1.fits  15.0  47.0  40.0       1880.0\n",
       "6    QSO_sim_ETC_z1.5_mag17.0_fobs2.0_LJ1.fits  17.0  47.0   2.0         94.0\n",
       "7    QSO_sim_ETC_z1.5_mag17.0_fobs3.0_LJ1.fits  17.0  47.0   3.0        141.0\n",
       "8    QSO_sim_ETC_z1.5_mag17.0_fobs5.0_LJ1.fits  17.0  47.0   5.0        235.0\n",
       "9   QSO_sim_ETC_z1.5_mag17.0_fobs10.0_LJ1.fits  17.0  47.0  10.0        470.0\n",
       "10  QSO_sim_ETC_z1.5_mag17.0_fobs20.0_LJ1.fits  17.0  47.0  20.0        940.0\n",
       "11  QSO_sim_ETC_z1.5_mag17.0_fobs40.0_LJ1.fits  17.0  47.0  40.0       1880.0\n",
       "12   QSO_sim_ETC_z1.5_mag19.0_fobs2.0_LJ1.fits  19.0  47.0   2.0         94.0\n",
       "13   QSO_sim_ETC_z1.5_mag19.0_fobs3.0_LJ1.fits  19.0  47.0   3.0        141.0\n",
       "14   QSO_sim_ETC_z1.5_mag19.0_fobs5.0_LJ1.fits  19.0  47.0   5.0        235.0\n",
       "15  QSO_sim_ETC_z1.5_mag19.0_fobs10.0_LJ1.fits  19.0  47.0  10.0        470.0\n",
       "16  QSO_sim_ETC_z1.5_mag19.0_fobs20.0_LJ1.fits  19.0  47.0  20.0        940.0\n",
       "17  QSO_sim_ETC_z1.5_mag19.0_fobs40.0_LJ1.fits  19.0  47.0  40.0       1880.0\n",
       "18   QSO_sim_ETC_z1.5_mag20.5_fobs2.0_LJ1.fits  20.5  47.0   2.0         94.0\n",
       "19   QSO_sim_ETC_z1.5_mag20.5_fobs3.0_LJ1.fits  20.5  47.0   3.0        141.0\n",
       "20   QSO_sim_ETC_z1.5_mag20.5_fobs5.0_LJ1.fits  20.5  47.0   5.0        235.0\n",
       "21  QSO_sim_ETC_z1.5_mag20.5_fobs10.0_LJ1.fits  20.5  47.0  10.0        470.0\n",
       "22  QSO_sim_ETC_z1.5_mag20.5_fobs20.0_LJ1.fits  20.5  47.0  20.0        940.0\n",
       "23  QSO_sim_ETC_z1.5_mag20.5_fobs40.0_LJ1.fits  20.5  47.0  40.0       1880.0\n",
       "24   QSO_sim_ETC_z1.5_mag21.5_fobs2.0_LJ1.fits  21.5  47.0   2.0         94.0\n",
       "25   QSO_sim_ETC_z1.5_mag21.5_fobs3.0_LJ1.fits  21.5  47.0   3.0        141.0\n",
       "26   QSO_sim_ETC_z1.5_mag21.5_fobs5.0_LJ1.fits  21.5  47.0   5.0        235.0\n",
       "27  QSO_sim_ETC_z1.5_mag21.5_fobs10.0_LJ1.fits  21.5  47.0  10.0        470.0\n",
       "28  QSO_sim_ETC_z1.5_mag21.5_fobs20.0_LJ1.fits  21.5  47.0  20.0        940.0\n",
       "29  QSO_sim_ETC_z1.5_mag21.5_fobs40.0_LJ1.fits  21.5  47.0  40.0       1880.0"
      ]
     },
     "execution_count": 44,
     "metadata": {},
     "output_type": "execute_result"
    }
   ],
   "source": [
    "etc_snr = pd.DataFrame(columns=['filename', 'mag', 'texp', 'fobs', 'texp_x_fobs'])\n",
    "\n",
    "for mag in mags:\n",
    "    for fob in fobs:\n",
    "        filename_, mag_value_, texp_, fobs_, texp_fobs_, seeing_, airmass_ = process_quasar(mag, texp, fob)\n",
    "        etc_snr.loc[etc_snr.shape[0]] = [filename_, mag_value_, texp_, fobs_, texp_fobs_]\n",
    "\n",
    "etc_snr"
   ]
  },
  {
   "cell_type": "code",
   "execution_count": 55,
   "id": "81cd88b1",
   "metadata": {},
   "outputs": [
    {
     "data": {
      "text/html": [
       "<div>\n",
       "<style scoped>\n",
       "    .dataframe tbody tr th:only-of-type {\n",
       "        vertical-align: middle;\n",
       "    }\n",
       "\n",
       "    .dataframe tbody tr th {\n",
       "        vertical-align: top;\n",
       "    }\n",
       "\n",
       "    .dataframe thead th {\n",
       "        text-align: right;\n",
       "    }\n",
       "</style>\n",
       "<table border=\"1\" class=\"dataframe\">\n",
       "  <thead>\n",
       "    <tr style=\"text-align: right;\">\n",
       "      <th></th>\n",
       "      <th>filename</th>\n",
       "      <th>mag</th>\n",
       "      <th>texp</th>\n",
       "      <th>fobs</th>\n",
       "      <th>texp_x_fobs</th>\n",
       "    </tr>\n",
       "  </thead>\n",
       "  <tbody>\n",
       "    <tr>\n",
       "      <th>0</th>\n",
       "      <td>QSO_sim_ETC_z1.5_mag15.0_fobs2.0_LJ1.fits</td>\n",
       "      <td>15.0</td>\n",
       "      <td>47.0</td>\n",
       "      <td>2.0</td>\n",
       "      <td>94.0</td>\n",
       "    </tr>\n",
       "    <tr>\n",
       "      <th>1</th>\n",
       "      <td>QSO_sim_ETC_z1.5_mag15.0_fobs3.0_LJ1.fits</td>\n",
       "      <td>15.0</td>\n",
       "      <td>47.0</td>\n",
       "      <td>3.0</td>\n",
       "      <td>141.0</td>\n",
       "    </tr>\n",
       "    <tr>\n",
       "      <th>2</th>\n",
       "      <td>QSO_sim_ETC_z1.5_mag15.0_fobs5.0_LJ1.fits</td>\n",
       "      <td>15.0</td>\n",
       "      <td>47.0</td>\n",
       "      <td>5.0</td>\n",
       "      <td>235.0</td>\n",
       "    </tr>\n",
       "    <tr>\n",
       "      <th>3</th>\n",
       "      <td>QSO_sim_ETC_z1.5_mag15.0_fobs10.0_LJ1.fits</td>\n",
       "      <td>15.0</td>\n",
       "      <td>47.0</td>\n",
       "      <td>10.0</td>\n",
       "      <td>470.0</td>\n",
       "    </tr>\n",
       "    <tr>\n",
       "      <th>4</th>\n",
       "      <td>QSO_sim_ETC_z1.5_mag15.0_fobs20.0_LJ1.fits</td>\n",
       "      <td>15.0</td>\n",
       "      <td>47.0</td>\n",
       "      <td>20.0</td>\n",
       "      <td>940.0</td>\n",
       "    </tr>\n",
       "  </tbody>\n",
       "</table>\n",
       "</div>"
      ],
      "text/plain": [
       "                                     filename   mag  texp  fobs  texp_x_fobs\n",
       "0   QSO_sim_ETC_z1.5_mag15.0_fobs2.0_LJ1.fits  15.0  47.0   2.0         94.0\n",
       "1   QSO_sim_ETC_z1.5_mag15.0_fobs3.0_LJ1.fits  15.0  47.0   3.0        141.0\n",
       "2   QSO_sim_ETC_z1.5_mag15.0_fobs5.0_LJ1.fits  15.0  47.0   5.0        235.0\n",
       "3  QSO_sim_ETC_z1.5_mag15.0_fobs10.0_LJ1.fits  15.0  47.0  10.0        470.0\n",
       "4  QSO_sim_ETC_z1.5_mag15.0_fobs20.0_LJ1.fits  15.0  47.0  20.0        940.0"
      ]
     },
     "execution_count": 55,
     "metadata": {},
     "output_type": "execute_result"
    }
   ],
   "source": [
    "etc_snr.head()"
   ]
  },
  {
   "cell_type": "code",
   "execution_count": 57,
   "id": "5a95c810",
   "metadata": {},
   "outputs": [],
   "source": [
    "def get_SNR(row):\n",
    "    spec = Table.read('./../SNR/ETC_output/' + row['filename'])\n",
    "\n",
    "    flux = spec['FLUX'].data[0]\n",
    "    error = spec['ERR_FLUX'].data[0]\n",
    "\n",
    "    snr_pixel = flux / error\n",
    "    spec['SNR_per_pixel'] = [snr_pixel]\n",
    "    mean_snr_pixel = np.nanmean(snr_pixel)\n",
    "\n",
    "    snr_ang = snr_pixel * 3.3  # SNR per Ang / 3.3 = SNR per px, from User manual p. 10\n",
    "    spec['SNR_per_ang'] = [snr_ang]\n",
    "    mean_snr_ang = np.nanmean(snr_ang)\n",
    "\n",
    "    spec.write('./../SNR/ETC_output/' + row['filename'], overwrite=True)\n",
    "\n",
    "    return mean_snr_pixel, mean_snr_ang"
   ]
  },
  {
   "cell_type": "code",
   "execution_count": 59,
   "id": "237ce913",
   "metadata": {},
   "outputs": [
    {
     "data": {
      "text/html": [
       "<div>\n",
       "<style scoped>\n",
       "    .dataframe tbody tr th:only-of-type {\n",
       "        vertical-align: middle;\n",
       "    }\n",
       "\n",
       "    .dataframe tbody tr th {\n",
       "        vertical-align: top;\n",
       "    }\n",
       "\n",
       "    .dataframe thead th {\n",
       "        text-align: right;\n",
       "    }\n",
       "</style>\n",
       "<table border=\"1\" class=\"dataframe\">\n",
       "  <thead>\n",
       "    <tr style=\"text-align: right;\">\n",
       "      <th></th>\n",
       "      <th>filename</th>\n",
       "      <th>mag</th>\n",
       "      <th>texp</th>\n",
       "      <th>fobs</th>\n",
       "      <th>texp_x_fobs</th>\n",
       "      <th>mean_snr_per_pixel</th>\n",
       "      <th>mean_snr_per_ang</th>\n",
       "    </tr>\n",
       "  </thead>\n",
       "  <tbody>\n",
       "    <tr>\n",
       "      <th>0</th>\n",
       "      <td>QSO_sim_ETC_z1.5_mag15.0_fobs2.0_LJ1.fits</td>\n",
       "      <td>15.0</td>\n",
       "      <td>47.0</td>\n",
       "      <td>2.0</td>\n",
       "      <td>94.0</td>\n",
       "      <td>35.539036</td>\n",
       "      <td>117.278809</td>\n",
       "    </tr>\n",
       "    <tr>\n",
       "      <th>1</th>\n",
       "      <td>QSO_sim_ETC_z1.5_mag15.0_fobs3.0_LJ1.fits</td>\n",
       "      <td>15.0</td>\n",
       "      <td>47.0</td>\n",
       "      <td>3.0</td>\n",
       "      <td>141.0</td>\n",
       "      <td>43.620220</td>\n",
       "      <td>143.946716</td>\n",
       "    </tr>\n",
       "    <tr>\n",
       "      <th>2</th>\n",
       "      <td>QSO_sim_ETC_z1.5_mag15.0_fobs5.0_LJ1.fits</td>\n",
       "      <td>15.0</td>\n",
       "      <td>47.0</td>\n",
       "      <td>5.0</td>\n",
       "      <td>235.0</td>\n",
       "      <td>56.428688</td>\n",
       "      <td>186.214676</td>\n",
       "    </tr>\n",
       "    <tr>\n",
       "      <th>3</th>\n",
       "      <td>QSO_sim_ETC_z1.5_mag15.0_fobs10.0_LJ1.fits</td>\n",
       "      <td>15.0</td>\n",
       "      <td>47.0</td>\n",
       "      <td>10.0</td>\n",
       "      <td>470.0</td>\n",
       "      <td>79.897736</td>\n",
       "      <td>263.662537</td>\n",
       "    </tr>\n",
       "    <tr>\n",
       "      <th>4</th>\n",
       "      <td>QSO_sim_ETC_z1.5_mag15.0_fobs20.0_LJ1.fits</td>\n",
       "      <td>15.0</td>\n",
       "      <td>47.0</td>\n",
       "      <td>20.0</td>\n",
       "      <td>940.0</td>\n",
       "      <td>113.059090</td>\n",
       "      <td>373.094971</td>\n",
       "    </tr>\n",
       "    <tr>\n",
       "      <th>5</th>\n",
       "      <td>QSO_sim_ETC_z1.5_mag15.0_fobs40.0_LJ1.fits</td>\n",
       "      <td>15.0</td>\n",
       "      <td>47.0</td>\n",
       "      <td>40.0</td>\n",
       "      <td>1880.0</td>\n",
       "      <td>159.963638</td>\n",
       "      <td>527.879944</td>\n",
       "    </tr>\n",
       "    <tr>\n",
       "      <th>6</th>\n",
       "      <td>QSO_sim_ETC_z1.5_mag17.0_fobs2.0_LJ1.fits</td>\n",
       "      <td>17.0</td>\n",
       "      <td>47.0</td>\n",
       "      <td>2.0</td>\n",
       "      <td>94.0</td>\n",
       "      <td>12.688695</td>\n",
       "      <td>41.872692</td>\n",
       "    </tr>\n",
       "    <tr>\n",
       "      <th>7</th>\n",
       "      <td>QSO_sim_ETC_z1.5_mag17.0_fobs3.0_LJ1.fits</td>\n",
       "      <td>17.0</td>\n",
       "      <td>47.0</td>\n",
       "      <td>3.0</td>\n",
       "      <td>141.0</td>\n",
       "      <td>15.712529</td>\n",
       "      <td>51.851353</td>\n",
       "    </tr>\n",
       "    <tr>\n",
       "      <th>8</th>\n",
       "      <td>QSO_sim_ETC_z1.5_mag17.0_fobs5.0_LJ1.fits</td>\n",
       "      <td>17.0</td>\n",
       "      <td>47.0</td>\n",
       "      <td>5.0</td>\n",
       "      <td>235.0</td>\n",
       "      <td>20.473156</td>\n",
       "      <td>67.561417</td>\n",
       "    </tr>\n",
       "    <tr>\n",
       "      <th>9</th>\n",
       "      <td>QSO_sim_ETC_z1.5_mag17.0_fobs10.0_LJ1.fits</td>\n",
       "      <td>17.0</td>\n",
       "      <td>47.0</td>\n",
       "      <td>10.0</td>\n",
       "      <td>470.0</td>\n",
       "      <td>29.151886</td>\n",
       "      <td>96.201225</td>\n",
       "    </tr>\n",
       "    <tr>\n",
       "      <th>10</th>\n",
       "      <td>QSO_sim_ETC_z1.5_mag17.0_fobs20.0_LJ1.fits</td>\n",
       "      <td>17.0</td>\n",
       "      <td>47.0</td>\n",
       "      <td>20.0</td>\n",
       "      <td>940.0</td>\n",
       "      <td>41.378910</td>\n",
       "      <td>136.550400</td>\n",
       "    </tr>\n",
       "    <tr>\n",
       "      <th>11</th>\n",
       "      <td>QSO_sim_ETC_z1.5_mag17.0_fobs40.0_LJ1.fits</td>\n",
       "      <td>17.0</td>\n",
       "      <td>47.0</td>\n",
       "      <td>40.0</td>\n",
       "      <td>1880.0</td>\n",
       "      <td>58.624512</td>\n",
       "      <td>193.460876</td>\n",
       "    </tr>\n",
       "    <tr>\n",
       "      <th>12</th>\n",
       "      <td>QSO_sim_ETC_z1.5_mag19.0_fobs2.0_LJ1.fits</td>\n",
       "      <td>19.0</td>\n",
       "      <td>47.0</td>\n",
       "      <td>2.0</td>\n",
       "      <td>94.0</td>\n",
       "      <td>3.409089</td>\n",
       "      <td>11.249993</td>\n",
       "    </tr>\n",
       "    <tr>\n",
       "      <th>13</th>\n",
       "      <td>QSO_sim_ETC_z1.5_mag19.0_fobs3.0_LJ1.fits</td>\n",
       "      <td>19.0</td>\n",
       "      <td>47.0</td>\n",
       "      <td>3.0</td>\n",
       "      <td>141.0</td>\n",
       "      <td>4.302236</td>\n",
       "      <td>14.197380</td>\n",
       "    </tr>\n",
       "    <tr>\n",
       "      <th>14</th>\n",
       "      <td>QSO_sim_ETC_z1.5_mag19.0_fobs5.0_LJ1.fits</td>\n",
       "      <td>19.0</td>\n",
       "      <td>47.0</td>\n",
       "      <td>5.0</td>\n",
       "      <td>235.0</td>\n",
       "      <td>5.713159</td>\n",
       "      <td>18.853424</td>\n",
       "    </tr>\n",
       "    <tr>\n",
       "      <th>15</th>\n",
       "      <td>QSO_sim_ETC_z1.5_mag19.0_fobs10.0_LJ1.fits</td>\n",
       "      <td>19.0</td>\n",
       "      <td>47.0</td>\n",
       "      <td>10.0</td>\n",
       "      <td>470.0</td>\n",
       "      <td>8.246484</td>\n",
       "      <td>27.213394</td>\n",
       "    </tr>\n",
       "    <tr>\n",
       "      <th>16</th>\n",
       "      <td>QSO_sim_ETC_z1.5_mag19.0_fobs20.0_LJ1.fits</td>\n",
       "      <td>19.0</td>\n",
       "      <td>47.0</td>\n",
       "      <td>20.0</td>\n",
       "      <td>940.0</td>\n",
       "      <td>11.792801</td>\n",
       "      <td>38.916245</td>\n",
       "    </tr>\n",
       "    <tr>\n",
       "      <th>17</th>\n",
       "      <td>QSO_sim_ETC_z1.5_mag19.0_fobs40.0_LJ1.fits</td>\n",
       "      <td>19.0</td>\n",
       "      <td>47.0</td>\n",
       "      <td>40.0</td>\n",
       "      <td>1880.0</td>\n",
       "      <td>16.765026</td>\n",
       "      <td>55.324585</td>\n",
       "    </tr>\n",
       "    <tr>\n",
       "      <th>18</th>\n",
       "      <td>QSO_sim_ETC_z1.5_mag20.5_fobs2.0_LJ1.fits</td>\n",
       "      <td>20.5</td>\n",
       "      <td>47.0</td>\n",
       "      <td>2.0</td>\n",
       "      <td>94.0</td>\n",
       "      <td>1.013620</td>\n",
       "      <td>3.344944</td>\n",
       "    </tr>\n",
       "    <tr>\n",
       "      <th>19</th>\n",
       "      <td>QSO_sim_ETC_z1.5_mag20.5_fobs3.0_LJ1.fits</td>\n",
       "      <td>20.5</td>\n",
       "      <td>47.0</td>\n",
       "      <td>3.0</td>\n",
       "      <td>141.0</td>\n",
       "      <td>1.287223</td>\n",
       "      <td>4.247835</td>\n",
       "    </tr>\n",
       "    <tr>\n",
       "      <th>20</th>\n",
       "      <td>QSO_sim_ETC_z1.5_mag20.5_fobs5.0_LJ1.fits</td>\n",
       "      <td>20.5</td>\n",
       "      <td>47.0</td>\n",
       "      <td>5.0</td>\n",
       "      <td>235.0</td>\n",
       "      <td>1.729545</td>\n",
       "      <td>5.707498</td>\n",
       "    </tr>\n",
       "    <tr>\n",
       "      <th>21</th>\n",
       "      <td>QSO_sim_ETC_z1.5_mag20.5_fobs10.0_LJ1.fits</td>\n",
       "      <td>20.5</td>\n",
       "      <td>47.0</td>\n",
       "      <td>10.0</td>\n",
       "      <td>470.0</td>\n",
       "      <td>2.491696</td>\n",
       "      <td>8.222598</td>\n",
       "    </tr>\n",
       "    <tr>\n",
       "      <th>22</th>\n",
       "      <td>QSO_sim_ETC_z1.5_mag20.5_fobs20.0_LJ1.fits</td>\n",
       "      <td>20.5</td>\n",
       "      <td>47.0</td>\n",
       "      <td>20.0</td>\n",
       "      <td>940.0</td>\n",
       "      <td>3.591424</td>\n",
       "      <td>11.851701</td>\n",
       "    </tr>\n",
       "    <tr>\n",
       "      <th>23</th>\n",
       "      <td>QSO_sim_ETC_z1.5_mag20.5_fobs40.0_LJ1.fits</td>\n",
       "      <td>20.5</td>\n",
       "      <td>47.0</td>\n",
       "      <td>40.0</td>\n",
       "      <td>1880.0</td>\n",
       "      <td>5.130487</td>\n",
       "      <td>16.930611</td>\n",
       "    </tr>\n",
       "    <tr>\n",
       "      <th>24</th>\n",
       "      <td>QSO_sim_ETC_z1.5_mag21.5_fobs2.0_LJ1.fits</td>\n",
       "      <td>21.5</td>\n",
       "      <td>47.0</td>\n",
       "      <td>2.0</td>\n",
       "      <td>94.0</td>\n",
       "      <td>0.416519</td>\n",
       "      <td>1.374512</td>\n",
       "    </tr>\n",
       "    <tr>\n",
       "      <th>25</th>\n",
       "      <td>QSO_sim_ETC_z1.5_mag21.5_fobs3.0_LJ1.fits</td>\n",
       "      <td>21.5</td>\n",
       "      <td>47.0</td>\n",
       "      <td>3.0</td>\n",
       "      <td>141.0</td>\n",
       "      <td>0.526822</td>\n",
       "      <td>1.738512</td>\n",
       "    </tr>\n",
       "    <tr>\n",
       "      <th>26</th>\n",
       "      <td>QSO_sim_ETC_z1.5_mag21.5_fobs5.0_LJ1.fits</td>\n",
       "      <td>21.5</td>\n",
       "      <td>47.0</td>\n",
       "      <td>5.0</td>\n",
       "      <td>235.0</td>\n",
       "      <td>0.709293</td>\n",
       "      <td>2.340668</td>\n",
       "    </tr>\n",
       "    <tr>\n",
       "      <th>27</th>\n",
       "      <td>QSO_sim_ETC_z1.5_mag21.5_fobs10.0_LJ1.fits</td>\n",
       "      <td>21.5</td>\n",
       "      <td>47.0</td>\n",
       "      <td>10.0</td>\n",
       "      <td>470.0</td>\n",
       "      <td>1.057120</td>\n",
       "      <td>3.488497</td>\n",
       "    </tr>\n",
       "    <tr>\n",
       "      <th>28</th>\n",
       "      <td>QSO_sim_ETC_z1.5_mag21.5_fobs20.0_LJ1.fits</td>\n",
       "      <td>21.5</td>\n",
       "      <td>47.0</td>\n",
       "      <td>20.0</td>\n",
       "      <td>940.0</td>\n",
       "      <td>1.498102</td>\n",
       "      <td>4.943737</td>\n",
       "    </tr>\n",
       "    <tr>\n",
       "      <th>29</th>\n",
       "      <td>QSO_sim_ETC_z1.5_mag21.5_fobs40.0_LJ1.fits</td>\n",
       "      <td>21.5</td>\n",
       "      <td>47.0</td>\n",
       "      <td>40.0</td>\n",
       "      <td>1880.0</td>\n",
       "      <td>2.146550</td>\n",
       "      <td>7.083614</td>\n",
       "    </tr>\n",
       "  </tbody>\n",
       "</table>\n",
       "</div>"
      ],
      "text/plain": [
       "                                      filename   mag  texp  fobs  texp_x_fobs  \\\n",
       "0    QSO_sim_ETC_z1.5_mag15.0_fobs2.0_LJ1.fits  15.0  47.0   2.0         94.0   \n",
       "1    QSO_sim_ETC_z1.5_mag15.0_fobs3.0_LJ1.fits  15.0  47.0   3.0        141.0   \n",
       "2    QSO_sim_ETC_z1.5_mag15.0_fobs5.0_LJ1.fits  15.0  47.0   5.0        235.0   \n",
       "3   QSO_sim_ETC_z1.5_mag15.0_fobs10.0_LJ1.fits  15.0  47.0  10.0        470.0   \n",
       "4   QSO_sim_ETC_z1.5_mag15.0_fobs20.0_LJ1.fits  15.0  47.0  20.0        940.0   \n",
       "5   QSO_sim_ETC_z1.5_mag15.0_fobs40.0_LJ1.fits  15.0  47.0  40.0       1880.0   \n",
       "6    QSO_sim_ETC_z1.5_mag17.0_fobs2.0_LJ1.fits  17.0  47.0   2.0         94.0   \n",
       "7    QSO_sim_ETC_z1.5_mag17.0_fobs3.0_LJ1.fits  17.0  47.0   3.0        141.0   \n",
       "8    QSO_sim_ETC_z1.5_mag17.0_fobs5.0_LJ1.fits  17.0  47.0   5.0        235.0   \n",
       "9   QSO_sim_ETC_z1.5_mag17.0_fobs10.0_LJ1.fits  17.0  47.0  10.0        470.0   \n",
       "10  QSO_sim_ETC_z1.5_mag17.0_fobs20.0_LJ1.fits  17.0  47.0  20.0        940.0   \n",
       "11  QSO_sim_ETC_z1.5_mag17.0_fobs40.0_LJ1.fits  17.0  47.0  40.0       1880.0   \n",
       "12   QSO_sim_ETC_z1.5_mag19.0_fobs2.0_LJ1.fits  19.0  47.0   2.0         94.0   \n",
       "13   QSO_sim_ETC_z1.5_mag19.0_fobs3.0_LJ1.fits  19.0  47.0   3.0        141.0   \n",
       "14   QSO_sim_ETC_z1.5_mag19.0_fobs5.0_LJ1.fits  19.0  47.0   5.0        235.0   \n",
       "15  QSO_sim_ETC_z1.5_mag19.0_fobs10.0_LJ1.fits  19.0  47.0  10.0        470.0   \n",
       "16  QSO_sim_ETC_z1.5_mag19.0_fobs20.0_LJ1.fits  19.0  47.0  20.0        940.0   \n",
       "17  QSO_sim_ETC_z1.5_mag19.0_fobs40.0_LJ1.fits  19.0  47.0  40.0       1880.0   \n",
       "18   QSO_sim_ETC_z1.5_mag20.5_fobs2.0_LJ1.fits  20.5  47.0   2.0         94.0   \n",
       "19   QSO_sim_ETC_z1.5_mag20.5_fobs3.0_LJ1.fits  20.5  47.0   3.0        141.0   \n",
       "20   QSO_sim_ETC_z1.5_mag20.5_fobs5.0_LJ1.fits  20.5  47.0   5.0        235.0   \n",
       "21  QSO_sim_ETC_z1.5_mag20.5_fobs10.0_LJ1.fits  20.5  47.0  10.0        470.0   \n",
       "22  QSO_sim_ETC_z1.5_mag20.5_fobs20.0_LJ1.fits  20.5  47.0  20.0        940.0   \n",
       "23  QSO_sim_ETC_z1.5_mag20.5_fobs40.0_LJ1.fits  20.5  47.0  40.0       1880.0   \n",
       "24   QSO_sim_ETC_z1.5_mag21.5_fobs2.0_LJ1.fits  21.5  47.0   2.0         94.0   \n",
       "25   QSO_sim_ETC_z1.5_mag21.5_fobs3.0_LJ1.fits  21.5  47.0   3.0        141.0   \n",
       "26   QSO_sim_ETC_z1.5_mag21.5_fobs5.0_LJ1.fits  21.5  47.0   5.0        235.0   \n",
       "27  QSO_sim_ETC_z1.5_mag21.5_fobs10.0_LJ1.fits  21.5  47.0  10.0        470.0   \n",
       "28  QSO_sim_ETC_z1.5_mag21.5_fobs20.0_LJ1.fits  21.5  47.0  20.0        940.0   \n",
       "29  QSO_sim_ETC_z1.5_mag21.5_fobs40.0_LJ1.fits  21.5  47.0  40.0       1880.0   \n",
       "\n",
       "    mean_snr_per_pixel  mean_snr_per_ang  \n",
       "0            35.539036        117.278809  \n",
       "1            43.620220        143.946716  \n",
       "2            56.428688        186.214676  \n",
       "3            79.897736        263.662537  \n",
       "4           113.059090        373.094971  \n",
       "5           159.963638        527.879944  \n",
       "6            12.688695         41.872692  \n",
       "7            15.712529         51.851353  \n",
       "8            20.473156         67.561417  \n",
       "9            29.151886         96.201225  \n",
       "10           41.378910        136.550400  \n",
       "11           58.624512        193.460876  \n",
       "12            3.409089         11.249993  \n",
       "13            4.302236         14.197380  \n",
       "14            5.713159         18.853424  \n",
       "15            8.246484         27.213394  \n",
       "16           11.792801         38.916245  \n",
       "17           16.765026         55.324585  \n",
       "18            1.013620          3.344944  \n",
       "19            1.287223          4.247835  \n",
       "20            1.729545          5.707498  \n",
       "21            2.491696          8.222598  \n",
       "22            3.591424         11.851701  \n",
       "23            5.130487         16.930611  \n",
       "24            0.416519          1.374512  \n",
       "25            0.526822          1.738512  \n",
       "26            0.709293          2.340668  \n",
       "27            1.057120          3.488497  \n",
       "28            1.498102          4.943737  \n",
       "29            2.146550          7.083614  "
      ]
     },
     "execution_count": 59,
     "metadata": {},
     "output_type": "execute_result"
    }
   ],
   "source": [
    "etc_snr[['mean_snr_per_pixel', 'mean_snr_per_ang']] = etc_snr.apply(lambda x: pd.Series(get_SNR(x)), axis=1)\n",
    "etc_snr"
   ]
  },
  {
   "cell_type": "code",
   "execution_count": null,
   "id": "d0f454bc",
   "metadata": {},
   "outputs": [],
   "source": [
    "# etc_snr.to_csv('./../SNR/SNR_per_mag_and_fobs.csv', index=False)"
   ]
  },
  {
   "cell_type": "code",
   "execution_count": 79,
   "id": "b48407b9",
   "metadata": {},
   "outputs": [
    {
     "data": {
      "text/plain": [
       "<Axes: >"
      ]
     },
     "execution_count": 79,
     "metadata": {},
     "output_type": "execute_result"
    },
    {
     "data": {
      "image/png": "[encoded data removed]",
      "text/plain": [
       "<Figure size 640x480 with 1 Axes>"
      ]
     },
     "metadata": {},
     "output_type": "display_data"
    }
   ],
   "source": [
    "etc_snr.mean_snr_per_pixel.hist()"
   ]
  },
  {
   "cell_type": "code",
   "execution_count": null,
   "id": "9d96b051",
   "metadata": {},
   "outputs": [
    {
     "data": {
      "image/png": "[encoded data removed]",
      "text/plain": [
       "<Figure size 1000x600 with 1 Axes>"
      ]
     },
     "metadata": {},
     "output_type": "display_data"
    }
   ],
   "source": [
    "plt.figure(figsize=(10, 6))\n",
    "\n",
    "markers = ['o', 's', 'D', '^', 'v', '*']\n",
    "\n",
    "for i, fob in enumerate(fobs):\n",
    "\n",
    "    data = etc_snr[etc_snr['fobs'] == fob]\n",
    "\n",
    "    plt.plot(data['mag'], data['mean_snr_per_pixel'], marker=markers[i], \n",
    "             label=f'fobs = {fob} ({fob * texp.value} min total)'\n",
    "             )\n",
    "\n",
    "    for snr in data['mean_snr_per_pixel']:\n",
    "        if snr < 0.0:\n",
    "            print(snr)\n",
    "\n",
    "plt.axhline(y=5, color='black', linestyle='--', alpha=0.7, label='SNR=5')\n",
    "\n",
    "plt.yscale('log')\n",
    "\n",
    "plt.xlabel('Magnitude', fontsize=12)\n",
    "plt.ylabel('SNR per pixel', fontsize=12)\n",
    "\n",
    "plt.legend(loc='upper right')\n",
    "\n",
    "plt.tight_layout()\n",
    "\n",
    "# plt.savefig('./../SNR/SNR_vs_fobs_mag.png', dpi=400)\n",
    "\n",
    "plt.show()"
   ]
  },
  {
   "cell_type": "markdown",
   "id": "7aff0835",
   "metadata": {},
   "source": [
    "# SNR of the whole catalogue"
   ]
  },
  {
   "cell_type": "code",
   "execution_count": 38,
   "id": "478304f4",
   "metadata": {},
   "outputs": [],
   "source": [
    "def spec_name(row, with_mgii=False):\n",
    "    z_str = str(np.round(row['REDSHIFT_ESTIMATE'], 4))\n",
    "    mag_str = str(np.round(row['MAG'], 2))\n",
    "    ruleset_name = row['RULESET']\n",
    "    target_name = row['NAME']\n",
    "    if with_mgii:\n",
    "        model_id = f'QSO_sim_ETC_z{z_str}_mag{mag_str}_{target_name}_LJ1_MgII.fits'\n",
    "    else:\n",
    "        model_id = f'QSO_sim_ETC_z{z_str}_mag{mag_str}_{target_name}_LJ1.fits'\n",
    "    return model_id"
   ]
  },
  {
   "cell_type": "code",
   "execution_count": 78,
   "id": "c75d0164",
   "metadata": {},
   "outputs": [
    {
     "data": {
      "text/html": [
       "<div>\n",
       "<style scoped>\n",
       "    .dataframe tbody tr th:only-of-type {\n",
       "        vertical-align: middle;\n",
       "    }\n",
       "\n",
       "    .dataframe tbody tr th {\n",
       "        vertical-align: top;\n",
       "    }\n",
       "\n",
       "    .dataframe thead th {\n",
       "        text-align: right;\n",
       "    }\n",
       "</style>\n",
       "<table border=\"1\" class=\"dataframe\">\n",
       "  <thead>\n",
       "    <tr style=\"text-align: right;\">\n",
       "      <th></th>\n",
       "      <th>SWEEP_NAME</th>\n",
       "      <th>INDEX_SWEEP</th>\n",
       "      <th>BRICKNAME</th>\n",
       "      <th>OBJID</th>\n",
       "      <th>TYPE</th>\n",
       "      <th>RA</th>\n",
       "      <th>DEC</th>\n",
       "      <th>EBV</th>\n",
       "      <th>SN_MAX</th>\n",
       "      <th>PLXSIG</th>\n",
       "      <th>...</th>\n",
       "      <th>CAL_MAG_ID_BLUE</th>\n",
       "      <th>CAL_MAG_ID_GREEN</th>\n",
       "      <th>CAL_MAG_ID_RED</th>\n",
       "      <th>RULESET</th>\n",
       "      <th>NAME</th>\n",
       "      <th>fobs</th>\n",
       "      <th>SNR_mean</th>\n",
       "      <th>SNR_blue_mean</th>\n",
       "      <th>SNR_green_mean</th>\n",
       "      <th>SNR_red_mean</th>\n",
       "    </tr>\n",
       "  </thead>\n",
       "  <tbody>\n",
       "    <tr>\n",
       "      <th>0</th>\n",
       "      <td>000m030-005m025</td>\n",
       "      <td>16955.0</td>\n",
       "      <td>0029m287</td>\n",
       "      <td>425.0</td>\n",
       "      <td>REX</td>\n",
       "      <td>2.854988</td>\n",
       "      <td>-28.867229</td>\n",
       "      <td>0.016329</td>\n",
       "      <td>70.079727</td>\n",
       "      <td>-99.000000</td>\n",
       "      <td>...</td>\n",
       "      <td>DECAM_G_AB_PSF</td>\n",
       "      <td>DECAM_R_AB_PSF</td>\n",
       "      <td>DECAM_I_AB_PSF</td>\n",
       "      <td>Fixed_BG_NOISE_0p33hr_Rulesets</td>\n",
       "      <td>MgIIBlueDeep_2.855m28.8672</td>\n",
       "      <td>1.112188</td>\n",
       "      <td>0.469754</td>\n",
       "      <td>0.415968</td>\n",
       "      <td>0.533687</td>\n",
       "      <td>0.459892</td>\n",
       "    </tr>\n",
       "    <tr>\n",
       "      <th>1</th>\n",
       "      <td>000m030-005m025</td>\n",
       "      <td>21473.0</td>\n",
       "      <td>0029m287</td>\n",
       "      <td>5019.0</td>\n",
       "      <td>REX</td>\n",
       "      <td>2.995691</td>\n",
       "      <td>-28.635296</td>\n",
       "      <td>0.013518</td>\n",
       "      <td>93.950668</td>\n",
       "      <td>-99.000000</td>\n",
       "      <td>...</td>\n",
       "      <td>DECAM_G_AB_PSF</td>\n",
       "      <td>DECAM_R_AB_PSF</td>\n",
       "      <td>DECAM_I_AB_PSF</td>\n",
       "      <td>Fixed_BG_NOISE_0p33hr_Rulesets</td>\n",
       "      <td>MgIIBlueDeep_2.9957m28.6353</td>\n",
       "      <td>1.272858</td>\n",
       "      <td>0.307231</td>\n",
       "      <td>0.175061</td>\n",
       "      <td>0.347418</td>\n",
       "      <td>0.397552</td>\n",
       "    </tr>\n",
       "    <tr>\n",
       "      <th>2</th>\n",
       "      <td>000m030-005m025</td>\n",
       "      <td>21547.0</td>\n",
       "      <td>0029m287</td>\n",
       "      <td>5097.0</td>\n",
       "      <td>PSF</td>\n",
       "      <td>2.998681</td>\n",
       "      <td>-28.695906</td>\n",
       "      <td>0.014227</td>\n",
       "      <td>111.909660</td>\n",
       "      <td>-99.000000</td>\n",
       "      <td>...</td>\n",
       "      <td>DECAM_G_AB_PSF</td>\n",
       "      <td>DECAM_R_AB_PSF</td>\n",
       "      <td>DECAM_I_AB_PSF</td>\n",
       "      <td>Fixed_BG_NOISE_0p33hr_Rulesets</td>\n",
       "      <td>MgIIBlueDeep_2.9987m28.6959</td>\n",
       "      <td>1.252395</td>\n",
       "      <td>0.589569</td>\n",
       "      <td>0.317091</td>\n",
       "      <td>0.629089</td>\n",
       "      <td>0.818222</td>\n",
       "    </tr>\n",
       "    <tr>\n",
       "      <th>3</th>\n",
       "      <td>000m030-005m025</td>\n",
       "      <td>21765.0</td>\n",
       "      <td>0029m287</td>\n",
       "      <td>5323.0</td>\n",
       "      <td>SER</td>\n",
       "      <td>3.007118</td>\n",
       "      <td>-28.631196</td>\n",
       "      <td>0.013384</td>\n",
       "      <td>175.493042</td>\n",
       "      <td>-99.000000</td>\n",
       "      <td>...</td>\n",
       "      <td>DECAM_G_AB_PSF</td>\n",
       "      <td>DECAM_R_AB_PSF</td>\n",
       "      <td>DECAM_I_AB_PSF</td>\n",
       "      <td>Fixed_BG_NOISE_0p33hr_Rulesets</td>\n",
       "      <td>MgIIBlueDeep_3.0071m28.6312</td>\n",
       "      <td>4.838731</td>\n",
       "      <td>0.895251</td>\n",
       "      <td>0.525017</td>\n",
       "      <td>0.925685</td>\n",
       "      <td>1.228731</td>\n",
       "    </tr>\n",
       "    <tr>\n",
       "      <th>4</th>\n",
       "      <td>000m030-005m025</td>\n",
       "      <td>24879.0</td>\n",
       "      <td>0029m287</td>\n",
       "      <td>8506.0</td>\n",
       "      <td>PSF</td>\n",
       "      <td>3.104241</td>\n",
       "      <td>-28.746363</td>\n",
       "      <td>0.013091</td>\n",
       "      <td>200.720352</td>\n",
       "      <td>0.052104</td>\n",
       "      <td>...</td>\n",
       "      <td>DECAM_G_AB_PSF</td>\n",
       "      <td>DECAM_R_AB_PSF</td>\n",
       "      <td>DECAM_I_AB_PSF</td>\n",
       "      <td>Fixed_BG_NOISE_0p33hr_Rulesets</td>\n",
       "      <td>MgIIBlueDeep_3.1042m28.7464</td>\n",
       "      <td>7.592981</td>\n",
       "      <td>0.846860</td>\n",
       "      <td>0.522841</td>\n",
       "      <td>0.850583</td>\n",
       "      <td>1.161161</td>\n",
       "    </tr>\n",
       "  </tbody>\n",
       "</table>\n",
       "<p>5 rows × 85 columns</p>\n",
       "</div>"
      ],
      "text/plain": [
       "        SWEEP_NAME  INDEX_SWEEP BRICKNAME   OBJID TYPE        RA        DEC  \\\n",
       "0  000m030-005m025      16955.0  0029m287   425.0  REX  2.854988 -28.867229   \n",
       "1  000m030-005m025      21473.0  0029m287  5019.0  REX  2.995691 -28.635296   \n",
       "2  000m030-005m025      21547.0  0029m287  5097.0  PSF  2.998681 -28.695906   \n",
       "3  000m030-005m025      21765.0  0029m287  5323.0  SER  3.007118 -28.631196   \n",
       "4  000m030-005m025      24879.0  0029m287  8506.0  PSF  3.104241 -28.746363   \n",
       "\n",
       "        EBV      SN_MAX     PLXSIG  ...  CAL_MAG_ID_BLUE CAL_MAG_ID_GREEN  \\\n",
       "0  0.016329   70.079727 -99.000000  ...   DECAM_G_AB_PSF   DECAM_R_AB_PSF   \n",
       "1  0.013518   93.950668 -99.000000  ...   DECAM_G_AB_PSF   DECAM_R_AB_PSF   \n",
       "2  0.014227  111.909660 -99.000000  ...   DECAM_G_AB_PSF   DECAM_R_AB_PSF   \n",
       "3  0.013384  175.493042 -99.000000  ...   DECAM_G_AB_PSF   DECAM_R_AB_PSF   \n",
       "4  0.013091  200.720352   0.052104  ...   DECAM_G_AB_PSF   DECAM_R_AB_PSF   \n",
       "\n",
       "   CAL_MAG_ID_RED                         RULESET  \\\n",
       "0  DECAM_I_AB_PSF  Fixed_BG_NOISE_0p33hr_Rulesets   \n",
       "1  DECAM_I_AB_PSF  Fixed_BG_NOISE_0p33hr_Rulesets   \n",
       "2  DECAM_I_AB_PSF  Fixed_BG_NOISE_0p33hr_Rulesets   \n",
       "3  DECAM_I_AB_PSF  Fixed_BG_NOISE_0p33hr_Rulesets   \n",
       "4  DECAM_I_AB_PSF  Fixed_BG_NOISE_0p33hr_Rulesets   \n",
       "\n",
       "                          NAME      fobs  SNR_mean  SNR_blue_mean  \\\n",
       "0   MgIIBlueDeep_2.855m28.8672  1.112188  0.469754       0.415968   \n",
       "1  MgIIBlueDeep_2.9957m28.6353  1.272858  0.307231       0.175061   \n",
       "2  MgIIBlueDeep_2.9987m28.6959  1.252395  0.589569       0.317091   \n",
       "3  MgIIBlueDeep_3.0071m28.6312  4.838731  0.895251       0.525017   \n",
       "4  MgIIBlueDeep_3.1042m28.7464  7.592981  0.846860       0.522841   \n",
       "\n",
       "   SNR_green_mean  SNR_red_mean  \n",
       "0        0.533687      0.459892  \n",
       "1        0.347418      0.397552  \n",
       "2        0.629089      0.818222  \n",
       "3        0.925685      1.228731  \n",
       "4        0.850583      1.161161  \n",
       "\n",
       "[5 rows x 85 columns]"
      ]
     },
     "execution_count": 78,
     "metadata": {},
     "output_type": "execute_result"
    }
   ],
   "source": [
    "cat = pandas_from_fits('/data2/home2/nguerrav/Catalogues/ByCycle_Final_Cat_fobs_qso_templates_with_SNR.fits')\n",
    "cat.head()"
   ]
  },
  {
   "cell_type": "code",
   "execution_count": null,
   "id": "b0e24e96",
   "metadata": {},
   "outputs": [],
   "source": [
    "# save_to_fits(cat, '/data2/home2/nguerrav/Catalogues/ByCycle_Final_Cat_fobs_qso_templates_with_SNR_with_some_neg_snrs.fits')"
   ]
  },
  {
   "cell_type": "code",
   "execution_count": null,
   "id": "992af465",
   "metadata": {},
   "outputs": [
    {
     "data": {
      "text/plain": [
       "(1334238, 85)"
      ]
     },
     "execution_count": 7,
     "metadata": {},
     "output_type": "execute_result"
    }
   ],
   "source": [
    "# cat_snr_ok = cat.loc[cat.SNR_mean >= 0.0]\n",
    "# cat_snr_ok.reset_index(drop=True, inplace=True)\n",
    "# cat_snr_ok.shape"
   ]
  },
  {
   "cell_type": "code",
   "execution_count": null,
   "id": "4c95bce7",
   "metadata": {},
   "outputs": [],
   "source": [
    "# save_to_fits(cat_snr_ok, '/data2/home2/nguerrav/Catalogues/ByCycle_final_SNR_ok.fits')"
   ]
  },
  {
   "cell_type": "code",
   "execution_count": 9,
   "id": "cbcfa1c3",
   "metadata": {},
   "outputs": [
    {
     "data": {
      "text/plain": [
       "Index(['SWEEP_NAME', 'INDEX_SWEEP', 'BRICKNAME', 'OBJID', 'TYPE', 'RA', 'DEC',\n",
       "       'EBV', 'SN_MAX', 'PLXSIG', 'PMSIG', 'BAND_LEGACY', 'REFERENCE_BAND',\n",
       "       'COMBINATION_USE', 'CAL_MAG_BLUE', 'CAL_MAG_GREEN', 'CAL_MAG_RED',\n",
       "       'MAG', 'CAL_MAG_ERR_BLUE', 'CAL_MAG_ERR_GREEN', 'CAL_MAG_ERR_RED',\n",
       "       'MAG_ERR', 'MAG_Y', 'MAG_J', 'MAG_H', 'MAG_K', 'MAGERR_Y', 'MAGERR_J',\n",
       "       'MAGERR_H', 'MAGERR_K', 'MAG_W1', 'MAG_W2', 'MAGERR_W1', 'MAGERR_W2',\n",
       "       'P_QSO', 'REDSHIFT_ESTIMATE', 'Z1_QSO', 'Z2_QSO', 'P_QSO_Z', 'P_GALAXY',\n",
       "       'PHOTOZ_GALAXY', 'Z1_GALAXY', 'Z2_GALAXY', 'P_GALAXY_Z', 'P_STAR',\n",
       "       'RATIO', 'CLASS_SPEC', 'Z_SPEC', 'REDSHIFT_ERROR', 'REDSHIFT_REF', 'l',\n",
       "       'b', 'pm', 'PMRA', 'PMDEC', 'pmra_error', 'pmdec_error', 'Z_DESI',\n",
       "       'SPECTYPE_DESI', 'SUBSURVEY', 'EPOCH', 'RESOLUTION', 'CADENCE',\n",
       "       'TEMPLATE', 'EXTENT_FLAG', 'EXTENT_PARAMETER', 'EXTENT_INDEX',\n",
       "       'REDDENING', 'TEMPLATE_REDSHIFT', 'DATE_EARLIEST', 'DATE_LATEST',\n",
       "       'CLASSIFICATION', 'COMPLETENESS', 'PARALLAX', 'MAG_TYPE',\n",
       "       'CAL_MAG_ID_BLUE', 'CAL_MAG_ID_GREEN', 'CAL_MAG_ID_RED', 'RULESET',\n",
       "       'NAME', 'fobs', 'SNR_mean', 'SNR_blue_mean', 'SNR_green_mean',\n",
       "       'SNR_red_mean'],\n",
       "      dtype='object')"
      ]
     },
     "execution_count": 9,
     "metadata": {},
     "output_type": "execute_result"
    }
   ],
   "source": [
    "cat.columns"
   ]
  },
  {
   "cell_type": "markdown",
   "id": "376144b5",
   "metadata": {},
   "source": [
    "## Define golden sample"
   ]
  },
  {
   "cell_type": "code",
   "execution_count": 79,
   "id": "8f9a08ef",
   "metadata": {},
   "outputs": [
    {
     "data": {
      "text/plain": [
       "(16495, 85)"
      ]
     },
     "execution_count": 79,
     "metadata": {},
     "output_type": "execute_result"
    }
   ],
   "source": [
    "cat.loc[(cat['fobs']>= 5.0) & (cat['MAG'] <= 20.0)].shape"
   ]
  },
  {
   "cell_type": "code",
   "execution_count": 80,
   "id": "04927ce9",
   "metadata": {},
   "outputs": [
    {
     "data": {
      "text/plain": [
       "Counter({False: 1344988, True: 16495})"
      ]
     },
     "execution_count": 80,
     "metadata": {},
     "output_type": "execute_result"
    }
   ],
   "source": [
    "cat['golden'] = False\n",
    "cat.loc[(cat['fobs']>= 5.0) & (cat['MAG'] <= 20.0), 'golden'] = True\n",
    "Counter(cat['golden'])"
   ]
  },
  {
   "cell_type": "code",
   "execution_count": 81,
   "id": "753c5b31",
   "metadata": {},
   "outputs": [
    {
     "data": {
      "text/plain": [
       "(16495, 86)"
      ]
     },
     "execution_count": 81,
     "metadata": {},
     "output_type": "execute_result"
    }
   ],
   "source": [
    "golden = cat.loc[cat['golden']]\n",
    "golden.reset_index(drop=True, inplace=True)\n",
    "golden.shape"
   ]
  },
  {
   "cell_type": "code",
   "execution_count": 82,
   "id": "2a220078",
   "metadata": {},
   "outputs": [
    {
     "data": {
      "text/plain": [
       "(16175, 86)"
      ]
     },
     "execution_count": 82,
     "metadata": {},
     "output_type": "execute_result"
    }
   ],
   "source": [
    "golden = golden.loc[golden.SNR_mean >= 0.0]\n",
    "golden.reset_index(drop=True, inplace=True)\n",
    "golden.shape"
   ]
  },
  {
   "cell_type": "code",
   "execution_count": 12,
   "id": "2b884cc5",
   "metadata": {},
   "outputs": [
    {
     "data": {
      "image/png": "[encoded data removed]",
      "text/plain": [
       "<Figure size 640x480 with 1 Axes>"
      ]
     },
     "metadata": {},
     "output_type": "display_data"
    }
   ],
   "source": [
    "golden.SNR_mean.hist()\n",
    "plt.yscale('log')"
   ]
  },
  {
   "cell_type": "code",
   "execution_count": 38,
   "id": "16ef163f",
   "metadata": {},
   "outputs": [],
   "source": [
    "golden.to_csv('/data2/home2/nguerrav/Catalogues/golden_sample_ByCycle.csv', index=False)"
   ]
  },
  {
   "cell_type": "code",
   "execution_count": 83,
   "id": "c3fe8577",
   "metadata": {},
   "outputs": [
    {
     "data": {
      "text/plain": [
       "(1344988, 86)"
      ]
     },
     "execution_count": 83,
     "metadata": {},
     "output_type": "execute_result"
    }
   ],
   "source": [
    "not_golden = cat.loc[cat['golden'] == False]\n",
    "not_golden.reset_index(drop=True, inplace=True)\n",
    "not_golden.shape"
   ]
  },
  {
   "cell_type": "code",
   "execution_count": 84,
   "id": "7d3c0ff5",
   "metadata": {},
   "outputs": [
    {
     "data": {
      "text/plain": [
       "(592776, 86)"
      ]
     },
     "execution_count": 84,
     "metadata": {},
     "output_type": "execute_result"
    }
   ],
   "source": [
    "not_golden = not_golden.loc[not_golden.SNR_mean >= 1.0]\n",
    "not_golden.reset_index(drop=True, inplace=True)\n",
    "not_golden.shape"
   ]
  },
  {
   "cell_type": "code",
   "execution_count": 85,
   "id": "5ec73ffb",
   "metadata": {},
   "outputs": [],
   "source": [
    "save_to_fits(not_golden, '/data2/home2/nguerrav/Catalogues/test_set_cat_not_in_golden_sample.fits')"
   ]
  },
  {
   "cell_type": "code",
   "execution_count": 89,
   "id": "beca8b4c",
   "metadata": {},
   "outputs": [],
   "source": [
    "save_to_fits(not_golden.loc[not_golden.SNR_blue_mean >= 3.0], '/data2/home2/nguerrav/Catalogues/test_set_cat_not_in_golden_sample_SNR_3.fits')"
   ]
  },
  {
   "cell_type": "code",
   "execution_count": 88,
   "id": "3f48c206",
   "metadata": {},
   "outputs": [
    {
     "data": {
      "text/plain": [
       "((104441, 86), (53264, 86))"
      ]
     },
     "execution_count": 88,
     "metadata": {},
     "output_type": "execute_result"
    }
   ],
   "source": [
    "not_golden.loc[not_golden.SNR_mean >= 3.0].shape, not_golden.loc[not_golden.SNR_blue_mean >= 3.0].shape"
   ]
  },
  {
   "cell_type": "code",
   "execution_count": 10,
   "id": "bca17685",
   "metadata": {},
   "outputs": [
    {
     "data": {
      "image/png": "[encoded data removed]",
      "text/plain": [
       "<Figure size 640x480 with 1 Axes>"
      ]
     },
     "metadata": {},
     "output_type": "display_data"
    }
   ],
   "source": [
    "cat.fobs.hist();\n",
    "plt.yscale('log')"
   ]
  },
  {
   "cell_type": "code",
   "execution_count": 17,
   "id": "f0dfedcd",
   "metadata": {},
   "outputs": [
    {
     "data": {
      "text/plain": [
       "(1361483, 85)"
      ]
     },
     "execution_count": 17,
     "metadata": {},
     "output_type": "execute_result"
    }
   ],
   "source": [
    "cat.shape"
   ]
  },
  {
   "cell_type": "code",
   "execution_count": 16,
   "id": "41c117f5",
   "metadata": {},
   "outputs": [
    {
     "data": {
      "text/plain": [
       "(1334238, 85)"
      ]
     },
     "execution_count": 16,
     "metadata": {},
     "output_type": "execute_result"
    }
   ],
   "source": [
    "cat.loc[cat['SNR_mean'] >= 0.0].shape"
   ]
  },
  {
   "cell_type": "code",
   "execution_count": 14,
   "id": "db7b1224",
   "metadata": {},
   "outputs": [
    {
     "data": {
      "image/png": "[encoded data removed]",
      "text/plain": [
       "<Figure size 640x480 with 1 Axes>"
      ]
     },
     "metadata": {},
     "output_type": "display_data"
    }
   ],
   "source": [
    "cat.loc[cat['SNR_mean'] >= 0.0].SNR_mean.hist()\n",
    "plt.yscale('log')"
   ]
  },
  {
   "cell_type": "code",
   "execution_count": 21,
   "id": "1935c96b",
   "metadata": {},
   "outputs": [
    {
     "data": {
      "image/png": "[encoded data removed]",
      "text/plain": [
       "<Figure size 640x480 with 1 Axes>"
      ]
     },
     "metadata": {},
     "output_type": "display_data"
    }
   ],
   "source": [
    "golden.SNR_mean.hist()\n",
    "plt.yscale('log')"
   ]
  },
  {
   "cell_type": "code",
   "execution_count": 9,
   "id": "48654e66",
   "metadata": {},
   "outputs": [
    {
     "data": {
      "text/plain": [
       "Index(['SWEEP_NAME', 'INDEX_SWEEP', 'BRICKNAME', 'OBJID', 'TYPE', 'RA', 'DEC',\n",
       "       'EBV', 'SN_MAX', 'PLXSIG', 'PMSIG', 'BAND_LEGACY', 'REFERENCE_BAND',\n",
       "       'COMBINATION_USE', 'CAL_MAG_BLUE', 'CAL_MAG_GREEN', 'CAL_MAG_RED',\n",
       "       'MAG', 'CAL_MAG_ERR_BLUE', 'CAL_MAG_ERR_GREEN', 'CAL_MAG_ERR_RED',\n",
       "       'MAG_ERR', 'MAG_Y', 'MAG_J', 'MAG_H', 'MAG_K', 'MAGERR_Y', 'MAGERR_J',\n",
       "       'MAGERR_H', 'MAGERR_K', 'MAG_W1', 'MAG_W2', 'MAGERR_W1', 'MAGERR_W2',\n",
       "       'P_QSO', 'REDSHIFT_ESTIMATE', 'Z1_QSO', 'Z2_QSO', 'P_QSO_Z', 'P_GALAXY',\n",
       "       'PHOTOZ_GALAXY', 'Z1_GALAXY', 'Z2_GALAXY', 'P_GALAXY_Z', 'P_STAR',\n",
       "       'RATIO', 'CLASS_SPEC', 'Z_SPEC', 'REDSHIFT_ERROR', 'REDSHIFT_REF', 'l',\n",
       "       'b', 'pm', 'PMRA', 'PMDEC', 'pmra_error', 'pmdec_error', 'Z_DESI',\n",
       "       'SPECTYPE_DESI', 'SUBSURVEY', 'EPOCH', 'RESOLUTION', 'CADENCE',\n",
       "       'TEMPLATE', 'EXTENT_FLAG', 'EXTENT_PARAMETER', 'EXTENT_INDEX',\n",
       "       'REDDENING', 'TEMPLATE_REDSHIFT', 'DATE_EARLIEST', 'DATE_LATEST',\n",
       "       'CLASSIFICATION', 'COMPLETENESS', 'PARALLAX', 'MAG_TYPE',\n",
       "       'CAL_MAG_ID_BLUE', 'CAL_MAG_ID_GREEN', 'CAL_MAG_ID_RED', 'RULESET',\n",
       "       'NAME', 'fobs', 'SNR_mean', 'SNR_blue_mean', 'SNR_green_mean',\n",
       "       'SNR_red_mean', 'golden'],\n",
       "      dtype='object')"
      ]
     },
     "execution_count": 9,
     "metadata": {},
     "output_type": "execute_result"
    }
   ],
   "source": [
    "cat.columns"
   ]
  },
  {
   "cell_type": "code",
   "execution_count": 10,
   "id": "038dad28",
   "metadata": {},
   "outputs": [],
   "source": [
    "save_to_fits(cat, '/data2/home2/nguerrav/Catalogues/ByCycle_Final_Cat_fobs_qso_templates_with_SNR_golden_label.fits')"
   ]
  },
  {
   "cell_type": "markdown",
   "id": "7596f21b",
   "metadata": {},
   "source": [
    "### Test set"
   ]
  },
  {
   "cell_type": "code",
   "execution_count": 16,
   "id": "ecc35463",
   "metadata": {},
   "outputs": [
    {
     "data": {
      "text/plain": [
       "count    592776.000000\n",
       "mean          1.700050\n",
       "std           5.072829\n",
       "min           0.001185\n",
       "25%           0.786858\n",
       "50%           1.062390\n",
       "75%           1.647190\n",
       "max        1153.558651\n",
       "Name: SNR_blue_mean, dtype: float64"
      ]
     },
     "execution_count": 16,
     "metadata": {},
     "output_type": "execute_result"
    }
   ],
   "source": [
    "not_golden.SNR_blue_mean.describe()"
   ]
  },
  {
   "cell_type": "code",
   "execution_count": 22,
   "id": "3070f9d6",
   "metadata": {},
   "outputs": [
    {
     "data": {
      "text/plain": [
       "(53264, 86)"
      ]
     },
     "execution_count": 22,
     "metadata": {},
     "output_type": "execute_result"
    }
   ],
   "source": [
    "not_golden.loc[not_golden['SNR_blue_mean']>=3.0].shape"
   ]
  },
  {
   "cell_type": "code",
   "execution_count": 25,
   "id": "3cddb42f",
   "metadata": {},
   "outputs": [
    {
     "data": {
      "image/png": "[encoded data removed]",
      "text/plain": [
       "<Figure size 640x480 with 1 Axes>"
      ]
     },
     "metadata": {},
     "output_type": "display_data"
    }
   ],
   "source": [
    "not_golden.loc[not_golden['SNR_blue_mean']>=3.0]['SNR_blue_mean'].hist()\n",
    "plt.yscale('log')"
   ]
  },
  {
   "cell_type": "code",
   "execution_count": 26,
   "id": "caf22629",
   "metadata": {},
   "outputs": [],
   "source": [
    "save_to_fits(not_golden.loc[not_golden['SNR_blue_mean']>=3.0], '/data2/home2/nguerrav/Catalogues/test_set_cat_not_in_golden_sample_SNR_3.fits')"
   ]
  },
  {
   "cell_type": "code",
   "execution_count": null,
   "id": "cce00c3c",
   "metadata": {},
   "outputs": [],
   "source": []
  },
  {
   "cell_type": "code",
   "execution_count": null,
   "id": "05722d28",
   "metadata": {},
   "outputs": [],
   "source": []
  },
  {
   "cell_type": "code",
   "execution_count": null,
   "id": "eacdc2cb",
   "metadata": {},
   "outputs": [],
   "source": []
  },
  {
   "cell_type": "markdown",
   "id": "d4675c43",
   "metadata": {},
   "source": [
    "### Look at specs\n",
    "\n",
    "#### with MgII"
   ]
  },
  {
   "cell_type": "code",
   "execution_count": 4,
   "id": "5c634f4c",
   "metadata": {},
   "outputs": [],
   "source": [
    "cat = pandas_from_fits('/data2/home2/nguerrav/Catalogues/test_set_cat_not_in_golden_sample_SNR_3_with_MgII_with_SNR.fits')"
   ]
  },
  {
   "cell_type": "code",
   "execution_count": 11,
   "id": "f96cecb0",
   "metadata": {},
   "outputs": [
    {
     "data": {
      "text/plain": [
       "(49780, 97)"
      ]
     },
     "execution_count": 11,
     "metadata": {},
     "output_type": "execute_result"
    }
   ],
   "source": [
    "cat.shape"
   ]
  },
  {
   "cell_type": "code",
   "execution_count": 5,
   "id": "aa87bb5b",
   "metadata": {},
   "outputs": [
    {
     "data": {
      "text/plain": [
       "Counter({'QSO_sim_z0.8_MgIIBlueDeep_2.6501m29.4481_with_MgII.fits': 1,\n",
       "         'QSO_sim_z0.6_MgIIBlueDeep_4.9653m27.6188_with_MgII.fits': 1,\n",
       "         'QSO_sim_z1.169_MgIIBlueDeep_4.4959m27.806_with_MgII.fits': 1,\n",
       "         'QSO_sim_z2.35_MgIIBlueDeep_4.0195m27.6932_with_MgII.fits': 1,\n",
       "         'QSO_sim_z1.6_MgIIBlueDeep_1.2627m27.1433_with_MgII.fits': 1,\n",
       "         'QSO_sim_z1.85_MgIIBlueDeep_2.5972m32.4438_with_MgII.fits': 1,\n",
       "         'QSO_sim_z2.9_MgIIBlueDeep_2.4143m32.0799_with_MgII.fits': 1,\n",
       "         'QSO_sim_z2.15_MgIIBlueDeep_3.1165m31.8456_with_MgII.fits': 1,\n",
       "         'QSO_sim_z1.85_MgIIBlueDeep_3.7311m34.6706_with_MgII.fits': 1,\n",
       "         'QSO_sim_z2.9_MgIIBlueDeep_4.0411m31.4435_with_MgII.fits': 1,\n",
       "         'QSO_sim_z2.9_MgIIBlueDeep_3.846m32.0478_with_MgII.fits': 1,\n",
       "         'QSO_sim_z2.05_MgIIBlueDeep_3.6107m30.3956_with_MgII.fits': 1,\n",
       "         'QSO_sim_z2.0_MgIIBlueDeep_4.5326m30.2791_with_MgII.fits': 1,\n",
       "         'QSO_sim_z1.1_MgIIBlueDeep_4.4965m33.9038_with_MgII.fits': 1,\n",
       "         'QSO_sim_z1.5_MgIIBlueDeep_4.6637m33.3672_with_MgII.fits': 1,\n",
       "         'QSO_sim_z1.9_MgIIBlueDeep_4.9228m30.6594_with_MgII.fits': 1,\n",
       "         'QSO_sim_z1.85_MgIIBlueDeep_4.3422m33.0423_with_MgII.fits': 1,\n",
       "         'QSO_sim_z2.9_MgIIBlueDeep_4.1377m32.7623_with_MgII.fits': 1,\n",
       "         'QSO_sim_z1.95_MgIIBlueDeep_0.6917m31.3589_with_MgII.fits': 1,\n",
       "         'QSO_sim_z1.85_MgIIBlueDeep_0.2844m31.2496_with_MgII.fits': 1,\n",
       "         'QSO_sim_z2.0_MgIIBlueDeep_0.4757m32.1816_with_MgII.fits': 1,\n",
       "         'QSO_sim_z2.95_MgIIBlueDeep_0.4767m32.1817_with_MgII.fits': 1,\n",
       "         'QSO_sim_z2.95_MgIIBlueDeep_0.2555m31.7943_with_MgII.fits': 1,\n",
       "         'QSO_sim_z0.65_MgIIBlueDeep_0.7877m34.8335_with_MgII.fits': 1,\n",
       "         'QSO_sim_z0.7_MgIIBlueDeep_0.1207m32.1406_with_MgII.fits': 1,\n",
       "         'QSO_sim_z3.25_MgIIBlueDeep_0.143m32.7471_with_MgII.fits': 1,\n",
       "         'QSO_sim_z2.9_MgIIBlueDeep_1.6517m32.5913_with_MgII.fits': 1,\n",
       "         'QSO_sim_z2.9_MgIIBlueDeep_1.6518m32.5952_with_MgII.fits': 1,\n",
       "         'QSO_sim_z2.9_MgIIBlueDeep_1.5617m32.8184_with_MgII.fits': 1,\n",
       "         'QSO_sim_z2.2_MgIIBlueDeep_1.2978m33.7921_with_MgII.fits': 1,\n",
       "         'QSO_sim_z2.9_MgIIBlueDeep_2.0109m33.5322_with_MgII.fits': 1,\n",
       "         'QSO_sim_z2.9_MgIIBlueDeep_2.0176m33.5266_with_MgII.fits': 1,\n",
       "         'QSO_sim_z1.85_MgIIBlueDeep_1.0476m33.3915_with_MgII.fits': 1,\n",
       "         'QSO_sim_z2.0_MgIIBlueDeep_3.5359m35.0597_with_MgII.fits': 1,\n",
       "         'QSO_sim_z0.8_MgIIBlueDeep_6.6748m29.9797_with_MgII.fits': 1,\n",
       "         'QSO_sim_z1.85_MgIIBlueDeep_6.2108m27.7092_with_MgII.fits': 1,\n",
       "         'QSO_sim_z2.8_MgIIBlueDeep_7.2291m27.559_with_MgII.fits': 1,\n",
       "         'QSO_sim_z2.27_MgIIBlueDeep_9.7374m29.3735_with_MgII.fits': 1,\n",
       "         'QSO_sim_z2.9_MgIIBlueDeep_5.8391m29.8503_with_MgII.fits': 1,\n",
       "         'QSO_sim_z2.9_MgIIBlueDeep_5.8399m29.8497_with_MgII.fits': 1,\n",
       "         'QSO_sim_z2.9_MgIIBlueDeep_5.8451m29.8497_with_MgII.fits': 1,\n",
       "         'QSO_sim_z2.9_MgIIBlueDeep_5.8458m29.8503_with_MgII.fits': 1,\n",
       "         'QSO_sim_z0.65_MgIIBlueDeep_6.1762m30.324_with_MgII.fits': 1,\n",
       "         'QSO_sim_z2.45_MgIIBlueDeep_6.0184m31.9415_with_MgII.fits': 1,\n",
       "         'QSO_sim_z0.7_MgIIBlueDeep_6.8943m33.052_with_MgII.fits': 1,\n",
       "         'QSO_sim_z2.9_MgIIBlueDeep_6.9757m33.002_with_MgII.fits': 1,\n",
       "         'QSO_sim_z1.9_MgIIBlueDeep_6.9885m33.0129_with_MgII.fits': 1,\n",
       "         'QSO_sim_z1.85_MgIIBlueDeep_7.7436m33.6699_with_MgII.fits': 1,\n",
       "         'QSO_sim_z2.1_MgIIBlueDeep_8.9653m34.169_with_MgII.fits': 1,\n",
       "         'QSO_sim_z2.9_MgIIBlueDeep_8.5246m32.2873_with_MgII.fits': 1,\n",
       "         'QSO_sim_z2.4_MgIIBlueDeep_9.9864m34.0354_with_MgII.fits': 1,\n",
       "         'QSO_sim_z2.1_MgIIBlueDeep_9.0902m32.9125_with_MgII.fits': 1,\n",
       "         'QSO_sim_z3.85_MgIIBlueDeep_9.468m31.881_with_MgII.fits': 1,\n",
       "         'QSO_sim_z1.55_MgIIBlueDeep_5.0095m34.1084_with_MgII.fits': 1,\n",
       "         'QSO_sim_z1.95_MgIIBlueDeep_5.0258m32.7011_with_MgII.fits': 1,\n",
       "         'QSO_sim_z1.7_MgIIBlueDeep_6.0104m34.7698_with_MgII.fits': 1,\n",
       "         'QSO_sim_z2.45_MgIIBlueDeep_5.3685m32.8064_with_MgII.fits': 1,\n",
       "         'QSO_sim_z0.8_MgIIBlueDeep_8.9254m35.5174_with_MgII.fits': 1,\n",
       "         'QSO_sim_z2.55_MgIIBlueDeep_14.474m27.7403_with_MgII.fits': 1,\n",
       "         'QSO_sim_z0.85_MgIIBlueDeep_14.7605m28.608_with_MgII.fits': 1,\n",
       "         'QSO_sim_z2.45_MgIIBlueDeep_14.7548m27.0218_with_MgII.fits': 1,\n",
       "         'QSO_sim_z1.39_MgIIBlueDeep_12.6606m27.3067_with_MgII.fits': 1,\n",
       "         'QSO_sim_z1.54_MgIIBlueDeep_13.9282m27.3888_with_MgII.fits': 1,\n",
       "         'QSO_sim_z0.8_MgIIBlueDeep_14.8424m31.5629_with_MgII.fits': 1,\n",
       "         'QSO_sim_z0.9_MgIIBlueDeep_14.7449m34.2495_with_MgII.fits': 1,\n",
       "         'QSO_sim_z0.8_MgIIBlueDeep_10.9188m30.861_with_MgII.fits': 1,\n",
       "         'QSO_sim_z1.8_MgIIBlueDeep_11.7972m34.9962_with_MgII.fits': 1,\n",
       "         'QSO_sim_z0.85_MgIIBlueDeep_13.0047m30.4005_with_MgII.fits': 1,\n",
       "         'QSO_sim_z0.8_MgIIBlueDeep_12.8813m34.7549_with_MgII.fits': 1,\n",
       "         'QSO_sim_z2.65_MgIIBlueDeep_12.141m33.3493_with_MgII.fits': 1,\n",
       "         'QSO_sim_z5.6_MgIIBlueDeep_12.919m33.5943_with_MgII.fits': 1,\n",
       "         'QSO_sim_z1.85_MgIIBlueDeep_14.818m35.5629_with_MgII.fits': 1,\n",
       "         'QSO_sim_z2.3_MgIIBlueDeep_11.3055m35.016_with_MgII.fits': 1,\n",
       "         'QSO_sim_z1.85_MgIIBlueDeep_11.6307m35.1872_with_MgII.fits': 1,\n",
       "         'QSO_sim_z5.2_MgIIBlueDeep_12.2853m35.359_with_MgII.fits': 1,\n",
       "         'QSO_sim_z0.6_MgIIBlueDeep_19.0958m27.9063_with_MgII.fits': 1,\n",
       "         'QSO_sim_z0.9_MgIIBlueDeep_15.7303m29.0152_with_MgII.fits': 1,\n",
       "         'QSO_sim_z0.556_MgIIBlueDeep_16.2888m28.9521_with_MgII.fits': 1,\n",
       "         'QSO_sim_z1.2_MgIIBlueDeep_16.3633m28.182_with_MgII.fits': 1,\n",
       "         'QSO_sim_z1.5_MgIIBlueDeep_16.0799m27.3573_with_MgII.fits': 1,\n",
       "         'QSO_sim_z0.848_MgIIBlueDeep_16.3947m27.6161_with_MgII.fits': 1,\n",
       "         'QSO_sim_z0.6_MgIIBlueDeep_18.1419m34.6119_with_MgII.fits': 1,\n",
       "         'QSO_sim_z0.6_MgIIBlueDeep_15.8726m33.244_with_MgII.fits': 1,\n",
       "         'QSO_sim_z2.4_MgIIBlueDeep_16.7418m33.0207_with_MgII.fits': 1,\n",
       "         'QSO_sim_z0.6_MgIIBlueDeep_17.8297m31.3011_with_MgII.fits': 1,\n",
       "         'QSO_sim_z1.9_MgIIBlueDeep_18.1969m35.2074_with_MgII.fits': 1,\n",
       "         'QSO_sim_z1.7_MgIIBlueDeep_16.1229m35.3981_with_MgII.fits': 1,\n",
       "         'QSO_sim_z1.7_MgIIBlueDeep_20.9963m28.1638_with_MgII.fits': 1,\n",
       "         'QSO_sim_z2.4_MgIIBlueDeep_21.7628m29.3616_with_MgII.fits': 1,\n",
       "         'QSO_sim_z2.3_MgIIBlueDeep_22.2198m28.1067_with_MgII.fits': 1,\n",
       "         'QSO_sim_z2.9_MgIIBlueDeep_23.5998m28.2347_with_MgII.fits': 1,\n",
       "         'QSO_sim_z1.9_MgIIBlueDeep_23.5768m27.3541_with_MgII.fits': 1,\n",
       "         'QSO_sim_z0.6_MgIIBlueDeep_24.217m27.6266_with_MgII.fits': 1,\n",
       "         'QSO_sim_z1.4_MgIIBlueDeep_24.4372m27.2922_with_MgII.fits': 1,\n",
       "         'QSO_sim_z2.9_MgIIBlueDeep_20.824m33.5462_with_MgII.fits': 1,\n",
       "         'QSO_sim_z0.7_MgIIBlueDeep_21.1527m33.6037_with_MgII.fits': 1,\n",
       "         'QSO_sim_z1.85_MgIIBlueDeep_21.7413m32.5383_with_MgII.fits': 1,\n",
       "         'QSO_sim_z1.85_MgIIBlueDeep_21.7449m32.539_with_MgII.fits': 1,\n",
       "         'QSO_sim_z2.9_MgIIBlueDeep_21.7457m32.5402_with_MgII.fits': 1,\n",
       "         'QSO_sim_z0.8_MgIIBlueDeep_23.0805m31.7276_with_MgII.fits': 1,\n",
       "         'QSO_sim_z0.6_MgIIBlueDeep_23.9195m31.9817_with_MgII.fits': 1,\n",
       "         'QSO_sim_z1.35_MgIIBlueDeep_24.3587m30.2853_with_MgII.fits': 1,\n",
       "         'QSO_sim_z2.9_MgIIBlueDeep_24.3834m34.0989_with_MgII.fits': 1,\n",
       "         'QSO_sim_z0.7_MgIIBlueDeep_24.2196m33.2046_with_MgII.fits': 1,\n",
       "         'QSO_sim_z0.8_MgIIBlueDeep_24.5685m35.3638_with_MgII.fits': 1,\n",
       "         'QSO_sim_z2.4_MgIIBlueDeep_26.8973m28.0068_with_MgII.fits': 1,\n",
       "         'QSO_sim_z0.6_MgIIBlueDeep_27.072m29.6195_with_MgII.fits': 1,\n",
       "         'QSO_sim_z1.4_MgIIBlueDeep_27.8597m29.777_with_MgII.fits': 1,\n",
       "         'QSO_sim_z2.1_MgIIBlueDeep_29.0397m28.9505_with_MgII.fits': 1,\n",
       "         'QSO_sim_z0.6_MgIIBlueDeep_28.0036m29.6827_with_MgII.fits': 1,\n",
       "         'QSO_sim_z2.3_MgIIBlueDeep_29.5976m29.3287_with_MgII.fits': 1,\n",
       "         'QSO_sim_z0.95_MgIIBlueDeep_25.4685m28.0144_with_MgII.fits': 1,\n",
       "         'QSO_sim_z2.4_MgIIBlueDeep_26.0458m34.5803_with_MgII.fits': 1,\n",
       "         'QSO_sim_z1.7_MgIIBlueDeep_26.8218m34.4551_with_MgII.fits': 1,\n",
       "         'QSO_sim_z1.7_MgIIBlueDeep_26.12m32.7042_with_MgII.fits': 1,\n",
       "         'QSO_sim_z0.95_MgIIBlueDeep_28.4137m32.3736_with_MgII.fits': 1,\n",
       "         'QSO_sim_z1.7_MgIIBlueDeep_28.0168m34.6515_with_MgII.fits': 1,\n",
       "         'QSO_sim_z1.25_MgIIBlueDeep_29.8674m31.6152_with_MgII.fits': 1,\n",
       "         'QSO_sim_z0.6_MgIIBlueDeep_29.3985m34.7621_with_MgII.fits': 1,\n",
       "         'QSO_sim_z2.25_MgIIBlueDeep_29.101m33.407_with_MgII.fits': 1,\n",
       "         'QSO_sim_z2.4_MgIIBlueDeep_25.2353m31.6911_with_MgII.fits': 1,\n",
       "         'QSO_sim_z1.75_MgIIBlueDeep_25.0363m30.8003_with_MgII.fits': 1,\n",
       "         'QSO_sim_z2.0_MgIIBlueDeep_27.7611m35.3901_with_MgII.fits': 1,\n",
       "         'QSO_sim_z1.4_MgIIBlueDeep_29.4851m35.1113_with_MgII.fits': 1,\n",
       "         'QSO_sim_z2.9_MgIIBlueDeep_32.431m29.0088_with_MgII.fits': 1,\n",
       "         'QSO_sim_z1.65_MgIIBlueDeep_34.0738m28.4365_with_MgII.fits': 1,\n",
       "         'QSO_sim_z1.55_MgIIBlueDeep_34.2287m29.0952_with_MgII.fits': 1,\n",
       "         'QSO_sim_z2.9_MgIIBlueDeep_30.5809m27.8586_with_MgII.fits': 1,\n",
       "         'QSO_sim_z0.8_MgIIBlueDeep_30.9608m27.1742_with_MgII.fits': 1,\n",
       "         'QSO_sim_z0.65_MgIIBlueDeep_31.4457m28.9792_with_MgII.fits': 1,\n",
       "         'QSO_sim_z3.15_MgIIBlueDeep_32.0562m31.746_with_MgII.fits': 1,\n",
       "         'QSO_sim_z2.9_MgIIBlueDeep_33.3796m33.3332_with_MgII.fits': 1,\n",
       "         'QSO_sim_z1.4_MgIIBlueDeep_33.2247m30.7258_with_MgII.fits': 1,\n",
       "         'QSO_sim_z2.35_MgIIBlueDeep_34.3936m33.9699_with_MgII.fits': 1,\n",
       "         'QSO_sim_z2.27_MgIIBlueDeep_34.1086m30.875_with_MgII.fits': 1,\n",
       "         'QSO_sim_z1.85_MgIIBlueDeep_34.9192m33.621_with_MgII.fits': 1,\n",
       "         'QSO_sim_z2.25_MgIIBlueDeep_34.9748m33.5516_with_MgII.fits': 1,\n",
       "         'QSO_sim_z2.2_MgIIBlueDeep_34.6749m31.9136_with_MgII.fits': 1,\n",
       "         'QSO_sim_z1.55_MgIIBlueDeep_30.0942m34.6715_with_MgII.fits': 1,\n",
       "         'QSO_sim_z1.75_MgIIBlueDeep_31.0896m30.4025_with_MgII.fits': 1,\n",
       "         'QSO_sim_z1.7_MgIIBlueDeep_31.2049m30.6493_with_MgII.fits': 1,\n",
       "         'QSO_sim_z1.95_MgIIBlueDeep_36.4341m3.9265_with_MgII.fits': 1,\n",
       "         'QSO_sim_z1.8_MgIIBlueDeep_36.4359m3.9163_with_MgII.fits': 1,\n",
       "         'QSO_sim_z3.15_MgIIBlueDeep_36.4361m3.9245_with_MgII.fits': 1,\n",
       "         'QSO_sim_z1.95_MgIIBlueDeep_38.6082m29.9495_with_MgII.fits': 1,\n",
       "         'QSO_sim_z0.6_MgIIBlueDeep_39.351m27.9572_with_MgII.fits': 1,\n",
       "         'QSO_sim_z1.9_MgIIBlueDeep_36.349m29.5475_with_MgII.fits': 1,\n",
       "         'QSO_sim_z0.75_MgIIBlueDeep_37.6506m31.2883_with_MgII.fits': 1,\n",
       "         'QSO_sim_z1.4_MgIIBlueDeep_38.4627m33.1179_with_MgII.fits': 1,\n",
       "         'QSO_sim_z1.75_MgIIBlueDeep_39.9464m30.689_with_MgII.fits': 1,\n",
       "         'QSO_sim_z2.25_MgIIBlueDeep_39.1267m33.5708_with_MgII.fits': 1,\n",
       "         'QSO_sim_z2.75_MgIIBlueDeep_39.4024m32.9245_with_MgII.fits': 1,\n",
       "         'QSO_sim_z0.6_MgIIBlueDeep_35.505m34.9396_with_MgII.fits': 1,\n",
       "         'QSO_sim_z0.9_MgIIBlueDeep_36.4921m30.6807_with_MgII.fits': 1,\n",
       "         'QSO_sim_z2.05_MgIIBlueDeep_36.3164m30.4549_with_MgII.fits': 1,\n",
       "         'QSO_sim_z1.4_MgIIBlueDeep_44.775m28.9093_with_MgII.fits': 1,\n",
       "         'QSO_sim_z1.9_MgIIBlueDeep_44.4011m29.611_with_MgII.fits': 1,\n",
       "         'QSO_sim_z0.616_MgIIBlueDeep_40.3477m28.0333_with_MgII.fits': 1,\n",
       "         'QSO_sim_z0.75_MgIIBlueDeep_41.6698m29.1706_with_MgII.fits': 1,\n",
       "         'QSO_sim_z2.35_MgIIBlueDeep_43.1578m28.224_with_MgII.fits': 1,\n",
       "         'QSO_sim_z0.7_MgIIBlueDeep_43.1856m28.7734_with_MgII.fits': 1,\n",
       "         'QSO_sim_z1.75_MgIIBlueDeep_43.4519m29.764_with_MgII.fits': 1,\n",
       "         'QSO_sim_z2.9_MgIIBlueDeep_44.7532m34.1912_with_MgII.fits': 1,\n",
       "         'QSO_sim_z1.9_MgIIBlueDeep_44.7535m34.1909_with_MgII.fits': 1,\n",
       "         'QSO_sim_z2.9_MgIIBlueDeep_44.7587m34.1866_with_MgII.fits': 1,\n",
       "         'QSO_sim_z1.65_MgIIBlueDeep_44.3195m31.463_with_MgII.fits': 1,\n",
       "         'QSO_sim_z1.95_MgIIBlueDeep_40.2275m30.8296_with_MgII.fits': 1,\n",
       "         'QSO_sim_z1.0_MgIIBlueDeep_40.5886m34.1011_with_MgII.fits': 1,\n",
       "         'QSO_sim_z0.8_MgIIBlueDeep_40.9095m32.8368_with_MgII.fits': 1,\n",
       "         'QSO_sim_z1.85_MgIIBlueDeep_40.125m33.0353_with_MgII.fits': 1,\n",
       "         'QSO_sim_z2.9_MgIIBlueDeep_40.4163m30.0628_with_MgII.fits': 1,\n",
       "         'QSO_sim_z0.75_MgIIBlueDeep_41.5626m30.2832_with_MgII.fits': 1,\n",
       "         'QSO_sim_z0.65_MgIIBlueDeep_42.9358m32.1379_with_MgII.fits': 1,\n",
       "         'QSO_sim_z1.5_MgIIBlueDeep_43.4227m31.5163_with_MgII.fits': 1,\n",
       "         'QSO_sim_z1.9_MgIIBlueDeep_44.1997m35.3795_with_MgII.fits': 1,\n",
       "         'QSO_sim_z1.75_MgIIBlueDeep_41.9167m35.5276_with_MgII.fits': 1,\n",
       "         'QSO_sim_z2.9_MgIIBlueDeep_42.4477m35.207_with_MgII.fits': 1,\n",
       "         'QSO_sim_z2.4_MgIIBlueDeep_49.6391m29.5615_with_MgII.fits': 1,\n",
       "         'QSO_sim_z2.9_MgIIBlueDeep_49.0753m27.4545_with_MgII.fits': 1,\n",
       "         'QSO_sim_z0.6_MgIIBlueDeep_45.6127m29.3025_with_MgII.fits': 1,\n",
       "         'QSO_sim_z1.85_MgIIBlueDeep_45.2935m27.0183_with_MgII.fits': 1,\n",
       "         'QSO_sim_z2.85_MgIIBlueDeep_45.8363m29.3386_with_MgII.fits': 1,\n",
       "         'QSO_sim_z1.2_MgIIBlueDeep_46.2698m29.9274_with_MgII.fits': 1,\n",
       "         'QSO_sim_z1.4_MgIIBlueDeep_47.7232m29.4418_with_MgII.fits': 1,\n",
       "         'QSO_sim_z0.6_MgIIBlueDeep_49.9938m28.9934_with_MgII.fits': 1,\n",
       "         'QSO_sim_z2.85_MgIIBlueDeep_48.1564m30.9527_with_MgII.fits': 1,\n",
       "         'QSO_sim_z2.9_MgIIBlueDeep_48.1542m31.131_with_MgII.fits': 1,\n",
       "         'QSO_sim_z1.75_MgIIBlueDeep_47.984m34.6769_with_MgII.fits': 1,\n",
       "         'QSO_sim_z2.1_MgIIBlueDeep_48.9237m31.9421_with_MgII.fits': 1,\n",
       "         'QSO_sim_z1.1_MgIIBlueDeep_49.6575m30.9441_with_MgII.fits': 1,\n",
       "         'QSO_sim_z2.9_MgIIBlueDeep_46.5241m30.703_with_MgII.fits': 1,\n",
       "         'QSO_sim_z1.25_MgIIBlueDeep_47.4431m31.0254_with_MgII.fits': 1,\n",
       "         'QSO_sim_z0.6_MgIIBlueDeep_48.1724m35.2359_with_MgII.fits': 1,\n",
       "         'QSO_sim_z1.4_MgIIBlueDeep_51.5917m27.3193_with_MgII.fits': 1,\n",
       "         'QSO_sim_z1.8_MgIIBlueDeep_50.2461m28.8587_with_MgII.fits': 1,\n",
       "         'QSO_sim_z0.85_MgIIBlueDeep_51.1745m34.5588_with_MgII.fits': 1,\n",
       "         'QSO_sim_z1.45_MgIIBlueDeep_51.5952m30.7323_with_MgII.fits': 1,\n",
       "         'QSO_sim_z1.85_MgIIBlueDeep_50.5421m35.3317_with_MgII.fits': 1,\n",
       "         'QSO_sim_z1.75_MgIIBlueDeep_158.9873m3.8273_with_MgII.fits': 1,\n",
       "         'QSO_sim_z0.6838_MgIIBlueDeep_159.8423m1.1393_with_MgII.fits': 1,\n",
       "         'QSO_sim_z2.35_MgIIBlueDeep_159.349p2.3111_with_MgII.fits': 1,\n",
       "         'QSO_sim_z2.9_MgIIBlueDeep_163.1536m0.2049_with_MgII.fits': 1,\n",
       "         'QSO_sim_z1.4_MgIIBlueDeep_163.3515m2.2576_with_MgII.fits': 1,\n",
       "         'QSO_sim_z2.9_MgIIBlueDeep_163.429m2.1319_with_MgII.fits': 1,\n",
       "         'QSO_sim_z0.6434_MgIIBlueDeep_164.1114m3.6227_with_MgII.fits': 1,\n",
       "         'QSO_sim_z2.0_MgIIBlueDeep_161.2972m3.8942_with_MgII.fits': 1,\n",
       "         'QSO_sim_z2.9_MgIIBlueDeep_162.1713m1.9564_with_MgII.fits': 1,\n",
       "         'QSO_sim_z1.9_MgIIBlueDeep_163.8308p2.5974_with_MgII.fits': 1,\n",
       "         'QSO_sim_z0.6341_MgIIBlueDeep_164.4159p2.2508_with_MgII.fits': 1,\n",
       "         'QSO_sim_z2.6_MgIIBlueDeep_162.7112p0.5283_with_MgII.fits': 1,\n",
       "         'QSO_sim_z0.5503_MgIIBlueDeep_169.8892m2.1394_with_MgII.fits': 1,\n",
       "         'QSO_sim_z2.9_MgIIBlueDeep_165.9072m3.2063_with_MgII.fits': 1,\n",
       "         'QSO_sim_z1.2_MgIIBlueDeep_166.4633m0.0513_with_MgII.fits': 1,\n",
       "         'QSO_sim_z1.4_MgIIBlueDeep_167.2077m2.9456_with_MgII.fits': 1,\n",
       "         'QSO_sim_z1.85_MgIIBlueDeep_168.0069m0.2459_with_MgII.fits': 1,\n",
       "         'QSO_sim_z1.35_MgIIBlueDeep_168.0076m0.2459_with_MgII.fits': 1,\n",
       "         'QSO_sim_z2.9_MgIIBlueDeep_168.0079m0.2464_with_MgII.fits': 1,\n",
       "         'QSO_sim_z2.95_MgIIBlueDeep_168.0185m0.2464_with_MgII.fits': 1,\n",
       "         'QSO_sim_z1.85_MgIIBlueDeep_168.0513m0.2465_with_MgII.fits': 1,\n",
       "         'QSO_sim_z2.25_MgIIBlueDeep_165.0975p0.5141_with_MgII.fits': 1,\n",
       "         'QSO_sim_z0.65_MgIIBlueDeep_165.5748p0.7925_with_MgII.fits': 1,\n",
       "         'QSO_sim_z0.95_MgIIBlueDeep_165.2236p3.5833_with_MgII.fits': 1,\n",
       "         'QSO_sim_z1.1407_MgIIBlueDeep_166.5134p3.8551_with_MgII.fits': 1,\n",
       "         'QSO_sim_z2.45_MgIIBlueDeep_167.8479p0.0247_with_MgII.fits': 1,\n",
       "         'QSO_sim_z1.4_MgIIBlueDeep_168.2901p0.238_with_MgII.fits': 1,\n",
       "         'QSO_sim_z0.5753_MgIIBlueDeep_168.4154p3.3043_with_MgII.fits': 1,\n",
       "         'QSO_sim_z1.75_MgIIBlueDeep_171.4596m2.4687_with_MgII.fits': 1,\n",
       "         'QSO_sim_z1.5474_MgIIBlueDeep_173.5509m3.8998_with_MgII.fits': 1,\n",
       "         'QSO_sim_z0.7_MgIIBlueDeep_173.6155m1.7738_with_MgII.fits': 1,\n",
       "         'QSO_sim_z0.611_MgIIBlueDeep_174.3183m1.0062_with_MgII.fits': 1,\n",
       "         'QSO_sim_z1.6_MgIIBlueDeep_174.4905m1.0735_with_MgII.fits': 1,\n",
       "         'QSO_sim_z1.85_MgIIBlueDeep_174.269m0.5524_with_MgII.fits': 1,\n",
       "         'QSO_sim_z1.8_MgIIBlueDeep_174.3618m1.486_with_MgII.fits': 1,\n",
       "         'QSO_sim_z1.85_MgIIBlueDeep_174.6831m1.2406_with_MgII.fits': 1,\n",
       "         'QSO_sim_z2.0_MgIIBlueDeep_171.6478p1.0549_with_MgII.fits': 1,\n",
       "         'QSO_sim_z1.4_MgIIBlueDeep_170.1748p2.0983_with_MgII.fits': 1,\n",
       "         'QSO_sim_z0.5653_MgIIBlueDeep_176.7492m0.5477_with_MgII.fits': 1,\n",
       "         'QSO_sim_z2.6722_MgIIBlueDeep_177.0925m1.2915_with_MgII.fits': 1,\n",
       "         'QSO_sim_z1.4_MgIIBlueDeep_178.727m2.3765_with_MgII.fits': 1,\n",
       "         'QSO_sim_z0.5843_MgIIBlueDeep_179.1113m2.23_with_MgII.fits': 1,\n",
       "         'QSO_sim_z2.3_MgIIBlueDeep_175.6041p2.3599_with_MgII.fits': 1,\n",
       "         'QSO_sim_z1.85_MgIIBlueDeep_176.1474p0.0275_with_MgII.fits': 1,\n",
       "         'QSO_sim_z1.8_MgIIBlueDeep_176.5549p3.6683_with_MgII.fits': 1,\n",
       "         'QSO_sim_z0.5754_MgIIBlueDeep_178.4269p0.9732_with_MgII.fits': 1,\n",
       "         'QSO_sim_z2.45_MgIIBlueDeep_178.6186p0.0396_with_MgII.fits': 1,\n",
       "         'QSO_sim_z2.45_MgIIBlueDeep_178.6394p2.828_with_MgII.fits': 1,\n",
       "         'QSO_sim_z1.8041_MgIIBlueDeep_178.7296p1.7001_with_MgII.fits': 1,\n",
       "         'QSO_sim_z2.4_MgIIBlueDeep_180.4162p0.6227_with_MgII.fits': 1,\n",
       "         'QSO_sim_z2.2_MgIIBlueDeep_180.6464p0.4838_with_MgII.fits': 1,\n",
       "         'QSO_sim_z2.5427_MgIIBlueDeep_182.679p3.8026_with_MgII.fits': 1,\n",
       "         'QSO_sim_z1.6_MgIIBlueDeep_188.7641m3.6771_with_MgII.fits': 1,\n",
       "         'QSO_sim_z1.85_MgIIBlueDeep_189.0017m2.9759_with_MgII.fits': 1,\n",
       "         'QSO_sim_z1.7829_MgIIBlueDeep_189.9807m3.4256_with_MgII.fits': 1,\n",
       "         'QSO_sim_z1.85_MgIIBlueDeep_186.3867m1.2406_with_MgII.fits': 1,\n",
       "         'QSO_sim_z1.5412_MgIIBlueDeep_186.8621m0.1678_with_MgII.fits': 1,\n",
       "         'QSO_sim_z1.5_MgIIBlueDeep_188.5515p2.666_with_MgII.fits': 1,\n",
       "         'QSO_sim_z1.4_MgIIBlueDeep_189.9733p1.1451_with_MgII.fits': 1,\n",
       "         'QSO_sim_z2.9_MgIIBlueDeep_185.0822p3.3086_with_MgII.fits': 1,\n",
       "         'QSO_sim_z1.75_MgIIBlueDeep_186.2599p1.7495_with_MgII.fits': 1,\n",
       "         'QSO_sim_z2.9_MgIIBlueDeep_186.313p0.7667_with_MgII.fits': 1,\n",
       "         'QSO_sim_z0.7319_MgIIBlueDeep_186.7353p1.5234_with_MgII.fits': 1,\n",
       "         'QSO_sim_z1.4_MgIIBlueDeep_194.353m0.6205_with_MgII.fits': 1,\n",
       "         'QSO_sim_z1.4_MgIIBlueDeep_194.1108m0.955_with_MgII.fits': 1,\n",
       "         'QSO_sim_z2.45_MgIIBlueDeep_190.6327m1.4937_with_MgII.fits': 1,\n",
       "         'QSO_sim_z1.85_MgIIBlueDeep_190.2648m0.6215_with_MgII.fits': 1,\n",
       "         'QSO_sim_z1.4_MgIIBlueDeep_190.9065m1.5797_with_MgII.fits': 1,\n",
       "         'QSO_sim_z2.231_MgIIBlueDeep_191.0076m1.4893_with_MgII.fits': 1,\n",
       "         'QSO_sim_z0.75_MgIIBlueDeep_193.2749m3.2164_with_MgII.fits': 1,\n",
       "         'QSO_sim_z2.45_MgIIBlueDeep_193.3495m1.6458_with_MgII.fits': 1,\n",
       "         'QSO_sim_z1.8018_MgIIBlueDeep_190.3888p1.3039_with_MgII.fits': 1,\n",
       "         'QSO_sim_z0.6615_MgIIBlueDeep_192.7799p0.864_with_MgII.fits': 1,\n",
       "         'QSO_sim_z1.95_MgIIBlueDeep_193.2683p0.3326_with_MgII.fits': 1,\n",
       "         'QSO_sim_z1.65_MgIIBlueDeep_194.0037p3.3564_with_MgII.fits': 1,\n",
       "         'QSO_sim_z2.9_MgIIBlueDeep_193.7943p3.0476_with_MgII.fits': 1,\n",
       "         'QSO_sim_z1.65_MgIIBlueDeep_193.81p3.4073_with_MgII.fits': 1,\n",
       "         'QSO_sim_z1.85_MgIIBlueDeep_193.83p3.4438_with_MgII.fits': 1,\n",
       "         'QSO_sim_z2.9_MgIIBlueDeep_193.89p3.3888_with_MgII.fits': 1,\n",
       "         'QSO_sim_z2.9_MgIIBlueDeep_193.8984p3.3888_with_MgII.fits': 1,\n",
       "         'QSO_sim_z2.9_MgIIBlueDeep_193.906p3.405_with_MgII.fits': 1,\n",
       "         'QSO_sim_z2.9_MgIIBlueDeep_193.9066p3.3888_with_MgII.fits': 1,\n",
       "         'QSO_sim_z0.7476_MgIIBlueDeep_194.0194p3.5428_with_MgII.fits': 1,\n",
       "         'QSO_sim_z1.4_MgIIBlueDeep_196.1425m2.0574_with_MgII.fits': 1,\n",
       "         'QSO_sim_z2.9_MgIIBlueDeep_196.2386m1.1809_with_MgII.fits': 1,\n",
       "         'QSO_sim_z0.6_MgIIBlueDeep_196.2392m1.1811_with_MgII.fits': 1,\n",
       "         'QSO_sim_z0.6233_MgIIBlueDeep_196.6322m1.3579_with_MgII.fits': 1,\n",
       "         'QSO_sim_z1.95_MgIIBlueDeep_197.0373m1.9761_with_MgII.fits': 1,\n",
       "         'QSO_sim_z1.75_MgIIBlueDeep_198.1063m0.379_with_MgII.fits': 1,\n",
       "         'QSO_sim_z1.8_MgIIBlueDeep_199.0602p0.3422_with_MgII.fits': 1,\n",
       "         'QSO_sim_z0.5738_MgIIBlueDeep_199.4808p0.0544_with_MgII.fits': 1,\n",
       "         'QSO_sim_z2.05_MgIIBlueDeep_199.5059p2.2334_with_MgII.fits': 1,\n",
       "         'QSO_sim_z2.9_MgIIBlueDeep_195.1236p3.6022_with_MgII.fits': 1,\n",
       "         'QSO_sim_z1.85_MgIIBlueDeep_196.0482p3.2067_with_MgII.fits': 1,\n",
       "         'QSO_sim_z1.85_MgIIBlueDeep_197.9846p0.8356_with_MgII.fits': 1,\n",
       "         'QSO_sim_z1.3_MgIIBlueDeep_197.4076p2.8084_with_MgII.fits': 1,\n",
       "         'QSO_sim_z1.4945_MgIIBlueDeep_198.1811p3.2297_with_MgII.fits': 1,\n",
       "         'QSO_sim_z1.85_MgIIBlueDeep_203.6787m0.5969_with_MgII.fits': 1,\n",
       "         'QSO_sim_z2.9_MgIIBlueDeep_204.4434m3.2385_with_MgII.fits': 1,\n",
       "         'QSO_sim_z1.85_MgIIBlueDeep_200.6877m0.8161_with_MgII.fits': 1,\n",
       "         'QSO_sim_z0.8196_MgIIBlueDeep_202.4181m0.5302_with_MgII.fits': 1,\n",
       "         'QSO_sim_z5.45_MgIIBlueDeep_204.117p3.0995_with_MgII.fits': 1,\n",
       "         'QSO_sim_z2.9_MgIIBlueDeep_200.5045p2.76_with_MgII.fits': 1,\n",
       "         'QSO_sim_z2.15_MgIIBlueDeep_202.0p1.4892_with_MgII.fits': 1,\n",
       "         'QSO_sim_z1.85_MgIIBlueDeep_201.8563p2.9889_with_MgII.fits': 1,\n",
       "         'QSO_sim_z1.4_MgIIBlueDeep_208.9996m3.6641_with_MgII.fits': 1,\n",
       "         'QSO_sim_z3.2_MgIIBlueDeep_207.4651m2.7243_with_MgII.fits': 1,\n",
       "         'QSO_sim_z0.6674_MgIIBlueDeep_208.5326p1.1057_with_MgII.fits': 1,\n",
       "         'QSO_sim_z2.9_MgIIBlueDeep_208.3163p0.1499_with_MgII.fits': 1,\n",
       "         'QSO_sim_z0.6_MgIIBlueDeep_208.9151p3.3166_with_MgII.fits': 1,\n",
       "         'QSO_sim_z2.9_MgIIBlueDeep_205.8045p3.8344_with_MgII.fits': 1,\n",
       "         'QSO_sim_z0.5692_MgIIBlueDeep_206.9382p1.3728_with_MgII.fits': 1,\n",
       "         'QSO_sim_z0.6443_MgIIBlueDeep_206.6349p1.2356_with_MgII.fits': 1,\n",
       "         'QSO_sim_z2.05_MgIIBlueDeep_214.6338m2.6086_with_MgII.fits': 1,\n",
       "         'QSO_sim_z6.05_MgIIBlueDeep_214.8122m0.0133_with_MgII.fits': 1,\n",
       "         'QSO_sim_z2.0851_MgIIBlueDeep_210.3941m1.3949_with_MgII.fits': 1,\n",
       "         'QSO_sim_z2.05_MgIIBlueDeep_210.6801m2.89_with_MgII.fits': 1,\n",
       "         'QSO_sim_z2.0_MgIIBlueDeep_211.2903m0.6692_with_MgII.fits': 1,\n",
       "         'QSO_sim_z1.85_MgIIBlueDeep_211.346m3.7288_with_MgII.fits': 1,\n",
       "         'QSO_sim_z0.5825_MgIIBlueDeep_214.0801p2.2331_with_MgII.fits': 1,\n",
       "         'QSO_sim_z2.45_MgIIBlueDeep_213.6127p3.7044_with_MgII.fits': 1,\n",
       "         'QSO_sim_z0.5663_MgIIBlueDeep_216.4434m0.1183_with_MgII.fits': 1,\n",
       "         'QSO_sim_z0.7_MgIIBlueDeep_216.5174m0.6907_with_MgII.fits': 1,\n",
       "         'QSO_sim_z2.95_MgIIBlueDeep_217.8752m0.6065_with_MgII.fits': 1,\n",
       "         'QSO_sim_z1.55_MgIIBlueDeep_218.5884m0.2936_with_MgII.fits': 1,\n",
       "         'QSO_sim_z1.4_MgIIBlueDeep_219.0426m3.7822_with_MgII.fits': 1,\n",
       "         'QSO_sim_z0.5829_MgIIBlueDeep_215.83p0.1183_with_MgII.fits': 1,\n",
       "         'QSO_sim_z0.5995_MgIIBlueDeep_215.4068p2.0349_with_MgII.fits': 1,\n",
       "         'QSO_sim_z1.95_MgIIBlueDeep_217.2786p1.8346_with_MgII.fits': 1,\n",
       "         'QSO_sim_z0.8035_MgIIBlueDeep_217.9657p2.7485_with_MgII.fits': 1,\n",
       "         'QSO_sim_z1.4557_MgIIBlueDeep_218.7512p3.901_with_MgII.fits': 1,\n",
       "         'QSO_sim_z2.4034_MgIIBlueDeep_218.7776p3.5492_with_MgII.fits': 1,\n",
       "         'QSO_sim_z1.6_MgIIBlueDeep_219.185p2.7881_with_MgII.fits': 1,\n",
       "         'QSO_sim_z1.4_MgIIBlueDeep_223.5179m1.6777_with_MgII.fits': 1,\n",
       "         'QSO_sim_z1.65_MgIIBlueDeep_224.691m3.8874_with_MgII.fits': 1,\n",
       "         'QSO_sim_z1.4_MgIIBlueDeep_224.594m1.091_with_MgII.fits': 1,\n",
       "         'QSO_sim_z2.55_MgIIBlueDeep_224.2021m3.9247_with_MgII.fits': 1,\n",
       "         'QSO_sim_z1.85_MgIIBlueDeep_222.3912p1.7458_with_MgII.fits': 1,\n",
       "         'QSO_sim_z3.034_MgIIBlueDeep_224.78p0.4004_with_MgII.fits': 1,\n",
       "         'QSO_sim_z1.9_MgIIBlueDeep_221.7981p1.603_with_MgII.fits': 1,\n",
       "         'QSO_sim_z0.6104_MgIIBlueDeep_221.2826p0.2413_with_MgII.fits': 1,\n",
       "         'QSO_sim_z2.8_MgIIBlueDeep_334.8411m31.6683_with_MgII.fits': 1,\n",
       "         'QSO_sim_z1.4_MgIIBlueDeep_330.1m33.1407_with_MgII.fits': 1,\n",
       "         'QSO_sim_z1.85_MgIIBlueDeep_330.1979m32.0086_with_MgII.fits': 1,\n",
       "         'QSO_sim_z1.85_MgIIBlueDeep_330.5946m33.5166_with_MgII.fits': 1,\n",
       "         'QSO_sim_z1.85_MgIIBlueDeep_330.2993m33.836_with_MgII.fits': 1,\n",
       "         'QSO_sim_z1.8_MgIIBlueDeep_331.7188m31.1814_with_MgII.fits': 1,\n",
       "         'QSO_sim_z1.15_MgIIBlueDeep_331.6223m33.0795_with_MgII.fits': 1,\n",
       "         'QSO_sim_z2.3_MgIIBlueDeep_331.0908m32.3826_with_MgII.fits': 1,\n",
       "         'QSO_sim_z0.7_MgIIBlueDeep_331.1983m30.8825_with_MgII.fits': 1,\n",
       "         'QSO_sim_z1.65_MgIIBlueDeep_333.2017m32.8945_with_MgII.fits': 1,\n",
       "         'QSO_sim_z1.85_MgIIBlueDeep_334.8343m35.5346_with_MgII.fits': 1,\n",
       "         'QSO_sim_z1.8_MgIIBlueDeep_334.3788m35.4055_with_MgII.fits': 1,\n",
       "         'QSO_sim_z1.55_MgIIBlueDeep_331.2199m35.025_with_MgII.fits': 1,\n",
       "         'QSO_sim_z1.55_MgIIBlueDeep_333.0179m35.2727_with_MgII.fits': 1,\n",
       "         'QSO_sim_z2.75_MgIIBlueDeep_332.1775m35.3747_with_MgII.fits': 1,\n",
       "         'QSO_sim_z1.95_MgIIBlueDeep_333.5494m35.4099_with_MgII.fits': 1,\n",
       "         'QSO_sim_z2.4_MgIIBlueDeep_333.8269m35.0681_with_MgII.fits': 1,\n",
       "         'QSO_sim_z2.0_MgIIBlueDeep_337.4257m27.1472_with_MgII.fits': 1,\n",
       "         'QSO_sim_z1.95_MgIIBlueDeep_338.142m32.8576_with_MgII.fits': 1,\n",
       "         'QSO_sim_z2.9_MgIIBlueDeep_338.9516m30.3335_with_MgII.fits': 1,\n",
       "         'QSO_sim_z2.05_MgIIBlueDeep_335.3908m33.2342_with_MgII.fits': 1,\n",
       "         'QSO_sim_z0.6_MgIIBlueDeep_336.5877m32.9948_with_MgII.fits': 1,\n",
       "         'QSO_sim_z1.85_MgIIBlueDeep_336.6682m32.8814_with_MgII.fits': 1,\n",
       "         'QSO_sim_z1.85_MgIIBlueDeep_336.7607m34.5537_with_MgII.fits': 1,\n",
       "         'QSO_sim_z1.65_MgIIBlueDeep_338.0366m31.1666_with_MgII.fits': 1,\n",
       "         'QSO_sim_z2.0_MgIIBlueDeep_337.6937m31.0851_with_MgII.fits': 1,\n",
       "         'QSO_sim_z1.85_MgIIBlueDeep_337.921m32.7216_with_MgII.fits': 1,\n",
       "         'QSO_sim_z1.8_MgIIBlueDeep_338.0013m32.7343_with_MgII.fits': 1,\n",
       "         'QSO_sim_z0.65_MgIIBlueDeep_337.6983m33.4209_with_MgII.fits': 1,\n",
       "         'QSO_sim_z1.85_MgIIBlueDeep_338.0397m32.5232_with_MgII.fits': 1,\n",
       "         'QSO_sim_z2.3_MgIIBlueDeep_344.0566m29.5447_with_MgII.fits': 1,\n",
       "         'QSO_sim_z2.25_MgIIBlueDeep_344.3377m29.4283_with_MgII.fits': 1,\n",
       "         'QSO_sim_z2.95_MgIIBlueDeep_344.4298m29.4351_with_MgII.fits': 1,\n",
       "         'QSO_sim_z2.35_MgIIBlueDeep_344.7077m30.8439_with_MgII.fits': 1,\n",
       "         'QSO_sim_z1.8_MgIIBlueDeep_344.736m30.7347_with_MgII.fits': 1,\n",
       "         'QSO_sim_z2.45_MgIIBlueDeep_344.7441m30.7288_with_MgII.fits': 1,\n",
       "         'QSO_sim_z2.45_MgIIBlueDeep_344.812m30.6934_with_MgII.fits': 1,\n",
       "         'QSO_sim_z2.45_MgIIBlueDeep_344.9556m30.8546_with_MgII.fits': 1,\n",
       "         'QSO_sim_z2.45_MgIIBlueDeep_344.9733m30.741_with_MgII.fits': 1,\n",
       "         'QSO_sim_z2.45_MgIIBlueDeep_344.9742m30.6575_with_MgII.fits': 1,\n",
       "         'QSO_sim_z1.55_MgIIBlueDeep_344.8781m30.9359_with_MgII.fits': 1,\n",
       "         'QSO_sim_z1.8_MgIIBlueDeep_346.7331m29.3576_with_MgII.fits': 1,\n",
       "         'QSO_sim_z1.95_MgIIBlueDeep_346.994m29.3864_with_MgII.fits': 1,\n",
       "         'QSO_sim_z1.8_MgIIBlueDeep_346.4865m33.2186_with_MgII.fits': 1,\n",
       "         'QSO_sim_z2.35_MgIIBlueDeep_346.5451m32.3693_with_MgII.fits': 1,\n",
       "         'QSO_sim_z1.85_MgIIBlueDeep_348.4896m34.106_with_MgII.fits': 1,\n",
       "         'QSO_sim_z2.45_MgIIBlueDeep_345.0805m30.7394_with_MgII.fits': 1,\n",
       "         'QSO_sim_z2.45_MgIIBlueDeep_345.0932m30.7715_with_MgII.fits': 1,\n",
       "         'QSO_sim_z1.8_MgIIBlueDeep_349.0507m35.5117_with_MgII.fits': 1,\n",
       "         'QSO_sim_z6.3_MgIIBlueDeep_353.0213m29.5516_with_MgII.fits': 1,\n",
       "         'QSO_sim_z1.55_MgIIBlueDeep_354.596m28.3872_with_MgII.fits': 1,\n",
       "         'QSO_sim_z0.8_MgIIBlueDeep_351.3511m29.875_with_MgII.fits': 1,\n",
       "         'QSO_sim_z1.65_MgIIBlueDeep_352.545m32.9754_with_MgII.fits': 1,\n",
       "         'QSO_sim_z0.8_MgIIBlueDeep_352.3853m31.6428_with_MgII.fits': 1,\n",
       "         'QSO_sim_z1.25_MgIIBlueDeep_352.4785m32.1532_with_MgII.fits': 1,\n",
       "         'QSO_sim_z2.05_MgIIBlueDeep_352.0315m30.8391_with_MgII.fits': 1,\n",
       "         'QSO_sim_z1.2_MgIIBlueDeep_352.1959m32.0082_with_MgII.fits': 1,\n",
       "         'QSO_sim_z1.7_MgIIBlueDeep_352.5379m34.988_with_MgII.fits': 1,\n",
       "         'QSO_sim_z2.35_MgIIBlueDeep_352.3791m33.4573_with_MgII.fits': 1,\n",
       "         'QSO_sim_z1.85_MgIIBlueDeep_353.8134m34.8585_with_MgII.fits': 1,\n",
       "         'QSO_sim_z1.0_MgIIBlueDeep_353.2787m32.7547_with_MgII.fits': 1,\n",
       "         'QSO_sim_z2.55_MgIIBlueDeep_353.8382m31.4784_with_MgII.fits': 1,\n",
       "         'QSO_sim_z1.8_MgIIBlueDeep_353.4181m32.4665_with_MgII.fits': 1,\n",
       "         'QSO_sim_z0.6_MgIIBlueDeep_353.3783m33.1807_with_MgII.fits': 1,\n",
       "         'QSO_sim_z1.85_MgIIBlueDeep_353.2981m30.6494_with_MgII.fits': 1,\n",
       "         'QSO_sim_z1.8_MgIIBlueDeep_354.7673m32.8462_with_MgII.fits': 1,\n",
       "         'QSO_sim_z1.05_MgIIBlueDeep_354.3398m30.5263_with_MgII.fits': 1,\n",
       "         'QSO_sim_z1.45_MgIIBlueDeep_354.2749m32.39_with_MgII.fits': 1,\n",
       "         'QSO_sim_z1.6_MgIIBlueDeep_354.3725m31.0773_with_MgII.fits': 1,\n",
       "         'QSO_sim_z2.9_MgIIBlueDeep_354.088m33.2154_with_MgII.fits': 1,\n",
       "         'QSO_sim_z2.9_MgIIBlueDeep_354.2697m31.8737_with_MgII.fits': 1,\n",
       "         'QSO_sim_z1.716_MgIIBlueDeep_354.8749m30.5425_with_MgII.fits': 1,\n",
       "         'QSO_sim_z1.0_MgIIBlueDeep_353.9478m30.931_with_MgII.fits': 1,\n",
       "         'QSO_sim_z2.9_MgIIBlueDeep_354.7781m33.7113_with_MgII.fits': 1,\n",
       "         'QSO_sim_z1.85_MgIIBlueDeep_354.7117m30.5714_with_MgII.fits': 1,\n",
       "         'QSO_sim_z0.8_MgIIBlueDeep_351.4135m34.5352_with_MgII.fits': 1,\n",
       "         'QSO_sim_z2.25_MgIIBlueDeep_352.0161m31.5892_with_MgII.fits': 1,\n",
       "         'QSO_sim_z1.8_MgIIBlueDeep_352.0733m31.4173_with_MgII.fits': 1,\n",
       "         'QSO_sim_z1.75_MgIIBlueDeep_351.8169m34.2759_with_MgII.fits': 1,\n",
       "         'QSO_sim_z2.2_MgIIBlueDeep_351.8358m30.8339_with_MgII.fits': 1,\n",
       "         'QSO_sim_z1.4_MgIIBlueDeep_354.2785m35.5185_with_MgII.fits': 1,\n",
       "         'QSO_sim_z2.05_MgIIBlueDeep_352.0266m35.2365_with_MgII.fits': 1,\n",
       "         'QSO_sim_z1.65_MgIIBlueDeep_351.5951m35.1343_with_MgII.fits': 1,\n",
       "         'QSO_sim_z1.8_MgIIBlueDeep_357.1948m27.6721_with_MgII.fits': 1,\n",
       "         'QSO_sim_z1.85_MgIIBlueDeep_357.5249m28.6457_with_MgII.fits': 1,\n",
       "         'QSO_sim_z4.85_MgIIBlueDeep_358.3546m29.8844_with_MgII.fits': 1,\n",
       "         'QSO_sim_z2.95_MgIIBlueDeep_358.2394m28.2288_with_MgII.fits': 1,\n",
       "         'QSO_sim_z1.4_MgIIBlueDeep_359.494m28.6517_with_MgII.fits': 1,\n",
       "         'QSO_sim_z1.8_MgIIBlueDeep_359.1711m29.7828_with_MgII.fits': 1,\n",
       "         'QSO_sim_z1.1_MgIIBlueDeep_359.9479m28.4688_with_MgII.fits': 1,\n",
       "         'QSO_sim_z0.75_MgIIBlueDeep_359.391m28.4603_with_MgII.fits': 1,\n",
       "         'QSO_sim_z2.9_MgIIBlueDeep_357.8958m31.9195_with_MgII.fits': 1,\n",
       "         'QSO_sim_z2.9_MgIIBlueDeep_357.896m31.9216_with_MgII.fits': 1,\n",
       "         'QSO_sim_z1.95_MgIIBlueDeep_357.3379m32.3016_with_MgII.fits': 1,\n",
       "         'QSO_sim_z2.45_MgIIBlueDeep_357.5962m30.0261_with_MgII.fits': 1,\n",
       "         'QSO_sim_z2.4_MgIIBlueDeep_357.3431m32.9223_with_MgII.fits': 1,\n",
       "         'QSO_sim_z2.95_MgIIBlueDeep_357.551m33.0753_with_MgII.fits': 1,\n",
       "         'QSO_sim_z2.05_MgIIBlueDeep_357.5973m33.108_with_MgII.fits': 1,\n",
       "         'QSO_sim_z1.4_MgIIBlueDeep_356.988m34.1303_with_MgII.fits': 1,\n",
       "         'QSO_sim_z1.95_MgIIBlueDeep_357.8574m30.3722_with_MgII.fits': 1,\n",
       "         'QSO_sim_z1.55_MgIIBlueDeep_357.7221m32.6148_with_MgII.fits': 1,\n",
       "         'QSO_sim_z1.3_MgIIBlueDeep_357.6321m30.5006_with_MgII.fits': 1,\n",
       "         'QSO_sim_z2.9_MgIIBlueDeep_357.4195m33.1328_with_MgII.fits': 1,\n",
       "         'QSO_sim_z2.0_MgIIBlueDeep_357.5893m32.0987_with_MgII.fits': 1,\n",
       "         'QSO_sim_z1.9_MgIIBlueDeep_357.9724m33.1229_with_MgII.fits': 1,\n",
       "         'QSO_sim_z2.9_MgIIBlueDeep_358.0907m33.111_with_MgII.fits': 1,\n",
       "         'QSO_sim_z7.55_MgIIBlueDeep_358.667m30.7711_with_MgII.fits': 1,\n",
       "         'QSO_sim_z1.8_MgIIBlueDeep_358.7098m30.634_with_MgII.fits': 1,\n",
       "         'QSO_sim_z2.9_MgIIBlueDeep_358.4986m31.7948_with_MgII.fits': 1,\n",
       "         'QSO_sim_z1.8_MgIIBlueDeep_358.8791m33.394_with_MgII.fits': 1,\n",
       "         'QSO_sim_z1.9_MgIIBlueDeep_358.0908m34.9612_with_MgII.fits': 1,\n",
       "         'QSO_sim_z1.85_MgIIBlueDeep_358.2774m30.4768_with_MgII.fits': 1,\n",
       "         'QSO_sim_z1.75_MgIIBlueDeep_358.8457m30.9867_with_MgII.fits': 1,\n",
       "         'QSO_sim_z1.85_MgIIBlueDeep_358.8458m30.9865_with_MgII.fits': 1,\n",
       "         'QSO_sim_z1.8_MgIIBlueDeep_359.0063m31.9784_with_MgII.fits': 1,\n",
       "         'QSO_sim_z1.2_MgIIBlueDeep_359.7553m31.7973_with_MgII.fits': 1,\n",
       "         'QSO_sim_z3.25_MgIIBlueDeep_359.4714m32.6012_with_MgII.fits': 1,\n",
       "         'QSO_sim_z2.9_MgIIBlueDeep_359.914m33.0297_with_MgII.fits': 1,\n",
       "         'QSO_sim_z2.45_MgIIBlueDeep_359.7128m31.593_with_MgII.fits': 1,\n",
       "         'QSO_sim_z1.75_MgIIBlueDeep_355.8307m31.7244_with_MgII.fits': 1,\n",
       "         'QSO_sim_z1.85_MgIIBlueDeep_356.0393m32.7071_with_MgII.fits': 1,\n",
       "         'QSO_sim_z2.2_MgIIBlueDeep_355.1492m33.5662_with_MgII.fits': 1,\n",
       "         'QSO_sim_z2.3_MgIIBlueDeep_355.2435m33.1529_with_MgII.fits': 1,\n",
       "         'QSO_sim_z2.45_MgIIBlueDeep_355.346m33.1715_with_MgII.fits': 1,\n",
       "         'QSO_sim_z2.9_MgIIBlueDeep_356.0114m33.3026_with_MgII.fits': 1,\n",
       "         'QSO_sim_z2.9_MgIIBlueDeep_356.0879m32.1498_with_MgII.fits': 1,\n",
       "         'QSO_sim_z1.55_MgIIBlueDeep_356.3316m30.3546_with_MgII.fits': 1,\n",
       "         'QSO_sim_z2.4_MgIIBlueDeep_356.101m34.0711_with_MgII.fits': 1,\n",
       "         'QSO_sim_z1.7_MgIIBlueDeep_356.1023m31.5177_with_MgII.fits': 1,\n",
       "         'QSO_sim_z2.6_MgIIBlueDeep_356.4598m31.0661_with_MgII.fits': 1,\n",
       "         'QSO_sim_z1.75_MgIIBlueDeep_356.0208m31.986_with_MgII.fits': 1,\n",
       "         'QSO_sim_z1.8_MgIIBlueDeep_356.9798m33.4253_with_MgII.fits': 1,\n",
       "         'QSO_sim_z2.95_MgIIBlueDeep_358.7584m35.4202_with_MgII.fits': 1,\n",
       "         'QSO_sim_z1.35_MgIIBlueDeep_358.051m35.3907_with_MgII.fits': 1,\n",
       "         'QSO_sim_z1.2_MgIIBlueDeep_359.7897m35.5864_with_MgII.fits': 1,\n",
       "         'QSO_sim_z2.9_MgIIBlueDeep_355.4443m35.2184_with_MgII.fits': 1,\n",
       "         'QSO_sim_z1.55_MgIIBlueDeep_355.3329m35.3393_with_MgII.fits': 1,\n",
       "         'QSO_sim_z1.85_MgIIBlueDeep_355.4611m35.0977_with_MgII.fits': 1,\n",
       "         'QSO_sim_z1.9902_MgIIBlueDeep_224.7554p0.3566_with_MgII.fits': 1,\n",
       "         'QSO_sim_z0.7052_MgIIBlueDeep_224.9133p1.3777_with_MgII.fits': 1,\n",
       "         'QSO_sim_z1.9646_MgIIBlueDeep_224.3244p2.7965_with_MgII.fits': 1,\n",
       "         'QSO_sim_z1.1461_MgIIBlueDeep_223.3413p2.2455_with_MgII.fits': 1,\n",
       "         'QSO_sim_z3.1244_MgIIBlueDeep_224.8291p2.6869_with_MgII.fits': 1,\n",
       "         'QSO_sim_z1.5143_MgIIBlueDeep_224.7059p2.848_with_MgII.fits': 1,\n",
       "         'QSO_sim_z1.4464_MgIIBlueDeep_222.33p3.1252_with_MgII.fits': 1,\n",
       "         'QSO_sim_z1.5431_MgIIBlueDeep_222.8581p3.5265_with_MgII.fits': 1,\n",
       "         'QSO_sim_z1.9452_MgIIBlueDeep_222.7483p3.7398_with_MgII.fits': 1,\n",
       "         'QSO_sim_z0.8898_MgIIBlueDeep_221.6045p3.9177_with_MgII.fits': 1,\n",
       "         'QSO_sim_z1.6557_MgIIBlueDeep_5.0811m35.2942_with_MgII.fits': 1,\n",
       "         'QSO_sim_z1.1696_MgIIBlueDeep_1.8202m35.3818_with_MgII.fits': 1,\n",
       "         'QSO_sim_z1.6579_MgIIBlueDeep_3.5521m34.7806_with_MgII.fits': 1,\n",
       "         'QSO_sim_z1.4878_MgIIBlueDeep_2.1347m33.9809_with_MgII.fits': 1,\n",
       "         'QSO_sim_z0.6826_MgIIBlueDeep_3.0799m33.7379_with_MgII.fits': 1,\n",
       "         'QSO_sim_z1.6593_MgIIBlueDeep_2.7512m33.0383_with_MgII.fits': 1,\n",
       "         'QSO_sim_z2.4064_MgIIBlueDeep_356.963m35.5464_with_MgII.fits': 1,\n",
       "         'QSO_sim_z2.24_MgIIBlueDeep_356.4978m35.3684_with_MgII.fits': 1,\n",
       "         'QSO_sim_z1.6049_MgIIBlueDeep_355.57m35.2152_with_MgII.fits': 1,\n",
       "         'QSO_sim_z2.4253_MgIIBlueDeep_356.2317m35.1915_with_MgII.fits': 1,\n",
       "         'QSO_sim_z0.9215_MgIIBlueDeep_355.3754m34.7583_with_MgII.fits': 1,\n",
       "         'QSO_sim_z0.9626_MgIIBlueDeep_356.1121m33.9878_with_MgII.fits': 1,\n",
       "         'QSO_sim_z1.2856_MgIIBlueDeep_356.3046m33.8565_with_MgII.fits': 1,\n",
       "         'QSO_sim_z1.7386_MgIIBlueDeep_357.3485m33.3716_with_MgII.fits': 1,\n",
       "         'QSO_sim_z1.8431_MgIIBlueDeep_357.496m33.4465_with_MgII.fits': 1,\n",
       "         'QSO_sim_z1.2438_MgIIBlueDeep_0.4135m35.1575_with_MgII.fits': 1,\n",
       "         'QSO_sim_z0.5629_MgIIBlueDeep_0.4473m35.0103_with_MgII.fits': 1,\n",
       "         'QSO_sim_z1.4777_MgIIBlueDeep_359.7124m33.9878_with_MgII.fits': 1,\n",
       "         'QSO_sim_z2.0243_MgIIBlueDeep_1.8314m33.2548_with_MgII.fits': 1,\n",
       "         'QSO_sim_z1.1199_MgIIBlueDeep_2.2132m33.0856_with_MgII.fits': 1,\n",
       "         'QSO_sim_z1.1496_MgIIBlueDeep_1.5615m32.8655_with_MgII.fits': 1,\n",
       "         'QSO_sim_z2.044_MgIIBlueDeep_1.8415m32.6503_with_MgII.fits': 1,\n",
       "         'QSO_sim_z0.6893_MgIIBlueDeep_1.7856m32.4486_with_MgII.fits': 1,\n",
       "         'QSO_sim_z1.3922_MgIIBlueDeep_0.7055m32.8606_with_MgII.fits': 1,\n",
       "         'QSO_sim_z0.734_MgIIBlueDeep_1.0335m32.6181_with_MgII.fits': 1,\n",
       "         'QSO_sim_z1.6668_MgIIBlueDeep_0.3239m32.8091_with_MgII.fits': 1,\n",
       "         'QSO_sim_z1.1255_MgIIBlueDeep_0.844m32.3613_with_MgII.fits': 1,\n",
       "         'QSO_sim_z2.0791_MgIIBlueDeep_358.7228m33.529_with_MgII.fits': 1,\n",
       "         'QSO_sim_z0.6147_MgIIBlueDeep_358.866m33.3774_with_MgII.fits': 1,\n",
       "         'QSO_sim_z1.0586_MgIIBlueDeep_359.2178m32.9965_with_MgII.fits': 1,\n",
       "         'QSO_sim_z1.9692_MgIIBlueDeep_359.3679m32.3478_with_MgII.fits': 1,\n",
       "         'QSO_sim_z0.6118_MgIIBlueDeep_357.4999m33.0408_with_MgII.fits': 1,\n",
       "         'QSO_sim_z1.4075_MgIIBlueDeep_358.616m31.6256_with_MgII.fits': 1,\n",
       "         'QSO_sim_z1.885_MgIIBlueDeep_359.902m32.1103_with_MgII.fits': 1,\n",
       "         'QSO_sim_z1.6352_MgIIBlueDeep_359.6182m31.8493_with_MgII.fits': 1,\n",
       "         'QSO_sim_z1.4406_MgIIBlueDeep_0.068m31.7439_with_MgII.fits': 1,\n",
       "         'QSO_sim_z1.8918_MgIIBlueDeep_0.0398m31.6554_with_MgII.fits': 1,\n",
       "         'QSO_sim_z0.9456_MgIIBlueDeep_0.3367m31.5781_with_MgII.fits': 1,\n",
       "         'QSO_sim_z1.2915_MgIIBlueDeep_359.0191m31.6293_with_MgII.fits': 1,\n",
       "         'QSO_sim_z0.6678_MgIIBlueDeep_358.9963m31.1901_with_MgII.fits': 1,\n",
       "         'QSO_sim_z0.8859_MgIIBlueDeep_0.2516m30.7552_with_MgII.fits': 1,\n",
       "         'QSO_sim_z1.6472_MgIIBlueDeep_5.5799m34.601_with_MgII.fits': 1,\n",
       "         'QSO_sim_z2.2142_MgIIBlueDeep_6.5647m34.0701_with_MgII.fits': 1,\n",
       "         'QSO_sim_z1.2348_MgIIBlueDeep_5.9591m33.9145_with_MgII.fits': 1,\n",
       "         'QSO_sim_z0.9708_MgIIBlueDeep_5.9492m33.5763_with_MgII.fits': 1,\n",
       "         'QSO_sim_z0.943_MgIIBlueDeep_6.0395m33.4256_with_MgII.fits': 1,\n",
       "         'QSO_sim_z1.8029_MgIIBlueDeep_5.5575m33.3804_with_MgII.fits': 1,\n",
       "         'QSO_sim_z0.8881_MgIIBlueDeep_5.5085m33.3547_with_MgII.fits': 1,\n",
       "         'QSO_sim_z0.8233_MgIIBlueDeep_7.1447m33.5278_with_MgII.fits': 1,\n",
       "         'QSO_sim_z0.8134_MgIIBlueDeep_7.1267m33.097_with_MgII.fits': 1,\n",
       "         'QSO_sim_z1.1966_MgIIBlueDeep_7.9553m33.0802_with_MgII.fits': 1,\n",
       "         'QSO_sim_z2.4354_MgIIBlueDeep_7.6405m32.9339_with_MgII.fits': 1,\n",
       "         'QSO_sim_z1.2095_MgIIBlueDeep_8.0456m32.7014_with_MgII.fits': 1,\n",
       "         'QSO_sim_z1.0214_MgIIBlueDeep_8.0886m32.6261_with_MgII.fits': 1,\n",
       "         'QSO_sim_z1.4242_MgIIBlueDeep_6.2358m33.0172_with_MgII.fits': 1,\n",
       "         'QSO_sim_z2.3134_MgIIBlueDeep_6.7014m32.4621_with_MgII.fits': 1,\n",
       "         'QSO_sim_z1.1055_MgIIBlueDeep_7.415m31.8725_with_MgII.fits': 1,\n",
       "         'QSO_sim_z0.6647_MgIIBlueDeep_4.5868m33.7419_with_MgII.fits': 1,\n",
       "         'QSO_sim_z1.394_MgIIBlueDeep_4.8364m32.8929_with_MgII.fits': 1,\n",
       "         'QSO_sim_z1.3213_MgIIBlueDeep_4.3998m32.9617_with_MgII.fits': 1,\n",
       "         'QSO_sim_z1.0482_MgIIBlueDeep_5.1632m32.4942_with_MgII.fits': 1,\n",
       "         'QSO_sim_z0.6627_MgIIBlueDeep_3.5425m32.9751_with_MgII.fits': 1,\n",
       "         'QSO_sim_z1.5878_MgIIBlueDeep_4.24m32.3485_with_MgII.fits': 1,\n",
       "         'QSO_sim_z1.5379_MgIIBlueDeep_6.5038m31.2506_with_MgII.fits': 1,\n",
       "         'QSO_sim_z0.9895_MgIIBlueDeep_5.0271m31.5263_with_MgII.fits': 1,\n",
       "         'QSO_sim_z1.0645_MgIIBlueDeep_4.4328m31.536_with_MgII.fits': 1,\n",
       "         'QSO_sim_z0.8386_MgIIBlueDeep_4.2715m31.4268_with_MgII.fits': 1,\n",
       "         'QSO_sim_z2.45_MgIIBlueDeep_5.0308m30.9224_with_MgII.fits': 1,\n",
       "         'QSO_sim_z1.606_MgIIBlueDeep_5.3449m30.8629_with_MgII.fits': 1,\n",
       "         'QSO_sim_z1.1293_MgIIBlueDeep_5.2892m30.6644_with_MgII.fits': 1,\n",
       "         'QSO_sim_z1.2709_MgIIBlueDeep_9.7443m31.0342_with_MgII.fits': 1,\n",
       "         'QSO_sim_z1.5541_MgIIBlueDeep_9.9476m30.7166_with_MgII.fits': 1,\n",
       "         'QSO_sim_z1.325_MgIIBlueDeep_9.6831m30.2532_with_MgII.fits': 1,\n",
       "         'QSO_sim_z0.9342_MgIIBlueDeep_9.761m30.0941_with_MgII.fits': 1,\n",
       "         'QSO_sim_z0.576_MgIIBlueDeep_10.5519m30.2231_with_MgII.fits': 1,\n",
       "         'QSO_sim_z1.64_MgIIBlueDeep_10.5908m30.1435_with_MgII.fits': 1,\n",
       "         'QSO_sim_z0.8001_MgIIBlueDeep_10.2395m29.7648_with_MgII.fits': 1,\n",
       "         'QSO_sim_z1.6017_MgIIBlueDeep_8.8608m30.1367_with_MgII.fits': 1,\n",
       "         'QSO_sim_z1.5334_MgIIBlueDeep_8.4657m29.9885_with_MgII.fits': 1,\n",
       "         'QSO_sim_z0.868_MgIIBlueDeep_7.0114m31.2146_with_MgII.fits': 1,\n",
       "         'QSO_sim_z1.4653_MgIIBlueDeep_7.3132m31.0174_with_MgII.fits': 1,\n",
       "         'QSO_sim_z1.9347_MgIIBlueDeep_6.7687m31.083_with_MgII.fits': 1,\n",
       "         'QSO_sim_z1.088_MgIIBlueDeep_7.3018m30.951_with_MgII.fits': 1,\n",
       "         'QSO_sim_z0.6328_MgIIBlueDeep_7.8458m30.2642_with_MgII.fits': 1,\n",
       "         'QSO_sim_z0.663_MgIIBlueDeep_7.6771m29.4378_with_MgII.fits': 1,\n",
       "         'QSO_sim_z1.3378_MgIIBlueDeep_6.6681m29.919_with_MgII.fits': 1,\n",
       "         'QSO_sim_z0.9713_MgIIBlueDeep_7.101m29.4034_with_MgII.fits': 1,\n",
       "         'QSO_sim_z0.561_MgIIBlueDeep_6.7823m29.326_with_MgII.fits': 1,\n",
       "         'QSO_sim_z1.7875_MgIIBlueDeep_6.7937m29.2697_with_MgII.fits': 1,\n",
       "         'QSO_sim_z1.4851_MgIIBlueDeep_8.8905m29.2128_with_MgII.fits': 1,\n",
       "         'QSO_sim_z1.0462_MgIIBlueDeep_8.6481m29.1312_with_MgII.fits': 1,\n",
       "         'QSO_sim_z1.588_MgIIBlueDeep_7.929m29.4093_with_MgII.fits': 1,\n",
       "         'QSO_sim_z2.3828_MgIIBlueDeep_9.175m28.8915_with_MgII.fits': 1,\n",
       "         'QSO_sim_z1.3177_MgIIBlueDeep_7.8522m28.6192_with_MgII.fits': 1,\n",
       "         'QSO_sim_z1.0627_MgIIBlueDeep_7.9635m28.4767_with_MgII.fits': 1,\n",
       "         'QSO_sim_z1.407_MgIIBlueDeep_7.4157m28.6756_with_MgII.fits': 1,\n",
       "         'QSO_sim_z2.3116_MgIIBlueDeep_8.5986m28.2349_with_MgII.fits': 1,\n",
       "         'QSO_sim_z1.485_MgIIBlueDeep_8.0442m27.9115_with_MgII.fits': 1,\n",
       "         'QSO_sim_z1.3412_MgIIBlueDeep_3.438m32.0795_with_MgII.fits': 1,\n",
       "         'QSO_sim_z1.0956_MgIIBlueDeep_2.8046m31.9026_with_MgII.fits': 1,\n",
       "         'QSO_sim_z1.2806_MgIIBlueDeep_3.2495m31.2125_with_MgII.fits': 1,\n",
       "         'QSO_sim_z0.6613_MgIIBlueDeep_2.1142m32.01_with_MgII.fits': 1,\n",
       "         'QSO_sim_z1.1481_MgIIBlueDeep_1.9608m31.4096_with_MgII.fits': 1,\n",
       "         'QSO_sim_z0.644_MgIIBlueDeep_1.6307m31.3775_with_MgII.fits': 1,\n",
       "         'QSO_sim_z0.5683_MgIIBlueDeep_1.5775m31.2218_with_MgII.fits': 1,\n",
       "         'QSO_sim_z0.6968_MgIIBlueDeep_2.0782m30.9642_with_MgII.fits': 1,\n",
       "         'QSO_sim_z1.6257_MgIIBlueDeep_3.1353m30.4594_with_MgII.fits': 1,\n",
       "         'QSO_sim_z0.8091_MgIIBlueDeep_4.2538m31.0155_with_MgII.fits': 1,\n",
       "         'QSO_sim_z0.8216_MgIIBlueDeep_3.9951m30.2395_with_MgII.fits': 1,\n",
       "         'QSO_sim_z1.1214_MgIIBlueDeep_5.3092m29.8254_with_MgII.fits': 1,\n",
       "         'QSO_sim_z1.2239_MgIIBlueDeep_4.2852m29.9876_with_MgII.fits': 1,\n",
       "         'QSO_sim_z2.0469_MgIIBlueDeep_4.8534m29.8821_with_MgII.fits': 1,\n",
       "         'QSO_sim_z1.1015_MgIIBlueDeep_4.839m29.7266_with_MgII.fits': 1,\n",
       "         'QSO_sim_z2.8591_MgIIBlueDeep_4.4332m29.6011_with_MgII.fits': 1,\n",
       "         'QSO_sim_z2.6148_MgIIBlueDeep_1.4798m30.936_with_MgII.fits': 1,\n",
       "         'QSO_sim_z1.0745_MgIIBlueDeep_1.7838m30.6767_with_MgII.fits': 1,\n",
       "         'QSO_sim_z1.6957_MgIIBlueDeep_1.905m29.7_with_MgII.fits': 1,\n",
       "         'QSO_sim_z1.1588_MgIIBlueDeep_1.1775m30.1944_with_MgII.fits': 1,\n",
       "         'QSO_sim_z1.5662_MgIIBlueDeep_1.0971m29.9636_with_MgII.fits': 1,\n",
       "         'QSO_sim_z0.7927_MgIIBlueDeep_1.4872m28.7542_with_MgII.fits': 1,\n",
       "         'QSO_sim_z1.6191_MgIIBlueDeep_2.9063m29.549_with_MgII.fits': 1,\n",
       "         'QSO_sim_z1.5736_MgIIBlueDeep_3.1382m29.4549_with_MgII.fits': 1,\n",
       "         'QSO_sim_z1.3403_MgIIBlueDeep_3.5127m29.2624_with_MgII.fits': 1,\n",
       "         'QSO_sim_z1.8045_MgIIBlueDeep_3.8183m28.9225_with_MgII.fits': 1,\n",
       "         'QSO_sim_z1.3116_MgIIBlueDeep_3.9005m28.5946_with_MgII.fits': 1,\n",
       "         'QSO_sim_z1.8838_MgIIBlueDeep_3.7502m28.5102_with_MgII.fits': 1,\n",
       "         'QSO_sim_z2.3252_MgIIBlueDeep_3.0881m28.6084_with_MgII.fits': 1,\n",
       "         'QSO_sim_z1.8003_MgIIBlueDeep_2.8549m28.5928_with_MgII.fits': 1,\n",
       "         'QSO_sim_z1.6627_MgIIBlueDeep_2.4626m27.9905_with_MgII.fits': 1,\n",
       "         'QSO_sim_z1.1184_MgIIBlueDeep_3.0578m27.6351_with_MgII.fits': 1,\n",
       "         'QSO_sim_z1.5786_MgIIBlueDeep_5.7449m29.2415_with_MgII.fits': 1,\n",
       "         'QSO_sim_z1.8021_MgIIBlueDeep_5.4633m29.3937_with_MgII.fits': 1,\n",
       "         'QSO_sim_z0.5949_MgIIBlueDeep_6.2608m28.9227_with_MgII.fits': 1,\n",
       "         'QSO_sim_z0.7471_MgIIBlueDeep_6.7356m28.7708_with_MgII.fits': 1,\n",
       "         'QSO_sim_z0.8593_MgIIBlueDeep_6.2055m28.1023_with_MgII.fits': 1,\n",
       "         'QSO_sim_z2.5397_MgIIBlueDeep_5.3549m28.7499_with_MgII.fits': 1,\n",
       "         'QSO_sim_z1.3046_MgIIBlueDeep_5.053m28.0574_with_MgII.fits': 1,\n",
       "         'QSO_sim_z2.4162_MgIIBlueDeep_7.1269m28.2848_with_MgII.fits': 1,\n",
       "         'QSO_sim_z1.527_MgIIBlueDeep_7.8597m27.4037_with_MgII.fits': 1,\n",
       "         'QSO_sim_z1.083_MgIIBlueDeep_6.1663m27.4684_with_MgII.fits': 1,\n",
       "         'QSO_sim_z0.5505_MgIIBlueDeep_6.733m27.3574_with_MgII.fits': 1,\n",
       "         'QSO_sim_z1.26_MgIIBlueDeep_6.7206m27.0871_with_MgII.fits': 1,\n",
       "         'QSO_sim_z2.04_MgIIBlueDeep_6.1621m27.1374_with_MgII.fits': 1,\n",
       "         'QSO_sim_z1.651_MgIIBlueDeep_4.1926m27.7_with_MgII.fits': 1,\n",
       "         'QSO_sim_z0.6783_MgIIBlueDeep_4.3015m27.509_with_MgII.fits': 1,\n",
       "         'QSO_sim_z1.2228_MgIIBlueDeep_354.249m35.1989_with_MgII.fits': 1,\n",
       "         'QSO_sim_z1.4645_MgIIBlueDeep_353.8981m35.1014_with_MgII.fits': 1,\n",
       "         'QSO_sim_z1.382_MgIIBlueDeep_354.5332m34.4941_with_MgII.fits': 1,\n",
       "         'QSO_sim_z1.2621_MgIIBlueDeep_355.3744m34.4485_with_MgII.fits': 1,\n",
       "         'QSO_sim_z0.6996_MgIIBlueDeep_354.6965m34.1664_with_MgII.fits': 1,\n",
       "         'QSO_sim_z1.0255_MgIIBlueDeep_354.7756m33.8768_with_MgII.fits': 1,\n",
       "         'QSO_sim_z0.6953_MgIIBlueDeep_354.6589m33.693_with_MgII.fits': 1,\n",
       "         'QSO_sim_z1.3145_MgIIBlueDeep_354.7579m33.4894_with_MgII.fits': 1,\n",
       "         'QSO_sim_z2.6116_MgIIBlueDeep_355.582m33.3502_with_MgII.fits': 1,\n",
       "         'QSO_sim_z1.0951_MgIIBlueDeep_355.3702m33.2368_with_MgII.fits': 1,\n",
       "         'QSO_sim_z0.905_MgIIBlueDeep_356.4973m33.2696_with_MgII.fits': 1,\n",
       "         'QSO_sim_z0.604_MgIIBlueDeep_356.6563m33.3066_with_MgII.fits': 1,\n",
       "         'QSO_sim_z1.7007_MgIIBlueDeep_356.1096m32.8047_with_MgII.fits': 1,\n",
       "         'QSO_sim_z1.5556_MgIIBlueDeep_356.4839m32.4874_with_MgII.fits': 1,\n",
       "         'QSO_sim_z1.214_MgIIBlueDeep_354.8779m33.2607_with_MgII.fits': 1,\n",
       "         'QSO_sim_z2.4357_MgIIBlueDeep_355.3932m32.1802_with_MgII.fits': 1,\n",
       "         'QSO_sim_z1.7178_MgIIBlueDeep_355.9166m31.8724_with_MgII.fits': 1,\n",
       "         'QSO_sim_z1.0856_MgIIBlueDeep_355.823m31.6667_with_MgII.fits': 1,\n",
       "         'QSO_sim_z0.616_MgIIBlueDeep_352.6897m32.4958_with_MgII.fits': 1,\n",
       "         'QSO_sim_z2.5577_MgIIBlueDeep_354.533m32.3182_with_MgII.fits': 1,\n",
       "         'QSO_sim_z0.6235_MgIIBlueDeep_354.8089m32.3407_with_MgII.fits': 1,\n",
       "         'QSO_sim_z1.7099_MgIIBlueDeep_354.1672m31.8686_with_MgII.fits': 1,\n",
       "         'QSO_sim_z1.4109_MgIIBlueDeep_355.0745m32.0031_with_MgII.fits': 1,\n",
       "         'QSO_sim_z2.9207_MgIIBlueDeep_354.7181m31.5542_with_MgII.fits': 1,\n",
       "         'QSO_sim_z2.3028_MgIIBlueDeep_354.8262m31.3668_with_MgII.fits': 1,\n",
       "         'QSO_sim_z0.9482_MgIIBlueDeep_353.7064m31.5816_with_MgII.fits': 1,\n",
       "         'QSO_sim_z1.0328_MgIIBlueDeep_353.3263m31.1689_with_MgII.fits': 1,\n",
       "         'QSO_sim_z2.4365_MgIIBlueDeep_354.4523m31.2082_with_MgII.fits': 1,\n",
       "         'QSO_sim_z1.4152_MgIIBlueDeep_354.0697m30.4551_with_MgII.fits': 1,\n",
       "         'QSO_sim_z1.1124_MgIIBlueDeep_354.4265m30.2217_with_MgII.fits': 1,\n",
       "         'QSO_sim_z1.6264_MgIIBlueDeep_356.9928m32.5215_with_MgII.fits': 1,\n",
       "         'QSO_sim_z1.6354_MgIIBlueDeep_357.6788m32.2525_with_MgII.fits': 1,\n",
       "         'QSO_sim_z1.6471_MgIIBlueDeep_356.8745m32.386_with_MgII.fits': 1,\n",
       "         'QSO_sim_z1.1154_MgIIBlueDeep_357.7685m31.0219_with_MgII.fits': 1,\n",
       "         'QSO_sim_z0.866_MgIIBlueDeep_356.4053m31.7613_with_MgII.fits': 1,\n",
       "         'QSO_sim_z1.6514_MgIIBlueDeep_356.4604m31.6033_with_MgII.fits': 1,\n",
       "         'QSO_sim_z1.662_MgIIBlueDeep_356.3643m31.5017_with_MgII.fits': 1,\n",
       "         'QSO_sim_z2.0608_MgIIBlueDeep_356.3652m31.3117_with_MgII.fits': 1,\n",
       "         'QSO_sim_z1.6607_MgIIBlueDeep_356.9711m30.7521_with_MgII.fits': 1,\n",
       "         'QSO_sim_z0.8015_MgIIBlueDeep_358.8819m30.4724_with_MgII.fits': 1,\n",
       "         'QSO_sim_z0.9733_MgIIBlueDeep_358.973m30.012_with_MgII.fits': 1,\n",
       "         'QSO_sim_z1.0444_MgIIBlueDeep_358.969m29.8878_with_MgII.fits': 1,\n",
       "         'QSO_sim_z1.0687_MgIIBlueDeep_359.0369m29.7612_with_MgII.fits': 1,\n",
       "         'QSO_sim_z1.3489_MgIIBlueDeep_358.9866m29.7087_with_MgII.fits': 1,\n",
       "         'QSO_sim_z0.6578_MgIIBlueDeep_358.1421m29.6401_with_MgII.fits': 1,\n",
       "         'QSO_sim_z2.3696_MgIIBlueDeep_358.6817m29.6478_with_MgII.fits': 1,\n",
       "         'QSO_sim_z2.3651_MgIIBlueDeep_358.4183m29.4101_with_MgII.fits': 1,\n",
       "         'QSO_sim_z2.4047_MgIIBlueDeep_358.8404m29.0204_with_MgII.fits': 1,\n",
       "         'QSO_sim_z0.6211_MgIIBlueDeep_355.4697m30.7238_with_MgII.fits': 1,\n",
       "         'QSO_sim_z1.7583_MgIIBlueDeep_356.8553m29.8129_with_MgII.fits': 1,\n",
       "         'QSO_sim_z1.6973_MgIIBlueDeep_356.0244m29.9259_with_MgII.fits': 1,\n",
       "         'QSO_sim_z0.5575_MgIIBlueDeep_356.6698m29.7534_with_MgII.fits': 1,\n",
       "         'QSO_sim_z1.6013_MgIIBlueDeep_354.9251m30.2422_with_MgII.fits': 1,\n",
       "         'QSO_sim_z0.7965_MgIIBlueDeep_354.883m29.7995_with_MgII.fits': 1,\n",
       "         'QSO_sim_z0.74_MgIIBlueDeep_355.9013m28.9301_with_MgII.fits': 1,\n",
       "         'QSO_sim_z1.227_MgIIBlueDeep_357.0062m29.7526_with_MgII.fits': 1,\n",
       "         'QSO_sim_z1.5498_MgIIBlueDeep_356.7902m28.6731_with_MgII.fits': 1,\n",
       "         'QSO_sim_z1.0386_MgIIBlueDeep_356.2996m28.6775_with_MgII.fits': 1,\n",
       "         'QSO_sim_z2.2243_MgIIBlueDeep_356.9555m28.3999_with_MgII.fits': 1,\n",
       "         'QSO_sim_z1.6758_MgIIBlueDeep_357.2035m28.0696_with_MgII.fits': 1,\n",
       "         'QSO_sim_z0.9841_MgIIBlueDeep_356.614m27.9543_with_MgII.fits': 1,\n",
       "         'QSO_sim_z1.7218_MgIIBlueDeep_351.9211m32.1265_with_MgII.fits': 1,\n",
       "         'QSO_sim_z1.8228_MgIIBlueDeep_351.6506m30.2441_with_MgII.fits': 1,\n",
       "         'QSO_sim_z2.2253_MgIIBlueDeep_353.6999m30.1354_with_MgII.fits': 1,\n",
       "         'QSO_sim_z1.5125_MgIIBlueDeep_353.3694m30.1936_with_MgII.fits': 1,\n",
       "         'QSO_sim_z1.6096_MgIIBlueDeep_352.2112m30.1923_with_MgII.fits': 1,\n",
       "         'QSO_sim_z2.2401_MgIIBlueDeep_352.518m30.171_with_MgII.fits': 1,\n",
       "         'QSO_sim_z2.0014_MgIIBlueDeep_352.0931m30.1612_with_MgII.fits': 1,\n",
       "         'QSO_sim_z1.0148_MgIIBlueDeep_352.0908m29.5115_with_MgII.fits': 1,\n",
       "         'QSO_sim_z1.5047_MgIIBlueDeep_352.3415m29.4689_with_MgII.fits': 1,\n",
       "         'QSO_sim_z1.1232_MgIIBlueDeep_350.9962m29.9362_with_MgII.fits': 1,\n",
       "         'QSO_sim_z1.2138_MgIIBlueDeep_351.7048m29.514_with_MgII.fits': 1,\n",
       "         'QSO_sim_z0.6595_MgIIBlueDeep_352.224m28.7262_with_MgII.fits': 1,\n",
       "         'QSO_sim_z0.7788_MgIIBlueDeep_352.6574m28.6636_with_MgII.fits': 1,\n",
       "         'QSO_sim_z1.166_MgIIBlueDeep_352.7218m28.5223_with_MgII.fits': 1,\n",
       "         'QSO_sim_z1.3707_MgIIBlueDeep_352.1624m28.0724_with_MgII.fits': 1,\n",
       "         'QSO_sim_z2.005_MgIIBlueDeep_351.2363m28.9221_with_MgII.fits': 1,\n",
       "         'QSO_sim_z0.5778_MgIIBlueDeep_350.4775m28.3628_with_MgII.fits': 1,\n",
       "         'QSO_sim_z0.8551_MgIIBlueDeep_351.8669m28.3108_with_MgII.fits': 1,\n",
       "         'QSO_sim_z1.7877_MgIIBlueDeep_351.9051m28.271_with_MgII.fits': 1,\n",
       "         'QSO_sim_z1.5568_MgIIBlueDeep_354.343m29.4211_with_MgII.fits': 1,\n",
       "         'QSO_sim_z1.2899_MgIIBlueDeep_354.1624m29.3475_with_MgII.fits': 1,\n",
       "         'QSO_sim_z2.244_MgIIBlueDeep_354.4679m28.7544_with_MgII.fits': 1,\n",
       "         'QSO_sim_z1.3445_MgIIBlueDeep_353.3798m28.6724_with_MgII.fits': 1,\n",
       "         'QSO_sim_z1.3178_MgIIBlueDeep_355.9347m28.0022_with_MgII.fits': 1,\n",
       "         'QSO_sim_z1.7596_MgIIBlueDeep_356.4933m27.2283_with_MgII.fits': 1,\n",
       "         'QSO_sim_z0.599_MgIIBlueDeep_353.1465m28.1796_with_MgII.fits': 1,\n",
       "         'QSO_sim_z1.9094_MgIIBlueDeep_353.1262m28.1604_with_MgII.fits': 1,\n",
       "         'QSO_sim_z0.6913_MgIIBlueDeep_353.4183m27.8039_with_MgII.fits': 1,\n",
       "         'QSO_sim_z2.681_MgIIBlueDeep_352.8895m27.8116_with_MgII.fits': 1,\n",
       "         'QSO_sim_z1.9834_MgIIBlueDeep_352.6707m27.0849_with_MgII.fits': 1,\n",
       "         'QSO_sim_z2.4194_MgIIBlueDeep_352.1893m27.3114_with_MgII.fits': 1,\n",
       "         'QSO_sim_z2.631_MgIIBlueDeep_359.9288m29.7938_with_MgII.fits': 1,\n",
       "         'QSO_sim_z2.3588_MgIIBlueDeep_359.4596m29.1752_with_MgII.fits': 1,\n",
       "         'QSO_sim_z0.6023_MgIIBlueDeep_0.8753m28.8022_with_MgII.fits': 1,\n",
       "         'QSO_sim_z1.9623_MgIIBlueDeep_0.8451m28.6643_with_MgII.fits': 1,\n",
       "         'QSO_sim_z1.1852_MgIIBlueDeep_0.8481m28.1154_with_MgII.fits': 1,\n",
       "         'QSO_sim_z0.7282_MgIIBlueDeep_359.5707m28.8928_with_MgII.fits': 1,\n",
       "         'QSO_sim_z1.2593_MgIIBlueDeep_1.4254m28.549_with_MgII.fits': 1,\n",
       "         'QSO_sim_z1.0502_MgIIBlueDeep_0.8138m27.8659_with_MgII.fits': 1,\n",
       "         'QSO_sim_z1.1008_MgIIBlueDeep_0.2886m27.2277_with_MgII.fits': 1,\n",
       "         'QSO_sim_z1.9376_MgIIBlueDeep_0.6847m27.2324_with_MgII.fits': 1,\n",
       "         'QSO_sim_z1.9608_MgIIBlueDeep_358.4405m27.5811_with_MgII.fits': 1,\n",
       "         'QSO_sim_z1.4343_MgIIBlueDeep_359.4659m27.6875_with_MgII.fits': 1,\n",
       "         'QSO_sim_z1.028_MgIIBlueDeep_358.9055m27.3204_with_MgII.fits': 1,\n",
       "         'QSO_sim_z1.6807_MgIIBlueDeep_358.2961m27.3899_with_MgII.fits': 1,\n",
       "         'QSO_sim_z0.9463_MgIIBlueDeep_11.4414m29.7934_with_MgII.fits': 1,\n",
       "         'QSO_sim_z1.6536_MgIIBlueDeep_11.551m29.5194_with_MgII.fits': 1,\n",
       "         'QSO_sim_z2.2364_MgIIBlueDeep_11.3693m29.3437_with_MgII.fits': 1,\n",
       "         'QSO_sim_z1.1888_MgIIBlueDeep_11.1036m28.7995_with_MgII.fits': 1,\n",
       "         'QSO_sim_z2.2466_MgIIBlueDeep_12.0313m28.5688_with_MgII.fits': 1,\n",
       "         'QSO_sim_z0.8898_MgIIBlueDeep_12.1848m28.2943_with_MgII.fits': 1,\n",
       "         'QSO_sim_z2.0931_MgIIBlueDeep_10.7852m29.0152_with_MgII.fits': 1,\n",
       "         'QSO_sim_z0.6727_MgIIBlueDeep_10.9817m28.7972_with_MgII.fits': 1,\n",
       "         'QSO_sim_z2.1452_MgIIBlueDeep_11.0326m28.7193_with_MgII.fits': 1,\n",
       "         'QSO_sim_z1.5971_MgIIBlueDeep_11.6041m27.7551_with_MgII.fits': 1,\n",
       "         'QSO_sim_z0.7323_MgIIBlueDeep_11.2251m27.5653_with_MgII.fits': 1,\n",
       "         'QSO_sim_z2.2739_MgIIBlueDeep_12.8633m28.0761_with_MgII.fits': 1,\n",
       "         'QSO_sim_z0.8454_MgIIBlueDeep_12.805m27.8_with_MgII.fits': 1,\n",
       "         'QSO_sim_z2.1362_MgIIBlueDeep_12.5665m27.7211_with_MgII.fits': 1,\n",
       "         'QSO_sim_z1.24_MgIIBlueDeep_12.3711m27.6207_with_MgII.fits': 1,\n",
       "         'QSO_sim_z1.8217_MgIIBlueDeep_13.3124m27.8367_with_MgII.fits': 1,\n",
       "         'QSO_sim_z1.6011_MgIIBlueDeep_13.4161m27.2902_with_MgII.fits': 1,\n",
       "         'QSO_sim_z0.6782_MgIIBlueDeep_13.5171m27.1695_with_MgII.fits': 1,\n",
       "         'QSO_sim_z1.889_MgIIBlueDeep_11.3782m27.1996_with_MgII.fits': 1,\n",
       "         'QSO_sim_z1.0828_MgIIBlueDeep_9.7824m28.3895_with_MgII.fits': 1,\n",
       "         'QSO_sim_z2.4198_MgIIBlueDeep_10.6959m27.3498_with_MgII.fits': 1,\n",
       "         'QSO_sim_z1.0433_MgIIBlueDeep_8.8787m27.425_with_MgII.fits': 1,\n",
       "         'QSO_sim_z0.7125_MgIIBlueDeep_8.868m27.1848_with_MgII.fits': 1,\n",
       "         'QSO_sim_z1.7096_MgIIBlueDeep_348.1819m29.2518_with_MgII.fits': 1,\n",
       "         'QSO_sim_z1.7899_MgIIBlueDeep_348.748m29.1961_with_MgII.fits': 1,\n",
       "         'QSO_sim_z0.871_MgIIBlueDeep_349.298m28.7054_with_MgII.fits': 1,\n",
       "         'QSO_sim_z1.8315_MgIIBlueDeep_349.1849m28.5053_with_MgII.fits': 1,\n",
       "         'QSO_sim_z1.5625_MgIIBlueDeep_348.5099m27.626_with_MgII.fits': 1,\n",
       "         'QSO_sim_z0.896_MgIIBlueDeep_350.7978m27.4873_with_MgII.fits': 1,\n",
       "         'QSO_sim_z1.0966_MgIIBlueDeep_351.0604m27.2959_with_MgII.fits': 1,\n",
       "         'QSO_sim_z1.1828_MgIIBlueDeep_349.3186m27.3853_with_MgII.fits': 1,\n",
       "         'QSO_sim_z1.0929_MgIIBlueDeep_347.5243m27.7085_with_MgII.fits': 1,\n",
       "         'QSO_sim_z1.6662_MgIIBlueDeep_348.3811m27.5149_with_MgII.fits': 1,\n",
       "         'QSO_sim_z2.976_MgIIBlueDeep_348.1179m27.0723_with_MgII.fits': 1,\n",
       "         'QSO_sim_z1.8529_MgIIBlueDeep_346.7165m27.549_with_MgII.fits': 1,\n",
       "         'QSO_sim_z1.0631_MgIIBlueDeep_346.7175m27.19_with_MgII.fits': 1,\n",
       "         'QSO_sim_z2.7102_MgIIBlueDeep_183.8559m3.7909_with_MgII.fits': 1,\n",
       "         'QSO_sim_z1.7097_MgIIBlueDeep_181.8405m3.6658_with_MgII.fits': 1,\n",
       "         'QSO_sim_z1.5681_MgIIBlueDeep_182.1246m3.3871_with_MgII.fits': 1,\n",
       "         'QSO_sim_z0.6721_MgIIBlueDeep_182.9024m3.4512_with_MgII.fits': 1,\n",
       "         'QSO_sim_z2.1775_MgIIBlueDeep_183.3699m2.9383_with_MgII.fits': 1,\n",
       "         'QSO_sim_z1.0665_MgIIBlueDeep_177.4602m3.6317_with_MgII.fits': 1,\n",
       "         'QSO_sim_z1.4151_MgIIBlueDeep_176.6774m3.9472_with_MgII.fits': 1,\n",
       "         'QSO_sim_z0.5507_MgIIBlueDeep_176.5015m3.6189_with_MgII.fits': 1,\n",
       "         'QSO_sim_z1.0693_MgIIBlueDeep_176.0446m3.7602_with_MgII.fits': 1,\n",
       "         'QSO_sim_z0.78_MgIIBlueDeep_179.9478m3.8425_with_MgII.fits': 1,\n",
       "         'QSO_sim_z1.4345_MgIIBlueDeep_181.1307m3.5672_with_MgII.fits': 1,\n",
       "         'QSO_sim_z1.5999_MgIIBlueDeep_180.9746m3.5507_with_MgII.fits': 1,\n",
       "         'QSO_sim_z1.5787_MgIIBlueDeep_179.6724m3.3778_with_MgII.fits': 1,\n",
       "         'QSO_sim_z1.59_MgIIBlueDeep_181.8419m1.5868_with_MgII.fits': 1,\n",
       "         'QSO_sim_z1.7806_MgIIBlueDeep_180.8973m1.9037_with_MgII.fits': 1,\n",
       "         'QSO_sim_z1.6835_MgIIBlueDeep_181.3435m1.6669_with_MgII.fits': 1,\n",
       "         'QSO_sim_z1.8382_MgIIBlueDeep_181.2835m1.5735_with_MgII.fits': 1,\n",
       "         'QSO_sim_z1.9444_MgIIBlueDeep_178.6455m3.0101_with_MgII.fits': 1,\n",
       "         'QSO_sim_z1.7334_MgIIBlueDeep_179.3627m2.8768_with_MgII.fits': 1,\n",
       "         'QSO_sim_z1.4092_MgIIBlueDeep_177.6878m2.3334_with_MgII.fits': 1,\n",
       "         'QSO_sim_z0.8975_MgIIBlueDeep_178.6601m1.9403_with_MgII.fits': 1,\n",
       "         'QSO_sim_z1.2634_MgIIBlueDeep_178.999m1.9053_with_MgII.fits': 1,\n",
       "         'QSO_sim_z1.2576_MgIIBlueDeep_178.9651m1.5259_with_MgII.fits': 1,\n",
       "         'QSO_sim_z0.7641_MgIIBlueDeep_179.6568m1.8371_with_MgII.fits': 1,\n",
       "         'QSO_sim_z1.213_MgIIBlueDeep_179.9207m1.4523_with_MgII.fits': 1,\n",
       "         'QSO_sim_z1.9703_MgIIBlueDeep_178.9755m1.0614_with_MgII.fits': 1,\n",
       "         'QSO_sim_z1.1775_MgIIBlueDeep_179.92m0.5343_with_MgII.fits': 1,\n",
       "         'QSO_sim_z2.144_MgIIBlueDeep_203.9525m3.7453_with_MgII.fits': 1,\n",
       "         'QSO_sim_z1.181_MgIIBlueDeep_205.2942m2.7987_with_MgII.fits': 1,\n",
       "         'QSO_sim_z0.8264_MgIIBlueDeep_199.6848m3.8651_with_MgII.fits': 1,\n",
       "         'QSO_sim_z1.5281_MgIIBlueDeep_200.3465m3.9466_with_MgII.fits': 1,\n",
       "         'QSO_sim_z1.151_MgIIBlueDeep_199.3477m3.5736_with_MgII.fits': 1,\n",
       "         'QSO_sim_z1.7288_MgIIBlueDeep_198.9988m3.3146_with_MgII.fits': 1,\n",
       "         'QSO_sim_z0.6514_MgIIBlueDeep_199.2042m3.0792_with_MgII.fits': 1,\n",
       "         'QSO_sim_z2.2416_MgIIBlueDeep_202.5429m3.5919_with_MgII.fits': 1,\n",
       "         'QSO_sim_z1.4296_MgIIBlueDeep_201.8518m3.8647_with_MgII.fits': 1,\n",
       "         'QSO_sim_z0.5987_MgIIBlueDeep_202.4613m3.5216_with_MgII.fits': 1,\n",
       "         'QSO_sim_z0.7207_MgIIBlueDeep_204.3037m2.798_with_MgII.fits': 1,\n",
       "         'QSO_sim_z1.0297_MgIIBlueDeep_203.5672m2.0901_with_MgII.fits': 1,\n",
       "         'QSO_sim_z2.3113_MgIIBlueDeep_204.2186m1.6435_with_MgII.fits': 1,\n",
       "         'QSO_sim_z0.5557_MgIIBlueDeep_203.5868m1.7464_with_MgII.fits': 1,\n",
       "         'QSO_sim_z2.1368_MgIIBlueDeep_201.5632m3.066_with_MgII.fits': 1,\n",
       "         'QSO_sim_z0.9532_MgIIBlueDeep_200.5509m2.5498_with_MgII.fits': 1,\n",
       "         'QSO_sim_z1.7115_MgIIBlueDeep_200.7796m2.2971_with_MgII.fits': 1,\n",
       "         'QSO_sim_z0.8586_MgIIBlueDeep_200.7131m2.2326_with_MgII.fits': 1,\n",
       "         'QSO_sim_z2.4354_MgIIBlueDeep_200.1154m2.3368_with_MgII.fits': 1,\n",
       "         'QSO_sim_z0.9989_MgIIBlueDeep_201.1558m1.8259_with_MgII.fits': 1,\n",
       "         'QSO_sim_z1.2688_MgIIBlueDeep_202.6146m1.7009_with_MgII.fits': 1,\n",
       "         'QSO_sim_z2.4528_MgIIBlueDeep_203.5856m1.1291_with_MgII.fits': 1,\n",
       "         'QSO_sim_z0.5538_MgIIBlueDeep_201.3117m1.359_with_MgII.fits': 1,\n",
       "         'QSO_sim_z0.5561_MgIIBlueDeep_202.2944m0.3168_with_MgII.fits': 1,\n",
       "         'QSO_sim_z2.0086_MgIIBlueDeep_217.9852m3.7736_with_MgII.fits': 1,\n",
       "         'QSO_sim_z1.2981_MgIIBlueDeep_210.8654m3.775_with_MgII.fits': 1,\n",
       "         'QSO_sim_z1.5867_MgIIBlueDeep_210.2052m3.8812_with_MgII.fits': 1,\n",
       "         'QSO_sim_z0.7825_MgIIBlueDeep_210.3296m3.2631_with_MgII.fits': 1,\n",
       "         'QSO_sim_z2.2467_MgIIBlueDeep_214.0278m3.8885_with_MgII.fits': 1,\n",
       "         'QSO_sim_z2.2231_MgIIBlueDeep_213.7539m3.8703_with_MgII.fits': 1,\n",
       "         'QSO_sim_z0.7765_MgIIBlueDeep_214.2771m3.752_with_MgII.fits': 1,\n",
       "         'QSO_sim_z1.7421_MgIIBlueDeep_213.3814m3.4365_with_MgII.fits': 1,\n",
       "         'QSO_sim_z0.8153_MgIIBlueDeep_215.0013m3.4394_with_MgII.fits': 1,\n",
       "         'QSO_sim_z1.1387_MgIIBlueDeep_215.8975m2.7578_with_MgII.fits': 1,\n",
       "         'QSO_sim_z1.0083_MgIIBlueDeep_214.2436m2.4634_with_MgII.fits': 1,\n",
       "         'QSO_sim_z1.2676_MgIIBlueDeep_212.4846m2.7678_with_MgII.fits': 1,\n",
       "         'QSO_sim_z0.8408_MgIIBlueDeep_212.749m1.187_with_MgII.fits': 1,\n",
       "         'QSO_sim_z1.903_MgIIBlueDeep_218.7924m3.8979_with_MgII.fits': 1,\n",
       "         'QSO_sim_z0.8239_MgIIBlueDeep_220.5631m1.7934_with_MgII.fits': 1,\n",
       "         'QSO_sim_z1.7585_MgIIBlueDeep_220.9333m1.441_with_MgII.fits': 1,\n",
       "         'QSO_sim_z0.8503_MgIIBlueDeep_218.1034m2.9967_with_MgII.fits': 1,\n",
       "         'QSO_sim_z1.7114_MgIIBlueDeep_217.7723m1.6792_with_MgII.fits': 1,\n",
       "         'QSO_sim_z0.5712_MgIIBlueDeep_219.6396m1.2371_with_MgII.fits': 1,\n",
       "         'QSO_sim_z0.7075_MgIIBlueDeep_219.2598m1.0356_with_MgII.fits': 1,\n",
       "         'QSO_sim_z1.2637_MgIIBlueDeep_219.1878m0.8641_with_MgII.fits': 1,\n",
       "         'QSO_sim_z1.3247_MgIIBlueDeep_222.9476m1.4598_with_MgII.fits': 1,\n",
       "         'QSO_sim_z1.7997_MgIIBlueDeep_221.4981m1.2216_with_MgII.fits': 1,\n",
       "         'QSO_sim_z2.1694_MgIIBlueDeep_221.8228m1.4118_with_MgII.fits': 1,\n",
       "         'QSO_sim_z0.6996_MgIIBlueDeep_221.6932m0.5288_with_MgII.fits': 1,\n",
       "         'QSO_sim_z1.095_MgIIBlueDeep_223.9866m0.5614_with_MgII.fits': 1,\n",
       "         'QSO_sim_z1.4209_MgIIBlueDeep_223.7279m0.0873_with_MgII.fits': 1,\n",
       "         'QSO_sim_z2.5385_MgIIBlueDeep_223.3731p0.3993_with_MgII.fits': 1,\n",
       "         'QSO_sim_z1.0997_MgIIBlueDeep_223.4574p0.6228_with_MgII.fits': 1,\n",
       "         'QSO_sim_z2.5973_MgIIBlueDeep_220.842m0.168_with_MgII.fits': 1,\n",
       "         'QSO_sim_z2.2509_MgIIBlueDeep_221.312m0.3995_with_MgII.fits': 1,\n",
       "         'QSO_sim_z1.4535_MgIIBlueDeep_220.2384m0.1643_with_MgII.fits': 1,\n",
       "         'QSO_sim_z2.1264_MgIIBlueDeep_220.2016p0.658_with_MgII.fits': 1,\n",
       "         'QSO_sim_z0.6013_MgIIBlueDeep_220.5595p0.961_with_MgII.fits': 1,\n",
       "         'QSO_sim_z1.6459_MgIIBlueDeep_222.2843p0.1401_with_MgII.fits': 1,\n",
       "         'QSO_sim_z1.0812_MgIIBlueDeep_222.6527p0.6234_with_MgII.fits': 1,\n",
       "         'QSO_sim_z0.6725_MgIIBlueDeep_222.157p2.1078_with_MgII.fits': 1,\n",
       "         'QSO_sim_z1.6361_MgIIBlueDeep_216.1145m1.5821_with_MgII.fits': 1,\n",
       "         'QSO_sim_z0.8709_MgIIBlueDeep_216.678m1.4835_with_MgII.fits': 1,\n",
       "         'QSO_sim_z0.6057_MgIIBlueDeep_217.523m1.2227_with_MgII.fits': 1,\n",
       "         'QSO_sim_z0.8096_MgIIBlueDeep_217.3071m0.7381_with_MgII.fits': 1,\n",
       "         'QSO_sim_z2.1329_MgIIBlueDeep_216.2045m1.1477_with_MgII.fits': 1,\n",
       "         'QSO_sim_z2.0792_MgIIBlueDeep_215.7755m0.8596_with_MgII.fits': 1,\n",
       "         'QSO_sim_z1.6375_MgIIBlueDeep_217.8048m0.8773_with_MgII.fits': 1,\n",
       "         'QSO_sim_z1.5001_MgIIBlueDeep_215.2213p0.2473_with_MgII.fits': 1,\n",
       "         'QSO_sim_z1.7204_MgIIBlueDeep_214.8715p0.264_with_MgII.fits': 1,\n",
       "         'QSO_sim_z0.6325_MgIIBlueDeep_215.6092p0.7059_with_MgII.fits': 1,\n",
       "         'QSO_sim_z1.6652_MgIIBlueDeep_215.1315p0.7653_with_MgII.fits': 1,\n",
       "         'QSO_sim_z1.1292_MgIIBlueDeep_214.946p0.9848_with_MgII.fits': 1,\n",
       "         'QSO_sim_z1.1323_MgIIBlueDeep_217.3237p1.3497_with_MgII.fits': 1,\n",
       "         'QSO_sim_z1.603_MgIIBlueDeep_216.3321p1.3453_with_MgII.fits': 1,\n",
       "         'QSO_sim_z2.1631_MgIIBlueDeep_216.5517p1.2949_with_MgII.fits': 1,\n",
       "         'QSO_sim_z1.2388_MgIIBlueDeep_216.4528p2.1868_with_MgII.fits': 1,\n",
       "         'QSO_sim_z1.7982_MgIIBlueDeep_219.3663p0.8192_with_MgII.fits': 1,\n",
       "         'QSO_sim_z2.2819_MgIIBlueDeep_220.633p1.6263_with_MgII.fits': 1,\n",
       "         'QSO_sim_z1.162_MgIIBlueDeep_220.4379p2.6287_with_MgII.fits': 1,\n",
       "         'QSO_sim_z1.5361_MgIIBlueDeep_218.1274p1.4098_with_MgII.fits': 1,\n",
       "         'QSO_sim_z0.6331_MgIIBlueDeep_218.1933p1.7007_with_MgII.fits': 1,\n",
       "         'QSO_sim_z1.7371_MgIIBlueDeep_219.6748p3.6862_with_MgII.fits': 1,\n",
       "         'QSO_sim_z2.3079_MgIIBlueDeep_218.6095p3.8047_with_MgII.fits': 1,\n",
       "         'QSO_sim_z1.7794_MgIIBlueDeep_209.1262m3.7652_with_MgII.fits': 1,\n",
       "         'QSO_sim_z0.9378_MgIIBlueDeep_208.985m3.6291_with_MgII.fits': 1,\n",
       "         'QSO_sim_z0.9602_MgIIBlueDeep_207.4799m3.9162_with_MgII.fits': 1,\n",
       "         'QSO_sim_z1.5803_MgIIBlueDeep_207.7931m3.3716_with_MgII.fits': 1,\n",
       "         'QSO_sim_z1.9538_MgIIBlueDeep_207.1273m3.5393_with_MgII.fits': 1,\n",
       "         'QSO_sim_z1.3434_MgIIBlueDeep_209.5005m3.4758_with_MgII.fits': 1,\n",
       "         'QSO_sim_z0.6009_MgIIBlueDeep_209.3712m2.7939_with_MgII.fits': 1,\n",
       "         'QSO_sim_z0.5528_MgIIBlueDeep_207.9097m2.2358_with_MgII.fits': 1,\n",
       "         'QSO_sim_z0.693_MgIIBlueDeep_208.0051m1.8036_with_MgII.fits': 1,\n",
       "         'QSO_sim_z1.135_MgIIBlueDeep_207.4552m1.2289_with_MgII.fits': 1,\n",
       "         'QSO_sim_z1.4789_MgIIBlueDeep_207.6861m1.1498_with_MgII.fits': 1,\n",
       "         'QSO_sim_z1.7397_MgIIBlueDeep_206.8853m1.3345_with_MgII.fits': 1,\n",
       "         'QSO_sim_z1.8348_MgIIBlueDeep_211.505m1.412_with_MgII.fits': 1,\n",
       "         'QSO_sim_z1.9714_MgIIBlueDeep_209.6857m1.182_with_MgII.fits': 1,\n",
       "         'QSO_sim_z2.4636_MgIIBlueDeep_210.8475m0.1019_with_MgII.fits': 1,\n",
       "         'QSO_sim_z0.616_MgIIBlueDeep_211.9846m0.5537_with_MgII.fits': 1,\n",
       "         'QSO_sim_z1.6687_MgIIBlueDeep_212.564m0.2386_with_MgII.fits': 1,\n",
       "         'QSO_sim_z1.6366_MgIIBlueDeep_213.0778m0.54_with_MgII.fits': 1,\n",
       "         'QSO_sim_z2.3264_MgIIBlueDeep_208.996m0.4038_with_MgII.fits': 1,\n",
       "         'QSO_sim_z1.2515_MgIIBlueDeep_209.7904p0.3045_with_MgII.fits': 1,\n",
       "         'QSO_sim_z0.6616_MgIIBlueDeep_209.3603p0.2618_with_MgII.fits': 1,\n",
       "         'QSO_sim_z1.1692_MgIIBlueDeep_208.9592p0.6874_with_MgII.fits': 1,\n",
       "         'QSO_sim_z1.0843_MgIIBlueDeep_211.2336p0.665_with_MgII.fits': 1,\n",
       "         'QSO_sim_z1.6277_MgIIBlueDeep_210.3001p0.6331_with_MgII.fits': 1,\n",
       "         'QSO_sim_z2.0923_MgIIBlueDeep_205.3389m2.149_with_MgII.fits': 1,\n",
       "         'QSO_sim_z1.4353_MgIIBlueDeep_205.8113m1.9374_with_MgII.fits': 1,\n",
       "         'QSO_sim_z0.7643_MgIIBlueDeep_205.4677m1.5155_with_MgII.fits': 1,\n",
       "         'QSO_sim_z1.4565_MgIIBlueDeep_206.1139m0.7282_with_MgII.fits': 1,\n",
       "         'QSO_sim_z0.9118_MgIIBlueDeep_207.428m0.2487_with_MgII.fits': 1,\n",
       "         'QSO_sim_z1.1103_MgIIBlueDeep_207.172p0.1497_with_MgII.fits': 1,\n",
       "         'QSO_sim_z1.097_MgIIBlueDeep_206.1081m0.0156_with_MgII.fits': 1,\n",
       "         'QSO_sim_z1.1506_MgIIBlueDeep_204.7681p0.3727_with_MgII.fits': 1,\n",
       "         'QSO_sim_z0.9598_MgIIBlueDeep_203.1295m0.3884_with_MgII.fits': 1,\n",
       "         'QSO_sim_z2.3609_MgIIBlueDeep_203.0627p0.0479_with_MgII.fits': 1,\n",
       "         'QSO_sim_z1.982_MgIIBlueDeep_204.3807p0.5914_with_MgII.fits': 1,\n",
       "         'QSO_sim_z2.4556_MgIIBlueDeep_205.3123p1.1519_with_MgII.fits': 1,\n",
       "         'QSO_sim_z1.6271_MgIIBlueDeep_208.8993p0.7037_with_MgII.fits': 1,\n",
       "         'QSO_sim_z1.2159_MgIIBlueDeep_209.2097p1.0456_with_MgII.fits': 1,\n",
       "         'QSO_sim_z1.6953_MgIIBlueDeep_210.0358p1.9099_with_MgII.fits': 1,\n",
       "         'QSO_sim_z1.8019_MgIIBlueDeep_209.6726p1.7213_with_MgII.fits': 1,\n",
       "         'QSO_sim_z0.7309_MgIIBlueDeep_209.5192p2.3551_with_MgII.fits': 1,\n",
       "         'QSO_sim_z1.7601_MgIIBlueDeep_210.288p1.8723_with_MgII.fits': 1,\n",
       "         'QSO_sim_z1.3779_MgIIBlueDeep_210.6356p2.161_with_MgII.fits': 1,\n",
       "         'QSO_sim_z1.7662_MgIIBlueDeep_208.9124p2.7134_with_MgII.fits': 1,\n",
       "         'QSO_sim_z1.6478_MgIIBlueDeep_209.1818p3.2472_with_MgII.fits': 1,\n",
       "         'QSO_sim_z1.9316_MgIIBlueDeep_206.6525p1.3705_with_MgII.fits': 1,\n",
       "         'QSO_sim_z1.3869_MgIIBlueDeep_207.1143p3.0782_with_MgII.fits': 1,\n",
       "         'QSO_sim_z2.124_MgIIBlueDeep_206.3752p3.2023_with_MgII.fits': 1,\n",
       "         'QSO_sim_z1.7216_MgIIBlueDeep_214.466p1.2656_with_MgII.fits': 1,\n",
       "         'QSO_sim_z0.6625_MgIIBlueDeep_214.7087p2.4192_with_MgII.fits': 1,\n",
       "         'QSO_sim_z1.8956_MgIIBlueDeep_212.7515p2.0752_with_MgII.fits': 1,\n",
       "         'QSO_sim_z1.1471_MgIIBlueDeep_213.5592p2.5371_with_MgII.fits': 1,\n",
       "         'QSO_sim_z1.7162_MgIIBlueDeep_212.3308p2.9378_with_MgII.fits': 1,\n",
       "         'QSO_sim_z1.3542_MgIIBlueDeep_212.8061p3.0215_with_MgII.fits': 1,\n",
       "         'QSO_sim_z1.205_MgIIBlueDeep_212.4616p2.9389_with_MgII.fits': 1,\n",
       "         'QSO_sim_z1.6438_MgIIBlueDeep_213.0248p3.3891_with_MgII.fits': 1,\n",
       "         'QSO_sim_z0.987_MgIIBlueDeep_212.4213p3.5383_with_MgII.fits': 1,\n",
       "         'QSO_sim_z1.1815_MgIIBlueDeep_216.0813p3.7124_with_MgII.fits': 1,\n",
       "         'QSO_sim_z1.5819_MgIIBlueDeep_215.9916p3.8489_with_MgII.fits': 1,\n",
       "         'QSO_sim_z1.5245_MgIIBlueDeep_216.6656p3.7908_with_MgII.fits': 1,\n",
       "         'QSO_sim_z0.8101_MgIIBlueDeep_215.2662p3.8141_with_MgII.fits': 1,\n",
       "         'QSO_sim_z0.643_MgIIBlueDeep_210.5484p2.8017_with_MgII.fits': 1,\n",
       "         'QSO_sim_z1.6378_MgIIBlueDeep_194.0796m3.7271_with_MgII.fits': 1,\n",
       "         'QSO_sim_z2.2509_MgIIBlueDeep_194.0216m3.7641_with_MgII.fits': 1,\n",
       "         'QSO_sim_z1.7129_MgIIBlueDeep_195.248m3.4259_with_MgII.fits': 1,\n",
       "         'QSO_sim_z1.149_MgIIBlueDeep_193.3306m3.3928_with_MgII.fits': 1,\n",
       "         'QSO_sim_z1.7514_MgIIBlueDeep_188.4072m3.9122_with_MgII.fits': 1,\n",
       "         'QSO_sim_z1.8343_MgIIBlueDeep_189.0097m3.525_with_MgII.fits': 1,\n",
       "         'QSO_sim_z1.4764_MgIIBlueDeep_187.8782m3.3314_with_MgII.fits': 1,\n",
       "         'QSO_sim_z1.8632_MgIIBlueDeep_190.2588m3.4258_with_MgII.fits': 1,\n",
       "         'QSO_sim_z0.8169_MgIIBlueDeep_191.1476m3.4698_with_MgII.fits': 1,\n",
       "         'QSO_sim_z1.3273_MgIIBlueDeep_191.8252m2.1632_with_MgII.fits': 1,\n",
       "         'QSO_sim_z0.6232_MgIIBlueDeep_192.5492m1.2981_with_MgII.fits': 1,\n",
       "         'QSO_sim_z1.3152_MgIIBlueDeep_189.9284m2.9358_with_MgII.fits': 1,\n",
       "         'QSO_sim_z0.8646_MgIIBlueDeep_189.6608m3.0451_with_MgII.fits': 1,\n",
       "         'QSO_sim_z1.2412_MgIIBlueDeep_190.4889m2.7921_with_MgII.fits': 1,\n",
       "         'QSO_sim_z1.7114_MgIIBlueDeep_189.7417m2.4519_with_MgII.fits': 1,\n",
       "         'QSO_sim_z1.8621_MgIIBlueDeep_189.1797m2.0725_with_MgII.fits': 1,\n",
       "         'QSO_sim_z1.2034_MgIIBlueDeep_191.6975m1.7866_with_MgII.fits': 1,\n",
       "         'QSO_sim_z1.043_MgIIBlueDeep_191.4797m0.6265_with_MgII.fits': 1,\n",
       "         'QSO_sim_z2.0916_MgIIBlueDeep_191.3525m0.1606_with_MgII.fits': 1,\n",
       "         'QSO_sim_z0.5936_MgIIBlueDeep_196.4074m3.7112_with_MgII.fits': 1,\n",
       "         'QSO_sim_z1.722_MgIIBlueDeep_196.6299m3.165_with_MgII.fits': 1,\n",
       "         'QSO_sim_z1.1967_MgIIBlueDeep_194.7806m2.8787_with_MgII.fits': 1,\n",
       "         'QSO_sim_z1.2744_MgIIBlueDeep_195.4919m1.7034_with_MgII.fits': 1,\n",
       "         'QSO_sim_z1.7245_MgIIBlueDeep_195.4741m1.2364_with_MgII.fits': 1,\n",
       "         'QSO_sim_z0.8748_MgIIBlueDeep_196.873m2.3511_with_MgII.fits': 1,\n",
       "         'QSO_sim_z1.7592_MgIIBlueDeep_196.9328m1.8472_with_MgII.fits': 1,\n",
       "         'QSO_sim_z0.7224_MgIIBlueDeep_197.6556m0.7955_with_MgII.fits': 1,\n",
       "         'QSO_sim_z0.9501_MgIIBlueDeep_196.0223m1.6512_with_MgII.fits': 1,\n",
       "         'QSO_sim_z0.6915_MgIIBlueDeep_196.4968m1.2813_with_MgII.fits': 1,\n",
       "         'QSO_sim_z0.625_MgIIBlueDeep_200.1115m1.1314_with_MgII.fits': 1,\n",
       "         'QSO_sim_z1.1408_MgIIBlueDeep_200.65m0.8201_with_MgII.fits': 1,\n",
       "         'QSO_sim_z1.5853_MgIIBlueDeep_200.6764m0.6639_with_MgII.fits': 1,\n",
       "         'QSO_sim_z1.1563_MgIIBlueDeep_200.4505m0.588_with_MgII.fits': 1,\n",
       "         'QSO_sim_z1.4135_MgIIBlueDeep_201.8036p0.4039_with_MgII.fits': 1,\n",
       "         'QSO_sim_z1.187_MgIIBlueDeep_198.0093m0.3056_with_MgII.fits': 1,\n",
       "         'QSO_sim_z1.3179_MgIIBlueDeep_197.6448p0.0651_with_MgII.fits': 1,\n",
       "         'QSO_sim_z1.2838_MgIIBlueDeep_199.8117p0.4527_with_MgII.fits': 1,\n",
       "         'QSO_sim_z1.1095_MgIIBlueDeep_200.1026p1.4733_with_MgII.fits': 1,\n",
       "         'QSO_sim_z1.368_MgIIBlueDeep_198.7199p1.189_with_MgII.fits': 1,\n",
       "         'QSO_sim_z1.6355_MgIIBlueDeep_194.4857m0.7699_with_MgII.fits': 1,\n",
       "         'QSO_sim_z0.7183_MgIIBlueDeep_193.9596m0.3086_with_MgII.fits': 1,\n",
       "         'QSO_sim_z2.7001_MgIIBlueDeep_195.5909m0.7773_with_MgII.fits': 1,\n",
       "         'QSO_sim_z1.1463_MgIIBlueDeep_195.8669m0.8373_with_MgII.fits': 1,\n",
       "         'QSO_sim_z1.9148_MgIIBlueDeep_196.278p0.319_with_MgII.fits': 1,\n",
       "         'QSO_sim_z1.0568_MgIIBlueDeep_194.8858p0.0813_with_MgII.fits': 1,\n",
       "         'QSO_sim_z0.7282_MgIIBlueDeep_194.7754p0.3526_with_MgII.fits': 1,\n",
       "         'QSO_sim_z1.7531_MgIIBlueDeep_195.0833p0.4448_with_MgII.fits': 1,\n",
       "         'QSO_sim_z1.3681_MgIIBlueDeep_193.5361m0.3299_with_MgII.fits': 1,\n",
       "         'QSO_sim_z1.541_MgIIBlueDeep_193.5602p0.3296_with_MgII.fits': 1,\n",
       "         'QSO_sim_z1.7492_MgIIBlueDeep_193.3311p0.3674_with_MgII.fits': 1,\n",
       "         'QSO_sim_z1.152_MgIIBlueDeep_192.627p0.3333_with_MgII.fits': 1,\n",
       "         'QSO_sim_z0.9285_MgIIBlueDeep_194.8891p0.7202_with_MgII.fits': 1,\n",
       "         'QSO_sim_z1.8206_MgIIBlueDeep_194.4331p0.9593_with_MgII.fits': 1,\n",
       "         ...})"
      ]
     },
     "execution_count": 5,
     "metadata": {},
     "output_type": "execute_result"
    }
   ],
   "source": [
    "Counter(cat['TEMPLATE_with_MgII'])"
   ]
  },
  {
   "cell_type": "code",
   "execution_count": 25,
   "id": "95c1d58b",
   "metadata": {},
   "outputs": [
    {
     "data": {
      "text/plain": [
       "count    49780.000000\n",
       "mean         6.994111\n",
       "std         16.278156\n",
       "min          3.000080\n",
       "25%          3.507605\n",
       "50%          4.359508\n",
       "75%          6.353827\n",
       "max       1153.558651\n",
       "Name: SNR_blue_mean, dtype: float64"
      ]
     },
     "execution_count": 25,
     "metadata": {},
     "output_type": "execute_result"
    }
   ],
   "source": [
    "cat.SNR_blue_mean.describe()"
   ]
  },
  {
   "cell_type": "code",
   "execution_count": 26,
   "id": "515eb903",
   "metadata": {},
   "outputs": [
    {
     "data": {
      "text/plain": [
       "Index(['SWEEP_NAME', 'INDEX_SWEEP', 'BRICKNAME', 'OBJID', 'TYPE', 'RA', 'DEC',\n",
       "       'EBV', 'SN_MAX', 'PLXSIG', 'PMSIG', 'BAND_LEGACY', 'REFERENCE_BAND',\n",
       "       'COMBINATION_USE', 'CAL_MAG_BLUE', 'CAL_MAG_GREEN', 'CAL_MAG_RED',\n",
       "       'MAG', 'CAL_MAG_ERR_BLUE', 'CAL_MAG_ERR_GREEN', 'CAL_MAG_ERR_RED',\n",
       "       'MAG_ERR', 'MAG_Y', 'MAG_J', 'MAG_H', 'MAG_K', 'MAGERR_Y', 'MAGERR_J',\n",
       "       'MAGERR_H', 'MAGERR_K', 'MAG_W1', 'MAG_W2', 'MAGERR_W1', 'MAGERR_W2',\n",
       "       'P_QSO', 'REDSHIFT_ESTIMATE', 'Z1_QSO', 'Z2_QSO', 'P_QSO_Z', 'P_GALAXY',\n",
       "       'PHOTOZ_GALAXY', 'Z1_GALAXY', 'Z2_GALAXY', 'P_GALAXY_Z', 'P_STAR',\n",
       "       'RATIO', 'CLASS_SPEC', 'Z_SPEC', 'REDSHIFT_ERROR', 'REDSHIFT_REF', 'l',\n",
       "       'b', 'pm', 'PMRA', 'PMDEC', 'pmra_error', 'pmdec_error', 'Z_DESI',\n",
       "       'SPECTYPE_DESI', 'SUBSURVEY', 'EPOCH', 'RESOLUTION', 'CADENCE',\n",
       "       'TEMPLATE', 'EXTENT_FLAG', 'EXTENT_PARAMETER', 'EXTENT_INDEX',\n",
       "       'REDDENING', 'TEMPLATE_REDSHIFT', 'DATE_EARLIEST', 'DATE_LATEST',\n",
       "       'CLASSIFICATION', 'COMPLETENESS', 'PARALLAX', 'MAG_TYPE',\n",
       "       'CAL_MAG_ID_BLUE', 'CAL_MAG_ID_GREEN', 'CAL_MAG_ID_RED', 'RULESET',\n",
       "       'NAME', 'fobs', 'SNR_mean', 'SNR_blue_mean', 'SNR_green_mean',\n",
       "       'SNR_red_mean', 'golden', 'has_MgII', 'z_MgII', 'EW_MgII_2796',\n",
       "       'EW_MgII_2803', 'TEMPLATE_with_MgII', 'MgII_2796_center_pos',\n",
       "       'MgII_2796_center_wl', 'SNR_mean_mgii', 'SNR_blue_mean_mgii',\n",
       "       'SNR_green_mean_mgii', 'SNR_red_mean_mgii'],\n",
       "      dtype='object')"
      ]
     },
     "execution_count": 26,
     "metadata": {},
     "output_type": "execute_result"
    }
   ],
   "source": [
    "cat.columns"
   ]
  },
  {
   "cell_type": "code",
   "execution_count": 27,
   "id": "76d72b1a",
   "metadata": {},
   "outputs": [
    {
     "data": {
      "text/plain": [
       "count    49780.000000\n",
       "mean         0.171631\n",
       "std          0.307750\n",
       "min          0.001301\n",
       "25%          0.006562\n",
       "50%          0.043230\n",
       "75%          0.206284\n",
       "max          4.997958\n",
       "Name: EW_MgII_2796, dtype: float64"
      ]
     },
     "execution_count": 27,
     "metadata": {},
     "output_type": "execute_result"
    }
   ],
   "source": [
    "cat.loc[cat.EW_MgII_2796 >= 0.0].EW_MgII_2796.describe()"
   ]
  },
  {
   "cell_type": "code",
   "execution_count": 28,
   "id": "22ef1f6b",
   "metadata": {},
   "outputs": [
    {
     "data": {
      "text/plain": [
       "count    49780.000000\n",
       "mean         0.171631\n",
       "std          0.307750\n",
       "min          0.001301\n",
       "25%          0.006562\n",
       "50%          0.043230\n",
       "75%          0.206284\n",
       "max          4.997958\n",
       "Name: EW_MgII_2796, dtype: float64"
      ]
     },
     "execution_count": 28,
     "metadata": {},
     "output_type": "execute_result"
    }
   ],
   "source": [
    "cat.EW_MgII_2796.describe()"
   ]
  },
  {
   "cell_type": "code",
   "execution_count": 29,
   "id": "e73f48e0",
   "metadata": {},
   "outputs": [
    {
     "data": {
      "image/png": "[encoded data removed]",
      "text/plain": [
       "<Figure size 640x480 with 1 Axes>"
      ]
     },
     "metadata": {},
     "output_type": "display_data"
    }
   ],
   "source": [
    "cat.loc[cat.EW_MgII_2796 >= 0.0].EW_MgII_2796.hist(bins=50)\n",
    "plt.yscale('log')\n",
    "\n",
    "plt.xlabel('EW MgII 2796 [ang]')\n",
    "plt.ylabel('Counts')\n",
    "\n",
    "plt.tight_layout()\n",
    "plt.savefig('./../plots/EW2796_distr_non_golden_SNR_3.png', dpi=400)\n",
    "\n",
    "plt.show()"
   ]
  },
  {
   "cell_type": "code",
   "execution_count": 61,
   "id": "43774de6",
   "metadata": {},
   "outputs": [
    {
     "data": {
      "text/plain": [
       "<Axes: >"
      ]
     },
     "execution_count": 61,
     "metadata": {},
     "output_type": "execute_result"
    },
    {
     "data": {
      "image/png": "[encoded data removed]",
      "text/plain": [
       "<Figure size 640x480 with 1 Axes>"
      ]
     },
     "metadata": {},
     "output_type": "display_data"
    }
   ],
   "source": [
    "cat.fobs.hist()"
   ]
  },
  {
   "cell_type": "code",
   "execution_count": 10,
   "id": "43bddb21",
   "metadata": {},
   "outputs": [
    {
     "data": {
      "text/plain": [
       "count    4.978000e+04\n",
       "mean     6.281522e+00\n",
       "std      1.679913e+01\n",
       "min      2.096562e-14\n",
       "25%      2.412985e+00\n",
       "50%      3.773337e+00\n",
       "75%      6.157650e+00\n",
       "max      1.637571e+03\n",
       "Name: SNR_blue_mean_mgii, dtype: float64"
      ]
     },
     "execution_count": 10,
     "metadata": {},
     "output_type": "execute_result"
    }
   ],
   "source": [
    "cat.SNR_blue_mean_mgii.describe()"
   ]
  },
  {
   "cell_type": "code",
   "execution_count": null,
   "id": "fb100fdf",
   "metadata": {},
   "outputs": [
    {
     "data": {
      "image/png": "[encoded data removed]",
      "text/plain": [
       "<Figure size 640x480 with 1 Axes>"
      ]
     },
     "metadata": {},
     "output_type": "display_data"
    }
   ],
   "source": [
    "cat.SNR_blue_mean_mgii.hist(bins=50)\n",
    "plt.yscale('log')"
   ]
  },
  {
   "cell_type": "code",
   "execution_count": 66,
   "id": "a9469b86",
   "metadata": {},
   "outputs": [
    {
     "data": {
      "image/png": "[encoded data removed]",
      "text/plain": [
       "<Figure size 640x480 with 1 Axes>"
      ]
     },
     "metadata": {},
     "output_type": "display_data"
    }
   ],
   "source": [
    "cat.SNR_blue_mean.hist()\n",
    "plt.yscale('log')"
   ]
  },
  {
   "cell_type": "code",
   "execution_count": 30,
   "id": "0b788802",
   "metadata": {},
   "outputs": [
    {
     "data": {
      "text/html": [
       "<div>\n",
       "<style scoped>\n",
       "    .dataframe tbody tr th:only-of-type {\n",
       "        vertical-align: middle;\n",
       "    }\n",
       "\n",
       "    .dataframe tbody tr th {\n",
       "        vertical-align: top;\n",
       "    }\n",
       "\n",
       "    .dataframe thead th {\n",
       "        text-align: right;\n",
       "    }\n",
       "</style>\n",
       "<table border=\"1\" class=\"dataframe\">\n",
       "  <thead>\n",
       "    <tr style=\"text-align: right;\">\n",
       "      <th></th>\n",
       "      <th>SWEEP_NAME</th>\n",
       "      <th>INDEX_SWEEP</th>\n",
       "      <th>BRICKNAME</th>\n",
       "      <th>OBJID</th>\n",
       "      <th>TYPE</th>\n",
       "      <th>RA</th>\n",
       "      <th>DEC</th>\n",
       "      <th>EBV</th>\n",
       "      <th>SN_MAX</th>\n",
       "      <th>PLXSIG</th>\n",
       "      <th>...</th>\n",
       "      <th>z_MgII</th>\n",
       "      <th>EW_MgII_2796</th>\n",
       "      <th>EW_MgII_2803</th>\n",
       "      <th>TEMPLATE_with_MgII</th>\n",
       "      <th>MgII_2796_center_pos</th>\n",
       "      <th>MgII_2796_center_wl</th>\n",
       "      <th>SNR_mean_mgii</th>\n",
       "      <th>SNR_blue_mean_mgii</th>\n",
       "      <th>SNR_green_mean_mgii</th>\n",
       "      <th>SNR_red_mean_mgii</th>\n",
       "    </tr>\n",
       "  </thead>\n",
       "  <tbody>\n",
       "    <tr>\n",
       "      <th>45334</th>\n",
       "      <td>-</td>\n",
       "      <td>-999.0</td>\n",
       "      <td>-</td>\n",
       "      <td>-999.0</td>\n",
       "      <td>-</td>\n",
       "      <td>215.654104</td>\n",
       "      <td>-13.175513</td>\n",
       "      <td>-999.0</td>\n",
       "      <td>-999.0</td>\n",
       "      <td>-999.0</td>\n",
       "      <td>...</td>\n",
       "      <td>0.448708</td>\n",
       "      <td>2.20992</td>\n",
       "      <td>2.062595</td>\n",
       "      <td>QSO_sim_z1.4777_MgIIGreen_215.6541m13.1755_wit...</td>\n",
       "      <td>4253</td>\n",
       "      <td>4266.316233</td>\n",
       "      <td>4.031243</td>\n",
       "      <td>2.936415</td>\n",
       "      <td>4.164971</td>\n",
       "      <td>4.974535</td>\n",
       "    </tr>\n",
       "  </tbody>\n",
       "</table>\n",
       "<p>1 rows × 97 columns</p>\n",
       "</div>"
      ],
      "text/plain": [
       "      SWEEP_NAME  INDEX_SWEEP BRICKNAME  OBJID TYPE          RA        DEC  \\\n",
       "45334          -       -999.0         - -999.0    -  215.654104 -13.175513   \n",
       "\n",
       "         EBV  SN_MAX  PLXSIG  ...    z_MgII EW_MgII_2796 EW_MgII_2803  \\\n",
       "45334 -999.0  -999.0  -999.0  ...  0.448708      2.20992     2.062595   \n",
       "\n",
       "                                      TEMPLATE_with_MgII  \\\n",
       "45334  QSO_sim_z1.4777_MgIIGreen_215.6541m13.1755_wit...   \n",
       "\n",
       "       MgII_2796_center_pos  MgII_2796_center_wl  SNR_mean_mgii  \\\n",
       "45334                  4253          4266.316233       4.031243   \n",
       "\n",
       "       SNR_blue_mean_mgii  SNR_green_mean_mgii  SNR_red_mean_mgii  \n",
       "45334            2.936415             4.164971           4.974535  \n",
       "\n",
       "[1 rows x 97 columns]"
      ]
     },
     "execution_count": 30,
     "metadata": {},
     "output_type": "execute_result"
    }
   ],
   "source": [
    "random_mgii = cat.loc[cat.EW_MgII_2796 >= 2.0].sample(1, random_state=4)\n",
    "random_mgii"
   ]
  },
  {
   "cell_type": "code",
   "execution_count": 80,
   "id": "f72cff59",
   "metadata": {},
   "outputs": [],
   "source": [
    "random_mgii_high_snr = cat.loc[(cat.SNR_blue_mean >= 10.0) & (cat.EW_MgII_2796 >= 2.0)].sample(1, random_state=4)\n",
    "\n",
    "template_filename_ok_high_snr = random_mgii_high_snr.TEMPLATE_with_MgII.values[0]\n",
    "random_mgii_high_snr_temp = Table.read(f'/data2/home2/nguerrav/QSO_simpaqs/QSOs_full_cat_with_absorbers_in_blue_arm/{template_filename_ok_high_snr}')\n",
    "\n",
    "random_mgii_high_snr['specname'] = random_mgii_high_snr.apply(lambda x: spec_name(x, with_mgii=True), axis=1)\n",
    "\n",
    "random_mgii_high_snr_spec_L1 = Table.read(f'/data2/home2/nguerrav/QSO_simpaqs/QSOs_full_cat_with_absorbers_in_blue_arm_ETC_L1_output_with_fobs_etc_grid/{random_mgii_high_snr['specname'].values[0]}')"
   ]
  },
  {
   "cell_type": "code",
   "execution_count": 33,
   "id": "7be24b80",
   "metadata": {},
   "outputs": [],
   "source": [
    "template_filename_ok = random_mgii.TEMPLATE_with_MgII.values[0]\n",
    "random_mgii_temp = Table.read(f'/data2/home2/nguerrav/QSO_simpaqs/QSOs_full_cat_with_absorbers_in_blue_arm/{template_filename_ok}')"
   ]
  },
  {
   "cell_type": "code",
   "execution_count": 40,
   "id": "2f570748",
   "metadata": {},
   "outputs": [
    {
     "name": "stdout",
     "output_type": "stream",
     "text": [
      "QSO_sim_ETC_z1.4777_mag18.91_MgIIGreen_215.6541m13.1755_LJ1_MgII.fits\n"
     ]
    }
   ],
   "source": [
    "random_mgii['specname'] = random_mgii.apply(lambda x: spec_name(x, with_mgii=True), axis=1)\n",
    "print(random_mgii['specname'].values[0])"
   ]
  },
  {
   "cell_type": "code",
   "execution_count": null,
   "id": "4ff24fa0",
   "metadata": {},
   "outputs": [],
   "source": [
    "# random_ok_spec = Table.read(f'/data2/home2/nguerrav/QSO_simpaqs/QSOs_full_cat_ETC_L1_output_with_fobs_etc_grid/{random_mgii['specname'].values[0]}')\n",
    "random_mgii_spec_L1 = Table.read(f'/data2/home2/nguerrav/QSO_simpaqs/QSOs_full_cat_with_absorbers_in_blue_arm_ETC_L1_output_with_fobs_etc_grid/{random_mgii['specname'].values[0]}')"
   ]
  },
  {
   "cell_type": "code",
   "execution_count": 78,
   "id": "4e18d78e",
   "metadata": {},
   "outputs": [
    {
     "data": {
      "text/html": [
       "<div>\n",
       "<style scoped>\n",
       "    .dataframe tbody tr th:only-of-type {\n",
       "        vertical-align: middle;\n",
       "    }\n",
       "\n",
       "    .dataframe tbody tr th {\n",
       "        vertical-align: top;\n",
       "    }\n",
       "\n",
       "    .dataframe thead th {\n",
       "        text-align: right;\n",
       "    }\n",
       "</style>\n",
       "<table border=\"1\" class=\"dataframe\">\n",
       "  <thead>\n",
       "    <tr style=\"text-align: right;\">\n",
       "      <th></th>\n",
       "      <th>fobs</th>\n",
       "      <th>MAG</th>\n",
       "      <th>REDSHIFT_ESTIMATE</th>\n",
       "      <th>SNR_blue_mean</th>\n",
       "      <th>EW_MgII_2796</th>\n",
       "      <th>MgII_2796_center_wl</th>\n",
       "    </tr>\n",
       "  </thead>\n",
       "  <tbody>\n",
       "    <tr>\n",
       "      <th>45334</th>\n",
       "      <td>0.01</td>\n",
       "      <td>18.907784</td>\n",
       "      <td>1.47768</td>\n",
       "      <td>3.414401</td>\n",
       "      <td>2.20992</td>\n",
       "      <td>4266.316233</td>\n",
       "    </tr>\n",
       "  </tbody>\n",
       "</table>\n",
       "</div>"
      ],
      "text/plain": [
       "       fobs        MAG  REDSHIFT_ESTIMATE  SNR_blue_mean  EW_MgII_2796  \\\n",
       "45334  0.01  18.907784            1.47768       3.414401       2.20992   \n",
       "\n",
       "       MgII_2796_center_wl  \n",
       "45334          4266.316233  "
      ]
     },
     "execution_count": 78,
     "metadata": {},
     "output_type": "execute_result"
    }
   ],
   "source": [
    "random_mgii[['fobs', 'MAG', 'REDSHIFT_ESTIMATE', 'SNR_blue_mean', 'EW_MgII_2796', 'MgII_2796_center_wl']]"
   ]
  },
  {
   "cell_type": "code",
   "execution_count": 89,
   "id": "8d355232",
   "metadata": {},
   "outputs": [
    {
     "data": {
      "image/png": "[encoded data removed]",
      "text/plain": [
       "<Figure size 1000x600 with 1 Axes>"
      ]
     },
     "metadata": {},
     "output_type": "display_data"
    }
   ],
   "source": [
    "plt.figure(figsize=(10, 6))\n",
    "\n",
    "plt.plot(random_mgii_spec_L1['WAVE'], random_mgii_spec_L1['FLUX'], alpha=0.7, label='L1, rebinned')\n",
    "plt.plot(random_mgii_temp['LAMBDA'], random_mgii_temp['FLUX_DENSITY'], lw=2, label='template')\n",
    "\n",
    "plt.title('mag=18.91, fobs=0.01, z=1.477, SNR_blue_mean=3.4, EW 2796=2.2ang')\n",
    "\n",
    "plt.legend()\n",
    "\n",
    "plt.xlim(4000, 4100)\n",
    "\n",
    "plt.savefig('./../QSO_template_and_noisy_SNR_3.png', dpi=400)\n",
    "\n",
    "plt.show()"
   ]
  },
  {
   "cell_type": "code",
   "execution_count": 73,
   "id": "638c29db",
   "metadata": {},
   "outputs": [
    {
     "data": {
      "text/plain": [
       "Index(['SWEEP_NAME', 'INDEX_SWEEP', 'BRICKNAME', 'OBJID', 'TYPE', 'RA', 'DEC',\n",
       "       'EBV', 'SN_MAX', 'PLXSIG', 'PMSIG', 'BAND_LEGACY', 'REFERENCE_BAND',\n",
       "       'COMBINATION_USE', 'CAL_MAG_BLUE', 'CAL_MAG_GREEN', 'CAL_MAG_RED',\n",
       "       'MAG', 'CAL_MAG_ERR_BLUE', 'CAL_MAG_ERR_GREEN', 'CAL_MAG_ERR_RED',\n",
       "       'MAG_ERR', 'MAG_Y', 'MAG_J', 'MAG_H', 'MAG_K', 'MAGERR_Y', 'MAGERR_J',\n",
       "       'MAGERR_H', 'MAGERR_K', 'MAG_W1', 'MAG_W2', 'MAGERR_W1', 'MAGERR_W2',\n",
       "       'P_QSO', 'REDSHIFT_ESTIMATE', 'Z1_QSO', 'Z2_QSO', 'P_QSO_Z', 'P_GALAXY',\n",
       "       'PHOTOZ_GALAXY', 'Z1_GALAXY', 'Z2_GALAXY', 'P_GALAXY_Z', 'P_STAR',\n",
       "       'RATIO', 'CLASS_SPEC', 'Z_SPEC', 'REDSHIFT_ERROR', 'REDSHIFT_REF', 'l',\n",
       "       'b', 'pm', 'PMRA', 'PMDEC', 'pmra_error', 'pmdec_error', 'Z_DESI',\n",
       "       'SPECTYPE_DESI', 'SUBSURVEY', 'EPOCH', 'RESOLUTION', 'CADENCE',\n",
       "       'TEMPLATE', 'EXTENT_FLAG', 'EXTENT_PARAMETER', 'EXTENT_INDEX',\n",
       "       'REDDENING', 'TEMPLATE_REDSHIFT', 'DATE_EARLIEST', 'DATE_LATEST',\n",
       "       'CLASSIFICATION', 'COMPLETENESS', 'PARALLAX', 'MAG_TYPE',\n",
       "       'CAL_MAG_ID_BLUE', 'CAL_MAG_ID_GREEN', 'CAL_MAG_ID_RED', 'RULESET',\n",
       "       'NAME', 'fobs', 'SNR_mean', 'SNR_blue_mean', 'SNR_green_mean',\n",
       "       'SNR_red_mean', 'golden', 'has_MgII', 'z_MgII', 'EW_MgII_2796',\n",
       "       'EW_MgII_2803', 'TEMPLATE_with_MgII', 'MgII_2796_center_pos',\n",
       "       'MgII_2796_center_wl', 'SNR_mean_mgii', 'SNR_blue_mean_mgii',\n",
       "       'SNR_green_mean_mgii', 'SNR_red_mean_mgii', 'specname'],\n",
       "      dtype='object')"
      ]
     },
     "execution_count": 73,
     "metadata": {},
     "output_type": "execute_result"
    }
   ],
   "source": [
    "random_mgii_high_snr.columns"
   ]
  },
  {
   "cell_type": "code",
   "execution_count": 81,
   "id": "5c42e9b0",
   "metadata": {},
   "outputs": [
    {
     "data": {
      "text/html": [
       "<div>\n",
       "<style scoped>\n",
       "    .dataframe tbody tr th:only-of-type {\n",
       "        vertical-align: middle;\n",
       "    }\n",
       "\n",
       "    .dataframe tbody tr th {\n",
       "        vertical-align: top;\n",
       "    }\n",
       "\n",
       "    .dataframe thead th {\n",
       "        text-align: right;\n",
       "    }\n",
       "</style>\n",
       "<table border=\"1\" class=\"dataframe\">\n",
       "  <thead>\n",
       "    <tr style=\"text-align: right;\">\n",
       "      <th></th>\n",
       "      <th>fobs</th>\n",
       "      <th>MAG</th>\n",
       "      <th>REDSHIFT_ESTIMATE</th>\n",
       "      <th>SNR_blue_mean</th>\n",
       "      <th>MgII_2796_center_wl</th>\n",
       "      <th>EW_MgII_2796</th>\n",
       "    </tr>\n",
       "  </thead>\n",
       "  <tbody>\n",
       "    <tr>\n",
       "      <th>33631</th>\n",
       "      <td>1.826697</td>\n",
       "      <td>17.062351</td>\n",
       "      <td>1.273682</td>\n",
       "      <td>11.619422</td>\n",
       "      <td>4257.675018</td>\n",
       "      <td>2.115411</td>\n",
       "    </tr>\n",
       "  </tbody>\n",
       "</table>\n",
       "</div>"
      ],
      "text/plain": [
       "           fobs        MAG  REDSHIFT_ESTIMATE  SNR_blue_mean  \\\n",
       "33631  1.826697  17.062351           1.273682      11.619422   \n",
       "\n",
       "       MgII_2796_center_wl  EW_MgII_2796  \n",
       "33631          4257.675018      2.115411  "
      ]
     },
     "execution_count": 81,
     "metadata": {},
     "output_type": "execute_result"
    }
   ],
   "source": [
    "random_mgii_high_snr[['fobs', 'MAG', 'REDSHIFT_ESTIMATE', 'SNR_blue_mean', 'MgII_2796_center_wl', 'EW_MgII_2796']]"
   ]
  },
  {
   "cell_type": "code",
   "execution_count": 87,
   "id": "9fcb24d8",
   "metadata": {},
   "outputs": [
    {
     "data": {
      "image/png": "[encoded data removed]",
      "text/plain": [
       "<Figure size 1000x600 with 1 Axes>"
      ]
     },
     "metadata": {},
     "output_type": "display_data"
    }
   ],
   "source": [
    "plt.figure(figsize=(10, 6))\n",
    "\n",
    "plt.plot(random_mgii_high_snr_temp['LAMBDA'], random_mgii_high_snr_temp['FLUX_DENSITY'], lw=2, label='template')\n",
    "plt.plot(random_mgii_high_snr_spec_L1['WAVE'], random_mgii_high_snr_spec_L1['FLUX'], alpha=0.7, label='L1, rebinned')\n",
    "\n",
    "plt.title('mag=17.06, fobs=1.83, z=1.27, SNR_blue_mean=11.62, EW 2796=2.12ang')\n",
    "\n",
    "plt.legend()\n",
    "\n",
    "plt.xlim(3800, 4400)\n",
    "\n",
    "plt.savefig('./../QSO_template_and_noisy_SNR_11.png', dpi=400)\n",
    "\n",
    "plt.show()"
   ]
  },
  {
   "cell_type": "code",
   "execution_count": null,
   "id": "146962aa",
   "metadata": {},
   "outputs": [],
   "source": []
  },
  {
   "cell_type": "code",
   "execution_count": null,
   "id": "0bbe7da9",
   "metadata": {},
   "outputs": [],
   "source": []
  },
  {
   "cell_type": "markdown",
   "id": "6333a383",
   "metadata": {},
   "source": [
    "#### random without MgII"
   ]
  },
  {
   "cell_type": "code",
   "execution_count": null,
   "id": "20aef014",
   "metadata": {},
   "outputs": [],
   "source": [
    "random_ok = golden.loc[golden.SNR_mean > 3.0].sample(1, random_state=1)"
   ]
  },
  {
   "cell_type": "code",
   "execution_count": null,
   "id": "8dd6da4d",
   "metadata": {},
   "outputs": [],
   "source": [
    "random_neg_snr = cat.loc[(cat.SNR_mean < 0.0) & (cat['fobs']>= 5.0) & (cat['MAG'] <= 20.0)].sample(1, random_state=1)"
   ]
  },
  {
   "cell_type": "code",
   "execution_count": 67,
   "id": "3072b224",
   "metadata": {},
   "outputs": [
    {
     "name": "stdout",
     "output_type": "stream",
     "text": [
      "QSO_sim_ETC_z2.839_mag19.54_MgIIBlueDeep_193.9183m2.0742_LJ1.fits\n"
     ]
    }
   ],
   "source": [
    "# random_neg_snr_spec = spec_name(random_neg_snr)\n",
    "random_neg_snr['specname'] = random_neg_snr.apply(lambda x: spec_name(x), axis=1)\n",
    "print(random_neg_snr['specname'].values[0])"
   ]
  },
  {
   "cell_type": "code",
   "execution_count": 76,
   "id": "faa59d97",
   "metadata": {},
   "outputs": [
    {
     "name": "stdout",
     "output_type": "stream",
     "text": [
      "QSO_sim_ETC_z0.9282_mag18.76_MgIIBlueWide_85.6563m72.8589_LJ1.fits\n"
     ]
    }
   ],
   "source": [
    "random_ok['specname'] = random_ok.apply(lambda x: spec_name(x), axis=1)\n",
    "print(random_ok['specname'].values[0])"
   ]
  },
  {
   "cell_type": "code",
   "execution_count": 68,
   "id": "6bd2fb8c",
   "metadata": {},
   "outputs": [
    {
     "data": {
      "text/html": [
       "<div>\n",
       "<style scoped>\n",
       "    .dataframe tbody tr th:only-of-type {\n",
       "        vertical-align: middle;\n",
       "    }\n",
       "\n",
       "    .dataframe tbody tr th {\n",
       "        vertical-align: top;\n",
       "    }\n",
       "\n",
       "    .dataframe thead th {\n",
       "        text-align: right;\n",
       "    }\n",
       "</style>\n",
       "<table border=\"1\" class=\"dataframe\">\n",
       "  <thead>\n",
       "    <tr style=\"text-align: right;\">\n",
       "      <th></th>\n",
       "      <th>fobs</th>\n",
       "      <th>MAG</th>\n",
       "      <th>REDSHIFT_ESTIMATE</th>\n",
       "    </tr>\n",
       "  </thead>\n",
       "  <tbody>\n",
       "    <tr>\n",
       "      <th>7003</th>\n",
       "      <td>6.080699</td>\n",
       "      <td>19.543695</td>\n",
       "      <td>2.838961</td>\n",
       "    </tr>\n",
       "  </tbody>\n",
       "</table>\n",
       "</div>"
      ],
      "text/plain": [
       "          fobs        MAG  REDSHIFT_ESTIMATE\n",
       "7003  6.080699  19.543695           2.838961"
      ]
     },
     "execution_count": 68,
     "metadata": {},
     "output_type": "execute_result"
    }
   ],
   "source": [
    "random_neg_snr[['fobs', 'MAG', 'REDSHIFT_ESTIMATE']]"
   ]
  },
  {
   "cell_type": "code",
   "execution_count": 77,
   "id": "d16a8f91",
   "metadata": {},
   "outputs": [
    {
     "data": {
      "text/html": [
       "<div>\n",
       "<style scoped>\n",
       "    .dataframe tbody tr th:only-of-type {\n",
       "        vertical-align: middle;\n",
       "    }\n",
       "\n",
       "    .dataframe tbody tr th {\n",
       "        vertical-align: top;\n",
       "    }\n",
       "\n",
       "    .dataframe thead th {\n",
       "        text-align: right;\n",
       "    }\n",
       "</style>\n",
       "<table border=\"1\" class=\"dataframe\">\n",
       "  <thead>\n",
       "    <tr style=\"text-align: right;\">\n",
       "      <th></th>\n",
       "      <th>fobs</th>\n",
       "      <th>MAG</th>\n",
       "      <th>REDSHIFT_ESTIMATE</th>\n",
       "    </tr>\n",
       "  </thead>\n",
       "  <tbody>\n",
       "    <tr>\n",
       "      <th>14253</th>\n",
       "      <td>14.137356</td>\n",
       "      <td>18.755318</td>\n",
       "      <td>0.928191</td>\n",
       "    </tr>\n",
       "  </tbody>\n",
       "</table>\n",
       "</div>"
      ],
      "text/plain": [
       "            fobs        MAG  REDSHIFT_ESTIMATE\n",
       "14253  14.137356  18.755318           0.928191"
      ]
     },
     "execution_count": 77,
     "metadata": {},
     "output_type": "execute_result"
    }
   ],
   "source": [
    "random_ok[['fobs', 'MAG', 'REDSHIFT_ESTIMATE']]"
   ]
  },
  {
   "cell_type": "code",
   "execution_count": 78,
   "id": "dd4754d0",
   "metadata": {},
   "outputs": [],
   "source": [
    "template_filename_ok = random_ok.TEMPLATE.values[0]\n",
    "random_ok_temp = Table.read(f'/data2/home2/nguerrav/QSO_simpaqs/QSOs_full_cat/{template_filename_ok}')"
   ]
  },
  {
   "cell_type": "code",
   "execution_count": 80,
   "id": "f4dacdba",
   "metadata": {},
   "outputs": [],
   "source": [
    "random_ok_spec = Table.read(f'/data2/home2/nguerrav/QSO_simpaqs/QSOs_full_cat_ETC_L1_output_with_fobs_etc_grid/{random_ok['specname'].values[0]}')\n",
    "random_ok_spec_L1 = Table.read(f'/data2/home2/nguerrav/QSO_simpaqs/QSOs_full_cat_ETC_L1_output_with_fobs/{random_ok['specname'].values[0]}')"
   ]
  },
  {
   "cell_type": "code",
   "execution_count": 69,
   "id": "5dc1f7a7",
   "metadata": {},
   "outputs": [],
   "source": [
    "template_filename = random_neg_snr.TEMPLATE.values[0]\n",
    "random_neg_snr_temp = Table.read(f'/data2/home2/nguerrav/QSO_simpaqs/QSOs_full_cat/{template_filename}')"
   ]
  },
  {
   "cell_type": "code",
   "execution_count": 70,
   "id": "30eb8c55",
   "metadata": {},
   "outputs": [],
   "source": [
    "random_neg_snr_spec = Table.read(f'/data2/home2/nguerrav/QSO_simpaqs/QSOs_full_cat_ETC_L1_output_with_fobs_etc_grid/{random_neg_snr['specname'].values[0]}')\n",
    "random_neg_snr_spec_L1 = Table.read(f'/data2/home2/nguerrav/QSO_simpaqs/QSOs_full_cat_ETC_L1_output_with_fobs/{random_neg_snr['specname'].values[0]}')"
   ]
  },
  {
   "cell_type": "code",
   "execution_count": 71,
   "id": "3b7195bf",
   "metadata": {},
   "outputs": [
    {
     "data": {
      "text/html": [
       "<div><i>Table length=1</i>\n",
       "<table id=\"table139918594470208\" class=\"table-striped table-bordered table-condensed\">\n",
       "<thead><tr><th>WAVE</th><th>FLUX</th><th>ERR_FLUX</th><th>QUAL</th><th>FLUX_NOSS</th><th>ERR_FLUX_NOSS</th></tr></thead>\n",
       "<thead><tr><th>Angstrom</th><th>erg / (Angstrom s cm2)</th><th>erg / (Angstrom s cm2)</th><th></th><th>erg / (Angstrom s cm2)</th><th>erg / (Angstrom s cm2)</th></tr></thead>\n",
       "<thead><tr><th>float32[33775]</th><th>float32[33775]</th><th>float32[33775]</th><th>int32[33775]</th><th>float32[33775]</th><th>float32[33775]</th></tr></thead>\n",
       "<tr><td>3926.10 .. 6789.90</td><td>-8.56618e-31 ..  -8.04014e-33</td><td>-- .. --</td><td>0 .. 0</td><td>4.02940e-17 ..   3.02749e-17</td><td>-- .. --</td></tr>\n",
       "</table></div>"
      ],
      "text/plain": [
       "<Table length=1>\n",
       "       WAVE                     FLUX              ...     ERR_FLUX_NOSS     \n",
       "     Angstrom          erg / (Angstrom s cm2)     ... erg / (Angstrom s cm2)\n",
       "  float32[33775]           float32[33775]         ...     float32[33775]    \n",
       "------------------ ------------------------------ ... ----------------------\n",
       "3926.10 .. 6789.90  -8.56618e-31 ..  -8.04014e-33 ...               -- .. --"
      ]
     },
     "execution_count": 71,
     "metadata": {},
     "output_type": "execute_result"
    }
   ],
   "source": [
    "random_neg_snr_spec_L1"
   ]
  },
  {
   "cell_type": "code",
   "execution_count": 72,
   "id": "2dfbe622",
   "metadata": {},
   "outputs": [
    {
     "data": {
      "text/html": [
       "&lt;Column name=&apos;FLUX&apos; dtype=&apos;float32&apos; shape=(33775,) unit=&apos;erg / (Angstrom s cm2)&apos; format=&apos;{:13.5e}&apos; length=1&gt;\n",
       "<table>\n",
       "<tr><td>-8.56618e-31 ..  -8.04014e-33</td></tr>\n",
       "</table>"
      ],
      "text/plain": [
       "<Column name='FLUX' dtype='float32' shape=(33775,) unit='erg / (Angstrom s cm2)' format='{:13.5e}' length=1>\n",
       " -8.56618e-31 ..  -8.04014e-33"
      ]
     },
     "execution_count": 72,
     "metadata": {},
     "output_type": "execute_result"
    }
   ],
   "source": [
    "random_neg_snr_spec_L1['FLUX']"
   ]
  },
  {
   "cell_type": "code",
   "execution_count": 83,
   "id": "ccb551a3",
   "metadata": {},
   "outputs": [
    {
     "data": {
      "image/png": "[encoded data removed]",
      "text/plain": [
       "<Figure size 640x480 with 1 Axes>"
      ]
     },
     "metadata": {},
     "output_type": "display_data"
    }
   ],
   "source": [
    "plt.plot(random_ok_temp['LAMBDA'], random_ok_temp['FLUX_DENSITY'], label='temp')\n",
    "plt.plot(random_ok_spec_L1['WAVE'][0], random_ok_spec_L1['FLUX'][0], label='L1')\n",
    "plt.legend()\n",
    "plt.xlim(3900, 6800)\n",
    "plt.show()"
   ]
  },
  {
   "cell_type": "code",
   "execution_count": 82,
   "id": "5cebd0fc",
   "metadata": {},
   "outputs": [
    {
     "data": {
      "image/png": "[encoded data removed]",
      "text/plain": [
       "<Figure size 640x480 with 1 Axes>"
      ]
     },
     "metadata": {},
     "output_type": "display_data"
    }
   ],
   "source": [
    "plt.plot(random_neg_snr_temp['LAMBDA'], random_neg_snr_temp['FLUX_DENSITY'], label='temp')\n",
    "# plt.plot(random_neg_snr_spec_L1['WAVE'][0], random_neg_snr_spec_L1['FLUX'][0], label='L1')\n",
    "plt.legend()\n",
    "plt.show()"
   ]
  },
  {
   "cell_type": "code",
   "execution_count": 57,
   "id": "aab2c99a",
   "metadata": {},
   "outputs": [
    {
     "data": {
      "text/plain": [
       "(6000.0, 6800.0)"
      ]
     },
     "execution_count": 57,
     "metadata": {},
     "output_type": "execute_result"
    },
    {
     "data": {
      "image/png": "[encoded data removed]",
      "text/plain": [
       "<Figure size 640x480 with 1 Axes>"
      ]
     },
     "metadata": {},
     "output_type": "display_data"
    }
   ],
   "source": [
    "plt.plot(random_neg_snr_spec_L1['WAVE'][0], random_neg_snr_spec_L1['FLUX'][0])\n",
    "plt.ylim(-0.1e-28, 0.1e-28)\n",
    "plt.xlim(6000, 6800)"
   ]
  },
  {
   "cell_type": "code",
   "execution_count": 46,
   "id": "018c450f",
   "metadata": {},
   "outputs": [
    {
     "data": {
      "text/plain": [
       "[<matplotlib.lines.Line2D at 0x7f41597e39e0>]"
      ]
     },
     "execution_count": 46,
     "metadata": {},
     "output_type": "execute_result"
    },
    {
     "data": {
      "image/png": "[encoded data removed]",
      "text/plain": [
       "<Figure size 640x480 with 1 Axes>"
      ]
     },
     "metadata": {},
     "output_type": "display_data"
    }
   ],
   "source": [
    "plt.plot(random_neg_snr_spec['WAVE'], random_neg_snr_spec['FLUX'])"
   ]
  },
  {
   "cell_type": "code",
   "execution_count": null,
   "id": "6edf7e99",
   "metadata": {},
   "outputs": [],
   "source": []
  }
 ],
 "metadata": {
  "kernelspec": {
   "display_name": "etc_4fs",
   "language": "python",
   "name": "python3"
  },
  "language_info": {
   "codemirror_mode": {
    "name": "ipython",
    "version": 3
   },
   "file_extension": ".py",
   "mimetype": "text/x-python",
   "name": "python",
   "nbconvert_exporter": "python",
   "pygments_lexer": "ipython3",
   "version": "3.12.9"
  }
 },
 "nbformat": 4,
 "nbformat_minor": 5
}
