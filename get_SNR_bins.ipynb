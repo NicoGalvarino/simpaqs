{
 "cells": [
  {
   "cell_type": "code",
   "execution_count": 1,
   "id": "6a78ac5f",
   "metadata": {},
   "outputs": [],
   "source": [
    "import pandas as pd\n",
    "import numpy as np\n",
    "from collections import Counter\n",
    "from astropy.table import QTable, Table\n",
    "import astropy.units as u\n",
    "\n",
    "import matplotlib.pyplot as plt\n",
    "import seaborn as sns\n",
    "sns.set_theme()\n",
    "\n",
    "from qmostetc import SEDTemplate, QMostObservatory, Filter, L1DXU\n",
    "import os"
   ]
  },
  {
   "cell_type": "code",
   "execution_count": 2,
   "id": "5292ce04",
   "metadata": {},
   "outputs": [],
   "source": [
    "col_format_all_S17 = {\n",
    "    'NAME':pd.StringDtype(),\n",
    "    'RA':np.float64, 'DEC':np.float64,\n",
    "    'PMRA':np.float32, 'PMDEC':np.float32,\n",
    "    'EPOCH':np.float32, 'RESOLUTION':np.int16,\n",
    "    'SUBSURVEY':pd.StringDtype(),\n",
    "    'TEMPLATE':pd.StringDtype(), \n",
    "    'RULESET':pd.StringDtype(),\n",
    "    'EXTENT_FLAG':np.int32,\n",
    "    'EXTENT_PARAMETER':np.float32,'EXTENT_INDEX':np.float32,\n",
    "    'MAG_TYPE':pd.StringDtype(),\n",
    "    'MAG':np.float32, 'MAG_ERR':np.float32,\n",
    "    'DATE_EARLIEST':np.float64, 'DATE_LATEST':np.float64,\n",
    "    'CADENCE':np.int64,\n",
    "    'REDDENING':np.float32,\n",
    "    'REDSHIFT_ESTIMATE':np.float32,\n",
    "    'REDSHIFT_ERROR':np.float32,\n",
    "    'CAL_MAG_ID_BLUE':pd.StringDtype(),\n",
    "    'CAL_MAG_ID_GREEN':pd.StringDtype(),\n",
    "    'CAL_MAG_ID_RED':pd.StringDtype(),\n",
    "    'CAL_MAG_ERR_BLUE':np.float32,\n",
    "    'CAL_MAG_ERR_GREEN':np.float32,\n",
    "    'CAL_MAG_ERR_RED':np.float32,\n",
    "    'CAL_MAG_BLUE':np.float32,\n",
    "    'CAL_MAG_GREEN':np.float32,\n",
    "    'CAL_MAG_RED':np.float32,\n",
    "    'CLASSIFICATION':pd.StringDtype(),\n",
    "    'CLASS_SPEC':pd.StringDtype(),\n",
    "    'COMPLETENESS':np.float32,\n",
    "    'PARALLAX':np.float32,\n",
    "    'SWEEP_NAME':pd.StringDtype(), \n",
    "    'BRICKNAME':pd.StringDtype(), \n",
    "    'TYPE':pd.StringDtype(), \n",
    "    'BAND_LEGACY':pd.StringDtype(), \n",
    "    'REFERENCE_BAND':pd.StringDtype(), \n",
    "    'COMBINATION_USE':pd.StringDtype(), \n",
    "    'REDSHIFT_REF':pd.StringDtype(), \n",
    "    'EBV':np.float64, \n",
    "    'PLXSIG': np.float64, \n",
    "    'PMSIG': np.float64, \n",
    "    'SN_MAX': np.float64, \n",
    "    'MAG_G': np.float32, \n",
    "    'MAGERR_G': np.float32, \n",
    "    'MAG_R': np.float32, \n",
    "    'MAGERR_R': np.float32, \n",
    "    'MAG_I': np.float32, \n",
    "    'MAGERR_I': np.float32, \n",
    "    'MAG_Z': np.float32, \n",
    "    'MAGERR_Z': np.float32, \n",
    "    'MAG_Y': np.float32, \n",
    "    'MAGERR_Y': np.float32, \n",
    "    'MAG_J': np.float32, \n",
    "    'MAGERR_J': np.float32, \n",
    "    'MAG_H': np.float32, \n",
    "    'MAGERR_H': np.float32, \n",
    "    'MAG_K': np.float32, \n",
    "    'MAGERR_K': np.float32, \n",
    "    'MAG_W1': np.float32, \n",
    "    'MAGERR_W1': np.float32, \n",
    "    'MAG_W2': np.float32, \n",
    "    'MAGERR_W2': np.float32, \n",
    "    'SPECTYPE_DESI': pd.StringDtype()\n",
    "    }\n",
    "\n",
    "col_units = {\n",
    "    \"RA\": \"deg\", \"DEC\": \"deg\", \"PMRA\": \"mas/yr\", \"PMDEC\": \"mas/yr\",\n",
    "    \"EPOCH\": \"yr\", \"MAG\": \"mag\", \"MAG_ERR\": \"mag\", \"EXTENT_PARAMETER\": \"arcsec\",\n",
    "    \"DATE_EARLIEST\": \"d\", \"DATE_LATEST\": \"d\", \"REDDENING\": \"mag\",\n",
    "    \"CAL_MAG_BLUE\": \"mag\", \"CAL_MAG_GREEN\": \"mag\", \"CAL_MAG_RED\": \"mag\",\n",
    "    \"CAL_MAG_ERR_BLUE\": \"mag\", \"CAL_MAG_ERR_GREEN\": \"mag\", \"CAL_MAG_ERR_RED\": \"mag\",\n",
    "    \"PARALLAX\": \"mas\",\n",
    "}"
   ]
  },
  {
   "cell_type": "code",
   "execution_count": 3,
   "id": "153e4331",
   "metadata": {},
   "outputs": [],
   "source": [
    "def cols_format_dict(format_dict, dataframe):\n",
    "    matching_columns = {}\n",
    "    \n",
    "    for col in dataframe.columns:\n",
    "        if col in format_dict:\n",
    "            matching_columns[col] = format_dict[col]\n",
    "    \n",
    "    return matching_columns\n",
    "\n",
    "def format_pd_for_fits(df):\n",
    "    \n",
    "    df_copy = df.copy()\n",
    "    \n",
    "    for col_name in df_copy.columns:  # object to string\n",
    "\n",
    "        col_values = df_copy[col_name].values\n",
    "\n",
    "        if col_values.dtype == 'object':\n",
    "            df_copy[col_name] = df_copy[col_name].astype(pd.StringDtype())\n",
    "\n",
    "    format_cols = cols_format_dict(col_format_all_S17, df_copy)\n",
    "    df_copy = df_copy.astype(format_cols)\n",
    "\n",
    "    for col_name in df_copy.columns:  # fill empty cells\n",
    "\n",
    "        col_series = df_copy[col_name].values\n",
    "\n",
    "        if pd.api.types.is_string_dtype(df_copy[col_name]) or isinstance(col_series.dtype, pd.StringDtype):\n",
    "            df_copy[col_name] = df_copy[col_name].fillna('-')\n",
    "        else:\n",
    "            if col_name in ['MAG_Z', 'MAG', 'MAGERR_Z', 'MAG_ERR', 'MAG_G', 'CAL_MAG_BLUE', \n",
    "                            'MAGERR_G', 'CAL_MAG_ERR_BLUE', 'MAG_R', 'CAL_MAG_GREEN', 'MAGERR_R', 'CAL_MAG_ERR_GREEN', \n",
    "                            'MAG_I', 'CAL_MAG_RED', 'MAGERR_I', 'CAL_MAG_ERR_RED']:\n",
    "                df_copy[col_name] = df_copy[col_name].fillna(1.0)\n",
    "            else:\n",
    "                df_copy[col_name] = df_copy[col_name].fillna(-999)\n",
    "    \n",
    "    df_copy.reset_index(drop=True, inplace=True)\n",
    "    return df_copy\n",
    "\n",
    "def save_to_fits(df, filepath, meta=None):\n",
    "\n",
    "    df_for_fits = format_pd_for_fits(df)\n",
    "    \n",
    "    t = Table()\n",
    "\n",
    "    format_cols = cols_format_dict(col_format_all_S17, df_for_fits)\n",
    "    for col_name in df_for_fits.columns:\n",
    "        if col_name in format_cols.keys():\n",
    "            col_data = df_for_fits[col_name].astype(col_format_all_S17[col_name])\n",
    "            col_data = col_data.values\n",
    "        else:\n",
    "            col_data = df_for_fits[col_name].values\n",
    "\n",
    "        if hasattr(col_data, 'values'):\n",
    "            t[col_name] = col_data.values\n",
    "        else:\n",
    "            t[col_name] = [x for x in col_data]\n",
    "            \n",
    "    if meta:\n",
    "        t.meta.update(meta)\n",
    "\n",
    "    t.write(filepath, format='fits', overwrite=True)\n",
    "\n",
    "def pandas_from_fits(filepath):\n",
    "    t = Table.read(filepath, format='fits')\n",
    "    \n",
    "    t = t.to_pandas()\n",
    "\n",
    "    format_cols = cols_format_dict(col_format_all_S17, t)\n",
    "    t = t.astype(format_cols)\n",
    "\n",
    "    return t"
   ]
  },
  {
   "cell_type": "markdown",
   "id": "3133e582",
   "metadata": {},
   "source": [
    "# SNR bins"
   ]
  },
  {
   "cell_type": "code",
   "execution_count": null,
   "id": "5e554c84",
   "metadata": {},
   "outputs": [],
   "source": [
    "z = 1.5"
   ]
  },
  {
   "cell_type": "code",
   "execution_count": null,
   "id": "b21dd834",
   "metadata": {},
   "outputs": [],
   "source": [
    "from simulate_quasars_no_abs import simulate_quasars"
   ]
  },
  {
   "cell_type": "code",
   "execution_count": 27,
   "id": "d117e1a9",
   "metadata": {},
   "outputs": [
    {
     "name": "stdout",
     "output_type": "stream",
     "text": [
      "Using 1 provided redshifts\n",
      "Creating quasar models:\n"
     ]
    },
    {
     "name": "stderr",
     "output_type": "stream",
     "text": [
      "100%|██████████| 1/1 [00:00<00:00, 274.48it/s]\n"
     ]
    },
    {
     "data": {
      "text/html": [
       "<div><i>Table length=1</i>\n",
       "<table id=\"table5948348160\" class=\"table-striped table-bordered table-condensed\">\n",
       "<thead><tr><th>ID</th><th>REDSHIFT</th><th>absMag</th><th>smcDustEBV</th><th>LOG_MBH</th><th>LOG_REDD</th><th>NAME</th></tr></thead>\n",
       "<thead><tr><th>str24</th><th>float32</th><th>float32</th><th>float32</th><th>float64</th><th>float64</th><th>str11</th></tr></thead>\n",
       "<tr><td>QSO_sim_z1.5_QSO_for_SNR</td><td>1.5</td><td>-23.061964</td><td>0.062106147</td><td>8.141895142387893</td><td>-0.8032895437592349</td><td>QSO_for_SNR</td></tr>\n",
       "</table></div>"
      ],
      "text/plain": [
       "<Table length=1>\n",
       "           ID            REDSHIFT   absMag   ...       LOG_REDD          NAME   \n",
       "         str24           float32   float32   ...       float64          str11   \n",
       "------------------------ -------- ---------- ... ------------------- -----------\n",
       "QSO_sim_z1.5_QSO_for_SNR      1.5 -23.061964 ... -0.8032895437592349 QSO_for_SNR"
      ]
     },
     "execution_count": 27,
     "metadata": {},
     "output_type": "execute_result"
    }
   ],
   "source": [
    "simulate_quasars(1, [z], ['QSO_for_SNR'], output_dir='./../SNR/QSO_model')"
   ]
  },
  {
   "cell_type": "code",
   "execution_count": 28,
   "id": "2cc288f1",
   "metadata": {},
   "outputs": [],
   "source": [
    "moon = 'gray'\n",
    "texp = 47 * u.min"
   ]
  },
  {
   "cell_type": "code",
   "execution_count": 29,
   "id": "1765d534",
   "metadata": {},
   "outputs": [],
   "source": [
    "mags = [15.0, 17.0, 19.0, 20.5, 21.5]\n",
    "fobs = [2., 3., 5., 10., 20., 40.]"
   ]
  },
  {
   "cell_type": "code",
   "execution_count": 40,
   "id": "8257ce62",
   "metadata": {},
   "outputs": [],
   "source": [
    "def process_quasar(mag_value, t_exp, fobs, target_name='QSO_z_1_5_for_SNR', z=1.5, mag_type_str='DECAM_z_AB', \n",
    "                    output_dir='./../SNR/ETC_output', \n",
    "                    template_path='./../SNR/QSO_model/', template_name='QSO_sim_z1.5_QSO_for_SNR.fits', \n",
    "                    airmass=1.2,  # 1.0 - 1.5\n",
    "                    seeing=0.8,  # 0.4 - 1.5\n",
    "                    moon='gray',\n",
    "                    CR_rate=1.67e-7, #l1_type='joined', \n",
    "                    prog_id='4MOST-ETC'):\n",
    "\n",
    "    spectrograph = 'hrs'\n",
    "    qmost = QMostObservatory(spectrograph)\n",
    "\n",
    "    alt = np.arccos(1. / airmass) * 180 / np.pi * u.deg\n",
    "    obs = qmost(alt, seeing*u.arcsec, moon)\n",
    "\n",
    "        # ruleset_name = row['RULESET']\n",
    "        # target_name = row['NAME']\n",
    "        # ruleset = rulesets[ruleset_name]\n",
    "        # etc = ruleset.etc(alt, seeing*u.arcsec, moon)\n",
    "    template_fname = os.path.join(template_path, template_name)\n",
    "    SED = SEDTemplate(template_fname)\n",
    "\n",
    "        # Add the target spectrum from the template with a magnitude\n",
    "    # mag_type_str = row['MAG_TYPE']\n",
    "    survey, band, ab_vega = mag_type_str.split('_')\n",
    "    mag_type = [filt_id for filt_id in Filter.list()\n",
    "                if survey.upper() in filt_id.upper() and '.'+band in filt_id][0]\n",
    "    mag_unit = u.ABmag\n",
    "        # if ab_vega != 'AB':\n",
    "        #     print(\"Warning not AB magnitude in catalog... may be incorrect\")\n",
    "    mag = mag_value * mag_unit\n",
    "        # SED = SED.redshift(row['REDSHIFT_ESTIMATE'])\n",
    "        # etc.set_target(SED(mag, mag_type), 'point')\n",
    "    obs.set_target(SED(mag, mag_type), 'point')\n",
    "\n",
    "    texp_fobs = t_exp * fobs\n",
    "    res = obs.expose(texp_fobs)\n",
    "    if np.isnan(res['target']).any():\n",
    "        res['target'][np.isnan(res['target'])] = 0.\n",
    "    if np.isnan(res['sky']).any():\n",
    "        res['sky'][np.isnan(res['sky'])] = 0.\n",
    "\n",
    "    # Add cosmic rays:\n",
    "    N_pix = len(res)\n",
    "    N_cosmic = np.random.poisson(CR_rate * texp.value * N_pix * 0.8)\n",
    "    idx = np.random.choice(np.arange(N_pix), N_cosmic, replace=False)\n",
    "    CR_boost = 10**np.random.normal(2.0, 0.15, N_cosmic) * u.electron\n",
    "    res['target'][idx] += CR_boost\n",
    "    res['noise'][idx] = np.sqrt(res['noise'][idx]**2 + CR_boost * u.electron)\n",
    "\n",
    "    dxu = L1DXU(qmost, res, texp)\n",
    "\n",
    "    z_str = str(np.round(z, 4))\n",
    "    mag_str = str(np.round(mag_value, 2))\n",
    "    fobs_str = str(np.round(fobs, 3))\n",
    "    model_id = f'QSO_sim_ETC_z{z_str}_mag{mag_str}_fobs{fobs_str}'\n",
    "    filename = f\"{model_id}_LJ1.fits\"\n",
    "\n",
    "    if not os.path.exists(output_dir):\n",
    "        os.makedirs(output_dir)\n",
    "    \n",
    "    output = os.path.join(output_dir, filename)\n",
    "    print(model_id)\n",
    "    try:\n",
    "        hdu_list = dxu.joined()\n",
    "        hdu_list.writeto(output, overwrite=True)\n",
    "    # except ValueError as e:\n",
    "    #     print(f\"Failed to save the joined spectrum: {row['TEMPLATE']}\")\n",
    "    except (ValueError, IndexError) as e:\n",
    "        print(f\"\\nFailed to save the joined spectrum for {target_name} (z={z}): {str(e)}\")\n",
    "\n",
    "    return [filename, mag_value, texp.value, fobs, texp_fobs.value, seeing, airmass]"
   ]
  },
  {
   "cell_type": "code",
   "execution_count": null,
   "id": "44aad9b9",
   "metadata": {},
   "outputs": [
    {
     "name": "stdout",
     "output_type": "stream",
     "text": [
      "QSO_sim_ETC_z1.5_mag15.0_fobs2.0\n"
     ]
    },
    {
     "name": "stderr",
     "output_type": "stream",
     "text": [
      "/opt/anaconda3/envs/etc_4fs/lib/python3.13/site-packages/astropy/units/quantity.py:658: RuntimeWarning: invalid value encountered in divide\n",
      "  result = super().__array_ufunc__(function, method, *arrays, **kwargs)\n"
     ]
    },
    {
     "name": "stdout",
     "output_type": "stream",
     "text": [
      "QSO_sim_ETC_z1.5_mag15.0_fobs3.0\n"
     ]
    },
    {
     "name": "stderr",
     "output_type": "stream",
     "text": [
      "/opt/anaconda3/envs/etc_4fs/lib/python3.13/site-packages/astropy/units/quantity.py:658: RuntimeWarning: invalid value encountered in divide\n",
      "  result = super().__array_ufunc__(function, method, *arrays, **kwargs)\n"
     ]
    },
    {
     "name": "stdout",
     "output_type": "stream",
     "text": [
      "QSO_sim_ETC_z1.5_mag15.0_fobs5.0\n"
     ]
    },
    {
     "name": "stderr",
     "output_type": "stream",
     "text": [
      "/opt/anaconda3/envs/etc_4fs/lib/python3.13/site-packages/astropy/units/quantity.py:658: RuntimeWarning: invalid value encountered in divide\n",
      "  result = super().__array_ufunc__(function, method, *arrays, **kwargs)\n"
     ]
    },
    {
     "name": "stdout",
     "output_type": "stream",
     "text": [
      "QSO_sim_ETC_z1.5_mag15.0_fobs10.0\n"
     ]
    },
    {
     "name": "stderr",
     "output_type": "stream",
     "text": [
      "/opt/anaconda3/envs/etc_4fs/lib/python3.13/site-packages/astropy/units/quantity.py:658: RuntimeWarning: invalid value encountered in divide\n",
      "  result = super().__array_ufunc__(function, method, *arrays, **kwargs)\n"
     ]
    },
    {
     "name": "stdout",
     "output_type": "stream",
     "text": [
      "QSO_sim_ETC_z1.5_mag15.0_fobs20.0\n"
     ]
    },
    {
     "name": "stderr",
     "output_type": "stream",
     "text": [
      "/opt/anaconda3/envs/etc_4fs/lib/python3.13/site-packages/astropy/units/quantity.py:658: RuntimeWarning: invalid value encountered in divide\n",
      "  result = super().__array_ufunc__(function, method, *arrays, **kwargs)\n"
     ]
    },
    {
     "name": "stdout",
     "output_type": "stream",
     "text": [
      "QSO_sim_ETC_z1.5_mag15.0_fobs40.0\n"
     ]
    },
    {
     "name": "stderr",
     "output_type": "stream",
     "text": [
      "/opt/anaconda3/envs/etc_4fs/lib/python3.13/site-packages/astropy/units/quantity.py:658: RuntimeWarning: invalid value encountered in divide\n",
      "  result = super().__array_ufunc__(function, method, *arrays, **kwargs)\n"
     ]
    },
    {
     "name": "stdout",
     "output_type": "stream",
     "text": [
      "QSO_sim_ETC_z1.5_mag17.0_fobs2.0\n"
     ]
    },
    {
     "name": "stderr",
     "output_type": "stream",
     "text": [
      "/opt/anaconda3/envs/etc_4fs/lib/python3.13/site-packages/astropy/units/quantity.py:658: RuntimeWarning: invalid value encountered in divide\n",
      "  result = super().__array_ufunc__(function, method, *arrays, **kwargs)\n"
     ]
    },
    {
     "name": "stdout",
     "output_type": "stream",
     "text": [
      "QSO_sim_ETC_z1.5_mag17.0_fobs3.0\n"
     ]
    },
    {
     "name": "stderr",
     "output_type": "stream",
     "text": [
      "/opt/anaconda3/envs/etc_4fs/lib/python3.13/site-packages/astropy/units/quantity.py:658: RuntimeWarning: invalid value encountered in divide\n",
      "  result = super().__array_ufunc__(function, method, *arrays, **kwargs)\n"
     ]
    },
    {
     "name": "stdout",
     "output_type": "stream",
     "text": [
      "QSO_sim_ETC_z1.5_mag17.0_fobs5.0\n"
     ]
    },
    {
     "name": "stderr",
     "output_type": "stream",
     "text": [
      "/opt/anaconda3/envs/etc_4fs/lib/python3.13/site-packages/astropy/units/quantity.py:658: RuntimeWarning: invalid value encountered in divide\n",
      "  result = super().__array_ufunc__(function, method, *arrays, **kwargs)\n"
     ]
    },
    {
     "name": "stdout",
     "output_type": "stream",
     "text": [
      "QSO_sim_ETC_z1.5_mag17.0_fobs10.0\n"
     ]
    },
    {
     "name": "stderr",
     "output_type": "stream",
     "text": [
      "/opt/anaconda3/envs/etc_4fs/lib/python3.13/site-packages/astropy/units/quantity.py:658: RuntimeWarning: invalid value encountered in divide\n",
      "  result = super().__array_ufunc__(function, method, *arrays, **kwargs)\n"
     ]
    },
    {
     "name": "stdout",
     "output_type": "stream",
     "text": [
      "QSO_sim_ETC_z1.5_mag17.0_fobs20.0\n"
     ]
    },
    {
     "name": "stderr",
     "output_type": "stream",
     "text": [
      "/opt/anaconda3/envs/etc_4fs/lib/python3.13/site-packages/astropy/units/quantity.py:658: RuntimeWarning: invalid value encountered in divide\n",
      "  result = super().__array_ufunc__(function, method, *arrays, **kwargs)\n"
     ]
    },
    {
     "name": "stdout",
     "output_type": "stream",
     "text": [
      "QSO_sim_ETC_z1.5_mag17.0_fobs40.0\n"
     ]
    },
    {
     "name": "stderr",
     "output_type": "stream",
     "text": [
      "/opt/anaconda3/envs/etc_4fs/lib/python3.13/site-packages/astropy/units/quantity.py:658: RuntimeWarning: invalid value encountered in divide\n",
      "  result = super().__array_ufunc__(function, method, *arrays, **kwargs)\n"
     ]
    },
    {
     "name": "stdout",
     "output_type": "stream",
     "text": [
      "QSO_sim_ETC_z1.5_mag19.0_fobs2.0\n"
     ]
    },
    {
     "name": "stderr",
     "output_type": "stream",
     "text": [
      "/opt/anaconda3/envs/etc_4fs/lib/python3.13/site-packages/astropy/units/quantity.py:658: RuntimeWarning: invalid value encountered in divide\n",
      "  result = super().__array_ufunc__(function, method, *arrays, **kwargs)\n"
     ]
    },
    {
     "name": "stdout",
     "output_type": "stream",
     "text": [
      "QSO_sim_ETC_z1.5_mag19.0_fobs3.0\n"
     ]
    },
    {
     "name": "stderr",
     "output_type": "stream",
     "text": [
      "/opt/anaconda3/envs/etc_4fs/lib/python3.13/site-packages/astropy/units/quantity.py:658: RuntimeWarning: invalid value encountered in divide\n",
      "  result = super().__array_ufunc__(function, method, *arrays, **kwargs)\n"
     ]
    },
    {
     "name": "stdout",
     "output_type": "stream",
     "text": [
      "QSO_sim_ETC_z1.5_mag19.0_fobs5.0\n"
     ]
    },
    {
     "name": "stderr",
     "output_type": "stream",
     "text": [
      "/opt/anaconda3/envs/etc_4fs/lib/python3.13/site-packages/astropy/units/quantity.py:658: RuntimeWarning: invalid value encountered in divide\n",
      "  result = super().__array_ufunc__(function, method, *arrays, **kwargs)\n"
     ]
    },
    {
     "name": "stdout",
     "output_type": "stream",
     "text": [
      "QSO_sim_ETC_z1.5_mag19.0_fobs10.0\n"
     ]
    },
    {
     "name": "stderr",
     "output_type": "stream",
     "text": [
      "/opt/anaconda3/envs/etc_4fs/lib/python3.13/site-packages/astropy/units/quantity.py:658: RuntimeWarning: invalid value encountered in divide\n",
      "  result = super().__array_ufunc__(function, method, *arrays, **kwargs)\n"
     ]
    },
    {
     "name": "stdout",
     "output_type": "stream",
     "text": [
      "QSO_sim_ETC_z1.5_mag19.0_fobs20.0\n"
     ]
    },
    {
     "name": "stderr",
     "output_type": "stream",
     "text": [
      "/opt/anaconda3/envs/etc_4fs/lib/python3.13/site-packages/astropy/units/quantity.py:658: RuntimeWarning: invalid value encountered in divide\n",
      "  result = super().__array_ufunc__(function, method, *arrays, **kwargs)\n"
     ]
    },
    {
     "name": "stdout",
     "output_type": "stream",
     "text": [
      "QSO_sim_ETC_z1.5_mag19.0_fobs40.0\n"
     ]
    },
    {
     "name": "stderr",
     "output_type": "stream",
     "text": [
      "/opt/anaconda3/envs/etc_4fs/lib/python3.13/site-packages/astropy/units/quantity.py:658: RuntimeWarning: invalid value encountered in divide\n",
      "  result = super().__array_ufunc__(function, method, *arrays, **kwargs)\n"
     ]
    },
    {
     "name": "stdout",
     "output_type": "stream",
     "text": [
      "QSO_sim_ETC_z1.5_mag20.5_fobs2.0\n"
     ]
    },
    {
     "name": "stderr",
     "output_type": "stream",
     "text": [
      "/opt/anaconda3/envs/etc_4fs/lib/python3.13/site-packages/astropy/units/quantity.py:658: RuntimeWarning: invalid value encountered in divide\n",
      "  result = super().__array_ufunc__(function, method, *arrays, **kwargs)\n"
     ]
    },
    {
     "name": "stdout",
     "output_type": "stream",
     "text": [
      "QSO_sim_ETC_z1.5_mag20.5_fobs3.0\n"
     ]
    },
    {
     "name": "stderr",
     "output_type": "stream",
     "text": [
      "/opt/anaconda3/envs/etc_4fs/lib/python3.13/site-packages/astropy/units/quantity.py:658: RuntimeWarning: invalid value encountered in divide\n",
      "  result = super().__array_ufunc__(function, method, *arrays, **kwargs)\n"
     ]
    },
    {
     "name": "stdout",
     "output_type": "stream",
     "text": [
      "QSO_sim_ETC_z1.5_mag20.5_fobs5.0\n"
     ]
    },
    {
     "name": "stderr",
     "output_type": "stream",
     "text": [
      "/opt/anaconda3/envs/etc_4fs/lib/python3.13/site-packages/astropy/units/quantity.py:658: RuntimeWarning: invalid value encountered in divide\n",
      "  result = super().__array_ufunc__(function, method, *arrays, **kwargs)\n"
     ]
    },
    {
     "name": "stdout",
     "output_type": "stream",
     "text": [
      "QSO_sim_ETC_z1.5_mag20.5_fobs10.0\n"
     ]
    },
    {
     "name": "stderr",
     "output_type": "stream",
     "text": [
      "/opt/anaconda3/envs/etc_4fs/lib/python3.13/site-packages/astropy/units/quantity.py:658: RuntimeWarning: invalid value encountered in divide\n",
      "  result = super().__array_ufunc__(function, method, *arrays, **kwargs)\n"
     ]
    },
    {
     "name": "stdout",
     "output_type": "stream",
     "text": [
      "QSO_sim_ETC_z1.5_mag20.5_fobs20.0\n"
     ]
    },
    {
     "name": "stderr",
     "output_type": "stream",
     "text": [
      "/opt/anaconda3/envs/etc_4fs/lib/python3.13/site-packages/astropy/units/quantity.py:658: RuntimeWarning: invalid value encountered in divide\n",
      "  result = super().__array_ufunc__(function, method, *arrays, **kwargs)\n"
     ]
    },
    {
     "name": "stdout",
     "output_type": "stream",
     "text": [
      "QSO_sim_ETC_z1.5_mag20.5_fobs40.0\n"
     ]
    },
    {
     "name": "stderr",
     "output_type": "stream",
     "text": [
      "/opt/anaconda3/envs/etc_4fs/lib/python3.13/site-packages/astropy/units/quantity.py:658: RuntimeWarning: invalid value encountered in divide\n",
      "  result = super().__array_ufunc__(function, method, *arrays, **kwargs)\n"
     ]
    },
    {
     "name": "stdout",
     "output_type": "stream",
     "text": [
      "QSO_sim_ETC_z1.5_mag21.5_fobs2.0\n"
     ]
    },
    {
     "name": "stderr",
     "output_type": "stream",
     "text": [
      "/opt/anaconda3/envs/etc_4fs/lib/python3.13/site-packages/astropy/units/quantity.py:658: RuntimeWarning: invalid value encountered in divide\n",
      "  result = super().__array_ufunc__(function, method, *arrays, **kwargs)\n"
     ]
    },
    {
     "name": "stdout",
     "output_type": "stream",
     "text": [
      "QSO_sim_ETC_z1.5_mag21.5_fobs3.0\n"
     ]
    },
    {
     "name": "stderr",
     "output_type": "stream",
     "text": [
      "/opt/anaconda3/envs/etc_4fs/lib/python3.13/site-packages/astropy/units/quantity.py:658: RuntimeWarning: invalid value encountered in divide\n",
      "  result = super().__array_ufunc__(function, method, *arrays, **kwargs)\n"
     ]
    },
    {
     "name": "stdout",
     "output_type": "stream",
     "text": [
      "QSO_sim_ETC_z1.5_mag21.5_fobs5.0\n"
     ]
    },
    {
     "name": "stderr",
     "output_type": "stream",
     "text": [
      "/opt/anaconda3/envs/etc_4fs/lib/python3.13/site-packages/astropy/units/quantity.py:658: RuntimeWarning: invalid value encountered in divide\n",
      "  result = super().__array_ufunc__(function, method, *arrays, **kwargs)\n"
     ]
    },
    {
     "name": "stdout",
     "output_type": "stream",
     "text": [
      "QSO_sim_ETC_z1.5_mag21.5_fobs10.0\n"
     ]
    },
    {
     "name": "stderr",
     "output_type": "stream",
     "text": [
      "/opt/anaconda3/envs/etc_4fs/lib/python3.13/site-packages/astropy/units/quantity.py:658: RuntimeWarning: invalid value encountered in divide\n",
      "  result = super().__array_ufunc__(function, method, *arrays, **kwargs)\n"
     ]
    },
    {
     "name": "stdout",
     "output_type": "stream",
     "text": [
      "QSO_sim_ETC_z1.5_mag21.5_fobs20.0\n"
     ]
    },
    {
     "name": "stderr",
     "output_type": "stream",
     "text": [
      "/opt/anaconda3/envs/etc_4fs/lib/python3.13/site-packages/astropy/units/quantity.py:658: RuntimeWarning: invalid value encountered in divide\n",
      "  result = super().__array_ufunc__(function, method, *arrays, **kwargs)\n"
     ]
    },
    {
     "name": "stdout",
     "output_type": "stream",
     "text": [
      "QSO_sim_ETC_z1.5_mag21.5_fobs40.0\n"
     ]
    },
    {
     "name": "stderr",
     "output_type": "stream",
     "text": [
      "/opt/anaconda3/envs/etc_4fs/lib/python3.13/site-packages/astropy/units/quantity.py:658: RuntimeWarning: invalid value encountered in divide\n",
      "  result = super().__array_ufunc__(function, method, *arrays, **kwargs)\n"
     ]
    },
    {
     "data": {
      "text/html": [
       "<div>\n",
       "<style scoped>\n",
       "    .dataframe tbody tr th:only-of-type {\n",
       "        vertical-align: middle;\n",
       "    }\n",
       "\n",
       "    .dataframe tbody tr th {\n",
       "        vertical-align: top;\n",
       "    }\n",
       "\n",
       "    .dataframe thead th {\n",
       "        text-align: right;\n",
       "    }\n",
       "</style>\n",
       "<table border=\"1\" class=\"dataframe\">\n",
       "  <thead>\n",
       "    <tr style=\"text-align: right;\">\n",
       "      <th></th>\n",
       "      <th>filename</th>\n",
       "      <th>mag</th>\n",
       "      <th>texp</th>\n",
       "      <th>fobs</th>\n",
       "      <th>texp_x_fobs</th>\n",
       "    </tr>\n",
       "  </thead>\n",
       "  <tbody>\n",
       "    <tr>\n",
       "      <th>0</th>\n",
       "      <td>QSO_sim_ETC_z1.5_mag15.0_fobs2.0_LJ1.fits</td>\n",
       "      <td>15.0</td>\n",
       "      <td>47.0</td>\n",
       "      <td>2.0</td>\n",
       "      <td>94.0</td>\n",
       "    </tr>\n",
       "    <tr>\n",
       "      <th>1</th>\n",
       "      <td>QSO_sim_ETC_z1.5_mag15.0_fobs3.0_LJ1.fits</td>\n",
       "      <td>15.0</td>\n",
       "      <td>47.0</td>\n",
       "      <td>3.0</td>\n",
       "      <td>141.0</td>\n",
       "    </tr>\n",
       "    <tr>\n",
       "      <th>2</th>\n",
       "      <td>QSO_sim_ETC_z1.5_mag15.0_fobs5.0_LJ1.fits</td>\n",
       "      <td>15.0</td>\n",
       "      <td>47.0</td>\n",
       "      <td>5.0</td>\n",
       "      <td>235.0</td>\n",
       "    </tr>\n",
       "    <tr>\n",
       "      <th>3</th>\n",
       "      <td>QSO_sim_ETC_z1.5_mag15.0_fobs10.0_LJ1.fits</td>\n",
       "      <td>15.0</td>\n",
       "      <td>47.0</td>\n",
       "      <td>10.0</td>\n",
       "      <td>470.0</td>\n",
       "    </tr>\n",
       "    <tr>\n",
       "      <th>4</th>\n",
       "      <td>QSO_sim_ETC_z1.5_mag15.0_fobs20.0_LJ1.fits</td>\n",
       "      <td>15.0</td>\n",
       "      <td>47.0</td>\n",
       "      <td>20.0</td>\n",
       "      <td>940.0</td>\n",
       "    </tr>\n",
       "    <tr>\n",
       "      <th>5</th>\n",
       "      <td>QSO_sim_ETC_z1.5_mag15.0_fobs40.0_LJ1.fits</td>\n",
       "      <td>15.0</td>\n",
       "      <td>47.0</td>\n",
       "      <td>40.0</td>\n",
       "      <td>1880.0</td>\n",
       "    </tr>\n",
       "    <tr>\n",
       "      <th>6</th>\n",
       "      <td>QSO_sim_ETC_z1.5_mag17.0_fobs2.0_LJ1.fits</td>\n",
       "      <td>17.0</td>\n",
       "      <td>47.0</td>\n",
       "      <td>2.0</td>\n",
       "      <td>94.0</td>\n",
       "    </tr>\n",
       "    <tr>\n",
       "      <th>7</th>\n",
       "      <td>QSO_sim_ETC_z1.5_mag17.0_fobs3.0_LJ1.fits</td>\n",
       "      <td>17.0</td>\n",
       "      <td>47.0</td>\n",
       "      <td>3.0</td>\n",
       "      <td>141.0</td>\n",
       "    </tr>\n",
       "    <tr>\n",
       "      <th>8</th>\n",
       "      <td>QSO_sim_ETC_z1.5_mag17.0_fobs5.0_LJ1.fits</td>\n",
       "      <td>17.0</td>\n",
       "      <td>47.0</td>\n",
       "      <td>5.0</td>\n",
       "      <td>235.0</td>\n",
       "    </tr>\n",
       "    <tr>\n",
       "      <th>9</th>\n",
       "      <td>QSO_sim_ETC_z1.5_mag17.0_fobs10.0_LJ1.fits</td>\n",
       "      <td>17.0</td>\n",
       "      <td>47.0</td>\n",
       "      <td>10.0</td>\n",
       "      <td>470.0</td>\n",
       "    </tr>\n",
       "    <tr>\n",
       "      <th>10</th>\n",
       "      <td>QSO_sim_ETC_z1.5_mag17.0_fobs20.0_LJ1.fits</td>\n",
       "      <td>17.0</td>\n",
       "      <td>47.0</td>\n",
       "      <td>20.0</td>\n",
       "      <td>940.0</td>\n",
       "    </tr>\n",
       "    <tr>\n",
       "      <th>11</th>\n",
       "      <td>QSO_sim_ETC_z1.5_mag17.0_fobs40.0_LJ1.fits</td>\n",
       "      <td>17.0</td>\n",
       "      <td>47.0</td>\n",
       "      <td>40.0</td>\n",
       "      <td>1880.0</td>\n",
       "    </tr>\n",
       "    <tr>\n",
       "      <th>12</th>\n",
       "      <td>QSO_sim_ETC_z1.5_mag19.0_fobs2.0_LJ1.fits</td>\n",
       "      <td>19.0</td>\n",
       "      <td>47.0</td>\n",
       "      <td>2.0</td>\n",
       "      <td>94.0</td>\n",
       "    </tr>\n",
       "    <tr>\n",
       "      <th>13</th>\n",
       "      <td>QSO_sim_ETC_z1.5_mag19.0_fobs3.0_LJ1.fits</td>\n",
       "      <td>19.0</td>\n",
       "      <td>47.0</td>\n",
       "      <td>3.0</td>\n",
       "      <td>141.0</td>\n",
       "    </tr>\n",
       "    <tr>\n",
       "      <th>14</th>\n",
       "      <td>QSO_sim_ETC_z1.5_mag19.0_fobs5.0_LJ1.fits</td>\n",
       "      <td>19.0</td>\n",
       "      <td>47.0</td>\n",
       "      <td>5.0</td>\n",
       "      <td>235.0</td>\n",
       "    </tr>\n",
       "    <tr>\n",
       "      <th>15</th>\n",
       "      <td>QSO_sim_ETC_z1.5_mag19.0_fobs10.0_LJ1.fits</td>\n",
       "      <td>19.0</td>\n",
       "      <td>47.0</td>\n",
       "      <td>10.0</td>\n",
       "      <td>470.0</td>\n",
       "    </tr>\n",
       "    <tr>\n",
       "      <th>16</th>\n",
       "      <td>QSO_sim_ETC_z1.5_mag19.0_fobs20.0_LJ1.fits</td>\n",
       "      <td>19.0</td>\n",
       "      <td>47.0</td>\n",
       "      <td>20.0</td>\n",
       "      <td>940.0</td>\n",
       "    </tr>\n",
       "    <tr>\n",
       "      <th>17</th>\n",
       "      <td>QSO_sim_ETC_z1.5_mag19.0_fobs40.0_LJ1.fits</td>\n",
       "      <td>19.0</td>\n",
       "      <td>47.0</td>\n",
       "      <td>40.0</td>\n",
       "      <td>1880.0</td>\n",
       "    </tr>\n",
       "    <tr>\n",
       "      <th>18</th>\n",
       "      <td>QSO_sim_ETC_z1.5_mag20.5_fobs2.0_LJ1.fits</td>\n",
       "      <td>20.5</td>\n",
       "      <td>47.0</td>\n",
       "      <td>2.0</td>\n",
       "      <td>94.0</td>\n",
       "    </tr>\n",
       "    <tr>\n",
       "      <th>19</th>\n",
       "      <td>QSO_sim_ETC_z1.5_mag20.5_fobs3.0_LJ1.fits</td>\n",
       "      <td>20.5</td>\n",
       "      <td>47.0</td>\n",
       "      <td>3.0</td>\n",
       "      <td>141.0</td>\n",
       "    </tr>\n",
       "    <tr>\n",
       "      <th>20</th>\n",
       "      <td>QSO_sim_ETC_z1.5_mag20.5_fobs5.0_LJ1.fits</td>\n",
       "      <td>20.5</td>\n",
       "      <td>47.0</td>\n",
       "      <td>5.0</td>\n",
       "      <td>235.0</td>\n",
       "    </tr>\n",
       "    <tr>\n",
       "      <th>21</th>\n",
       "      <td>QSO_sim_ETC_z1.5_mag20.5_fobs10.0_LJ1.fits</td>\n",
       "      <td>20.5</td>\n",
       "      <td>47.0</td>\n",
       "      <td>10.0</td>\n",
       "      <td>470.0</td>\n",
       "    </tr>\n",
       "    <tr>\n",
       "      <th>22</th>\n",
       "      <td>QSO_sim_ETC_z1.5_mag20.5_fobs20.0_LJ1.fits</td>\n",
       "      <td>20.5</td>\n",
       "      <td>47.0</td>\n",
       "      <td>20.0</td>\n",
       "      <td>940.0</td>\n",
       "    </tr>\n",
       "    <tr>\n",
       "      <th>23</th>\n",
       "      <td>QSO_sim_ETC_z1.5_mag20.5_fobs40.0_LJ1.fits</td>\n",
       "      <td>20.5</td>\n",
       "      <td>47.0</td>\n",
       "      <td>40.0</td>\n",
       "      <td>1880.0</td>\n",
       "    </tr>\n",
       "    <tr>\n",
       "      <th>24</th>\n",
       "      <td>QSO_sim_ETC_z1.5_mag21.5_fobs2.0_LJ1.fits</td>\n",
       "      <td>21.5</td>\n",
       "      <td>47.0</td>\n",
       "      <td>2.0</td>\n",
       "      <td>94.0</td>\n",
       "    </tr>\n",
       "    <tr>\n",
       "      <th>25</th>\n",
       "      <td>QSO_sim_ETC_z1.5_mag21.5_fobs3.0_LJ1.fits</td>\n",
       "      <td>21.5</td>\n",
       "      <td>47.0</td>\n",
       "      <td>3.0</td>\n",
       "      <td>141.0</td>\n",
       "    </tr>\n",
       "    <tr>\n",
       "      <th>26</th>\n",
       "      <td>QSO_sim_ETC_z1.5_mag21.5_fobs5.0_LJ1.fits</td>\n",
       "      <td>21.5</td>\n",
       "      <td>47.0</td>\n",
       "      <td>5.0</td>\n",
       "      <td>235.0</td>\n",
       "    </tr>\n",
       "    <tr>\n",
       "      <th>27</th>\n",
       "      <td>QSO_sim_ETC_z1.5_mag21.5_fobs10.0_LJ1.fits</td>\n",
       "      <td>21.5</td>\n",
       "      <td>47.0</td>\n",
       "      <td>10.0</td>\n",
       "      <td>470.0</td>\n",
       "    </tr>\n",
       "    <tr>\n",
       "      <th>28</th>\n",
       "      <td>QSO_sim_ETC_z1.5_mag21.5_fobs20.0_LJ1.fits</td>\n",
       "      <td>21.5</td>\n",
       "      <td>47.0</td>\n",
       "      <td>20.0</td>\n",
       "      <td>940.0</td>\n",
       "    </tr>\n",
       "    <tr>\n",
       "      <th>29</th>\n",
       "      <td>QSO_sim_ETC_z1.5_mag21.5_fobs40.0_LJ1.fits</td>\n",
       "      <td>21.5</td>\n",
       "      <td>47.0</td>\n",
       "      <td>40.0</td>\n",
       "      <td>1880.0</td>\n",
       "    </tr>\n",
       "  </tbody>\n",
       "</table>\n",
       "</div>"
      ],
      "text/plain": [
       "                                      filename   mag  texp  fobs  texp_x_fobs\n",
       "0    QSO_sim_ETC_z1.5_mag15.0_fobs2.0_LJ1.fits  15.0  47.0   2.0         94.0\n",
       "1    QSO_sim_ETC_z1.5_mag15.0_fobs3.0_LJ1.fits  15.0  47.0   3.0        141.0\n",
       "2    QSO_sim_ETC_z1.5_mag15.0_fobs5.0_LJ1.fits  15.0  47.0   5.0        235.0\n",
       "3   QSO_sim_ETC_z1.5_mag15.0_fobs10.0_LJ1.fits  15.0  47.0  10.0        470.0\n",
       "4   QSO_sim_ETC_z1.5_mag15.0_fobs20.0_LJ1.fits  15.0  47.0  20.0        940.0\n",
       "5   QSO_sim_ETC_z1.5_mag15.0_fobs40.0_LJ1.fits  15.0  47.0  40.0       1880.0\n",
       "6    QSO_sim_ETC_z1.5_mag17.0_fobs2.0_LJ1.fits  17.0  47.0   2.0         94.0\n",
       "7    QSO_sim_ETC_z1.5_mag17.0_fobs3.0_LJ1.fits  17.0  47.0   3.0        141.0\n",
       "8    QSO_sim_ETC_z1.5_mag17.0_fobs5.0_LJ1.fits  17.0  47.0   5.0        235.0\n",
       "9   QSO_sim_ETC_z1.5_mag17.0_fobs10.0_LJ1.fits  17.0  47.0  10.0        470.0\n",
       "10  QSO_sim_ETC_z1.5_mag17.0_fobs20.0_LJ1.fits  17.0  47.0  20.0        940.0\n",
       "11  QSO_sim_ETC_z1.5_mag17.0_fobs40.0_LJ1.fits  17.0  47.0  40.0       1880.0\n",
       "12   QSO_sim_ETC_z1.5_mag19.0_fobs2.0_LJ1.fits  19.0  47.0   2.0         94.0\n",
       "13   QSO_sim_ETC_z1.5_mag19.0_fobs3.0_LJ1.fits  19.0  47.0   3.0        141.0\n",
       "14   QSO_sim_ETC_z1.5_mag19.0_fobs5.0_LJ1.fits  19.0  47.0   5.0        235.0\n",
       "15  QSO_sim_ETC_z1.5_mag19.0_fobs10.0_LJ1.fits  19.0  47.0  10.0        470.0\n",
       "16  QSO_sim_ETC_z1.5_mag19.0_fobs20.0_LJ1.fits  19.0  47.0  20.0        940.0\n",
       "17  QSO_sim_ETC_z1.5_mag19.0_fobs40.0_LJ1.fits  19.0  47.0  40.0       1880.0\n",
       "18   QSO_sim_ETC_z1.5_mag20.5_fobs2.0_LJ1.fits  20.5  47.0   2.0         94.0\n",
       "19   QSO_sim_ETC_z1.5_mag20.5_fobs3.0_LJ1.fits  20.5  47.0   3.0        141.0\n",
       "20   QSO_sim_ETC_z1.5_mag20.5_fobs5.0_LJ1.fits  20.5  47.0   5.0        235.0\n",
       "21  QSO_sim_ETC_z1.5_mag20.5_fobs10.0_LJ1.fits  20.5  47.0  10.0        470.0\n",
       "22  QSO_sim_ETC_z1.5_mag20.5_fobs20.0_LJ1.fits  20.5  47.0  20.0        940.0\n",
       "23  QSO_sim_ETC_z1.5_mag20.5_fobs40.0_LJ1.fits  20.5  47.0  40.0       1880.0\n",
       "24   QSO_sim_ETC_z1.5_mag21.5_fobs2.0_LJ1.fits  21.5  47.0   2.0         94.0\n",
       "25   QSO_sim_ETC_z1.5_mag21.5_fobs3.0_LJ1.fits  21.5  47.0   3.0        141.0\n",
       "26   QSO_sim_ETC_z1.5_mag21.5_fobs5.0_LJ1.fits  21.5  47.0   5.0        235.0\n",
       "27  QSO_sim_ETC_z1.5_mag21.5_fobs10.0_LJ1.fits  21.5  47.0  10.0        470.0\n",
       "28  QSO_sim_ETC_z1.5_mag21.5_fobs20.0_LJ1.fits  21.5  47.0  20.0        940.0\n",
       "29  QSO_sim_ETC_z1.5_mag21.5_fobs40.0_LJ1.fits  21.5  47.0  40.0       1880.0"
      ]
     },
     "execution_count": 44,
     "metadata": {},
     "output_type": "execute_result"
    }
   ],
   "source": [
    "etc_snr = pd.DataFrame(columns=['filename', 'mag', 'texp', 'fobs', 'texp_x_fobs'])\n",
    "\n",
    "for mag in mags:\n",
    "    for fob in fobs:\n",
    "        filename_, mag_value_, texp_, fobs_, texp_fobs_, seeing_, airmass_ = process_quasar(mag, texp, fob)\n",
    "        etc_snr.loc[etc_snr.shape[0]] = [filename_, mag_value_, texp_, fobs_, texp_fobs_]\n",
    "\n",
    "etc_snr"
   ]
  },
  {
   "cell_type": "code",
   "execution_count": 55,
   "id": "81cd88b1",
   "metadata": {},
   "outputs": [
    {
     "data": {
      "text/html": [
       "<div>\n",
       "<style scoped>\n",
       "    .dataframe tbody tr th:only-of-type {\n",
       "        vertical-align: middle;\n",
       "    }\n",
       "\n",
       "    .dataframe tbody tr th {\n",
       "        vertical-align: top;\n",
       "    }\n",
       "\n",
       "    .dataframe thead th {\n",
       "        text-align: right;\n",
       "    }\n",
       "</style>\n",
       "<table border=\"1\" class=\"dataframe\">\n",
       "  <thead>\n",
       "    <tr style=\"text-align: right;\">\n",
       "      <th></th>\n",
       "      <th>filename</th>\n",
       "      <th>mag</th>\n",
       "      <th>texp</th>\n",
       "      <th>fobs</th>\n",
       "      <th>texp_x_fobs</th>\n",
       "    </tr>\n",
       "  </thead>\n",
       "  <tbody>\n",
       "    <tr>\n",
       "      <th>0</th>\n",
       "      <td>QSO_sim_ETC_z1.5_mag15.0_fobs2.0_LJ1.fits</td>\n",
       "      <td>15.0</td>\n",
       "      <td>47.0</td>\n",
       "      <td>2.0</td>\n",
       "      <td>94.0</td>\n",
       "    </tr>\n",
       "    <tr>\n",
       "      <th>1</th>\n",
       "      <td>QSO_sim_ETC_z1.5_mag15.0_fobs3.0_LJ1.fits</td>\n",
       "      <td>15.0</td>\n",
       "      <td>47.0</td>\n",
       "      <td>3.0</td>\n",
       "      <td>141.0</td>\n",
       "    </tr>\n",
       "    <tr>\n",
       "      <th>2</th>\n",
       "      <td>QSO_sim_ETC_z1.5_mag15.0_fobs5.0_LJ1.fits</td>\n",
       "      <td>15.0</td>\n",
       "      <td>47.0</td>\n",
       "      <td>5.0</td>\n",
       "      <td>235.0</td>\n",
       "    </tr>\n",
       "    <tr>\n",
       "      <th>3</th>\n",
       "      <td>QSO_sim_ETC_z1.5_mag15.0_fobs10.0_LJ1.fits</td>\n",
       "      <td>15.0</td>\n",
       "      <td>47.0</td>\n",
       "      <td>10.0</td>\n",
       "      <td>470.0</td>\n",
       "    </tr>\n",
       "    <tr>\n",
       "      <th>4</th>\n",
       "      <td>QSO_sim_ETC_z1.5_mag15.0_fobs20.0_LJ1.fits</td>\n",
       "      <td>15.0</td>\n",
       "      <td>47.0</td>\n",
       "      <td>20.0</td>\n",
       "      <td>940.0</td>\n",
       "    </tr>\n",
       "  </tbody>\n",
       "</table>\n",
       "</div>"
      ],
      "text/plain": [
       "                                     filename   mag  texp  fobs  texp_x_fobs\n",
       "0   QSO_sim_ETC_z1.5_mag15.0_fobs2.0_LJ1.fits  15.0  47.0   2.0         94.0\n",
       "1   QSO_sim_ETC_z1.5_mag15.0_fobs3.0_LJ1.fits  15.0  47.0   3.0        141.0\n",
       "2   QSO_sim_ETC_z1.5_mag15.0_fobs5.0_LJ1.fits  15.0  47.0   5.0        235.0\n",
       "3  QSO_sim_ETC_z1.5_mag15.0_fobs10.0_LJ1.fits  15.0  47.0  10.0        470.0\n",
       "4  QSO_sim_ETC_z1.5_mag15.0_fobs20.0_LJ1.fits  15.0  47.0  20.0        940.0"
      ]
     },
     "execution_count": 55,
     "metadata": {},
     "output_type": "execute_result"
    }
   ],
   "source": [
    "etc_snr.head()"
   ]
  },
  {
   "cell_type": "code",
   "execution_count": 57,
   "id": "5a95c810",
   "metadata": {},
   "outputs": [],
   "source": [
    "def get_SNR(row):\n",
    "    spec = Table.read('./../SNR/ETC_output/' + row['filename'])\n",
    "\n",
    "    flux = spec['FLUX'].data[0]\n",
    "    error = spec['ERR_FLUX'].data[0]\n",
    "\n",
    "    snr_pixel = flux / error\n",
    "    spec['SNR_per_pixel'] = [snr_pixel]\n",
    "    mean_snr_pixel = np.nanmean(snr_pixel)\n",
    "\n",
    "    snr_ang = snr_pixel * 3.3  # SNR per Ang / 3.3 = SNR per px, from User manual p. 10\n",
    "    spec['SNR_per_ang'] = [snr_ang]\n",
    "    mean_snr_ang = np.nanmean(snr_ang)\n",
    "\n",
    "    spec.write('./../SNR/ETC_output/' + row['filename'], overwrite=True)\n",
    "\n",
    "    return mean_snr_pixel, mean_snr_ang"
   ]
  },
  {
   "cell_type": "code",
   "execution_count": 59,
   "id": "237ce913",
   "metadata": {},
   "outputs": [
    {
     "data": {
      "text/html": [
       "<div>\n",
       "<style scoped>\n",
       "    .dataframe tbody tr th:only-of-type {\n",
       "        vertical-align: middle;\n",
       "    }\n",
       "\n",
       "    .dataframe tbody tr th {\n",
       "        vertical-align: top;\n",
       "    }\n",
       "\n",
       "    .dataframe thead th {\n",
       "        text-align: right;\n",
       "    }\n",
       "</style>\n",
       "<table border=\"1\" class=\"dataframe\">\n",
       "  <thead>\n",
       "    <tr style=\"text-align: right;\">\n",
       "      <th></th>\n",
       "      <th>filename</th>\n",
       "      <th>mag</th>\n",
       "      <th>texp</th>\n",
       "      <th>fobs</th>\n",
       "      <th>texp_x_fobs</th>\n",
       "      <th>mean_snr_per_pixel</th>\n",
       "      <th>mean_snr_per_ang</th>\n",
       "    </tr>\n",
       "  </thead>\n",
       "  <tbody>\n",
       "    <tr>\n",
       "      <th>0</th>\n",
       "      <td>QSO_sim_ETC_z1.5_mag15.0_fobs2.0_LJ1.fits</td>\n",
       "      <td>15.0</td>\n",
       "      <td>47.0</td>\n",
       "      <td>2.0</td>\n",
       "      <td>94.0</td>\n",
       "      <td>35.539036</td>\n",
       "      <td>117.278809</td>\n",
       "    </tr>\n",
       "    <tr>\n",
       "      <th>1</th>\n",
       "      <td>QSO_sim_ETC_z1.5_mag15.0_fobs3.0_LJ1.fits</td>\n",
       "      <td>15.0</td>\n",
       "      <td>47.0</td>\n",
       "      <td>3.0</td>\n",
       "      <td>141.0</td>\n",
       "      <td>43.620220</td>\n",
       "      <td>143.946716</td>\n",
       "    </tr>\n",
       "    <tr>\n",
       "      <th>2</th>\n",
       "      <td>QSO_sim_ETC_z1.5_mag15.0_fobs5.0_LJ1.fits</td>\n",
       "      <td>15.0</td>\n",
       "      <td>47.0</td>\n",
       "      <td>5.0</td>\n",
       "      <td>235.0</td>\n",
       "      <td>56.428688</td>\n",
       "      <td>186.214676</td>\n",
       "    </tr>\n",
       "    <tr>\n",
       "      <th>3</th>\n",
       "      <td>QSO_sim_ETC_z1.5_mag15.0_fobs10.0_LJ1.fits</td>\n",
       "      <td>15.0</td>\n",
       "      <td>47.0</td>\n",
       "      <td>10.0</td>\n",
       "      <td>470.0</td>\n",
       "      <td>79.897736</td>\n",
       "      <td>263.662537</td>\n",
       "    </tr>\n",
       "    <tr>\n",
       "      <th>4</th>\n",
       "      <td>QSO_sim_ETC_z1.5_mag15.0_fobs20.0_LJ1.fits</td>\n",
       "      <td>15.0</td>\n",
       "      <td>47.0</td>\n",
       "      <td>20.0</td>\n",
       "      <td>940.0</td>\n",
       "      <td>113.059090</td>\n",
       "      <td>373.094971</td>\n",
       "    </tr>\n",
       "    <tr>\n",
       "      <th>5</th>\n",
       "      <td>QSO_sim_ETC_z1.5_mag15.0_fobs40.0_LJ1.fits</td>\n",
       "      <td>15.0</td>\n",
       "      <td>47.0</td>\n",
       "      <td>40.0</td>\n",
       "      <td>1880.0</td>\n",
       "      <td>159.963638</td>\n",
       "      <td>527.879944</td>\n",
       "    </tr>\n",
       "    <tr>\n",
       "      <th>6</th>\n",
       "      <td>QSO_sim_ETC_z1.5_mag17.0_fobs2.0_LJ1.fits</td>\n",
       "      <td>17.0</td>\n",
       "      <td>47.0</td>\n",
       "      <td>2.0</td>\n",
       "      <td>94.0</td>\n",
       "      <td>12.688695</td>\n",
       "      <td>41.872692</td>\n",
       "    </tr>\n",
       "    <tr>\n",
       "      <th>7</th>\n",
       "      <td>QSO_sim_ETC_z1.5_mag17.0_fobs3.0_LJ1.fits</td>\n",
       "      <td>17.0</td>\n",
       "      <td>47.0</td>\n",
       "      <td>3.0</td>\n",
       "      <td>141.0</td>\n",
       "      <td>15.712529</td>\n",
       "      <td>51.851353</td>\n",
       "    </tr>\n",
       "    <tr>\n",
       "      <th>8</th>\n",
       "      <td>QSO_sim_ETC_z1.5_mag17.0_fobs5.0_LJ1.fits</td>\n",
       "      <td>17.0</td>\n",
       "      <td>47.0</td>\n",
       "      <td>5.0</td>\n",
       "      <td>235.0</td>\n",
       "      <td>20.473156</td>\n",
       "      <td>67.561417</td>\n",
       "    </tr>\n",
       "    <tr>\n",
       "      <th>9</th>\n",
       "      <td>QSO_sim_ETC_z1.5_mag17.0_fobs10.0_LJ1.fits</td>\n",
       "      <td>17.0</td>\n",
       "      <td>47.0</td>\n",
       "      <td>10.0</td>\n",
       "      <td>470.0</td>\n",
       "      <td>29.151886</td>\n",
       "      <td>96.201225</td>\n",
       "    </tr>\n",
       "    <tr>\n",
       "      <th>10</th>\n",
       "      <td>QSO_sim_ETC_z1.5_mag17.0_fobs20.0_LJ1.fits</td>\n",
       "      <td>17.0</td>\n",
       "      <td>47.0</td>\n",
       "      <td>20.0</td>\n",
       "      <td>940.0</td>\n",
       "      <td>41.378910</td>\n",
       "      <td>136.550400</td>\n",
       "    </tr>\n",
       "    <tr>\n",
       "      <th>11</th>\n",
       "      <td>QSO_sim_ETC_z1.5_mag17.0_fobs40.0_LJ1.fits</td>\n",
       "      <td>17.0</td>\n",
       "      <td>47.0</td>\n",
       "      <td>40.0</td>\n",
       "      <td>1880.0</td>\n",
       "      <td>58.624512</td>\n",
       "      <td>193.460876</td>\n",
       "    </tr>\n",
       "    <tr>\n",
       "      <th>12</th>\n",
       "      <td>QSO_sim_ETC_z1.5_mag19.0_fobs2.0_LJ1.fits</td>\n",
       "      <td>19.0</td>\n",
       "      <td>47.0</td>\n",
       "      <td>2.0</td>\n",
       "      <td>94.0</td>\n",
       "      <td>3.409089</td>\n",
       "      <td>11.249993</td>\n",
       "    </tr>\n",
       "    <tr>\n",
       "      <th>13</th>\n",
       "      <td>QSO_sim_ETC_z1.5_mag19.0_fobs3.0_LJ1.fits</td>\n",
       "      <td>19.0</td>\n",
       "      <td>47.0</td>\n",
       "      <td>3.0</td>\n",
       "      <td>141.0</td>\n",
       "      <td>4.302236</td>\n",
       "      <td>14.197380</td>\n",
       "    </tr>\n",
       "    <tr>\n",
       "      <th>14</th>\n",
       "      <td>QSO_sim_ETC_z1.5_mag19.0_fobs5.0_LJ1.fits</td>\n",
       "      <td>19.0</td>\n",
       "      <td>47.0</td>\n",
       "      <td>5.0</td>\n",
       "      <td>235.0</td>\n",
       "      <td>5.713159</td>\n",
       "      <td>18.853424</td>\n",
       "    </tr>\n",
       "    <tr>\n",
       "      <th>15</th>\n",
       "      <td>QSO_sim_ETC_z1.5_mag19.0_fobs10.0_LJ1.fits</td>\n",
       "      <td>19.0</td>\n",
       "      <td>47.0</td>\n",
       "      <td>10.0</td>\n",
       "      <td>470.0</td>\n",
       "      <td>8.246484</td>\n",
       "      <td>27.213394</td>\n",
       "    </tr>\n",
       "    <tr>\n",
       "      <th>16</th>\n",
       "      <td>QSO_sim_ETC_z1.5_mag19.0_fobs20.0_LJ1.fits</td>\n",
       "      <td>19.0</td>\n",
       "      <td>47.0</td>\n",
       "      <td>20.0</td>\n",
       "      <td>940.0</td>\n",
       "      <td>11.792801</td>\n",
       "      <td>38.916245</td>\n",
       "    </tr>\n",
       "    <tr>\n",
       "      <th>17</th>\n",
       "      <td>QSO_sim_ETC_z1.5_mag19.0_fobs40.0_LJ1.fits</td>\n",
       "      <td>19.0</td>\n",
       "      <td>47.0</td>\n",
       "      <td>40.0</td>\n",
       "      <td>1880.0</td>\n",
       "      <td>16.765026</td>\n",
       "      <td>55.324585</td>\n",
       "    </tr>\n",
       "    <tr>\n",
       "      <th>18</th>\n",
       "      <td>QSO_sim_ETC_z1.5_mag20.5_fobs2.0_LJ1.fits</td>\n",
       "      <td>20.5</td>\n",
       "      <td>47.0</td>\n",
       "      <td>2.0</td>\n",
       "      <td>94.0</td>\n",
       "      <td>1.013620</td>\n",
       "      <td>3.344944</td>\n",
       "    </tr>\n",
       "    <tr>\n",
       "      <th>19</th>\n",
       "      <td>QSO_sim_ETC_z1.5_mag20.5_fobs3.0_LJ1.fits</td>\n",
       "      <td>20.5</td>\n",
       "      <td>47.0</td>\n",
       "      <td>3.0</td>\n",
       "      <td>141.0</td>\n",
       "      <td>1.287223</td>\n",
       "      <td>4.247835</td>\n",
       "    </tr>\n",
       "    <tr>\n",
       "      <th>20</th>\n",
       "      <td>QSO_sim_ETC_z1.5_mag20.5_fobs5.0_LJ1.fits</td>\n",
       "      <td>20.5</td>\n",
       "      <td>47.0</td>\n",
       "      <td>5.0</td>\n",
       "      <td>235.0</td>\n",
       "      <td>1.729545</td>\n",
       "      <td>5.707498</td>\n",
       "    </tr>\n",
       "    <tr>\n",
       "      <th>21</th>\n",
       "      <td>QSO_sim_ETC_z1.5_mag20.5_fobs10.0_LJ1.fits</td>\n",
       "      <td>20.5</td>\n",
       "      <td>47.0</td>\n",
       "      <td>10.0</td>\n",
       "      <td>470.0</td>\n",
       "      <td>2.491696</td>\n",
       "      <td>8.222598</td>\n",
       "    </tr>\n",
       "    <tr>\n",
       "      <th>22</th>\n",
       "      <td>QSO_sim_ETC_z1.5_mag20.5_fobs20.0_LJ1.fits</td>\n",
       "      <td>20.5</td>\n",
       "      <td>47.0</td>\n",
       "      <td>20.0</td>\n",
       "      <td>940.0</td>\n",
       "      <td>3.591424</td>\n",
       "      <td>11.851701</td>\n",
       "    </tr>\n",
       "    <tr>\n",
       "      <th>23</th>\n",
       "      <td>QSO_sim_ETC_z1.5_mag20.5_fobs40.0_LJ1.fits</td>\n",
       "      <td>20.5</td>\n",
       "      <td>47.0</td>\n",
       "      <td>40.0</td>\n",
       "      <td>1880.0</td>\n",
       "      <td>5.130487</td>\n",
       "      <td>16.930611</td>\n",
       "    </tr>\n",
       "    <tr>\n",
       "      <th>24</th>\n",
       "      <td>QSO_sim_ETC_z1.5_mag21.5_fobs2.0_LJ1.fits</td>\n",
       "      <td>21.5</td>\n",
       "      <td>47.0</td>\n",
       "      <td>2.0</td>\n",
       "      <td>94.0</td>\n",
       "      <td>0.416519</td>\n",
       "      <td>1.374512</td>\n",
       "    </tr>\n",
       "    <tr>\n",
       "      <th>25</th>\n",
       "      <td>QSO_sim_ETC_z1.5_mag21.5_fobs3.0_LJ1.fits</td>\n",
       "      <td>21.5</td>\n",
       "      <td>47.0</td>\n",
       "      <td>3.0</td>\n",
       "      <td>141.0</td>\n",
       "      <td>0.526822</td>\n",
       "      <td>1.738512</td>\n",
       "    </tr>\n",
       "    <tr>\n",
       "      <th>26</th>\n",
       "      <td>QSO_sim_ETC_z1.5_mag21.5_fobs5.0_LJ1.fits</td>\n",
       "      <td>21.5</td>\n",
       "      <td>47.0</td>\n",
       "      <td>5.0</td>\n",
       "      <td>235.0</td>\n",
       "      <td>0.709293</td>\n",
       "      <td>2.340668</td>\n",
       "    </tr>\n",
       "    <tr>\n",
       "      <th>27</th>\n",
       "      <td>QSO_sim_ETC_z1.5_mag21.5_fobs10.0_LJ1.fits</td>\n",
       "      <td>21.5</td>\n",
       "      <td>47.0</td>\n",
       "      <td>10.0</td>\n",
       "      <td>470.0</td>\n",
       "      <td>1.057120</td>\n",
       "      <td>3.488497</td>\n",
       "    </tr>\n",
       "    <tr>\n",
       "      <th>28</th>\n",
       "      <td>QSO_sim_ETC_z1.5_mag21.5_fobs20.0_LJ1.fits</td>\n",
       "      <td>21.5</td>\n",
       "      <td>47.0</td>\n",
       "      <td>20.0</td>\n",
       "      <td>940.0</td>\n",
       "      <td>1.498102</td>\n",
       "      <td>4.943737</td>\n",
       "    </tr>\n",
       "    <tr>\n",
       "      <th>29</th>\n",
       "      <td>QSO_sim_ETC_z1.5_mag21.5_fobs40.0_LJ1.fits</td>\n",
       "      <td>21.5</td>\n",
       "      <td>47.0</td>\n",
       "      <td>40.0</td>\n",
       "      <td>1880.0</td>\n",
       "      <td>2.146550</td>\n",
       "      <td>7.083614</td>\n",
       "    </tr>\n",
       "  </tbody>\n",
       "</table>\n",
       "</div>"
      ],
      "text/plain": [
       "                                      filename   mag  texp  fobs  texp_x_fobs  \\\n",
       "0    QSO_sim_ETC_z1.5_mag15.0_fobs2.0_LJ1.fits  15.0  47.0   2.0         94.0   \n",
       "1    QSO_sim_ETC_z1.5_mag15.0_fobs3.0_LJ1.fits  15.0  47.0   3.0        141.0   \n",
       "2    QSO_sim_ETC_z1.5_mag15.0_fobs5.0_LJ1.fits  15.0  47.0   5.0        235.0   \n",
       "3   QSO_sim_ETC_z1.5_mag15.0_fobs10.0_LJ1.fits  15.0  47.0  10.0        470.0   \n",
       "4   QSO_sim_ETC_z1.5_mag15.0_fobs20.0_LJ1.fits  15.0  47.0  20.0        940.0   \n",
       "5   QSO_sim_ETC_z1.5_mag15.0_fobs40.0_LJ1.fits  15.0  47.0  40.0       1880.0   \n",
       "6    QSO_sim_ETC_z1.5_mag17.0_fobs2.0_LJ1.fits  17.0  47.0   2.0         94.0   \n",
       "7    QSO_sim_ETC_z1.5_mag17.0_fobs3.0_LJ1.fits  17.0  47.0   3.0        141.0   \n",
       "8    QSO_sim_ETC_z1.5_mag17.0_fobs5.0_LJ1.fits  17.0  47.0   5.0        235.0   \n",
       "9   QSO_sim_ETC_z1.5_mag17.0_fobs10.0_LJ1.fits  17.0  47.0  10.0        470.0   \n",
       "10  QSO_sim_ETC_z1.5_mag17.0_fobs20.0_LJ1.fits  17.0  47.0  20.0        940.0   \n",
       "11  QSO_sim_ETC_z1.5_mag17.0_fobs40.0_LJ1.fits  17.0  47.0  40.0       1880.0   \n",
       "12   QSO_sim_ETC_z1.5_mag19.0_fobs2.0_LJ1.fits  19.0  47.0   2.0         94.0   \n",
       "13   QSO_sim_ETC_z1.5_mag19.0_fobs3.0_LJ1.fits  19.0  47.0   3.0        141.0   \n",
       "14   QSO_sim_ETC_z1.5_mag19.0_fobs5.0_LJ1.fits  19.0  47.0   5.0        235.0   \n",
       "15  QSO_sim_ETC_z1.5_mag19.0_fobs10.0_LJ1.fits  19.0  47.0  10.0        470.0   \n",
       "16  QSO_sim_ETC_z1.5_mag19.0_fobs20.0_LJ1.fits  19.0  47.0  20.0        940.0   \n",
       "17  QSO_sim_ETC_z1.5_mag19.0_fobs40.0_LJ1.fits  19.0  47.0  40.0       1880.0   \n",
       "18   QSO_sim_ETC_z1.5_mag20.5_fobs2.0_LJ1.fits  20.5  47.0   2.0         94.0   \n",
       "19   QSO_sim_ETC_z1.5_mag20.5_fobs3.0_LJ1.fits  20.5  47.0   3.0        141.0   \n",
       "20   QSO_sim_ETC_z1.5_mag20.5_fobs5.0_LJ1.fits  20.5  47.0   5.0        235.0   \n",
       "21  QSO_sim_ETC_z1.5_mag20.5_fobs10.0_LJ1.fits  20.5  47.0  10.0        470.0   \n",
       "22  QSO_sim_ETC_z1.5_mag20.5_fobs20.0_LJ1.fits  20.5  47.0  20.0        940.0   \n",
       "23  QSO_sim_ETC_z1.5_mag20.5_fobs40.0_LJ1.fits  20.5  47.0  40.0       1880.0   \n",
       "24   QSO_sim_ETC_z1.5_mag21.5_fobs2.0_LJ1.fits  21.5  47.0   2.0         94.0   \n",
       "25   QSO_sim_ETC_z1.5_mag21.5_fobs3.0_LJ1.fits  21.5  47.0   3.0        141.0   \n",
       "26   QSO_sim_ETC_z1.5_mag21.5_fobs5.0_LJ1.fits  21.5  47.0   5.0        235.0   \n",
       "27  QSO_sim_ETC_z1.5_mag21.5_fobs10.0_LJ1.fits  21.5  47.0  10.0        470.0   \n",
       "28  QSO_sim_ETC_z1.5_mag21.5_fobs20.0_LJ1.fits  21.5  47.0  20.0        940.0   \n",
       "29  QSO_sim_ETC_z1.5_mag21.5_fobs40.0_LJ1.fits  21.5  47.0  40.0       1880.0   \n",
       "\n",
       "    mean_snr_per_pixel  mean_snr_per_ang  \n",
       "0            35.539036        117.278809  \n",
       "1            43.620220        143.946716  \n",
       "2            56.428688        186.214676  \n",
       "3            79.897736        263.662537  \n",
       "4           113.059090        373.094971  \n",
       "5           159.963638        527.879944  \n",
       "6            12.688695         41.872692  \n",
       "7            15.712529         51.851353  \n",
       "8            20.473156         67.561417  \n",
       "9            29.151886         96.201225  \n",
       "10           41.378910        136.550400  \n",
       "11           58.624512        193.460876  \n",
       "12            3.409089         11.249993  \n",
       "13            4.302236         14.197380  \n",
       "14            5.713159         18.853424  \n",
       "15            8.246484         27.213394  \n",
       "16           11.792801         38.916245  \n",
       "17           16.765026         55.324585  \n",
       "18            1.013620          3.344944  \n",
       "19            1.287223          4.247835  \n",
       "20            1.729545          5.707498  \n",
       "21            2.491696          8.222598  \n",
       "22            3.591424         11.851701  \n",
       "23            5.130487         16.930611  \n",
       "24            0.416519          1.374512  \n",
       "25            0.526822          1.738512  \n",
       "26            0.709293          2.340668  \n",
       "27            1.057120          3.488497  \n",
       "28            1.498102          4.943737  \n",
       "29            2.146550          7.083614  "
      ]
     },
     "execution_count": 59,
     "metadata": {},
     "output_type": "execute_result"
    }
   ],
   "source": [
    "etc_snr[['mean_snr_per_pixel', 'mean_snr_per_ang']] = etc_snr.apply(lambda x: pd.Series(get_SNR(x)), axis=1)\n",
    "etc_snr"
   ]
  },
  {
   "cell_type": "code",
   "execution_count": null,
   "id": "d0f454bc",
   "metadata": {},
   "outputs": [],
   "source": [
    "# etc_snr.to_csv('./../SNR/SNR_per_mag_and_fobs.csv', index=False)"
   ]
  },
  {
   "cell_type": "code",
   "execution_count": 79,
   "id": "b48407b9",
   "metadata": {},
   "outputs": [
    {
     "data": {
      "text/plain": [
       "<Axes: >"
      ]
     },
     "execution_count": 79,
     "metadata": {},
     "output_type": "execute_result"
    },
    {
     "data": {
      "image/png": "[encoded data removed]",
      "text/plain": [
       "<Figure size 640x480 with 1 Axes>"
      ]
     },
     "metadata": {},
     "output_type": "display_data"
    }
   ],
   "source": [
    "etc_snr.mean_snr_per_pixel.hist()"
   ]
  },
  {
   "cell_type": "code",
   "execution_count": null,
   "id": "9d96b051",
   "metadata": {},
   "outputs": [
    {
     "data": {
      "image/png": "[encoded data removed]",
      "text/plain": [
       "<Figure size 1000x600 with 1 Axes>"
      ]
     },
     "metadata": {},
     "output_type": "display_data"
    }
   ],
   "source": [
    "plt.figure(figsize=(10, 6))\n",
    "\n",
    "markers = ['o', 's', 'D', '^', 'v', '*']\n",
    "\n",
    "for i, fob in enumerate(fobs):\n",
    "\n",
    "    data = etc_snr[etc_snr['fobs'] == fob]\n",
    "\n",
    "    plt.plot(data['mag'], data['mean_snr_per_pixel'], marker=markers[i], \n",
    "             label=f'fobs = {fob} ({fob * texp.value} min total)'\n",
    "             )\n",
    "\n",
    "    for snr in data['mean_snr_per_pixel']:\n",
    "        if snr < 0.0:\n",
    "            print(snr)\n",
    "\n",
    "plt.axhline(y=5, color='black', linestyle='--', alpha=0.7, label='SNR=5')\n",
    "\n",
    "plt.yscale('log')\n",
    "\n",
    "plt.xlabel('Magnitude', fontsize=12)\n",
    "plt.ylabel('SNR per pixel', fontsize=12)\n",
    "\n",
    "plt.legend(loc='upper right')\n",
    "\n",
    "plt.tight_layout()\n",
    "\n",
    "# plt.savefig('./../SNR/SNR_vs_fobs_mag.png', dpi=400)\n",
    "\n",
    "plt.show()"
   ]
  },
  {
   "cell_type": "markdown",
   "id": "7aff0835",
   "metadata": {},
   "source": [
    "# SNR of the whole catalogue"
   ]
  },
  {
   "cell_type": "code",
   "execution_count": 4,
   "id": "478304f4",
   "metadata": {},
   "outputs": [],
   "source": [
    "def spec_name(row):\n",
    "    z_str = str(np.round(row['REDSHIFT_ESTIMATE'], 4))\n",
    "    mag_str = str(np.round(row['MAG'], 2))\n",
    "    ruleset_name = row['RULESET']\n",
    "    target_name = row['NAME']\n",
    "    model_id = f'QSO_sim_ETC_z{z_str}_mag{mag_str}_{target_name}_LJ1.fits'\n",
    "    return model_id"
   ]
  },
  {
   "cell_type": "code",
   "execution_count": 5,
   "id": "c75d0164",
   "metadata": {},
   "outputs": [
    {
     "data": {
      "text/html": [
       "<div>\n",
       "<style scoped>\n",
       "    .dataframe tbody tr th:only-of-type {\n",
       "        vertical-align: middle;\n",
       "    }\n",
       "\n",
       "    .dataframe tbody tr th {\n",
       "        vertical-align: top;\n",
       "    }\n",
       "\n",
       "    .dataframe thead th {\n",
       "        text-align: right;\n",
       "    }\n",
       "</style>\n",
       "<table border=\"1\" class=\"dataframe\">\n",
       "  <thead>\n",
       "    <tr style=\"text-align: right;\">\n",
       "      <th></th>\n",
       "      <th>SWEEP_NAME</th>\n",
       "      <th>INDEX_SWEEP</th>\n",
       "      <th>BRICKNAME</th>\n",
       "      <th>OBJID</th>\n",
       "      <th>TYPE</th>\n",
       "      <th>RA</th>\n",
       "      <th>DEC</th>\n",
       "      <th>EBV</th>\n",
       "      <th>SN_MAX</th>\n",
       "      <th>PLXSIG</th>\n",
       "      <th>...</th>\n",
       "      <th>CAL_MAG_ID_BLUE</th>\n",
       "      <th>CAL_MAG_ID_GREEN</th>\n",
       "      <th>CAL_MAG_ID_RED</th>\n",
       "      <th>RULESET</th>\n",
       "      <th>NAME</th>\n",
       "      <th>fobs</th>\n",
       "      <th>SNR_mean</th>\n",
       "      <th>SNR_blue_mean</th>\n",
       "      <th>SNR_green_mean</th>\n",
       "      <th>SNR_red_mean</th>\n",
       "    </tr>\n",
       "  </thead>\n",
       "  <tbody>\n",
       "    <tr>\n",
       "      <th>0</th>\n",
       "      <td>000m030-005m025</td>\n",
       "      <td>16955.0</td>\n",
       "      <td>0029m287</td>\n",
       "      <td>425.0</td>\n",
       "      <td>REX</td>\n",
       "      <td>2.854988</td>\n",
       "      <td>-28.867229</td>\n",
       "      <td>0.016329</td>\n",
       "      <td>70.079727</td>\n",
       "      <td>-99.000000</td>\n",
       "      <td>...</td>\n",
       "      <td>DECAM_G_AB_PSF</td>\n",
       "      <td>DECAM_R_AB_PSF</td>\n",
       "      <td>DECAM_I_AB_PSF</td>\n",
       "      <td>Fixed_BG_NOISE_0p33hr_Rulesets</td>\n",
       "      <td>MgIIBlueDeep_2.855m28.8672</td>\n",
       "      <td>1.112188</td>\n",
       "      <td>0.469754</td>\n",
       "      <td>0.415968</td>\n",
       "      <td>0.533687</td>\n",
       "      <td>0.459892</td>\n",
       "    </tr>\n",
       "    <tr>\n",
       "      <th>1</th>\n",
       "      <td>000m030-005m025</td>\n",
       "      <td>21473.0</td>\n",
       "      <td>0029m287</td>\n",
       "      <td>5019.0</td>\n",
       "      <td>REX</td>\n",
       "      <td>2.995691</td>\n",
       "      <td>-28.635296</td>\n",
       "      <td>0.013518</td>\n",
       "      <td>93.950668</td>\n",
       "      <td>-99.000000</td>\n",
       "      <td>...</td>\n",
       "      <td>DECAM_G_AB_PSF</td>\n",
       "      <td>DECAM_R_AB_PSF</td>\n",
       "      <td>DECAM_I_AB_PSF</td>\n",
       "      <td>Fixed_BG_NOISE_0p33hr_Rulesets</td>\n",
       "      <td>MgIIBlueDeep_2.9957m28.6353</td>\n",
       "      <td>1.272858</td>\n",
       "      <td>0.307231</td>\n",
       "      <td>0.175061</td>\n",
       "      <td>0.347418</td>\n",
       "      <td>0.397552</td>\n",
       "    </tr>\n",
       "    <tr>\n",
       "      <th>2</th>\n",
       "      <td>000m030-005m025</td>\n",
       "      <td>21547.0</td>\n",
       "      <td>0029m287</td>\n",
       "      <td>5097.0</td>\n",
       "      <td>PSF</td>\n",
       "      <td>2.998681</td>\n",
       "      <td>-28.695906</td>\n",
       "      <td>0.014227</td>\n",
       "      <td>111.909660</td>\n",
       "      <td>-99.000000</td>\n",
       "      <td>...</td>\n",
       "      <td>DECAM_G_AB_PSF</td>\n",
       "      <td>DECAM_R_AB_PSF</td>\n",
       "      <td>DECAM_I_AB_PSF</td>\n",
       "      <td>Fixed_BG_NOISE_0p33hr_Rulesets</td>\n",
       "      <td>MgIIBlueDeep_2.9987m28.6959</td>\n",
       "      <td>1.252395</td>\n",
       "      <td>0.589569</td>\n",
       "      <td>0.317091</td>\n",
       "      <td>0.629089</td>\n",
       "      <td>0.818222</td>\n",
       "    </tr>\n",
       "    <tr>\n",
       "      <th>3</th>\n",
       "      <td>000m030-005m025</td>\n",
       "      <td>21765.0</td>\n",
       "      <td>0029m287</td>\n",
       "      <td>5323.0</td>\n",
       "      <td>SER</td>\n",
       "      <td>3.007118</td>\n",
       "      <td>-28.631196</td>\n",
       "      <td>0.013384</td>\n",
       "      <td>175.493042</td>\n",
       "      <td>-99.000000</td>\n",
       "      <td>...</td>\n",
       "      <td>DECAM_G_AB_PSF</td>\n",
       "      <td>DECAM_R_AB_PSF</td>\n",
       "      <td>DECAM_I_AB_PSF</td>\n",
       "      <td>Fixed_BG_NOISE_0p33hr_Rulesets</td>\n",
       "      <td>MgIIBlueDeep_3.0071m28.6312</td>\n",
       "      <td>4.838731</td>\n",
       "      <td>0.895251</td>\n",
       "      <td>0.525017</td>\n",
       "      <td>0.925685</td>\n",
       "      <td>1.228731</td>\n",
       "    </tr>\n",
       "    <tr>\n",
       "      <th>4</th>\n",
       "      <td>000m030-005m025</td>\n",
       "      <td>24879.0</td>\n",
       "      <td>0029m287</td>\n",
       "      <td>8506.0</td>\n",
       "      <td>PSF</td>\n",
       "      <td>3.104241</td>\n",
       "      <td>-28.746363</td>\n",
       "      <td>0.013091</td>\n",
       "      <td>200.720352</td>\n",
       "      <td>0.052104</td>\n",
       "      <td>...</td>\n",
       "      <td>DECAM_G_AB_PSF</td>\n",
       "      <td>DECAM_R_AB_PSF</td>\n",
       "      <td>DECAM_I_AB_PSF</td>\n",
       "      <td>Fixed_BG_NOISE_0p33hr_Rulesets</td>\n",
       "      <td>MgIIBlueDeep_3.1042m28.7464</td>\n",
       "      <td>7.592981</td>\n",
       "      <td>0.846860</td>\n",
       "      <td>0.522841</td>\n",
       "      <td>0.850583</td>\n",
       "      <td>1.161161</td>\n",
       "    </tr>\n",
       "  </tbody>\n",
       "</table>\n",
       "<p>5 rows × 85 columns</p>\n",
       "</div>"
      ],
      "text/plain": [
       "        SWEEP_NAME  INDEX_SWEEP BRICKNAME   OBJID TYPE        RA        DEC  \\\n",
       "0  000m030-005m025      16955.0  0029m287   425.0  REX  2.854988 -28.867229   \n",
       "1  000m030-005m025      21473.0  0029m287  5019.0  REX  2.995691 -28.635296   \n",
       "2  000m030-005m025      21547.0  0029m287  5097.0  PSF  2.998681 -28.695906   \n",
       "3  000m030-005m025      21765.0  0029m287  5323.0  SER  3.007118 -28.631196   \n",
       "4  000m030-005m025      24879.0  0029m287  8506.0  PSF  3.104241 -28.746363   \n",
       "\n",
       "        EBV      SN_MAX     PLXSIG  ...  CAL_MAG_ID_BLUE CAL_MAG_ID_GREEN  \\\n",
       "0  0.016329   70.079727 -99.000000  ...   DECAM_G_AB_PSF   DECAM_R_AB_PSF   \n",
       "1  0.013518   93.950668 -99.000000  ...   DECAM_G_AB_PSF   DECAM_R_AB_PSF   \n",
       "2  0.014227  111.909660 -99.000000  ...   DECAM_G_AB_PSF   DECAM_R_AB_PSF   \n",
       "3  0.013384  175.493042 -99.000000  ...   DECAM_G_AB_PSF   DECAM_R_AB_PSF   \n",
       "4  0.013091  200.720352   0.052104  ...   DECAM_G_AB_PSF   DECAM_R_AB_PSF   \n",
       "\n",
       "   CAL_MAG_ID_RED                         RULESET  \\\n",
       "0  DECAM_I_AB_PSF  Fixed_BG_NOISE_0p33hr_Rulesets   \n",
       "1  DECAM_I_AB_PSF  Fixed_BG_NOISE_0p33hr_Rulesets   \n",
       "2  DECAM_I_AB_PSF  Fixed_BG_NOISE_0p33hr_Rulesets   \n",
       "3  DECAM_I_AB_PSF  Fixed_BG_NOISE_0p33hr_Rulesets   \n",
       "4  DECAM_I_AB_PSF  Fixed_BG_NOISE_0p33hr_Rulesets   \n",
       "\n",
       "                          NAME      fobs  SNR_mean  SNR_blue_mean  \\\n",
       "0   MgIIBlueDeep_2.855m28.8672  1.112188  0.469754       0.415968   \n",
       "1  MgIIBlueDeep_2.9957m28.6353  1.272858  0.307231       0.175061   \n",
       "2  MgIIBlueDeep_2.9987m28.6959  1.252395  0.589569       0.317091   \n",
       "3  MgIIBlueDeep_3.0071m28.6312  4.838731  0.895251       0.525017   \n",
       "4  MgIIBlueDeep_3.1042m28.7464  7.592981  0.846860       0.522841   \n",
       "\n",
       "   SNR_green_mean  SNR_red_mean  \n",
       "0        0.533687      0.459892  \n",
       "1        0.347418      0.397552  \n",
       "2        0.629089      0.818222  \n",
       "3        0.925685      1.228731  \n",
       "4        0.850583      1.161161  \n",
       "\n",
       "[5 rows x 85 columns]"
      ]
     },
     "execution_count": 5,
     "metadata": {},
     "output_type": "execute_result"
    }
   ],
   "source": [
    "cat = pandas_from_fits('/data2/home2/nguerrav/Catalogues/ByCycle_Final_Cat_fobs_qso_templates_with_SNR.fits')\n",
    "cat.head()"
   ]
  },
  {
   "cell_type": "code",
   "execution_count": 8,
   "id": "b0e24e96",
   "metadata": {},
   "outputs": [],
   "source": [
    "save_to_fits(cat, '/data2/home2/nguerrav/Catalogues/ByCycle_Final_Cat_fobs_qso_templates_with_SNR_with_some_neg_snrs.fits')"
   ]
  },
  {
   "cell_type": "code",
   "execution_count": 6,
   "id": "7040b66b",
   "metadata": {},
   "outputs": [
    {
     "data": {
      "text/plain": [
       "(1361483, 85)"
      ]
     },
     "execution_count": 6,
     "metadata": {},
     "output_type": "execute_result"
    }
   ],
   "source": [
    "cat.shape"
   ]
  },
  {
   "cell_type": "code",
   "execution_count": 7,
   "id": "992af465",
   "metadata": {},
   "outputs": [
    {
     "data": {
      "text/plain": [
       "(1334238, 85)"
      ]
     },
     "execution_count": 7,
     "metadata": {},
     "output_type": "execute_result"
    }
   ],
   "source": [
    "cat_snr_ok = cat.loc[cat.SNR_mean >= 0.0]\n",
    "cat_snr_ok.reset_index(drop=True, inplace=True)\n",
    "cat_snr_ok.shape"
   ]
  },
  {
   "cell_type": "code",
   "execution_count": 8,
   "id": "4c95bce7",
   "metadata": {},
   "outputs": [],
   "source": [
    "save_to_fits(cat_snr_ok, '/data2/home2/nguerrav/Catalogues/ByCycle_final_SNR_ok.fits')"
   ]
  },
  {
   "cell_type": "code",
   "execution_count": 9,
   "id": "cbcfa1c3",
   "metadata": {},
   "outputs": [
    {
     "data": {
      "text/plain": [
       "Index(['SWEEP_NAME', 'INDEX_SWEEP', 'BRICKNAME', 'OBJID', 'TYPE', 'RA', 'DEC',\n",
       "       'EBV', 'SN_MAX', 'PLXSIG', 'PMSIG', 'BAND_LEGACY', 'REFERENCE_BAND',\n",
       "       'COMBINATION_USE', 'CAL_MAG_BLUE', 'CAL_MAG_GREEN', 'CAL_MAG_RED',\n",
       "       'MAG', 'CAL_MAG_ERR_BLUE', 'CAL_MAG_ERR_GREEN', 'CAL_MAG_ERR_RED',\n",
       "       'MAG_ERR', 'MAG_Y', 'MAG_J', 'MAG_H', 'MAG_K', 'MAGERR_Y', 'MAGERR_J',\n",
       "       'MAGERR_H', 'MAGERR_K', 'MAG_W1', 'MAG_W2', 'MAGERR_W1', 'MAGERR_W2',\n",
       "       'P_QSO', 'REDSHIFT_ESTIMATE', 'Z1_QSO', 'Z2_QSO', 'P_QSO_Z', 'P_GALAXY',\n",
       "       'PHOTOZ_GALAXY', 'Z1_GALAXY', 'Z2_GALAXY', 'P_GALAXY_Z', 'P_STAR',\n",
       "       'RATIO', 'CLASS_SPEC', 'Z_SPEC', 'REDSHIFT_ERROR', 'REDSHIFT_REF', 'l',\n",
       "       'b', 'pm', 'PMRA', 'PMDEC', 'pmra_error', 'pmdec_error', 'Z_DESI',\n",
       "       'SPECTYPE_DESI', 'SUBSURVEY', 'EPOCH', 'RESOLUTION', 'CADENCE',\n",
       "       'TEMPLATE', 'EXTENT_FLAG', 'EXTENT_PARAMETER', 'EXTENT_INDEX',\n",
       "       'REDDENING', 'TEMPLATE_REDSHIFT', 'DATE_EARLIEST', 'DATE_LATEST',\n",
       "       'CLASSIFICATION', 'COMPLETENESS', 'PARALLAX', 'MAG_TYPE',\n",
       "       'CAL_MAG_ID_BLUE', 'CAL_MAG_ID_GREEN', 'CAL_MAG_ID_RED', 'RULESET',\n",
       "       'NAME', 'fobs', 'SNR_mean', 'SNR_blue_mean', 'SNR_green_mean',\n",
       "       'SNR_red_mean'],\n",
       "      dtype='object')"
      ]
     },
     "execution_count": 9,
     "metadata": {},
     "output_type": "execute_result"
    }
   ],
   "source": [
    "cat.columns"
   ]
  },
  {
   "cell_type": "markdown",
   "id": "376144b5",
   "metadata": {},
   "source": [
    "## Define golden sample"
   ]
  },
  {
   "cell_type": "code",
   "execution_count": 6,
   "id": "8f9a08ef",
   "metadata": {},
   "outputs": [
    {
     "data": {
      "text/plain": [
       "(16495, 85)"
      ]
     },
     "execution_count": 6,
     "metadata": {},
     "output_type": "execute_result"
    }
   ],
   "source": [
    "cat.loc[(cat['fobs']>= 5.0) & (cat['MAG'] <= 20.0)].shape"
   ]
  },
  {
   "cell_type": "code",
   "execution_count": 7,
   "id": "04927ce9",
   "metadata": {},
   "outputs": [
    {
     "data": {
      "text/plain": [
       "Counter({False: 1344988, True: 16495})"
      ]
     },
     "execution_count": 7,
     "metadata": {},
     "output_type": "execute_result"
    }
   ],
   "source": [
    "cat['golden'] = False\n",
    "cat.loc[(cat['fobs']>= 5.0) & (cat['MAG'] <= 20.0), 'golden'] = True\n",
    "Counter(cat['golden'])"
   ]
  },
  {
   "cell_type": "code",
   "execution_count": 13,
   "id": "753c5b31",
   "metadata": {},
   "outputs": [
    {
     "data": {
      "text/plain": [
       "(16495, 86)"
      ]
     },
     "execution_count": 13,
     "metadata": {},
     "output_type": "execute_result"
    }
   ],
   "source": [
    "golden = cat.loc[cat['golden']]\n",
    "golden.reset_index(drop=True, inplace=True)\n",
    "golden.shape"
   ]
  },
  {
   "cell_type": "code",
   "execution_count": 11,
   "id": "2a220078",
   "metadata": {},
   "outputs": [
    {
     "data": {
      "text/plain": [
       "(16175, 86)"
      ]
     },
     "execution_count": 11,
     "metadata": {},
     "output_type": "execute_result"
    }
   ],
   "source": [
    "golden = golden.loc[golden.SNR_mean >= 0.0]\n",
    "golden.reset_index(drop=True, inplace=True)\n",
    "golden.shape"
   ]
  },
  {
   "cell_type": "code",
   "execution_count": 14,
   "id": "2b884cc5",
   "metadata": {},
   "outputs": [
    {
     "data": {
      "image/png": "[encoded data removed]",
      "text/plain": [
       "<Figure size 640x480 with 1 Axes>"
      ]
     },
     "metadata": {},
     "output_type": "display_data"
    }
   ],
   "source": [
    "golden.SNR_mean.hist()\n",
    "plt.yscale('log')"
   ]
  },
  {
   "cell_type": "code",
   "execution_count": 38,
   "id": "16ef163f",
   "metadata": {},
   "outputs": [],
   "source": [
    "golden.to_csv('/data2/home2/nguerrav/Catalogues/golden_sample_ByCycle.csv', index=False)"
   ]
  },
  {
   "cell_type": "code",
   "execution_count": 52,
   "id": "c3fe8577",
   "metadata": {},
   "outputs": [
    {
     "data": {
      "text/plain": [
       "(1344988, 86)"
      ]
     },
     "execution_count": 52,
     "metadata": {},
     "output_type": "execute_result"
    }
   ],
   "source": [
    "not_golden = cat.loc[cat['golden'] == False]\n",
    "not_golden.reset_index(drop=True, inplace=True)\n",
    "not_golden.shape"
   ]
  },
  {
   "cell_type": "code",
   "execution_count": 53,
   "id": "7d3c0ff5",
   "metadata": {},
   "outputs": [
    {
     "data": {
      "text/plain": [
       "(592776, 86)"
      ]
     },
     "execution_count": 53,
     "metadata": {},
     "output_type": "execute_result"
    }
   ],
   "source": [
    "not_golden = not_golden.loc[not_golden.SNR_mean >= 1.0]\n",
    "not_golden.reset_index(drop=True, inplace=True)\n",
    "not_golden.shape"
   ]
  },
  {
   "cell_type": "code",
   "execution_count": 54,
   "id": "5ec73ffb",
   "metadata": {},
   "outputs": [],
   "source": [
    "save_to_fits(not_golden, '/data2/home2/nguerrav/Catalogues/test_set_cat_not_in_golden_sample.fits')"
   ]
  },
  {
   "cell_type": "code",
   "execution_count": 10,
   "id": "bca17685",
   "metadata": {},
   "outputs": [
    {
     "data": {
      "image/png": "[encoded data removed]",
      "text/plain": [
       "<Figure size 640x480 with 1 Axes>"
      ]
     },
     "metadata": {},
     "output_type": "display_data"
    }
   ],
   "source": [
    "cat.fobs.hist();\n",
    "plt.yscale('log')"
   ]
  },
  {
   "cell_type": "code",
   "execution_count": 17,
   "id": "f0dfedcd",
   "metadata": {},
   "outputs": [
    {
     "data": {
      "text/plain": [
       "(1361483, 85)"
      ]
     },
     "execution_count": 17,
     "metadata": {},
     "output_type": "execute_result"
    }
   ],
   "source": [
    "cat.shape"
   ]
  },
  {
   "cell_type": "code",
   "execution_count": 16,
   "id": "41c117f5",
   "metadata": {},
   "outputs": [
    {
     "data": {
      "text/plain": [
       "(1334238, 85)"
      ]
     },
     "execution_count": 16,
     "metadata": {},
     "output_type": "execute_result"
    }
   ],
   "source": [
    "cat.loc[cat['SNR_mean'] >= 0.0].shape"
   ]
  },
  {
   "cell_type": "code",
   "execution_count": 14,
   "id": "db7b1224",
   "metadata": {},
   "outputs": [
    {
     "data": {
      "image/png": "[encoded data removed]",
      "text/plain": [
       "<Figure size 640x480 with 1 Axes>"
      ]
     },
     "metadata": {},
     "output_type": "display_data"
    }
   ],
   "source": [
    "cat.loc[cat['SNR_mean'] >= 0.0].SNR_mean.hist()\n",
    "plt.yscale('log')"
   ]
  },
  {
   "cell_type": "code",
   "execution_count": 27,
   "id": "1935c96b",
   "metadata": {},
   "outputs": [
    {
     "data": {
      "text/plain": [
       "<Axes: >"
      ]
     },
     "execution_count": 27,
     "metadata": {},
     "output_type": "execute_result"
    },
    {
     "data": {
      "image/png": "[encoded data removed]",
      "text/plain": [
       "<Figure size 640x480 with 1 Axes>"
      ]
     },
     "metadata": {},
     "output_type": "display_data"
    }
   ],
   "source": [
    "golden.SNR_mean.hist()"
   ]
  },
  {
   "cell_type": "code",
   "execution_count": 9,
   "id": "48654e66",
   "metadata": {},
   "outputs": [
    {
     "data": {
      "text/plain": [
       "Index(['SWEEP_NAME', 'INDEX_SWEEP', 'BRICKNAME', 'OBJID', 'TYPE', 'RA', 'DEC',\n",
       "       'EBV', 'SN_MAX', 'PLXSIG', 'PMSIG', 'BAND_LEGACY', 'REFERENCE_BAND',\n",
       "       'COMBINATION_USE', 'CAL_MAG_BLUE', 'CAL_MAG_GREEN', 'CAL_MAG_RED',\n",
       "       'MAG', 'CAL_MAG_ERR_BLUE', 'CAL_MAG_ERR_GREEN', 'CAL_MAG_ERR_RED',\n",
       "       'MAG_ERR', 'MAG_Y', 'MAG_J', 'MAG_H', 'MAG_K', 'MAGERR_Y', 'MAGERR_J',\n",
       "       'MAGERR_H', 'MAGERR_K', 'MAG_W1', 'MAG_W2', 'MAGERR_W1', 'MAGERR_W2',\n",
       "       'P_QSO', 'REDSHIFT_ESTIMATE', 'Z1_QSO', 'Z2_QSO', 'P_QSO_Z', 'P_GALAXY',\n",
       "       'PHOTOZ_GALAXY', 'Z1_GALAXY', 'Z2_GALAXY', 'P_GALAXY_Z', 'P_STAR',\n",
       "       'RATIO', 'CLASS_SPEC', 'Z_SPEC', 'REDSHIFT_ERROR', 'REDSHIFT_REF', 'l',\n",
       "       'b', 'pm', 'PMRA', 'PMDEC', 'pmra_error', 'pmdec_error', 'Z_DESI',\n",
       "       'SPECTYPE_DESI', 'SUBSURVEY', 'EPOCH', 'RESOLUTION', 'CADENCE',\n",
       "       'TEMPLATE', 'EXTENT_FLAG', 'EXTENT_PARAMETER', 'EXTENT_INDEX',\n",
       "       'REDDENING', 'TEMPLATE_REDSHIFT', 'DATE_EARLIEST', 'DATE_LATEST',\n",
       "       'CLASSIFICATION', 'COMPLETENESS', 'PARALLAX', 'MAG_TYPE',\n",
       "       'CAL_MAG_ID_BLUE', 'CAL_MAG_ID_GREEN', 'CAL_MAG_ID_RED', 'RULESET',\n",
       "       'NAME', 'fobs', 'SNR_mean', 'SNR_blue_mean', 'SNR_green_mean',\n",
       "       'SNR_red_mean', 'golden'],\n",
       "      dtype='object')"
      ]
     },
     "execution_count": 9,
     "metadata": {},
     "output_type": "execute_result"
    }
   ],
   "source": [
    "cat.columns"
   ]
  },
  {
   "cell_type": "code",
   "execution_count": 10,
   "id": "038dad28",
   "metadata": {},
   "outputs": [],
   "source": [
    "save_to_fits(cat, '/data2/home2/nguerrav/Catalogues/ByCycle_Final_Cat_fobs_qso_templates_with_SNR_golden_label.fits')"
   ]
  },
  {
   "cell_type": "markdown",
   "id": "d4675c43",
   "metadata": {},
   "source": [
    "### Look at specs"
   ]
  },
  {
   "cell_type": "code",
   "execution_count": 19,
   "id": "95c1d58b",
   "metadata": {},
   "outputs": [
    {
     "data": {
      "text/plain": [
       "count    16175.000000\n",
       "mean         2.519843\n",
       "std          4.008120\n",
       "min          0.077557\n",
       "25%          1.200841\n",
       "50%          1.825650\n",
       "75%          2.819216\n",
       "max        344.437687\n",
       "Name: SNR_mean, dtype: float64"
      ]
     },
     "execution_count": 19,
     "metadata": {},
     "output_type": "execute_result"
    }
   ],
   "source": [
    "golden.SNR_mean.describe()"
   ]
  },
  {
   "cell_type": "code",
   "execution_count": 75,
   "id": "20aef014",
   "metadata": {},
   "outputs": [],
   "source": [
    "random_ok = golden.loc[golden.SNR_mean > 3.0].sample(1, random_state=1)"
   ]
  },
  {
   "cell_type": "code",
   "execution_count": null,
   "id": "8dd6da4d",
   "metadata": {},
   "outputs": [],
   "source": [
    "random_neg_snr = cat.loc[(cat.SNR_mean < 0.0) & (cat['fobs']>= 5.0) & (cat['MAG'] <= 20.0)].sample(1, random_state=1)"
   ]
  },
  {
   "cell_type": "code",
   "execution_count": 67,
   "id": "3072b224",
   "metadata": {},
   "outputs": [
    {
     "name": "stdout",
     "output_type": "stream",
     "text": [
      "QSO_sim_ETC_z2.839_mag19.54_MgIIBlueDeep_193.9183m2.0742_LJ1.fits\n"
     ]
    }
   ],
   "source": [
    "# random_neg_snr_spec = spec_name(random_neg_snr)\n",
    "random_neg_snr['specname'] = random_neg_snr.apply(lambda x: spec_name(x), axis=1)\n",
    "print(random_neg_snr['specname'].values[0])"
   ]
  },
  {
   "cell_type": "code",
   "execution_count": 76,
   "id": "faa59d97",
   "metadata": {},
   "outputs": [
    {
     "name": "stdout",
     "output_type": "stream",
     "text": [
      "QSO_sim_ETC_z0.9282_mag18.76_MgIIBlueWide_85.6563m72.8589_LJ1.fits\n"
     ]
    }
   ],
   "source": [
    "random_ok['specname'] = random_ok.apply(lambda x: spec_name(x), axis=1)\n",
    "print(random_ok['specname'].values[0])"
   ]
  },
  {
   "cell_type": "code",
   "execution_count": 68,
   "id": "6bd2fb8c",
   "metadata": {},
   "outputs": [
    {
     "data": {
      "text/html": [
       "<div>\n",
       "<style scoped>\n",
       "    .dataframe tbody tr th:only-of-type {\n",
       "        vertical-align: middle;\n",
       "    }\n",
       "\n",
       "    .dataframe tbody tr th {\n",
       "        vertical-align: top;\n",
       "    }\n",
       "\n",
       "    .dataframe thead th {\n",
       "        text-align: right;\n",
       "    }\n",
       "</style>\n",
       "<table border=\"1\" class=\"dataframe\">\n",
       "  <thead>\n",
       "    <tr style=\"text-align: right;\">\n",
       "      <th></th>\n",
       "      <th>fobs</th>\n",
       "      <th>MAG</th>\n",
       "      <th>REDSHIFT_ESTIMATE</th>\n",
       "    </tr>\n",
       "  </thead>\n",
       "  <tbody>\n",
       "    <tr>\n",
       "      <th>7003</th>\n",
       "      <td>6.080699</td>\n",
       "      <td>19.543695</td>\n",
       "      <td>2.838961</td>\n",
       "    </tr>\n",
       "  </tbody>\n",
       "</table>\n",
       "</div>"
      ],
      "text/plain": [
       "          fobs        MAG  REDSHIFT_ESTIMATE\n",
       "7003  6.080699  19.543695           2.838961"
      ]
     },
     "execution_count": 68,
     "metadata": {},
     "output_type": "execute_result"
    }
   ],
   "source": [
    "random_neg_snr[['fobs', 'MAG', 'REDSHIFT_ESTIMATE']]"
   ]
  },
  {
   "cell_type": "code",
   "execution_count": 77,
   "id": "d16a8f91",
   "metadata": {},
   "outputs": [
    {
     "data": {
      "text/html": [
       "<div>\n",
       "<style scoped>\n",
       "    .dataframe tbody tr th:only-of-type {\n",
       "        vertical-align: middle;\n",
       "    }\n",
       "\n",
       "    .dataframe tbody tr th {\n",
       "        vertical-align: top;\n",
       "    }\n",
       "\n",
       "    .dataframe thead th {\n",
       "        text-align: right;\n",
       "    }\n",
       "</style>\n",
       "<table border=\"1\" class=\"dataframe\">\n",
       "  <thead>\n",
       "    <tr style=\"text-align: right;\">\n",
       "      <th></th>\n",
       "      <th>fobs</th>\n",
       "      <th>MAG</th>\n",
       "      <th>REDSHIFT_ESTIMATE</th>\n",
       "    </tr>\n",
       "  </thead>\n",
       "  <tbody>\n",
       "    <tr>\n",
       "      <th>14253</th>\n",
       "      <td>14.137356</td>\n",
       "      <td>18.755318</td>\n",
       "      <td>0.928191</td>\n",
       "    </tr>\n",
       "  </tbody>\n",
       "</table>\n",
       "</div>"
      ],
      "text/plain": [
       "            fobs        MAG  REDSHIFT_ESTIMATE\n",
       "14253  14.137356  18.755318           0.928191"
      ]
     },
     "execution_count": 77,
     "metadata": {},
     "output_type": "execute_result"
    }
   ],
   "source": [
    "random_ok[['fobs', 'MAG', 'REDSHIFT_ESTIMATE']]"
   ]
  },
  {
   "cell_type": "code",
   "execution_count": 78,
   "id": "dd4754d0",
   "metadata": {},
   "outputs": [],
   "source": [
    "template_filename_ok = random_ok.TEMPLATE.values[0]\n",
    "random_ok_temp = Table.read(f'/data2/home2/nguerrav/QSO_simpaqs/QSOs_full_cat/{template_filename_ok}')"
   ]
  },
  {
   "cell_type": "code",
   "execution_count": 80,
   "id": "f4dacdba",
   "metadata": {},
   "outputs": [],
   "source": [
    "random_ok_spec = Table.read(f'/data2/home2/nguerrav/QSO_simpaqs/QSOs_full_cat_ETC_L1_output_with_fobs_etc_grid/{random_ok['specname'].values[0]}')\n",
    "random_ok_spec_L1 = Table.read(f'/data2/home2/nguerrav/QSO_simpaqs/QSOs_full_cat_ETC_L1_output_with_fobs/{random_ok['specname'].values[0]}')"
   ]
  },
  {
   "cell_type": "code",
   "execution_count": 69,
   "id": "5dc1f7a7",
   "metadata": {},
   "outputs": [],
   "source": [
    "template_filename = random_neg_snr.TEMPLATE.values[0]\n",
    "random_neg_snr_temp = Table.read(f'/data2/home2/nguerrav/QSO_simpaqs/QSOs_full_cat/{template_filename}')"
   ]
  },
  {
   "cell_type": "code",
   "execution_count": 70,
   "id": "30eb8c55",
   "metadata": {},
   "outputs": [],
   "source": [
    "random_neg_snr_spec = Table.read(f'/data2/home2/nguerrav/QSO_simpaqs/QSOs_full_cat_ETC_L1_output_with_fobs_etc_grid/{random_neg_snr['specname'].values[0]}')\n",
    "random_neg_snr_spec_L1 = Table.read(f'/data2/home2/nguerrav/QSO_simpaqs/QSOs_full_cat_ETC_L1_output_with_fobs/{random_neg_snr['specname'].values[0]}')"
   ]
  },
  {
   "cell_type": "code",
   "execution_count": 71,
   "id": "3b7195bf",
   "metadata": {},
   "outputs": [
    {
     "data": {
      "text/html": [
       "<div><i>Table length=1</i>\n",
       "<table id=\"table139918594470208\" class=\"table-striped table-bordered table-condensed\">\n",
       "<thead><tr><th>WAVE</th><th>FLUX</th><th>ERR_FLUX</th><th>QUAL</th><th>FLUX_NOSS</th><th>ERR_FLUX_NOSS</th></tr></thead>\n",
       "<thead><tr><th>Angstrom</th><th>erg / (Angstrom s cm2)</th><th>erg / (Angstrom s cm2)</th><th></th><th>erg / (Angstrom s cm2)</th><th>erg / (Angstrom s cm2)</th></tr></thead>\n",
       "<thead><tr><th>float32[33775]</th><th>float32[33775]</th><th>float32[33775]</th><th>int32[33775]</th><th>float32[33775]</th><th>float32[33775]</th></tr></thead>\n",
       "<tr><td>3926.10 .. 6789.90</td><td>-8.56618e-31 ..  -8.04014e-33</td><td>-- .. --</td><td>0 .. 0</td><td>4.02940e-17 ..   3.02749e-17</td><td>-- .. --</td></tr>\n",
       "</table></div>"
      ],
      "text/plain": [
       "<Table length=1>\n",
       "       WAVE                     FLUX              ...     ERR_FLUX_NOSS     \n",
       "     Angstrom          erg / (Angstrom s cm2)     ... erg / (Angstrom s cm2)\n",
       "  float32[33775]           float32[33775]         ...     float32[33775]    \n",
       "------------------ ------------------------------ ... ----------------------\n",
       "3926.10 .. 6789.90  -8.56618e-31 ..  -8.04014e-33 ...               -- .. --"
      ]
     },
     "execution_count": 71,
     "metadata": {},
     "output_type": "execute_result"
    }
   ],
   "source": [
    "random_neg_snr_spec_L1"
   ]
  },
  {
   "cell_type": "code",
   "execution_count": 72,
   "id": "2dfbe622",
   "metadata": {},
   "outputs": [
    {
     "data": {
      "text/html": [
       "&lt;Column name=&apos;FLUX&apos; dtype=&apos;float32&apos; shape=(33775,) unit=&apos;erg / (Angstrom s cm2)&apos; format=&apos;{:13.5e}&apos; length=1&gt;\n",
       "<table>\n",
       "<tr><td>-8.56618e-31 ..  -8.04014e-33</td></tr>\n",
       "</table>"
      ],
      "text/plain": [
       "<Column name='FLUX' dtype='float32' shape=(33775,) unit='erg / (Angstrom s cm2)' format='{:13.5e}' length=1>\n",
       " -8.56618e-31 ..  -8.04014e-33"
      ]
     },
     "execution_count": 72,
     "metadata": {},
     "output_type": "execute_result"
    }
   ],
   "source": [
    "random_neg_snr_spec_L1['FLUX']"
   ]
  },
  {
   "cell_type": "code",
   "execution_count": 83,
   "id": "ccb551a3",
   "metadata": {},
   "outputs": [
    {
     "data": {
      "image/png": "[encoded data removed]",
      "text/plain": [
       "<Figure size 640x480 with 1 Axes>"
      ]
     },
     "metadata": {},
     "output_type": "display_data"
    }
   ],
   "source": [
    "plt.plot(random_ok_temp['LAMBDA'], random_ok_temp['FLUX_DENSITY'], label='temp')\n",
    "plt.plot(random_ok_spec_L1['WAVE'][0], random_ok_spec_L1['FLUX'][0], label='L1')\n",
    "plt.legend()\n",
    "plt.xlim(3900, 6800)\n",
    "plt.show()"
   ]
  },
  {
   "cell_type": "code",
   "execution_count": 82,
   "id": "5cebd0fc",
   "metadata": {},
   "outputs": [
    {
     "data": {
      "image/png": "[encoded data removed]",
      "text/plain": [
       "<Figure size 640x480 with 1 Axes>"
      ]
     },
     "metadata": {},
     "output_type": "display_data"
    }
   ],
   "source": [
    "plt.plot(random_neg_snr_temp['LAMBDA'], random_neg_snr_temp['FLUX_DENSITY'], label='temp')\n",
    "# plt.plot(random_neg_snr_spec_L1['WAVE'][0], random_neg_snr_spec_L1['FLUX'][0], label='L1')\n",
    "plt.legend()\n",
    "plt.show()"
   ]
  },
  {
   "cell_type": "code",
   "execution_count": 57,
   "id": "aab2c99a",
   "metadata": {},
   "outputs": [
    {
     "data": {
      "text/plain": [
       "(6000.0, 6800.0)"
      ]
     },
     "execution_count": 57,
     "metadata": {},
     "output_type": "execute_result"
    },
    {
     "data": {
      "image/png": "[encoded data removed]",
      "text/plain": [
       "<Figure size 640x480 with 1 Axes>"
      ]
     },
     "metadata": {},
     "output_type": "display_data"
    }
   ],
   "source": [
    "plt.plot(random_neg_snr_spec_L1['WAVE'][0], random_neg_snr_spec_L1['FLUX'][0])\n",
    "plt.ylim(-0.1e-28, 0.1e-28)\n",
    "plt.xlim(6000, 6800)"
   ]
  },
  {
   "cell_type": "code",
   "execution_count": 46,
   "id": "018c450f",
   "metadata": {},
   "outputs": [
    {
     "data": {
      "text/plain": [
       "[<matplotlib.lines.Line2D at 0x7f41597e39e0>]"
      ]
     },
     "execution_count": 46,
     "metadata": {},
     "output_type": "execute_result"
    },
    {
     "data": {
      "image/png": "[encoded data removed]",
      "text/plain": [
       "<Figure size 640x480 with 1 Axes>"
      ]
     },
     "metadata": {},
     "output_type": "display_data"
    }
   ],
   "source": [
    "plt.plot(random_neg_snr_spec['WAVE'], random_neg_snr_spec['FLUX'])"
   ]
  },
  {
   "cell_type": "code",
   "execution_count": null,
   "id": "6edf7e99",
   "metadata": {},
   "outputs": [],
   "source": []
  }
 ],
 "metadata": {
  "kernelspec": {
   "display_name": "etc_4fs",
   "language": "python",
   "name": "python3"
  },
  "language_info": {
   "codemirror_mode": {
    "name": "ipython",
    "version": 3
   },
   "file_extension": ".py",
   "mimetype": "text/x-python",
   "name": "python",
   "nbconvert_exporter": "python",
   "pygments_lexer": "ipython3",
   "version": "3.12.9"
  }
 },
 "nbformat": 4,
 "nbformat_minor": 5
}
