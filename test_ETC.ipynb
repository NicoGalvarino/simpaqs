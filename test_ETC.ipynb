{
 "cells": [
  {
   "cell_type": "code",
   "execution_count": 18,
   "id": "6a262b07-91c8-4098-9e38-d1c6424d9b8b",
   "metadata": {},
   "outputs": [],
   "source": [
    "import numpy as np\n",
    "import pandas as pd\n",
    "from collections import Counter\n",
    "from astropy.table import Table\n",
    "import astropy.units as u\n",
    "import h5py\n",
    "\n",
    "import matplotlib.pyplot as plt\n",
    "\n",
    "from qmostetc import SEDTemplate, QMostObservatory, Ruleset, Rule, Spectrum, Target, RulesRepository, QMostETC, L1DXU\n",
    "from qmostetc.units import VEGAmag\n",
    "from qmostetc.catalog import _split_magtype as split_magtype\n",
    "from qmostetc.exposure import Exposure"
   ]
  },
  {
   "cell_type": "markdown",
   "id": "f6b881d4",
   "metadata": {},
   "source": [
    "* Dark\n",
    "* Grey\n",
    "* Bright\n",
    "* Super-bright"
   ]
  },
  {
   "cell_type": "code",
   "execution_count": 5,
   "id": "163ac57c",
   "metadata": {},
   "outputs": [],
   "source": [
    "cat = Table.read('./../ByCycle_balanced_subset_QSOs.fits', format='fits').to_pandas()"
   ]
  },
  {
   "cell_type": "markdown",
   "id": "23bf9dd5",
   "metadata": {},
   "source": [
    "## Mock observations"
   ]
  },
  {
   "cell_type": "markdown",
   "id": "06a3ee70",
   "metadata": {},
   "source": [
    "### Flat spectrum"
   ]
  },
  {
   "cell_type": "code",
   "execution_count": null,
   "id": "4be60076-f533-4c80-820b-4fda1da5ba18",
   "metadata": {},
   "outputs": [
    {
     "data": {
      "text/latex": [
       "$[3000,~3000.8001,~3001.6002,~\\dots,~10998.4,~10999.2,~11000] \\; \\mathrm{\\mathring{A}}$"
      ],
      "text/plain": [
       "<Quantity [ 3000.        ,  3000.80008001,  3001.60016002, ...,\n",
       "           10998.39983998, 10999.19991999, 11000.        ] Angstrom>"
      ]
     },
     "execution_count": 108,
     "metadata": {},
     "output_type": "execute_result"
    }
   ],
   "source": [
    "# wavelen = np.linspace(3000., 11000., 10000) * u.angstrom\n",
    "# wavelen"
   ]
  },
  {
   "cell_type": "code",
   "execution_count": null,
   "id": "7d1f8213",
   "metadata": {},
   "outputs": [],
   "source": [
    "# flux = np.ones(wavelen.shape) * u.erg/(u.cm**2 * u.s * u.angstrom)\n",
    "# spec = Spectrum(wavelen, flux)\n",
    "# # print(spec.to('erg / (ang m² s)').flux)"
   ]
  },
  {
   "cell_type": "code",
   "execution_count": 137,
   "id": "2937310d",
   "metadata": {},
   "outputs": [
    {
     "data": {
      "text/html": [
       "<div><i>Table length=2410</i>\n",
       "<table id=\"table5622714512\" class=\"table-striped table-bordered table-condensed\">\n",
       "<thead><tr><th>LAMBDA</th><th>FLUX_DENSITY</th></tr></thead>\n",
       "<thead><tr><th>Angstrom</th><th>erg / (Angstrom s cm2)</th></tr></thead>\n",
       "<thead><tr><th>float64</th><th>float64</th></tr></thead>\n",
       "<tr><td>5.0</td><td>2.328523</td></tr>\n",
       "<tr><td>10.0</td><td>2.328523</td></tr>\n",
       "<tr><td>15.0</td><td>2.328523</td></tr>\n",
       "<tr><td>20.0</td><td>2.328523</td></tr>\n",
       "<tr><td>25.0</td><td>2.328523</td></tr>\n",
       "<tr><td>30.0</td><td>2.328523</td></tr>\n",
       "<tr><td>35.0</td><td>2.328523</td></tr>\n",
       "<tr><td>40.0</td><td>2.328523</td></tr>\n",
       "<tr><td>45.0</td><td>2.328523</td></tr>\n",
       "<tr><td>...</td><td>...</td></tr>\n",
       "<tr><td>18000.000000000004</td><td>0.348182</td></tr>\n",
       "<tr><td>25000.000000000004</td><td>0.220965</td></tr>\n",
       "<tr><td>33000.00000000001</td><td>0.174373</td></tr>\n",
       "<tr><td>44000.00000000001</td><td>0.173774</td></tr>\n",
       "<tr><td>69000.00000000001</td><td>0.135339</td></tr>\n",
       "<tr><td>76000.00000000001</td><td>0.118367</td></tr>\n",
       "<tr><td>96000.00000000001</td><td>0.117703</td></tr>\n",
       "<tr><td>200000.00000000003</td><td>0.038892</td></tr>\n",
       "<tr><td>400000.00000000006</td><td>0.020738</td></tr>\n",
       "</table></div>"
      ],
      "text/plain": [
       "<Table length=2410>\n",
       "      LAMBDA            FLUX_DENSITY     \n",
       "     Angstrom      erg / (Angstrom s cm2)\n",
       "     float64              float64        \n",
       "------------------ ----------------------\n",
       "               5.0               2.328523\n",
       "              10.0               2.328523\n",
       "              15.0               2.328523\n",
       "              20.0               2.328523\n",
       "              25.0               2.328523\n",
       "              30.0               2.328523\n",
       "              35.0               2.328523\n",
       "              40.0               2.328523\n",
       "              45.0               2.328523\n",
       "               ...                    ...\n",
       "18000.000000000004               0.348182\n",
       "25000.000000000004               0.220965\n",
       " 33000.00000000001               0.174373\n",
       " 44000.00000000001               0.173774\n",
       " 69000.00000000001               0.135339\n",
       " 76000.00000000001               0.118367\n",
       " 96000.00000000001               0.117703\n",
       "200000.00000000003               0.038892\n",
       "400000.00000000006               0.020738"
      ]
     },
     "execution_count": 137,
     "metadata": {},
     "output_type": "execute_result"
    }
   ],
   "source": [
    "template_4fs = Table.read('./../4FS_spectral_templates/4M_templ_z1_00_extended.fits')\n",
    "template_4fs"
   ]
  },
  {
   "cell_type": "code",
   "execution_count": 138,
   "id": "7e55b5ad",
   "metadata": {},
   "outputs": [],
   "source": [
    "spec = Spectrum(np.asarray(template_4fs['LAMBDA']) * u.Angstrom, \n",
    "                np.asarray(template_4fs['FLUX_DENSITY']) * u.erg / (u.cm**2 * u.s * u.Angstrom)\n",
    "                )"
   ]
  },
  {
   "cell_type": "code",
   "execution_count": 139,
   "id": "9cbf0435",
   "metadata": {},
   "outputs": [
    {
     "data": {
      "text/latex": [
       "$[5,~10,~15,~\\dots,~96000,~200000,~400000] \\; \\mathrm{\\mathring{A}}$"
      ],
      "text/plain": [
       "<Quantity [5.0e+00, 1.0e+01, 1.5e+01, ..., 9.6e+04, 2.0e+05, 4.0e+05] Angstrom>"
      ]
     },
     "execution_count": 139,
     "metadata": {},
     "output_type": "execute_result"
    }
   ],
   "source": [
    "spec.wavelength"
   ]
  },
  {
   "cell_type": "code",
   "execution_count": 141,
   "id": "028d8a00",
   "metadata": {},
   "outputs": [
    {
     "data": {
      "text/latex": [
       "$[2.328523,~2.328523,~2.328523,~\\dots,~0.117703,~0.038892,~0.020738] \\; \\mathrm{\\frac{erg}{\\mathring{A}\\,s\\,cm^{2}}}$"
      ],
      "text/plain": [
       "<Quantity [2.328523, 2.328523, 2.328523, ..., 0.117703, 0.038892, 0.020738] erg / (Angstrom s cm2)>"
      ]
     },
     "execution_count": 141,
     "metadata": {},
     "output_type": "execute_result"
    }
   ],
   "source": [
    "spec.flux"
   ]
  },
  {
   "cell_type": "code",
   "execution_count": 177,
   "id": "482de094",
   "metadata": {},
   "outputs": [],
   "source": [
    "template = SEDTemplate(spec)#.to('erg / (nm m² s)'))\n",
    "flux = template(20*u.ABmag, 'DECam.z')"
   ]
  },
  {
   "cell_type": "markdown",
   "id": "e8bfce30",
   "metadata": {},
   "source": [
    "### Observations"
   ]
  },
  {
   "cell_type": "code",
   "execution_count": 192,
   "id": "c0a4ee4a-17b2-4671-9524-a21f7d138f5f",
   "metadata": {},
   "outputs": [],
   "source": [
    "qmost = QMostObservatory('hrs')  # high-resolution\n",
    "obs = qmost(45*u.deg,  # airmass\n",
    "            1.3*u.arcsec,  # seeing\n",
    "            'gray')  # moon conditions\n",
    "\n",
    "obs.set_target(flux, 'point')\n",
    "tbl = obs.expose((10000*60)*u.s)"
   ]
  },
  {
   "cell_type": "code",
   "execution_count": 179,
   "id": "d3fbb69f",
   "metadata": {},
   "outputs": [
    {
     "data": {
      "text/html": [
       "<div>\n",
       "<style scoped>\n",
       "    .dataframe tbody tr th:only-of-type {\n",
       "        vertical-align: middle;\n",
       "    }\n",
       "\n",
       "    .dataframe tbody tr th {\n",
       "        vertical-align: top;\n",
       "    }\n",
       "\n",
       "    .dataframe thead th {\n",
       "        text-align: right;\n",
       "    }\n",
       "</style>\n",
       "<table border=\"1\" class=\"dataframe\">\n",
       "  <thead>\n",
       "    <tr style=\"text-align: right;\">\n",
       "      <th></th>\n",
       "      <th>wavelength</th>\n",
       "      <th>binwidth</th>\n",
       "      <th>efficiency</th>\n",
       "      <th>gain</th>\n",
       "      <th>target</th>\n",
       "      <th>sky</th>\n",
       "      <th>dark</th>\n",
       "      <th>ron</th>\n",
       "      <th>noise</th>\n",
       "      <th>arm</th>\n",
       "    </tr>\n",
       "  </thead>\n",
       "  <tbody>\n",
       "    <tr>\n",
       "      <th>0</th>\n",
       "      <td>392.606928</td>\n",
       "      <td>0.007923</td>\n",
       "      <td>0.102040</td>\n",
       "      <td>1.051500</td>\n",
       "      <td>608.297636</td>\n",
       "      <td>275.355546</td>\n",
       "      <td>52.049396</td>\n",
       "      <td>6.208353</td>\n",
       "      <td>20.658615</td>\n",
       "      <td>blue</td>\n",
       "    </tr>\n",
       "    <tr>\n",
       "      <th>1</th>\n",
       "      <td>392.614851</td>\n",
       "      <td>0.007922</td>\n",
       "      <td>0.102070</td>\n",
       "      <td>1.051500</td>\n",
       "      <td>608.469255</td>\n",
       "      <td>275.085464</td>\n",
       "      <td>52.049396</td>\n",
       "      <td>6.208353</td>\n",
       "      <td>20.652492</td>\n",
       "      <td>blue</td>\n",
       "    </tr>\n",
       "    <tr>\n",
       "      <th>2</th>\n",
       "      <td>392.622773</td>\n",
       "      <td>0.007922</td>\n",
       "      <td>0.102100</td>\n",
       "      <td>1.051500</td>\n",
       "      <td>608.636734</td>\n",
       "      <td>276.820654</td>\n",
       "      <td>52.049396</td>\n",
       "      <td>6.208353</td>\n",
       "      <td>20.694863</td>\n",
       "      <td>blue</td>\n",
       "    </tr>\n",
       "    <tr>\n",
       "      <th>3</th>\n",
       "      <td>392.630695</td>\n",
       "      <td>0.007922</td>\n",
       "      <td>0.102131</td>\n",
       "      <td>1.051500</td>\n",
       "      <td>608.802520</td>\n",
       "      <td>287.908785</td>\n",
       "      <td>52.049396</td>\n",
       "      <td>6.208353</td>\n",
       "      <td>20.961443</td>\n",
       "      <td>blue</td>\n",
       "    </tr>\n",
       "    <tr>\n",
       "      <th>4</th>\n",
       "      <td>392.638617</td>\n",
       "      <td>0.007922</td>\n",
       "      <td>0.102161</td>\n",
       "      <td>1.051500</td>\n",
       "      <td>608.968374</td>\n",
       "      <td>312.869371</td>\n",
       "      <td>52.049396</td>\n",
       "      <td>6.208353</td>\n",
       "      <td>21.548997</td>\n",
       "      <td>blue</td>\n",
       "    </tr>\n",
       "    <tr>\n",
       "      <th>...</th>\n",
       "      <td>...</td>\n",
       "      <td>...</td>\n",
       "      <td>...</td>\n",
       "      <td>...</td>\n",
       "      <td>...</td>\n",
       "      <td>...</td>\n",
       "      <td>...</td>\n",
       "      <td>...</td>\n",
       "      <td>...</td>\n",
       "      <td>...</td>\n",
       "    </tr>\n",
       "    <tr>\n",
       "      <th>18013</th>\n",
       "      <td>678.950329</td>\n",
       "      <td>0.010058</td>\n",
       "      <td>0.197119</td>\n",
       "      <td>1.072625</td>\n",
       "      <td>1859.775802</td>\n",
       "      <td>894.290938</td>\n",
       "      <td>67.405646</td>\n",
       "      <td>5.165317</td>\n",
       "      <td>34.268859</td>\n",
       "      <td>red</td>\n",
       "    </tr>\n",
       "    <tr>\n",
       "      <th>18014</th>\n",
       "      <td>678.960387</td>\n",
       "      <td>0.010058</td>\n",
       "      <td>0.197090</td>\n",
       "      <td>1.072625</td>\n",
       "      <td>1859.425709</td>\n",
       "      <td>981.141512</td>\n",
       "      <td>67.405646</td>\n",
       "      <td>5.165317</td>\n",
       "      <td>35.512959</td>\n",
       "      <td>red</td>\n",
       "    </tr>\n",
       "    <tr>\n",
       "      <th>18015</th>\n",
       "      <td>678.970445</td>\n",
       "      <td>0.010058</td>\n",
       "      <td>0.197062</td>\n",
       "      <td>1.072625</td>\n",
       "      <td>1859.079348</td>\n",
       "      <td>981.795439</td>\n",
       "      <td>67.405646</td>\n",
       "      <td>5.165317</td>\n",
       "      <td>35.521677</td>\n",
       "      <td>red</td>\n",
       "    </tr>\n",
       "    <tr>\n",
       "      <th>18016</th>\n",
       "      <td>678.980502</td>\n",
       "      <td>0.010057</td>\n",
       "      <td>0.197033</td>\n",
       "      <td>1.072625</td>\n",
       "      <td>1858.746365</td>\n",
       "      <td>897.620249</td>\n",
       "      <td>67.405646</td>\n",
       "      <td>5.165317</td>\n",
       "      <td>34.315901</td>\n",
       "      <td>red</td>\n",
       "    </tr>\n",
       "    <tr>\n",
       "      <th>18017</th>\n",
       "      <td>678.990559</td>\n",
       "      <td>0.010057</td>\n",
       "      <td>0.197005</td>\n",
       "      <td>1.072625</td>\n",
       "      <td>1858.439498</td>\n",
       "      <td>830.277348</td>\n",
       "      <td>67.405646</td>\n",
       "      <td>5.165317</td>\n",
       "      <td>33.319776</td>\n",
       "      <td>red</td>\n",
       "    </tr>\n",
       "  </tbody>\n",
       "</table>\n",
       "<p>18018 rows × 10 columns</p>\n",
       "</div>"
      ],
      "text/plain": [
       "       wavelength  binwidth  efficiency      gain       target         sky  \\\n",
       "0      392.606928  0.007923    0.102040  1.051500   608.297636  275.355546   \n",
       "1      392.614851  0.007922    0.102070  1.051500   608.469255  275.085464   \n",
       "2      392.622773  0.007922    0.102100  1.051500   608.636734  276.820654   \n",
       "3      392.630695  0.007922    0.102131  1.051500   608.802520  287.908785   \n",
       "4      392.638617  0.007922    0.102161  1.051500   608.968374  312.869371   \n",
       "...           ...       ...         ...       ...          ...         ...   \n",
       "18013  678.950329  0.010058    0.197119  1.072625  1859.775802  894.290938   \n",
       "18014  678.960387  0.010058    0.197090  1.072625  1859.425709  981.141512   \n",
       "18015  678.970445  0.010058    0.197062  1.072625  1859.079348  981.795439   \n",
       "18016  678.980502  0.010057    0.197033  1.072625  1858.746365  897.620249   \n",
       "18017  678.990559  0.010057    0.197005  1.072625  1858.439498  830.277348   \n",
       "\n",
       "            dark       ron      noise   arm  \n",
       "0      52.049396  6.208353  20.658615  blue  \n",
       "1      52.049396  6.208353  20.652492  blue  \n",
       "2      52.049396  6.208353  20.694863  blue  \n",
       "3      52.049396  6.208353  20.961443  blue  \n",
       "4      52.049396  6.208353  21.548997  blue  \n",
       "...          ...       ...        ...   ...  \n",
       "18013  67.405646  5.165317  34.268859   red  \n",
       "18014  67.405646  5.165317  35.512959   red  \n",
       "18015  67.405646  5.165317  35.521677   red  \n",
       "18016  67.405646  5.165317  34.315901   red  \n",
       "18017  67.405646  5.165317  33.319776   red  \n",
       "\n",
       "[18018 rows x 10 columns]"
      ]
     },
     "execution_count": 179,
     "metadata": {},
     "output_type": "execute_result"
    }
   ],
   "source": [
    "tbl_pd = tbl.to_pandas()\n",
    "tbl_pd"
   ]
  },
  {
   "cell_type": "markdown",
   "id": "ab90b13a",
   "metadata": {},
   "source": [
    "### Check L1 Output"
   ]
  },
  {
   "cell_type": "code",
   "execution_count": 204,
   "id": "0e9ca2b2",
   "metadata": {},
   "outputs": [
    {
     "data": {
      "text/plain": [
       "<qmostetc.l1output.L1DXU at 0x148965950>"
      ]
     },
     "execution_count": 204,
     "metadata": {},
     "output_type": "execute_result"
    }
   ],
   "source": [
    "dxu = L1DXU(qmost, tbl, (100000*60)*u.s)\n",
    "dxu"
   ]
  },
  {
   "cell_type": "code",
   "execution_count": 205,
   "id": "84a85181",
   "metadata": {},
   "outputs": [
    {
     "data": {
      "text/plain": [
       "5971"
      ]
     },
     "execution_count": 205,
     "metadata": {},
     "output_type": "execute_result"
    }
   ],
   "source": [
    "len(tbl_pd.loc[tbl_pd['arm']=='blue'])"
   ]
  },
  {
   "cell_type": "code",
   "execution_count": 206,
   "id": "23904da0",
   "metadata": {},
   "outputs": [
    {
     "data": {
      "text/plain": [
       "8578"
      ]
     },
     "execution_count": 206,
     "metadata": {},
     "output_type": "execute_result"
    }
   ],
   "source": [
    "len(dxu.sensitivity('blue'))"
   ]
  },
  {
   "cell_type": "code",
   "execution_count": 207,
   "id": "8983279b",
   "metadata": {},
   "outputs": [
    {
     "data": {
      "text/latex": [
       "$[6.9815654 \\times 10^{-16},~6.9801729 \\times 10^{-16},~6.9787745 \\times 10^{-16},~\\dots,~3.2617867 \\times 10^{-16},~3.2618728 \\times 10^{-16},~3.2619575 \\times 10^{-16}] \\; \\mathrm{\\frac{erg}{adu\\,cm^{2}}}$"
      ],
      "text/plain": [
       "<Quantity [6.98156535e-16, 6.98017292e-16, 6.97877452e-16, ...,\n",
       "           3.26178667e-16, 3.26187275e-16, 3.26195752e-16] erg / (adu cm2)>"
      ]
     },
     "execution_count": 207,
     "metadata": {},
     "output_type": "execute_result"
    }
   ],
   "source": [
    "dxu.sensitivity('blue')"
   ]
  },
  {
   "cell_type": "code",
   "execution_count": 208,
   "id": "94b114bb",
   "metadata": {},
   "outputs": [
    {
     "data": {
      "text/plain": [
       "slice(0, 8578, None)"
      ]
     },
     "execution_count": 208,
     "metadata": {},
     "output_type": "execute_result"
    }
   ],
   "source": [
    "dxu._arm_slice('blue')"
   ]
  },
  {
   "cell_type": "code",
   "execution_count": 209,
   "id": "f8b54336",
   "metadata": {},
   "outputs": [
    {
     "data": {
      "text/plain": [
       "[<astropy.io.fits.hdu.image.PrimaryHDU object at 0x148965a90>, <astropy.io.fits.hdu.table.BinTableHDU object at 0x1499f3350>]"
      ]
     },
     "execution_count": 209,
     "metadata": {},
     "output_type": "execute_result"
    }
   ],
   "source": [
    "dxu.per_arm('blue')"
   ]
  },
  {
   "cell_type": "code",
   "execution_count": 210,
   "id": "16ecac88",
   "metadata": {},
   "outputs": [
    {
     "name": "stderr",
     "output_type": "stream",
     "text": [
      "/opt/anaconda3/envs/etc_4fs/lib/python3.13/site-packages/astropy/units/quantity.py:658: RuntimeWarning: invalid value encountered in divide\n",
      "  result = super().__array_ufunc__(function, method, *arrays, **kwargs)\n"
     ]
    },
    {
     "data": {
      "text/html": [
       "<div><i>QTable length=33775</i>\n",
       "<table id=\"table5511561040\" class=\"table-striped table-bordered table-condensed\">\n",
       "<thead><tr><th>WAVE</th><th>FLUX</th><th>ERR_FLUX</th><th>QUAL</th><th>FLUX_NOSS</th><th>ERR_FLUX_NOSS</th></tr></thead>\n",
       "<thead><tr><th>Angstrom</th><th>erg / (Angstrom s cm2)</th><th>erg / (Angstrom s cm2)</th><th></th><th>erg / (Angstrom s cm2)</th><th>erg / (Angstrom s cm2)</th></tr></thead>\n",
       "<thead><tr><th>float32</th><th>float32</th><th>float32</th><th>int32</th><th>float32</th><th>float32</th></tr></thead>\n",
       "<tr><td>3926.10</td><td>7.53023e-19</td><td>1.10100e-19</td><td>0</td><td>4.59930e-18</td><td>1.10100e-19</td></tr>\n",
       "<tr><td>3926.15</td><td>8.15397e-19</td><td>1.10053e-19</td><td>0</td><td>4.65895e-18</td><td>1.10053e-19</td></tr>\n",
       "<tr><td>3926.20</td><td>8.51159e-19</td><td>1.10058e-19</td><td>0</td><td>4.69578e-18</td><td>1.10058e-19</td></tr>\n",
       "<tr><td>3926.25</td><td>7.58203e-19</td><td>1.10186e-19</td><td>0</td><td>4.61741e-18</td><td>1.10186e-19</td></tr>\n",
       "<tr><td>3926.30</td><td>7.45951e-19</td><td>1.10866e-19</td><td>0</td><td>4.67355e-18</td><td>1.10866e-19</td></tr>\n",
       "<tr><td>3926.35</td><td>7.80391e-19</td><td>1.11892e-19</td><td>0</td><td>4.81334e-18</td><td>1.11892e-19</td></tr>\n",
       "<tr><td>3926.40</td><td>8.67101e-19</td><td>1.14031e-19</td><td>0</td><td>5.11913e-18</td><td>1.14031e-19</td></tr>\n",
       "<tr><td>3926.45</td><td>8.35413e-19</td><td>1.15664e-19</td><td>0</td><td>5.25918e-18</td><td>1.15664e-19</td></tr>\n",
       "<tr><td>3926.50</td><td>6.77819e-19</td><td>1.16799e-19</td><td>0</td><td>5.22300e-18</td><td>1.16799e-19</td></tr>\n",
       "<tr><td>...</td><td>...</td><td>...</td><td>...</td><td>...</td><td>...</td></tr>\n",
       "<tr><td>6789.50</td><td>5.82390e-19</td><td>4.92906e-20</td><td>0</td><td>3.41035e-18</td><td>4.92906e-20</td></tr>\n",
       "<tr><td>6789.55</td><td>5.57156e-19</td><td>5.00214e-20</td><td>0</td><td>3.49501e-18</td><td>5.00214e-20</td></tr>\n",
       "<tr><td>6789.60</td><td>5.86728e-19</td><td>5.10091e-20</td><td>0</td><td>3.66473e-18</td><td>5.10091e-20</td></tr>\n",
       "<tr><td>6789.65</td><td>6.20532e-19</td><td>5.19261e-20</td><td>0</td><td>3.84103e-18</td><td>5.19261e-20</td></tr>\n",
       "<tr><td>6789.70</td><td>6.15745e-19</td><td>5.20081e-20</td><td>0</td><td>3.84934e-18</td><td>5.20081e-20</td></tr>\n",
       "<tr><td>6789.75</td><td>6.07454e-19</td><td>5.20152e-20</td><td>0</td><td>3.84240e-18</td><td>5.20152e-20</td></tr>\n",
       "<tr><td>6789.80</td><td>6.10973e-19</td><td>5.12138e-20</td><td>0</td><td>3.72146e-18</td><td>5.12138e-20</td></tr>\n",
       "<tr><td>6789.85</td><td>6.15728e-19</td><td>5.03130e-20</td><td>0</td><td>3.58856e-18</td><td>5.03130e-20</td></tr>\n",
       "<tr><td>6789.90</td><td>6.06884e-19</td><td>4.95604e-20</td><td>0</td><td>3.46664e-18</td><td>4.95604e-20</td></tr>\n",
       "</table></div>"
      ],
      "text/plain": [
       "<QTable length=33775>\n",
       "  WAVE            FLUX          ...     ERR_FLUX_NOSS     \n",
       "Angstrom erg / (Angstrom s cm2) ... erg / (Angstrom s cm2)\n",
       "float32         float32         ...        float32        \n",
       "-------- ---------------------- ... ----------------------\n",
       " 3926.10            7.53023e-19 ...            1.10100e-19\n",
       " 3926.15            8.15397e-19 ...            1.10053e-19\n",
       " 3926.20            8.51159e-19 ...            1.10058e-19\n",
       " 3926.25            7.58203e-19 ...            1.10186e-19\n",
       " 3926.30            7.45951e-19 ...            1.10866e-19\n",
       " 3926.35            7.80391e-19 ...            1.11892e-19\n",
       " 3926.40            8.67101e-19 ...            1.14031e-19\n",
       " 3926.45            8.35413e-19 ...            1.15664e-19\n",
       " 3926.50            6.77819e-19 ...            1.16799e-19\n",
       "     ...                    ... ...                    ...\n",
       " 6789.50            5.82390e-19 ...            4.92906e-20\n",
       " 6789.55            5.57156e-19 ...            5.00214e-20\n",
       " 6789.60            5.86728e-19 ...            5.10091e-20\n",
       " 6789.65            6.20532e-19 ...            5.19261e-20\n",
       " 6789.70            6.15745e-19 ...            5.20081e-20\n",
       " 6789.75            6.07454e-19 ...            5.20152e-20\n",
       " 6789.80            6.10973e-19 ...            5.12138e-20\n",
       " 6789.85            6.15728e-19 ...            5.03130e-20\n",
       " 6789.90            6.06884e-19 ...            4.95604e-20"
      ]
     },
     "execution_count": 210,
     "metadata": {},
     "output_type": "execute_result"
    }
   ],
   "source": [
    "dxu.joined_spectrum()"
   ]
  },
  {
   "cell_type": "code",
   "execution_count": 211,
   "id": "f5396ec5",
   "metadata": {},
   "outputs": [
    {
     "name": "stderr",
     "output_type": "stream",
     "text": [
      "/opt/anaconda3/envs/etc_4fs/lib/python3.13/site-packages/astropy/units/quantity.py:658: RuntimeWarning: invalid value encountered in divide\n",
      "  result = super().__array_ufunc__(function, method, *arrays, **kwargs)\n"
     ]
    },
    {
     "data": {
      "text/plain": [
       "(<Quantity [3926.1 , 3926.15, 3926.2 , ..., 6789.8 , 6789.85, 6789.9 ] Angstrom>,\n",
       " <Quantity [5.0e+00, 1.0e+01, 1.5e+01, ..., 9.6e+04, 2.0e+05, 4.0e+05] Angstrom>)"
      ]
     },
     "execution_count": 211,
     "metadata": {},
     "output_type": "execute_result"
    }
   ],
   "source": [
    "dxu.joined_spectrum()['WAVE'], spec.wavelength"
   ]
  },
  {
   "cell_type": "code",
   "execution_count": 212,
   "id": "fbe8f535",
   "metadata": {},
   "outputs": [
    {
     "name": "stderr",
     "output_type": "stream",
     "text": [
      "/opt/anaconda3/envs/etc_4fs/lib/python3.13/site-packages/astropy/units/quantity.py:658: RuntimeWarning: invalid value encountered in divide\n",
      "  result = super().__array_ufunc__(function, method, *arrays, **kwargs)\n"
     ]
    },
    {
     "data": {
      "text/plain": [
       "(<Quantity [7.5302310e-19, 8.1539711e-19, 8.5115908e-19, ..., 6.1097266e-19,\n",
       "            6.1572761e-19, 6.0688422e-19] erg / (Angstrom s cm2)>,\n",
       " <Quantity [2.328523, 2.328523, 2.328523, ..., 0.117703, 0.038892, 0.020738] erg / (Angstrom s cm2)>)"
      ]
     },
     "execution_count": 212,
     "metadata": {},
     "output_type": "execute_result"
    }
   ],
   "source": [
    "dxu.joined_spectrum()['FLUX'], spec.flux"
   ]
  },
  {
   "cell_type": "code",
   "execution_count": 214,
   "id": "866a059d",
   "metadata": {},
   "outputs": [
    {
     "name": "stderr",
     "output_type": "stream",
     "text": [
      "/opt/anaconda3/envs/etc_4fs/lib/python3.13/site-packages/astropy/units/quantity.py:658: RuntimeWarning: invalid value encountered in divide\n",
      "  result = super().__array_ufunc__(function, method, *arrays, **kwargs)\n",
      "/opt/anaconda3/envs/etc_4fs/lib/python3.13/site-packages/astropy/units/quantity.py:658: RuntimeWarning: invalid value encountered in divide\n",
      "  result = super().__array_ufunc__(function, method, *arrays, **kwargs)\n"
     ]
    },
    {
     "data": {
      "image/png": "[encoded data removed]",
      "text/plain": [
       "<Figure size 640x480 with 1 Axes>"
      ]
     },
     "metadata": {},
     "output_type": "display_data"
    }
   ],
   "source": [
    "plt.plot(dxu.joined_spectrum()['WAVE'], dxu.joined_spectrum()['FLUX'], label='dxu')\n",
    "#plt.plot(spec.wavelength, spec.flux, label='spec')\n",
    "\n",
    "plt.legend()\n",
    "# plt.yscale('log')\n",
    "\n",
    "plt.xlim(3500, 7000)\n",
    "\n",
    "plt.show()"
   ]
  },
  {
   "cell_type": "code",
   "execution_count": null,
   "id": "4d163909",
   "metadata": {},
   "outputs": [],
   "source": []
  },
  {
   "cell_type": "code",
   "execution_count": null,
   "id": "9bebbbc9",
   "metadata": {},
   "outputs": [],
   "source": []
  },
  {
   "cell_type": "code",
   "execution_count": null,
   "id": "beb1338c",
   "metadata": {},
   "outputs": [],
   "source": []
  },
  {
   "cell_type": "code",
   "execution_count": null,
   "id": "26f599f0",
   "metadata": {},
   "outputs": [],
   "source": []
  },
  {
   "cell_type": "code",
   "execution_count": 12,
   "id": "1d3f7efe-97a9-4fce-be82-5c718ff923b9",
   "metadata": {},
   "outputs": [
    {
     "data": {
      "text/html": [
       "<div><i>QTable length=18018</i>\n",
       "<table id=\"table5192637552\" class=\"table-striped table-bordered table-condensed\">\n",
       "<thead><tr><th>wavelength</th><th>binwidth</th><th>efficiency</th><th>gain</th><th>target</th><th>sky</th><th>dark</th><th>ron</th><th>noise</th><th>arm</th><th>SNR</th></tr></thead>\n",
       "<thead><tr><th>nm</th><th>nm</th><th>electron / ph</th><th>electron / adu</th><th>electron</th><th>electron</th><th>electron</th><th>electron</th><th>electron</th><th></th><th></th></tr></thead>\n",
       "<thead><tr><th>float64</th><th>float64</th><th>float64</th><th>float64</th><th>float64</th><th>float64</th><th>float64</th><th>float64</th><th>float64</th><th>str5</th><th>float64</th></tr></thead>\n",
       "<tr><td>392.60692846030474</td><td>0.007922513014023025</td><td>0.1020396156178534</td><td>1.0514999999999999</td><td>1.805529226681413</td><td>14.593843928305944</td><td>2.7586179791666665</td><td>6.208353296809067</td><td>7.596159673950649</td><td>blue</td><td>0.23768974115605762</td></tr>\n",
       "<tr><td>392.61485086465916</td><td>0.007922295694868353</td><td>0.10206980419587068</td><td>1.0514999999999999</td><td>1.806100828950598</td><td>14.579529603638992</td><td>2.7586179791666665</td><td>6.208353296809067</td><td>7.595255036518278</td><td>blue</td><td>0.23779330914719726</td></tr>\n",
       "<tr><td>392.6227730516839</td><td>0.007922078354624773</td><td>0.10210015341074719</td><td>1.0514999999999999</td><td>1.806740245768082</td><td>14.671494658468434</td><td>2.7586179791666665</td><td>6.208353296809067</td><td>7.601348797509767</td><td>blue</td><td>0.23768679663272094</td></tr>\n",
       "<tr><td>392.63069502135795</td><td>0.007921860993405971</td><td>0.10213065037771042</td><td>1.0514999999999999</td><td>1.8073969826660659</td><td>15.259165611252218</td><td>2.7586179791666665</td><td>6.208353296809067</td><td>7.639949687732567</td><td>blue</td><td>0.23657184360365552</td></tr>\n",
       "<tr><td>392.63861677366026</td><td>0.007921643611211948</td><td>0.10216126507272123</td><td>1.0514999999999999</td><td>1.8079817714615165</td><td>16.582076675705693</td><td>2.7586179791666665</td><td>6.208353296809067</td><td>7.726080965427031</td><td>blue</td><td>0.23401020252725074</td></tr>\n",
       "<tr><td>392.64653830856986</td><td>0.00792142620798586</td><td>0.10219198240460484</td><td>1.0514999999999999</td><td>1.8084995900329757</td><td>17.317957185792558</td><td>2.7586179791666665</td><td>6.208353296809067</td><td>7.773591538857197</td><td>blue</td><td>0.23264659340447477</td></tr>\n",
       "<tr><td>392.65445962606566</td><td>0.007921208783670863</td><td>0.10222281478523706</td><td>1.0514999999999999</td><td>1.8089984661243357</td><td>16.251485076522012</td><td>2.7586179791666665</td><td>6.208353296809067</td><td>7.704722719203659</td><td>blue</td><td>0.23479085906822994</td></tr>\n",
       "<tr><td>392.6623807261268</td><td>0.007920991338608019</td><td>0.10225372022098599</td><td>1.0514999999999999</td><td>1.8094994757728342</td><td>14.914439506941877</td><td>2.7586179791666665</td><td>6.208353296809067</td><td>7.617493526080701</td><td>blue</td><td>0.23754525941866406</td></tr>\n",
       "<tr><td>392.6703016087323</td><td>0.007920773872399423</td><td>0.10228467701408718</td><td>1.0514999999999999</td><td>1.8100298285269778</td><td>14.396326124273209</td><td>2.7586179791666665</td><td>6.208353296809067</td><td>7.58344411134986</td><td>blue</td><td>0.23868176542871505</td></tr>\n",
       "<tr><td>...</td><td>...</td><td>...</td><td>...</td><td>...</td><td>...</td><td>...</td><td>...</td><td>...</td><td>...</td><td>...</td></tr>\n",
       "<tr><td>678.9100914433202</td><td>0.010060237069865252</td><td>0.19723300552861509</td><td>1.072625</td><td>7.796134469122259</td><td>42.75575762796842</td><td>3.5724992291666666</td><td>5.165317028024514</td><td>8.989154094032283</td><td>red</td><td>0.867282325741635</td></tr>\n",
       "<tr><td>678.9201514582929</td><td>0.010059792875608764</td><td>0.19720431489966248</td><td>1.072625</td><td>7.79465813674753</td><td>42.75164511495539</td><td>3.5724992291666666</td><td>5.165317028024514</td><td>8.988843222621561</td><td>red</td><td>0.8671480794248682</td></tr>\n",
       "<tr><td>678.9302110290738</td><td>0.010059348686127123</td><td>0.19717567877250758</td><td>1.072625</td><td>7.793198599067049</td><td>42.85708425265705</td><td>3.5724992291666666</td><td>5.165317028024514</td><td>8.994625177342899</td><td>red</td><td>0.8664283886668012</td></tr>\n",
       "<tr><td>678.9402701556673</td><td>0.010058904501079269</td><td>0.1971470896972282</td><td>1.072625</td><td>7.791790798821566</td><td>43.84809143498507</td><td>3.5724992291666666</td><td>5.165317028024514</td><td>9.049468573511557</td><td>red</td><td>0.8610219191907794</td></tr>\n",
       "<tr><td>678.9503288380781</td><td>0.010058460320465201</td><td>0.1971185767579062</td><td>1.072625</td><td>7.790442948895808</td><td>47.39741969512715</td><td>3.5724992291666666</td><td>5.165317028024514</td><td>9.243422627641214</td><td>red</td><td>0.8428093426778447</td></tr>\n",
       "<tr><td>678.9603870763107</td><td>0.010058016144512294</td><td>0.1970901383147928</td><td>1.072625</td><td>7.789088139381619</td><td>52.00050011163981</td><td>3.5724992291666666</td><td>5.165317028024514</td><td>9.489077272326751</td><td>red</td><td>0.8208477932935738</td></tr>\n",
       "<tr><td>678.9704448703694</td><td>0.010057571972993173</td><td>0.19706177581134426</td><td>1.072625</td><td>7.787688313584036</td><td>52.03515825010976</td><td>3.5724992291666666</td><td>5.165317028024514</td><td>9.490829562944457</td><td>red</td><td>0.8205487478133541</td></tr>\n",
       "<tr><td>678.980502220259</td><td>0.010057127806135213</td><td>0.19703349659784228</td><td>1.072625</td><td>7.786304895069129</td><td>47.57387320394892</td><td>3.5724992291666666</td><td>5.165317028024514</td><td>9.252738909543742</td><td>red</td><td>0.841513520611496</td></tr>\n",
       "<tr><td>678.990559125984</td><td>0.010056683643938413</td><td>0.19700531799426202</td><td>1.072625</td><td>7.785020614889527</td><td>44.00469944519496</td><td>3.5724992291666666</td><td>5.165317028024514</td><td>9.057743609158473</td><td>red</td><td>0.8594878537981502</td></tr>\n",
       "</table></div>"
      ],
      "text/plain": [
       "<QTable length=18018>\n",
       "    wavelength           binwidth       ... arm          SNR        \n",
       "        nm                  nm          ...                         \n",
       "     float64             float64        ... str5       float64      \n",
       "------------------ -------------------- ... ---- -------------------\n",
       "392.60692846030474 0.007922513014023025 ... blue 0.23768974115605762\n",
       "392.61485086465916 0.007922295694868353 ... blue 0.23779330914719726\n",
       " 392.6227730516839 0.007922078354624773 ... blue 0.23768679663272094\n",
       "392.63069502135795 0.007921860993405971 ... blue 0.23657184360365552\n",
       "392.63861677366026 0.007921643611211948 ... blue 0.23401020252725074\n",
       "392.64653830856986  0.00792142620798586 ... blue 0.23264659340447477\n",
       "392.65445962606566 0.007921208783670863 ... blue 0.23479085906822994\n",
       " 392.6623807261268 0.007920991338608019 ... blue 0.23754525941866406\n",
       " 392.6703016087323 0.007920773872399423 ... blue 0.23868176542871505\n",
       "               ...                  ... ...  ...                 ...\n",
       " 678.9100914433202 0.010060237069865252 ...  red   0.867282325741635\n",
       " 678.9201514582929 0.010059792875608764 ...  red  0.8671480794248682\n",
       " 678.9302110290738 0.010059348686127123 ...  red  0.8664283886668012\n",
       " 678.9402701556673 0.010058904501079269 ...  red  0.8610219191907794\n",
       " 678.9503288380781 0.010058460320465201 ...  red  0.8428093426778447\n",
       " 678.9603870763107 0.010058016144512294 ...  red  0.8208477932935738\n",
       " 678.9704448703694 0.010057571972993173 ...  red  0.8205487478133541\n",
       "  678.980502220259 0.010057127806135213 ...  red   0.841513520611496\n",
       "  678.990559125984 0.010056683643938413 ...  red  0.8594878537981502"
      ]
     },
     "execution_count": 12,
     "metadata": {},
     "output_type": "execute_result"
    }
   ],
   "source": [
    "tbl['SNR'] = tbl['target'] / tbl['noise']\n",
    "tbl"
   ]
  },
  {
   "cell_type": "code",
   "execution_count": 13,
   "id": "11b082d8",
   "metadata": {},
   "outputs": [],
   "source": [
    "wavelen = np.linspace(300., 1100., 10000) * u.nm\n",
    "flat_flux = np.ones(wavelen.shape) * u.photon/(u.m**2*u.s*u.nm)"
   ]
  },
  {
   "cell_type": "markdown",
   "id": "41ee30a6",
   "metadata": {},
   "source": [
    "## Saving debugging"
   ]
  },
  {
   "cell_type": "code",
   "execution_count": 14,
   "id": "c9b80a18",
   "metadata": {},
   "outputs": [],
   "source": [
    "def SNR_4MOST_like(mag, t_exp, wavelen=wavelen, template_flux=flat_flux, mag_type='DECam.z', airmass=45, seeing=1.3, moon='gray'):\n",
    "    '''\n",
    "    mag: magnitude\n",
    "    t_exp: exposure time [mins]\n",
    "    wavelen: wavelength grid [nm]\n",
    "    flux: flux array [any]\n",
    "    mag_type: filter name\n",
    "    airmass [degrees]\n",
    "    seeing [arcsec]\n",
    "    moon condition: 'dark', 'gray', 'bright' or 'super-bright'\n",
    "    '''\n",
    "    mag = mag\n",
    "\n",
    "    spec = Spectrum(wavelen, template_flux)\n",
    "\n",
    "    template = SEDTemplate(spec)\n",
    "\n",
    "    flux = template(mag*u.ABmag, mag_type)\n",
    "\n",
    "    qmost = QMostObservatory('hrs')  # high-resolution\n",
    "    obs = qmost(airmass*u.deg,  # airmass\n",
    "                seeing*u.arcsec,  # seeing\n",
    "                moon)  # moon conditions\n",
    "\n",
    "    obs.set_target(flux, 'point')\n",
    "\n",
    "    observation = obs.expose((t_exp*60)*u.s)\n",
    "\n",
    "\n",
    "    return observation[['wavelength', 'binwidth', 'target', 'sky', 'dark', 'ron', 'noise', 'arm']]"
   ]
  },
  {
   "cell_type": "code",
   "execution_count": 15,
   "id": "810233bb",
   "metadata": {},
   "outputs": [],
   "source": [
    "cols_to_save_from_cat = ['RA', 'DEC', 'SUBSURVEY', 'MAG', 'REDSHIFT_ESTIMATE', 'REDSHIFT_ERROR', 'TEXP_D', 'TEXP_G', 'TEXP_B', 'TEXP_S']\n",
    "cols_to_save_from_etc = ['wavelength', 'binwidth', 'target', 'sky', 'dark', 'ron', 'noise',  # 'SNR', \n",
    "                         'arm_int']"
   ]
  },
  {
   "cell_type": "code",
   "execution_count": 12,
   "id": "b7c840d0",
   "metadata": {},
   "outputs": [],
   "source": [
    "airmass = 45\n",
    "seeing = 1.3\n",
    "moon = 'gray'\n",
    "save_name = 'SNR_curves_ByCycle_cat_moon_' + moon + '_airmass_' + str(airmass) + '_seeing_' + str(seeing).replace('.', '_')"
   ]
  },
  {
   "cell_type": "code",
   "execution_count": 16,
   "id": "ea3b3beb",
   "metadata": {},
   "outputs": [],
   "source": [
    "def binarize_arm(arm_str):\n",
    "\n",
    "    if arm_str == 'blue':\n",
    "        return 1\n",
    "    elif arm_str == 'green':\n",
    "        return 2\n",
    "    elif arm_str == 'red':\n",
    "        return 3"
   ]
  },
  {
   "cell_type": "code",
   "execution_count": 17,
   "id": "fc5aa992",
   "metadata": {},
   "outputs": [],
   "source": [
    "def bin_arm_str_array(arm_str_array):\n",
    "\n",
    "    arm_int_array = np.zeros(len(arm_str_array))\n",
    "\n",
    "    for i in range(len(arm_str_array)):\n",
    "        arm_int_array[i] = int(binarize_arm(arm_str_array[i]))\n",
    "\n",
    "    return arm_int_array"
   ]
  },
  {
   "cell_type": "code",
   "execution_count": null,
   "id": "e63a68e5",
   "metadata": {},
   "outputs": [
    {
     "name": "stdout",
     "output_type": "stream",
     "text": [
      "RA\n",
      "DEC\n",
      "SUBSURVEY\n",
      "MAG\n",
      "REDSHIFT_ESTIMATE\n",
      "REDSHIFT_ERROR\n",
      "TEXP_D\n",
      "TEXP_G\n",
      "TEXP_B\n",
      "TEXP_S\n",
      "first for loop etc_col\n",
      "wavelength\n",
      "shape (1674374, 18018)\n",
      "binwidth\n",
      "shape (1674374, 18018)\n",
      "target\n",
      "shape (1674374, 18018)\n",
      "sky\n",
      "shape (1674374, 18018)\n",
      "dark\n",
      "shape (1674374, 18018)\n",
      "ron\n",
      "shape (1674374, 18018)\n",
      "noise\n",
      "shape (1674374, 18018)\n",
      "arm_int\n",
      "shape (1674374, 18018)\n",
      "for loop through objects\n",
      "0\n",
      "second for loop etc_col\n",
      "wavelength\n",
      "binwidth\n",
      "target\n",
      "sky\n",
      "dark\n",
      "ron\n",
      "noise\n",
      "arm_int\n",
      "1\n",
      "second for loop etc_col\n",
      "wavelength\n",
      "binwidth\n",
      "target\n",
      "sky\n",
      "dark\n",
      "ron\n",
      "noise\n",
      "arm_int\n",
      "2\n",
      "second for loop etc_col\n",
      "wavelength\n",
      "binwidth\n",
      "target\n",
      "sky\n",
      "dark\n",
      "ron\n",
      "noise\n",
      "arm_int\n",
      "3\n",
      "second for loop etc_col\n",
      "wavelength\n",
      "binwidth\n",
      "target\n",
      "sky\n",
      "dark\n",
      "ron\n",
      "noise\n",
      "arm_int\n",
      "4\n",
      "second for loop etc_col\n",
      "wavelength\n",
      "binwidth\n",
      "target\n",
      "sky\n",
      "dark\n",
      "ron\n",
      "noise\n",
      "arm_int\n",
      "5\n",
      "second for loop etc_col\n",
      "wavelength\n",
      "binwidth\n",
      "target\n",
      "sky\n",
      "dark\n",
      "ron\n",
      "noise\n",
      "arm_int\n",
      "6\n",
      "second for loop etc_col\n",
      "wavelength\n",
      "binwidth\n",
      "target\n",
      "sky\n",
      "dark\n",
      "ron\n",
      "noise\n",
      "arm_int\n",
      "7\n",
      "second for loop etc_col\n",
      "wavelength\n",
      "binwidth\n",
      "target\n",
      "sky\n",
      "dark\n",
      "ron\n",
      "noise\n",
      "arm_int\n",
      "8\n",
      "second for loop etc_col\n",
      "wavelength\n",
      "binwidth\n",
      "target\n",
      "sky\n",
      "dark\n",
      "ron\n",
      "noise\n",
      "arm_int\n",
      "9\n",
      "second for loop etc_col\n",
      "wavelength\n",
      "binwidth\n",
      "target\n",
      "sky\n",
      "dark\n",
      "ron\n",
      "noise\n",
      "arm_int\n"
     ]
    }
   ],
   "source": [
    "with h5py.File(save_name + '.hdf5', 'w') as f:\n",
    "\n",
    "    f.clear()\n",
    "\n",
    "    for cat_col in cols_to_save_from_cat:\n",
    "\n",
    "\n",
    "        if cat[cat_col].dtype.kind == 'S' or cat[cat_col].dtype.kind == 'U' or cat[cat_col].dtype.kind == 'O':\n",
    "            f.create_dataset(cat_col, data=np.array(cat[cat_col].astype('S')))\n",
    "\n",
    "        else:\n",
    "            f.create_dataset(cat_col, data=cat[cat_col])\n",
    "\n",
    "    n_objects = cat.shape[0]\n",
    "\n",
    "    test_obs = SNR_4MOST_like(cat['MAG'][0], cat['TEXP_G'][0])\n",
    "    test_obs['arm_int'] = bin_arm_str_array(np.asarray(test_obs['arm']))\n",
    "\n",
    "    for etc_col in cols_to_save_from_etc:\n",
    "\n",
    "        test_data = test_obs[etc_col]\n",
    "\n",
    "        if np.issubdtype(np.array(test_data).dtype, np.character) or isinstance(test_data[0], str):\n",
    "\n",
    "            if np.array(test_data).ndim == 0:\n",
    "                dtype = h5py.special_dtype(vlen=str)\n",
    "                f.create_dataset(etc_col, shape=(n_objects,), dtype=dtype)\n",
    "            else:\n",
    "                max_length = max([len(s) for s in test_data])\n",
    "                dtype = h5py.special_dtype(vlen=str)\n",
    "                shape = (n_objects,) + np.array(test_data).shape\n",
    "                f.create_dataset(etc_col, shape=shape, dtype=dtype)\n",
    "        \n",
    "        else:\n",
    "\n",
    "            shape = (n_objects,) + test_data.shape\n",
    "            f.create_dataset(etc_col, shape=shape)\n",
    "\n",
    "    for i in range(n_objects):\n",
    "\n",
    "        if i % 10000 == 0.0:\n",
    "            print(str(i * 100 / n_objects), '% \\n')\n",
    "\n",
    "        obs = SNR_4MOST_like(cat['MAG'][i], cat['TEXP_G'][i])\n",
    "\n",
    "        obs['arm_int'] = bin_arm_str_array(np.asarray(obs['arm']))\n",
    "\n",
    "        for etc_col_ in cols_to_save_from_etc:\n",
    "\n",
    "            f[etc_col_][i] = np.asarray(obs[etc_col_])"
   ]
  },
  {
   "cell_type": "code",
   "execution_count": 15,
   "id": "889d8071",
   "metadata": {},
   "outputs": [],
   "source": [
    "testing = h5py.File(save_name+'.hdf5', 'r')"
   ]
  },
  {
   "cell_type": "code",
   "execution_count": 16,
   "id": "00bd5f4d",
   "metadata": {},
   "outputs": [
    {
     "data": {
      "text/plain": [
       "<KeysViewHDF5 ['DEC', 'MAG', 'RA', 'REDSHIFT_ERROR', 'REDSHIFT_ESTIMATE', 'SUBSURVEY', 'TEXP_B', 'TEXP_D', 'TEXP_G', 'TEXP_S', 'arm_int', 'binwidth', 'dark', 'noise', 'ron', 'sky', 'target', 'wavelength']>"
      ]
     },
     "execution_count": 16,
     "metadata": {},
     "output_type": "execute_result"
    }
   ],
   "source": [
    "testing.keys()"
   ]
  },
  {
   "cell_type": "code",
   "execution_count": 17,
   "id": "20064860",
   "metadata": {},
   "outputs": [
    {
     "data": {
      "text/plain": [
       "(1674374, 18018)"
      ]
     },
     "execution_count": 17,
     "metadata": {},
     "output_type": "execute_result"
    }
   ],
   "source": [
    "testing['wavelength'][:].shape"
   ]
  },
  {
   "cell_type": "code",
   "execution_count": 19,
   "id": "64aa1aae",
   "metadata": {},
   "outputs": [
    {
     "data": {
      "text/plain": [
       "(18018,)"
      ]
     },
     "execution_count": 19,
     "metadata": {},
     "output_type": "execute_result"
    }
   ],
   "source": [
    "testing['wavelength'][0].shape"
   ]
  },
  {
   "cell_type": "code",
   "execution_count": 35,
   "id": "b725bf64",
   "metadata": {},
   "outputs": [
    {
     "name": "stdout",
     "output_type": "stream",
     "text": [
      "DEC\n",
      "(1674374,)\n",
      " \n",
      "MAG\n",
      "(1674374,)\n",
      " \n",
      "RA\n",
      "(1674374,)\n",
      " \n",
      "REDSHIFT_ERROR\n",
      "(1674374,)\n",
      " \n",
      "REDSHIFT_ESTIMATE\n",
      "(1674374,)\n",
      " \n",
      "SUBSURVEY\n",
      "(1674374,)\n",
      " \n",
      "TEXP_B\n",
      "(1674374,)\n",
      " \n",
      "TEXP_D\n",
      "(1674374,)\n",
      " \n",
      "TEXP_G\n",
      "(1674374,)\n",
      " \n",
      "TEXP_S\n",
      "(1674374,)\n",
      " \n",
      "arm_int\n",
      "(1674374, 18018)\n",
      " \n",
      "binwidth\n"
     ]
    },
    {
     "ename": "KeyboardInterrupt",
     "evalue": "",
     "output_type": "error",
     "traceback": [
      "\u001b[31m---------------------------------------------------------------------------\u001b[39m",
      "\u001b[31mKeyboardInterrupt\u001b[39m                         Traceback (most recent call last)",
      "\u001b[36mCell\u001b[39m\u001b[36m \u001b[39m\u001b[32mIn[35]\u001b[39m\u001b[32m, line 3\u001b[39m\n\u001b[32m      1\u001b[39m \u001b[38;5;28;01mfor\u001b[39;00m key \u001b[38;5;129;01min\u001b[39;00m testing.keys():\n\u001b[32m      2\u001b[39m     \u001b[38;5;28mprint\u001b[39m(key)\n\u001b[32m----> \u001b[39m\u001b[32m3\u001b[39m     \u001b[38;5;28mprint\u001b[39m(\u001b[43mtesting\u001b[49m\u001b[43m[\u001b[49m\u001b[43mkey\u001b[49m\u001b[43m]\u001b[49m\u001b[43m[\u001b[49m\u001b[43m:\u001b[49m\u001b[43m]\u001b[49m.shape)\n\u001b[32m      4\u001b[39m     \u001b[38;5;28mprint\u001b[39m(\u001b[33m'\u001b[39m\u001b[33m \u001b[39m\u001b[33m'\u001b[39m)\n",
      "\u001b[36mFile \u001b[39m\u001b[32mh5py/_objects.pyx:54\u001b[39m, in \u001b[36mh5py._objects.with_phil.wrapper\u001b[39m\u001b[34m()\u001b[39m\n",
      "\u001b[36mFile \u001b[39m\u001b[32mh5py/_objects.pyx:55\u001b[39m, in \u001b[36mh5py._objects.with_phil.wrapper\u001b[39m\u001b[34m()\u001b[39m\n",
      "\u001b[36mFile \u001b[39m\u001b[32m~/miniconda3/envs/etc_4fs/lib/python3.12/site-packages/h5py/_hl/dataset.py:802\u001b[39m, in \u001b[36mDataset.__getitem__\u001b[39m\u001b[34m(self, args, new_dtype)\u001b[39m\n\u001b[32m    800\u001b[39m \u001b[38;5;28;01mif\u001b[39;00m \u001b[38;5;28mself\u001b[39m._fast_read_ok \u001b[38;5;129;01mand\u001b[39;00m (new_dtype \u001b[38;5;129;01mis\u001b[39;00m \u001b[38;5;28;01mNone\u001b[39;00m):\n\u001b[32m    801\u001b[39m     \u001b[38;5;28;01mtry\u001b[39;00m:\n\u001b[32m--> \u001b[39m\u001b[32m802\u001b[39m         \u001b[38;5;28;01mreturn\u001b[39;00m \u001b[38;5;28;43mself\u001b[39;49m\u001b[43m.\u001b[49m\u001b[43m_fast_reader\u001b[49m\u001b[43m.\u001b[49m\u001b[43mread\u001b[49m\u001b[43m(\u001b[49m\u001b[43margs\u001b[49m\u001b[43m)\u001b[49m\n\u001b[32m    803\u001b[39m     \u001b[38;5;28;01mexcept\u001b[39;00m \u001b[38;5;167;01mTypeError\u001b[39;00m:\n\u001b[32m    804\u001b[39m         \u001b[38;5;28;01mpass\u001b[39;00m  \u001b[38;5;66;03m# Fall back to Python read pathway below\u001b[39;00m\n",
      "\u001b[31mKeyboardInterrupt\u001b[39m: "
     ]
    }
   ],
   "source": [
    "for key in testing.keys():\n",
    "    print(key)\n",
    "    print(testing[key][:].shape)\n",
    "    print(' ')"
   ]
  },
  {
   "cell_type": "code",
   "execution_count": null,
   "id": "bd210d05",
   "metadata": {},
   "outputs": [],
   "source": []
  },
  {
   "cell_type": "code",
   "execution_count": null,
   "id": "cc390ae1",
   "metadata": {},
   "outputs": [],
   "source": []
  },
  {
   "cell_type": "markdown",
   "id": "be729269",
   "metadata": {},
   "source": [
    "## Plotting"
   ]
  },
  {
   "cell_type": "code",
   "execution_count": 150,
   "id": "aadb76e3",
   "metadata": {},
   "outputs": [
    {
     "data": {
      "text/plain": [
       "[<matplotlib.lines.Line2D at 0x7f9ae0b45880>]"
      ]
     },
     "execution_count": 150,
     "metadata": {},
     "output_type": "execute_result"
    },
    {
     "data": {
      "image/png": "[encoded data removed]",
      "text/plain": [
       "<Figure size 640x480 with 1 Axes>"
      ]
     },
     "metadata": {},
     "output_type": "display_data"
    }
   ],
   "source": [
    "plt.plot(tbl[tbl['arm']==\"blue\"]['wavelength'],tbl[tbl['arm']==\"blue\"]['sky'])\n",
    "plt.plot(tbl[tbl['arm']==\"green\"]['wavelength'],tbl[tbl['arm']==\"green\"]['sky'])\n",
    "plt.plot(tbl[tbl['arm']==\"red\"]['wavelength'],tbl[tbl['arm']==\"red\"]['sky'])"
   ]
  },
  {
   "cell_type": "code",
   "execution_count": 149,
   "id": "55c774f4",
   "metadata": {},
   "outputs": [
    {
     "data": {
      "text/plain": [
       "[<matplotlib.lines.Line2D at 0x7f9ae0cc35c0>]"
      ]
     },
     "execution_count": 149,
     "metadata": {},
     "output_type": "execute_result"
    },
    {
     "data": {
      "image/png": "[encoded data removed]",
      "text/plain": [
       "<Figure size 640x480 with 1 Axes>"
      ]
     },
     "metadata": {},
     "output_type": "display_data"
    }
   ],
   "source": [
    "plt.plot(tbl[tbl['arm']==\"blue\"]['wavelength'],tbl[tbl['arm']==\"blue\"]['noise'])\n",
    "plt.plot(tbl[tbl['arm']==\"green\"]['wavelength'],tbl[tbl['arm']==\"green\"]['noise'])\n",
    "plt.plot(tbl[tbl['arm']==\"red\"]['wavelength'],tbl[tbl['arm']==\"red\"]['noise'])"
   ]
  },
  {
   "cell_type": "code",
   "execution_count": 148,
   "id": "fb28f816-05d1-4376-a5ea-9f4183312bf9",
   "metadata": {},
   "outputs": [
    {
     "data": {
      "text/plain": [
       "[<matplotlib.lines.Line2D at 0x7f9ae0c6a600>]"
      ]
     },
     "execution_count": 148,
     "metadata": {},
     "output_type": "execute_result"
    },
    {
     "data": {
      "image/png": "[encoded data removed]",
      "text/plain": [
       "<Figure size 640x480 with 1 Axes>"
      ]
     },
     "metadata": {},
     "output_type": "display_data"
    }
   ],
   "source": [
    "plt.plot(tbl[tbl['arm']==\"blue\"]['wavelength'],tbl[tbl['arm']==\"blue\"]['target']/tbl[tbl['arm']==\"blue\"]['noise'])\n",
    "plt.plot(tbl[tbl['arm']==\"green\"]['wavelength'],tbl[tbl['arm']==\"green\"]['target']/tbl[tbl['arm']==\"green\"]['noise'])\n",
    "plt.plot(tbl[tbl['arm']==\"red\"]['wavelength'],tbl[tbl['arm']==\"red\"]['target']/tbl[tbl['arm']==\"red\"]['noise'])\n",
    "\n",
    "# plt.xlim(620, 650)\n",
    "# plt.ylim(30, 40)"
   ]
  },
  {
   "cell_type": "code",
   "execution_count": null,
   "id": "63a7ecb1-1379-4edf-adbc-fd0ac5beda18",
   "metadata": {},
   "outputs": [
    {
     "data": {
      "text/plain": [
       "[<matplotlib.lines.Line2D at 0x13ecbc2f0>]"
      ]
     },
     "execution_count": 49,
     "metadata": {},
     "output_type": "execute_result"
    },
    {
     "data": {
      "image/png": "[encoded data removed]",
      "text/plain": [
       "<Figure size 640x480 with 1 Axes>"
      ]
     },
     "metadata": {},
     "output_type": "display_data"
    }
   ],
   "source": [
    "flux = template(17*u.ABmag, 'DECam.z')\n",
    "obs.set_target(flux, 'point')\n",
    "tbl = obs.expose((53.7*60)*u.s)\n",
    "\n",
    "plt.plot(tbl[tbl['arm']==\"blue\"]['wavelength'],tbl[tbl['arm']==\"blue\"]['target']/tbl[tbl['arm']==\"blue\"]['noise'])\n",
    "plt.plot(tbl[tbl['arm']==\"green\"]['wavelength'],tbl[tbl['arm']==\"green\"]['target']/tbl[tbl['arm']==\"green\"]['noise'])\n",
    "plt.plot(tbl[tbl['arm']==\"red\"]['wavelength'],tbl[tbl['arm']==\"red\"]['target']/tbl[tbl['arm']==\"red\"]['noise'])\n"
   ]
  },
  {
   "cell_type": "code",
   "execution_count": null,
   "id": "93c0a0da-81e0-4bfb-bda0-ac4eee5812a2",
   "metadata": {
    "scrolled": true
   },
   "outputs": [
    {
     "data": {
      "text/plain": [
       "[<matplotlib.lines.Line2D at 0x13ed11970>]"
      ]
     },
     "execution_count": 50,
     "metadata": {},
     "output_type": "execute_result"
    },
    {
     "data": {
      "image/png": "[encoded data removed]",
      "text/plain": [
       "<Figure size 640x480 with 1 Axes>"
      ]
     },
     "metadata": {},
     "output_type": "display_data"
    }
   ],
   "source": [
    "flux = template(19*u.ABmag, 'DECam.z')\n",
    "obs.set_target(flux, 'point')\n",
    "tbl = obs.expose((53.7*60)*u.s)\n",
    "\n",
    "plt.plot(tbl[tbl['arm']==\"blue\"]['wavelength'],tbl[tbl['arm']==\"blue\"]['target']/tbl[tbl['arm']==\"blue\"]['noise'])\n",
    "plt.plot(tbl[tbl['arm']==\"green\"]['wavelength'],tbl[tbl['arm']==\"green\"]['target']/tbl[tbl['arm']==\"green\"]['noise'])\n",
    "plt.plot(tbl[tbl['arm']==\"red\"]['wavelength'],tbl[tbl['arm']==\"red\"]['target']/tbl[tbl['arm']==\"red\"]['noise'])"
   ]
  },
  {
   "cell_type": "code",
   "execution_count": null,
   "id": "123f83cb-6c48-476d-b0fd-f898e829bff1",
   "metadata": {},
   "outputs": [],
   "source": []
  }
 ],
 "metadata": {
  "kernelspec": {
   "display_name": "etc_4fs",
   "language": "python",
   "name": "python3"
  },
  "language_info": {
   "codemirror_mode": {
    "name": "ipython",
    "version": 3
   },
   "file_extension": ".py",
   "mimetype": "text/x-python",
   "name": "python",
   "nbconvert_exporter": "python",
   "pygments_lexer": "ipython3",
   "version": "3.13.2"
  }
 },
 "nbformat": 4,
 "nbformat_minor": 5
}
