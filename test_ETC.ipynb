{
 "cells": [
  {
   "cell_type": "code",
   "execution_count": 1,
   "id": "6a262b07-91c8-4098-9e38-d1c6424d9b8b",
   "metadata": {},
   "outputs": [],
   "source": [
    "import numpy as np\n",
    "import pandas as pd\n",
    "from collections import Counter\n",
    "from astropy.table import Table, QTable\n",
    "import astropy.units as u\n",
    "import h5py\n",
    "\n",
    "import matplotlib.pyplot as plt\n",
    "import seaborn as sns\n",
    "sns.set_theme()\n",
    "\n",
    "from qmostetc import SEDTemplate, QMostObservatory, Ruleset, Rule, Spectrum, Target, RulesRepository, QMostETC, L1DXU\n",
    "from qmostetc.units import VEGAmag\n",
    "from qmostetc.catalog import _split_magtype as split_magtype\n",
    "from qmostetc.exposure import Exposure"
   ]
  },
  {
   "cell_type": "markdown",
   "id": "f6b881d4",
   "metadata": {},
   "source": [
    "* Dark\n",
    "* Grey\n",
    "* Bright\n",
    "* Super-bright"
   ]
  },
  {
   "cell_type": "code",
   "execution_count": null,
   "id": "163ac57c",
   "metadata": {},
   "outputs": [],
   "source": [
    "# cat = Table.read('./../ByCycle_balanced_subset_QSOs.fits', format='fits').to_pandas()"
   ]
  },
  {
   "cell_type": "markdown",
   "id": "23bf9dd5",
   "metadata": {},
   "source": [
    "## Mock observations"
   ]
  },
  {
   "cell_type": "markdown",
   "id": "06a3ee70",
   "metadata": {},
   "source": [
    "### Flat spectrum"
   ]
  },
  {
   "cell_type": "code",
   "execution_count": null,
   "id": "4be60076-f533-4c80-820b-4fda1da5ba18",
   "metadata": {},
   "outputs": [
    {
     "data": {
      "text/latex": [
       "$[3000,~3000.8001,~3001.6002,~\\dots,~10998.4,~10999.2,~11000] \\; \\mathrm{\\mathring{A}}$"
      ],
      "text/plain": [
       "<Quantity [ 3000.        ,  3000.80008001,  3001.60016002, ...,\n",
       "           10998.39983998, 10999.19991999, 11000.        ] Angstrom>"
      ]
     },
     "execution_count": 108,
     "metadata": {},
     "output_type": "execute_result"
    }
   ],
   "source": [
    "# wavelen = np.linspace(3000., 11000., 10000) * u.angstrom\n",
    "# wavelen"
   ]
  },
  {
   "cell_type": "code",
   "execution_count": 2,
   "id": "7d1f8213",
   "metadata": {},
   "outputs": [],
   "source": [
    "# flux = np.ones(wavelen.shape) * u.erg/(u.cm**2 * u.s * u.angstrom)\n",
    "# spec = Spectrum(wavelen, flux)\n",
    "# # print(spec.to('erg / (ang m² s)').flux)"
   ]
  },
  {
   "cell_type": "code",
   "execution_count": 2,
   "id": "2937310d",
   "metadata": {},
   "outputs": [
    {
     "data": {
      "text/html": [
       "<div><i>Table length=2410</i>\n",
       "<table id=\"table140264356014576\" class=\"table-striped table-bordered table-condensed\">\n",
       "<thead><tr><th>LAMBDA</th><th>FLUX_DENSITY</th></tr></thead>\n",
       "<thead><tr><th>Angstrom</th><th>erg / (Angstrom s cm2)</th></tr></thead>\n",
       "<thead><tr><th>float64</th><th>float64</th></tr></thead>\n",
       "<tr><td>5.0</td><td>2.328523</td></tr>\n",
       "<tr><td>10.0</td><td>2.328523</td></tr>\n",
       "<tr><td>15.0</td><td>2.328523</td></tr>\n",
       "<tr><td>20.0</td><td>2.328523</td></tr>\n",
       "<tr><td>25.0</td><td>2.328523</td></tr>\n",
       "<tr><td>30.0</td><td>2.328523</td></tr>\n",
       "<tr><td>35.0</td><td>2.328523</td></tr>\n",
       "<tr><td>40.0</td><td>2.328523</td></tr>\n",
       "<tr><td>45.0</td><td>2.328523</td></tr>\n",
       "<tr><td>...</td><td>...</td></tr>\n",
       "<tr><td>18000.000000000004</td><td>0.348182</td></tr>\n",
       "<tr><td>25000.000000000004</td><td>0.220965</td></tr>\n",
       "<tr><td>33000.00000000001</td><td>0.174373</td></tr>\n",
       "<tr><td>44000.00000000001</td><td>0.173774</td></tr>\n",
       "<tr><td>69000.00000000001</td><td>0.135339</td></tr>\n",
       "<tr><td>76000.00000000001</td><td>0.118367</td></tr>\n",
       "<tr><td>96000.00000000001</td><td>0.117703</td></tr>\n",
       "<tr><td>200000.00000000003</td><td>0.038892</td></tr>\n",
       "<tr><td>400000.00000000006</td><td>0.020738</td></tr>\n",
       "</table></div>"
      ],
      "text/plain": [
       "<Table length=2410>\n",
       "      LAMBDA            FLUX_DENSITY     \n",
       "     Angstrom      erg / (Angstrom s cm2)\n",
       "     float64              float64        \n",
       "------------------ ----------------------\n",
       "               5.0               2.328523\n",
       "              10.0               2.328523\n",
       "              15.0               2.328523\n",
       "              20.0               2.328523\n",
       "              25.0               2.328523\n",
       "              30.0               2.328523\n",
       "              35.0               2.328523\n",
       "              40.0               2.328523\n",
       "              45.0               2.328523\n",
       "               ...                    ...\n",
       "18000.000000000004               0.348182\n",
       "25000.000000000004               0.220965\n",
       " 33000.00000000001               0.174373\n",
       " 44000.00000000001               0.173774\n",
       " 69000.00000000001               0.135339\n",
       " 76000.00000000001               0.118367\n",
       " 96000.00000000001               0.117703\n",
       "200000.00000000003               0.038892\n",
       "400000.00000000006               0.020738"
      ]
     },
     "execution_count": 2,
     "metadata": {},
     "output_type": "execute_result"
    }
   ],
   "source": [
    "template_4fs = Table.read('./../4M_templ_z1_00_extended.fits')\n",
    "template_4fs"
   ]
  },
  {
   "cell_type": "code",
   "execution_count": 3,
   "id": "7e55b5ad",
   "metadata": {},
   "outputs": [],
   "source": [
    "spec = Spectrum(np.asarray(template_4fs['LAMBDA']) * u.Angstrom, \n",
    "                np.asarray(template_4fs['FLUX_DENSITY']) * u.erg / (u.cm**2 * u.s * u.Angstrom)\n",
    "                )"
   ]
  },
  {
   "cell_type": "code",
   "execution_count": 4,
   "id": "9cbf0435",
   "metadata": {},
   "outputs": [
    {
     "data": {
      "text/latex": [
       "$[5,~10,~15,~\\dots,~96000,~200000,~400000] \\; \\mathrm{\\mathring{A}}$"
      ],
      "text/plain": [
       "<Quantity [5.0e+00, 1.0e+01, 1.5e+01, ..., 9.6e+04, 2.0e+05, 4.0e+05] Angstrom>"
      ]
     },
     "execution_count": 4,
     "metadata": {},
     "output_type": "execute_result"
    }
   ],
   "source": [
    "spec.wavelength"
   ]
  },
  {
   "cell_type": "code",
   "execution_count": 5,
   "id": "028d8a00",
   "metadata": {},
   "outputs": [
    {
     "data": {
      "text/latex": [
       "$[2.328523,~2.328523,~2.328523,~\\dots,~0.117703,~0.038892,~0.020738] \\; \\mathrm{\\frac{erg}{\\mathring{A}\\,s\\,cm^{2}}}$"
      ],
      "text/plain": [
       "<Quantity [2.328523, 2.328523, 2.328523, ..., 0.117703, 0.038892, 0.020738] erg / (Angstrom s cm2)>"
      ]
     },
     "execution_count": 5,
     "metadata": {},
     "output_type": "execute_result"
    }
   ],
   "source": [
    "spec.flux"
   ]
  },
  {
   "cell_type": "code",
   "execution_count": 6,
   "id": "482de094",
   "metadata": {},
   "outputs": [],
   "source": [
    "template = SEDTemplate(spec)#.to('erg / (nm m² s)'))\n",
    "flux = template(20*u.ABmag, 'DECam.z')"
   ]
  },
  {
   "cell_type": "markdown",
   "id": "e8bfce30",
   "metadata": {},
   "source": [
    "### Observations"
   ]
  },
  {
   "cell_type": "code",
   "execution_count": 7,
   "id": "2e1a171b",
   "metadata": {},
   "outputs": [
    {
     "data": {
      "text/html": [
       "<div>\n",
       "<style scoped>\n",
       "    .dataframe tbody tr th:only-of-type {\n",
       "        vertical-align: middle;\n",
       "    }\n",
       "\n",
       "    .dataframe tbody tr th {\n",
       "        vertical-align: top;\n",
       "    }\n",
       "\n",
       "    .dataframe thead th {\n",
       "        text-align: right;\n",
       "    }\n",
       "</style>\n",
       "<table border=\"1\" class=\"dataframe\">\n",
       "  <thead>\n",
       "    <tr style=\"text-align: right;\">\n",
       "      <th></th>\n",
       "      <th>wavelength</th>\n",
       "      <th>binwidth</th>\n",
       "      <th>efficiency</th>\n",
       "      <th>gain</th>\n",
       "      <th>target</th>\n",
       "      <th>sky</th>\n",
       "      <th>dark</th>\n",
       "      <th>ron</th>\n",
       "      <th>noise</th>\n",
       "      <th>arm</th>\n",
       "    </tr>\n",
       "  </thead>\n",
       "  <tbody>\n",
       "    <tr>\n",
       "      <th>0</th>\n",
       "      <td>370.017059</td>\n",
       "      <td>0.031717</td>\n",
       "      <td>0.020227</td>\n",
       "      <td>1.068125</td>\n",
       "      <td>4603.837588</td>\n",
       "      <td>2553.476471</td>\n",
       "      <td>720.044792</td>\n",
       "      <td>5.306038</td>\n",
       "      <td>61.335626</td>\n",
       "      <td>blue</td>\n",
       "    </tr>\n",
       "    <tr>\n",
       "      <th>1</th>\n",
       "      <td>370.048775</td>\n",
       "      <td>0.031717</td>\n",
       "      <td>0.020300</td>\n",
       "      <td>1.068125</td>\n",
       "      <td>4620.314860</td>\n",
       "      <td>2628.135355</td>\n",
       "      <td>720.044792</td>\n",
       "      <td>5.306038</td>\n",
       "      <td>61.954545</td>\n",
       "      <td>blue</td>\n",
       "    </tr>\n",
       "    <tr>\n",
       "      <th>2</th>\n",
       "      <td>370.080492</td>\n",
       "      <td>0.031717</td>\n",
       "      <td>0.020373</td>\n",
       "      <td>1.068125</td>\n",
       "      <td>4636.902365</td>\n",
       "      <td>2658.738805</td>\n",
       "      <td>720.044792</td>\n",
       "      <td>5.306038</td>\n",
       "      <td>62.214370</td>\n",
       "      <td>blue</td>\n",
       "    </tr>\n",
       "    <tr>\n",
       "      <th>3</th>\n",
       "      <td>370.112208</td>\n",
       "      <td>0.031716</td>\n",
       "      <td>0.020446</td>\n",
       "      <td>1.068125</td>\n",
       "      <td>4653.617682</td>\n",
       "      <td>2675.215011</td>\n",
       "      <td>720.044792</td>\n",
       "      <td>5.306038</td>\n",
       "      <td>62.360048</td>\n",
       "      <td>blue</td>\n",
       "    </tr>\n",
       "    <tr>\n",
       "      <th>4</th>\n",
       "      <td>370.143925</td>\n",
       "      <td>0.031716</td>\n",
       "      <td>0.020520</td>\n",
       "      <td>1.068125</td>\n",
       "      <td>4670.594542</td>\n",
       "      <td>2691.598612</td>\n",
       "      <td>720.044792</td>\n",
       "      <td>5.306038</td>\n",
       "      <td>62.504855</td>\n",
       "      <td>blue</td>\n",
       "    </tr>\n",
       "    <tr>\n",
       "      <th>...</th>\n",
       "      <td>...</td>\n",
       "      <td>...</td>\n",
       "      <td>...</td>\n",
       "      <td>...</td>\n",
       "      <td>...</td>\n",
       "      <td>...</td>\n",
       "      <td>...</td>\n",
       "      <td>...</td>\n",
       "      <td>...</td>\n",
       "      <td>...</td>\n",
       "    </tr>\n",
       "    <tr>\n",
       "      <th>18059</th>\n",
       "      <td>949.801748</td>\n",
       "      <td>0.039845</td>\n",
       "      <td>0.106341</td>\n",
       "      <td>1.063250</td>\n",
       "      <td>22605.648627</td>\n",
       "      <td>18509.876612</td>\n",
       "      <td>936.719375</td>\n",
       "      <td>4.967006</td>\n",
       "      <td>147.417204</td>\n",
       "      <td>red</td>\n",
       "    </tr>\n",
       "    <tr>\n",
       "      <th>18060</th>\n",
       "      <td>949.841592</td>\n",
       "      <td>0.039844</td>\n",
       "      <td>0.106224</td>\n",
       "      <td>1.063250</td>\n",
       "      <td>22609.773436</td>\n",
       "      <td>18856.479346</td>\n",
       "      <td>936.719375</td>\n",
       "      <td>4.967006</td>\n",
       "      <td>148.589526</td>\n",
       "      <td>red</td>\n",
       "    </tr>\n",
       "    <tr>\n",
       "      <th>18061</th>\n",
       "      <td>949.881436</td>\n",
       "      <td>0.039842</td>\n",
       "      <td>0.106106</td>\n",
       "      <td>1.063250</td>\n",
       "      <td>22586.837738</td>\n",
       "      <td>17965.834865</td>\n",
       "      <td>936.719375</td>\n",
       "      <td>4.967006</td>\n",
       "      <td>145.553802</td>\n",
       "      <td>red</td>\n",
       "    </tr>\n",
       "    <tr>\n",
       "      <th>18062</th>\n",
       "      <td>949.921277</td>\n",
       "      <td>0.039841</td>\n",
       "      <td>0.105993</td>\n",
       "      <td>1.063250</td>\n",
       "      <td>22562.087868</td>\n",
       "      <td>15596.225503</td>\n",
       "      <td>936.719375</td>\n",
       "      <td>4.967006</td>\n",
       "      <td>137.163497</td>\n",
       "      <td>red</td>\n",
       "    </tr>\n",
       "    <tr>\n",
       "      <th>18063</th>\n",
       "      <td>949.961117</td>\n",
       "      <td>0.039839</td>\n",
       "      <td>0.105886</td>\n",
       "      <td>1.063250</td>\n",
       "      <td>22539.019225</td>\n",
       "      <td>12440.193986</td>\n",
       "      <td>936.719375</td>\n",
       "      <td>4.967006</td>\n",
       "      <td>125.121886</td>\n",
       "      <td>red</td>\n",
       "    </tr>\n",
       "  </tbody>\n",
       "</table>\n",
       "<p>18064 rows × 10 columns</p>\n",
       "</div>"
      ],
      "text/plain": [
       "       wavelength  binwidth  efficiency      gain        target           sky  \\\n",
       "0      370.017059  0.031717    0.020227  1.068125   4603.837588   2553.476471   \n",
       "1      370.048775  0.031717    0.020300  1.068125   4620.314860   2628.135355   \n",
       "2      370.080492  0.031717    0.020373  1.068125   4636.902365   2658.738805   \n",
       "3      370.112208  0.031716    0.020446  1.068125   4653.617682   2675.215011   \n",
       "4      370.143925  0.031716    0.020520  1.068125   4670.594542   2691.598612   \n",
       "...           ...       ...         ...       ...           ...           ...   \n",
       "18059  949.801748  0.039845    0.106341  1.063250  22605.648627  18509.876612   \n",
       "18060  949.841592  0.039844    0.106224  1.063250  22609.773436  18856.479346   \n",
       "18061  949.881436  0.039842    0.106106  1.063250  22586.837738  17965.834865   \n",
       "18062  949.921277  0.039841    0.105993  1.063250  22562.087868  15596.225503   \n",
       "18063  949.961117  0.039839    0.105886  1.063250  22539.019225  12440.193986   \n",
       "\n",
       "             dark       ron       noise   arm  \n",
       "0      720.044792  5.306038   61.335626  blue  \n",
       "1      720.044792  5.306038   61.954545  blue  \n",
       "2      720.044792  5.306038   62.214370  blue  \n",
       "3      720.044792  5.306038   62.360048  blue  \n",
       "4      720.044792  5.306038   62.504855  blue  \n",
       "...           ...       ...         ...   ...  \n",
       "18059  936.719375  4.967006  147.417204   red  \n",
       "18060  936.719375  4.967006  148.589526   red  \n",
       "18061  936.719375  4.967006  145.553802   red  \n",
       "18062  936.719375  4.967006  137.163497   red  \n",
       "18063  936.719375  4.967006  125.121886   red  \n",
       "\n",
       "[18064 rows x 10 columns]"
      ]
     },
     "execution_count": 7,
     "metadata": {},
     "output_type": "execute_result"
    }
   ],
   "source": [
    "qmost_l = QMostObservatory('lrs')  # high-resolution\n",
    "obs_l = qmost_l(45*u.deg,  # airmass\n",
    "            1.3*u.arcsec,  # seeing\n",
    "            'gray')  # moon conditions\n",
    "\n",
    "obs_l.set_target(flux, 'point')\n",
    "tbl_low = obs_l.expose((10000*60)*u.s)\n",
    "tbl_low = tbl_low.to_pandas()\n",
    "tbl_low"
   ]
  },
  {
   "cell_type": "code",
   "execution_count": 8,
   "id": "c0a4ee4a-17b2-4671-9524-a21f7d138f5f",
   "metadata": {},
   "outputs": [],
   "source": [
    "qmost = QMostObservatory('hrs')  # high-resolution\n",
    "obs = qmost(45*u.deg,  # airmass\n",
    "            1.3*u.arcsec,  # seeing\n",
    "            'gray')  # moon conditions\n",
    "\n",
    "obs.set_target(flux, 'point')\n",
    "tbl = obs.expose((10000*60)*u.s)"
   ]
  },
  {
   "cell_type": "code",
   "execution_count": 14,
   "id": "12a0a202",
   "metadata": {},
   "outputs": [],
   "source": [
    "np.save('/data2/home2/nguerrav/QSO_simpaqs/npy_files/etc_wavelength_grid.npy', \n",
    "        np.asarray(tbl['wavelength']) * 10, allow_pickle=True)"
   ]
  },
  {
   "cell_type": "code",
   "execution_count": 10,
   "id": "d3fbb69f",
   "metadata": {},
   "outputs": [
    {
     "data": {
      "text/html": [
       "<div>\n",
       "<style scoped>\n",
       "    .dataframe tbody tr th:only-of-type {\n",
       "        vertical-align: middle;\n",
       "    }\n",
       "\n",
       "    .dataframe tbody tr th {\n",
       "        vertical-align: top;\n",
       "    }\n",
       "\n",
       "    .dataframe thead th {\n",
       "        text-align: right;\n",
       "    }\n",
       "</style>\n",
       "<table border=\"1\" class=\"dataframe\">\n",
       "  <thead>\n",
       "    <tr style=\"text-align: right;\">\n",
       "      <th></th>\n",
       "      <th>wavelength</th>\n",
       "      <th>binwidth</th>\n",
       "      <th>efficiency</th>\n",
       "      <th>gain</th>\n",
       "      <th>target</th>\n",
       "      <th>sky</th>\n",
       "      <th>dark</th>\n",
       "      <th>ron</th>\n",
       "      <th>noise</th>\n",
       "      <th>arm</th>\n",
       "    </tr>\n",
       "  </thead>\n",
       "  <tbody>\n",
       "    <tr>\n",
       "      <th>0</th>\n",
       "      <td>392.606928</td>\n",
       "      <td>0.007923</td>\n",
       "      <td>0.102040</td>\n",
       "      <td>1.051500</td>\n",
       "      <td>6082.976358</td>\n",
       "      <td>2753.555458</td>\n",
       "      <td>520.493958</td>\n",
       "      <td>6.208353</td>\n",
       "      <td>62.617016</td>\n",
       "      <td>blue</td>\n",
       "    </tr>\n",
       "    <tr>\n",
       "      <th>1</th>\n",
       "      <td>392.614851</td>\n",
       "      <td>0.007922</td>\n",
       "      <td>0.102070</td>\n",
       "      <td>1.051500</td>\n",
       "      <td>6084.692546</td>\n",
       "      <td>2750.854642</td>\n",
       "      <td>520.493958</td>\n",
       "      <td>6.208353</td>\n",
       "      <td>62.596817</td>\n",
       "      <td>blue</td>\n",
       "    </tr>\n",
       "    <tr>\n",
       "      <th>2</th>\n",
       "      <td>392.622773</td>\n",
       "      <td>0.007922</td>\n",
       "      <td>0.102100</td>\n",
       "      <td>1.051500</td>\n",
       "      <td>6086.367342</td>\n",
       "      <td>2768.206539</td>\n",
       "      <td>520.493958</td>\n",
       "      <td>6.208353</td>\n",
       "      <td>62.736599</td>\n",
       "      <td>blue</td>\n",
       "    </tr>\n",
       "    <tr>\n",
       "      <th>3</th>\n",
       "      <td>392.630695</td>\n",
       "      <td>0.007922</td>\n",
       "      <td>0.102131</td>\n",
       "      <td>1.051500</td>\n",
       "      <td>6088.025198</td>\n",
       "      <td>2879.087851</td>\n",
       "      <td>520.493958</td>\n",
       "      <td>6.208353</td>\n",
       "      <td>63.615470</td>\n",
       "      <td>blue</td>\n",
       "    </tr>\n",
       "    <tr>\n",
       "      <th>4</th>\n",
       "      <td>392.638617</td>\n",
       "      <td>0.007922</td>\n",
       "      <td>0.102161</td>\n",
       "      <td>1.051500</td>\n",
       "      <td>6089.683743</td>\n",
       "      <td>3128.693712</td>\n",
       "      <td>520.493958</td>\n",
       "      <td>6.208353</td>\n",
       "      <td>65.549216</td>\n",
       "      <td>blue</td>\n",
       "    </tr>\n",
       "    <tr>\n",
       "      <th>...</th>\n",
       "      <td>...</td>\n",
       "      <td>...</td>\n",
       "      <td>...</td>\n",
       "      <td>...</td>\n",
       "      <td>...</td>\n",
       "      <td>...</td>\n",
       "      <td>...</td>\n",
       "      <td>...</td>\n",
       "      <td>...</td>\n",
       "      <td>...</td>\n",
       "    </tr>\n",
       "    <tr>\n",
       "      <th>18013</th>\n",
       "      <td>678.950329</td>\n",
       "      <td>0.010058</td>\n",
       "      <td>0.197119</td>\n",
       "      <td>1.072625</td>\n",
       "      <td>18597.758020</td>\n",
       "      <td>8942.909376</td>\n",
       "      <td>674.056458</td>\n",
       "      <td>5.165317</td>\n",
       "      <td>107.254008</td>\n",
       "      <td>red</td>\n",
       "    </tr>\n",
       "    <tr>\n",
       "      <th>18014</th>\n",
       "      <td>678.960387</td>\n",
       "      <td>0.010058</td>\n",
       "      <td>0.197090</td>\n",
       "      <td>1.072625</td>\n",
       "      <td>18594.257094</td>\n",
       "      <td>9811.415115</td>\n",
       "      <td>674.056458</td>\n",
       "      <td>5.165317</td>\n",
       "      <td>111.227595</td>\n",
       "      <td>red</td>\n",
       "    </tr>\n",
       "    <tr>\n",
       "      <th>18015</th>\n",
       "      <td>678.970445</td>\n",
       "      <td>0.010058</td>\n",
       "      <td>0.197062</td>\n",
       "      <td>1.072625</td>\n",
       "      <td>18590.793479</td>\n",
       "      <td>9817.954387</td>\n",
       "      <td>674.056458</td>\n",
       "      <td>5.165317</td>\n",
       "      <td>111.255430</td>\n",
       "      <td>red</td>\n",
       "    </tr>\n",
       "    <tr>\n",
       "      <th>18016</th>\n",
       "      <td>678.980502</td>\n",
       "      <td>0.010057</td>\n",
       "      <td>0.197033</td>\n",
       "      <td>1.072625</td>\n",
       "      <td>18587.463651</td>\n",
       "      <td>8976.202491</td>\n",
       "      <td>674.056458</td>\n",
       "      <td>5.165317</td>\n",
       "      <td>107.404310</td>\n",
       "      <td>red</td>\n",
       "    </tr>\n",
       "    <tr>\n",
       "      <th>18017</th>\n",
       "      <td>678.990559</td>\n",
       "      <td>0.010057</td>\n",
       "      <td>0.197005</td>\n",
       "      <td>1.072625</td>\n",
       "      <td>18584.394982</td>\n",
       "      <td>8302.773480</td>\n",
       "      <td>674.056458</td>\n",
       "      <td>5.165317</td>\n",
       "      <td>104.220679</td>\n",
       "      <td>red</td>\n",
       "    </tr>\n",
       "  </tbody>\n",
       "</table>\n",
       "<p>18018 rows × 10 columns</p>\n",
       "</div>"
      ],
      "text/plain": [
       "       wavelength  binwidth  efficiency      gain        target          sky  \\\n",
       "0      392.606928  0.007923    0.102040  1.051500   6082.976358  2753.555458   \n",
       "1      392.614851  0.007922    0.102070  1.051500   6084.692546  2750.854642   \n",
       "2      392.622773  0.007922    0.102100  1.051500   6086.367342  2768.206539   \n",
       "3      392.630695  0.007922    0.102131  1.051500   6088.025198  2879.087851   \n",
       "4      392.638617  0.007922    0.102161  1.051500   6089.683743  3128.693712   \n",
       "...           ...       ...         ...       ...           ...          ...   \n",
       "18013  678.950329  0.010058    0.197119  1.072625  18597.758020  8942.909376   \n",
       "18014  678.960387  0.010058    0.197090  1.072625  18594.257094  9811.415115   \n",
       "18015  678.970445  0.010058    0.197062  1.072625  18590.793479  9817.954387   \n",
       "18016  678.980502  0.010057    0.197033  1.072625  18587.463651  8976.202491   \n",
       "18017  678.990559  0.010057    0.197005  1.072625  18584.394982  8302.773480   \n",
       "\n",
       "             dark       ron       noise   arm  \n",
       "0      520.493958  6.208353   62.617016  blue  \n",
       "1      520.493958  6.208353   62.596817  blue  \n",
       "2      520.493958  6.208353   62.736599  blue  \n",
       "3      520.493958  6.208353   63.615470  blue  \n",
       "4      520.493958  6.208353   65.549216  blue  \n",
       "...           ...       ...         ...   ...  \n",
       "18013  674.056458  5.165317  107.254008   red  \n",
       "18014  674.056458  5.165317  111.227595   red  \n",
       "18015  674.056458  5.165317  111.255430   red  \n",
       "18016  674.056458  5.165317  107.404310   red  \n",
       "18017  674.056458  5.165317  104.220679   red  \n",
       "\n",
       "[18018 rows x 10 columns]"
      ]
     },
     "execution_count": 10,
     "metadata": {},
     "output_type": "execute_result"
    }
   ],
   "source": [
    "tbl_pd = tbl.to_pandas()\n",
    "tbl_pd"
   ]
  },
  {
   "cell_type": "code",
   "execution_count": 11,
   "id": "8519e7f7",
   "metadata": {},
   "outputs": [
    {
     "data": {
      "text/plain": [
       "<Axes: >"
      ]
     },
     "execution_count": 11,
     "metadata": {},
     "output_type": "execute_result"
    },
    {
     "data": {
      "image/png": "[encoded data removed]",
      "text/plain": [
       "<Figure size 640x480 with 1 Axes>"
      ]
     },
     "metadata": {},
     "output_type": "display_data"
    }
   ],
   "source": [
    "tbl_pd['binwidth'].hist()"
   ]
  },
  {
   "cell_type": "code",
   "execution_count": 11,
   "id": "7c78e3ab",
   "metadata": {},
   "outputs": [
    {
     "data": {
      "text/plain": [
       "array([11666.29064788, 11667.33412323, 11668.37763493, ...,\n",
       "       23840.99615482, 23842.85489505, 23844.71379441])"
      ]
     },
     "execution_count": 11,
     "metadata": {},
     "output_type": "execute_result"
    }
   ],
   "source": [
    "R_lrs = np.zeros(tbl_low.shape[0])\n",
    "\n",
    "for i in range(len(R_lrs)):\n",
    "    R_lrs[i] = tbl_low.iloc[[i]]['wavelength'].values[0] / tbl_low.iloc[[i]]['binwidth'].values[0]\n",
    "\n",
    "R_lrs"
   ]
  },
  {
   "cell_type": "code",
   "execution_count": 12,
   "id": "398d7f4d",
   "metadata": {},
   "outputs": [
    {
     "data": {
      "text/plain": [
       "array([49555.85781499, 49558.21721209, 49560.57684313, ...,\n",
       "       67508.38539297, 67512.36688133, 67516.34864593])"
      ]
     },
     "execution_count": 12,
     "metadata": {},
     "output_type": "execute_result"
    }
   ],
   "source": [
    "R_etc = np.zeros(tbl_pd.shape[0])\n",
    "\n",
    "for i in range(len(R_etc)):\n",
    "    R_etc[i] = tbl_pd.iloc[[i]]['wavelength'].values[0] / tbl_pd.iloc[[i]]['binwidth'].values[0]\n",
    "\n",
    "R_etc"
   ]
  },
  {
   "cell_type": "code",
   "execution_count": 23,
   "id": "bf1bd93f",
   "metadata": {},
   "outputs": [
    {
     "data": {
      "text/plain": [
       "(array([2168., 2392., 1411.,  812., 1744., 1870., 2906., 1445., 1553.,\n",
       "        1717.]),\n",
       " array([0.0063723 , 0.00698538, 0.00759846, 0.00821154, 0.00882462,\n",
       "        0.0094377 , 0.01005079, 0.01066387, 0.01127695, 0.01189003,\n",
       "        0.01250311]),\n",
       " <BarContainer object of 10 artists>)"
      ]
     },
     "execution_count": 23,
     "metadata": {},
     "output_type": "execute_result"
    },
    {
     "data": {
      "image/png": "[encoded data removed]",
      "text/plain": [
       "<Figure size 640x480 with 1 Axes>"
      ]
     },
     "metadata": {},
     "output_type": "display_data"
    }
   ],
   "source": [
    "plt.hist(tbl_pd['binwidth'])"
   ]
  },
  {
   "cell_type": "code",
   "execution_count": 13,
   "id": "177f3298",
   "metadata": {},
   "outputs": [
    {
     "data": {
      "text/html": [
       "<div>\n",
       "<style scoped>\n",
       "    .dataframe tbody tr th:only-of-type {\n",
       "        vertical-align: middle;\n",
       "    }\n",
       "\n",
       "    .dataframe tbody tr th {\n",
       "        vertical-align: top;\n",
       "    }\n",
       "\n",
       "    .dataframe thead th {\n",
       "        text-align: right;\n",
       "    }\n",
       "</style>\n",
       "<table border=\"1\" class=\"dataframe\">\n",
       "  <thead>\n",
       "    <tr style=\"text-align: right;\">\n",
       "      <th></th>\n",
       "      <th>wavelength</th>\n",
       "      <th>binwidth</th>\n",
       "      <th>efficiency</th>\n",
       "      <th>gain</th>\n",
       "      <th>target</th>\n",
       "      <th>sky</th>\n",
       "      <th>dark</th>\n",
       "      <th>ron</th>\n",
       "      <th>noise</th>\n",
       "      <th>arm</th>\n",
       "      <th>R</th>\n",
       "    </tr>\n",
       "  </thead>\n",
       "  <tbody>\n",
       "    <tr>\n",
       "      <th>0</th>\n",
       "      <td>370.017059</td>\n",
       "      <td>0.031717</td>\n",
       "      <td>0.020227</td>\n",
       "      <td>1.068125</td>\n",
       "      <td>4603.837588</td>\n",
       "      <td>2553.476471</td>\n",
       "      <td>720.044792</td>\n",
       "      <td>5.306038</td>\n",
       "      <td>61.335626</td>\n",
       "      <td>blue</td>\n",
       "      <td>11666.290648</td>\n",
       "    </tr>\n",
       "    <tr>\n",
       "      <th>1</th>\n",
       "      <td>370.048775</td>\n",
       "      <td>0.031717</td>\n",
       "      <td>0.020300</td>\n",
       "      <td>1.068125</td>\n",
       "      <td>4620.314860</td>\n",
       "      <td>2628.135355</td>\n",
       "      <td>720.044792</td>\n",
       "      <td>5.306038</td>\n",
       "      <td>61.954545</td>\n",
       "      <td>blue</td>\n",
       "      <td>11667.334123</td>\n",
       "    </tr>\n",
       "    <tr>\n",
       "      <th>2</th>\n",
       "      <td>370.080492</td>\n",
       "      <td>0.031717</td>\n",
       "      <td>0.020373</td>\n",
       "      <td>1.068125</td>\n",
       "      <td>4636.902365</td>\n",
       "      <td>2658.738805</td>\n",
       "      <td>720.044792</td>\n",
       "      <td>5.306038</td>\n",
       "      <td>62.214370</td>\n",
       "      <td>blue</td>\n",
       "      <td>11668.377635</td>\n",
       "    </tr>\n",
       "    <tr>\n",
       "      <th>3</th>\n",
       "      <td>370.112208</td>\n",
       "      <td>0.031716</td>\n",
       "      <td>0.020446</td>\n",
       "      <td>1.068125</td>\n",
       "      <td>4653.617682</td>\n",
       "      <td>2675.215011</td>\n",
       "      <td>720.044792</td>\n",
       "      <td>5.306038</td>\n",
       "      <td>62.360048</td>\n",
       "      <td>blue</td>\n",
       "      <td>11669.421183</td>\n",
       "    </tr>\n",
       "    <tr>\n",
       "      <th>4</th>\n",
       "      <td>370.143925</td>\n",
       "      <td>0.031716</td>\n",
       "      <td>0.020520</td>\n",
       "      <td>1.068125</td>\n",
       "      <td>4670.594542</td>\n",
       "      <td>2691.598612</td>\n",
       "      <td>720.044792</td>\n",
       "      <td>5.306038</td>\n",
       "      <td>62.504855</td>\n",
       "      <td>blue</td>\n",
       "      <td>11670.464768</td>\n",
       "    </tr>\n",
       "    <tr>\n",
       "      <th>...</th>\n",
       "      <td>...</td>\n",
       "      <td>...</td>\n",
       "      <td>...</td>\n",
       "      <td>...</td>\n",
       "      <td>...</td>\n",
       "      <td>...</td>\n",
       "      <td>...</td>\n",
       "      <td>...</td>\n",
       "      <td>...</td>\n",
       "      <td>...</td>\n",
       "      <td>...</td>\n",
       "    </tr>\n",
       "    <tr>\n",
       "      <th>18059</th>\n",
       "      <td>949.801748</td>\n",
       "      <td>0.039845</td>\n",
       "      <td>0.106341</td>\n",
       "      <td>1.063250</td>\n",
       "      <td>22605.648627</td>\n",
       "      <td>18509.876612</td>\n",
       "      <td>936.719375</td>\n",
       "      <td>4.967006</td>\n",
       "      <td>147.417204</td>\n",
       "      <td>red</td>\n",
       "      <td>23837.279151</td>\n",
       "    </tr>\n",
       "    <tr>\n",
       "      <th>18060</th>\n",
       "      <td>949.841592</td>\n",
       "      <td>0.039844</td>\n",
       "      <td>0.106224</td>\n",
       "      <td>1.063250</td>\n",
       "      <td>22609.773436</td>\n",
       "      <td>18856.479346</td>\n",
       "      <td>936.719375</td>\n",
       "      <td>4.967006</td>\n",
       "      <td>148.589526</td>\n",
       "      <td>red</td>\n",
       "      <td>23839.137573</td>\n",
       "    </tr>\n",
       "    <tr>\n",
       "      <th>18061</th>\n",
       "      <td>949.881436</td>\n",
       "      <td>0.039842</td>\n",
       "      <td>0.106106</td>\n",
       "      <td>1.063250</td>\n",
       "      <td>22586.837738</td>\n",
       "      <td>17965.834865</td>\n",
       "      <td>936.719375</td>\n",
       "      <td>4.967006</td>\n",
       "      <td>145.553802</td>\n",
       "      <td>red</td>\n",
       "      <td>23840.996155</td>\n",
       "    </tr>\n",
       "    <tr>\n",
       "      <th>18062</th>\n",
       "      <td>949.921277</td>\n",
       "      <td>0.039841</td>\n",
       "      <td>0.105993</td>\n",
       "      <td>1.063250</td>\n",
       "      <td>22562.087868</td>\n",
       "      <td>15596.225503</td>\n",
       "      <td>936.719375</td>\n",
       "      <td>4.967006</td>\n",
       "      <td>137.163497</td>\n",
       "      <td>red</td>\n",
       "      <td>23842.854895</td>\n",
       "    </tr>\n",
       "    <tr>\n",
       "      <th>18063</th>\n",
       "      <td>949.961117</td>\n",
       "      <td>0.039839</td>\n",
       "      <td>0.105886</td>\n",
       "      <td>1.063250</td>\n",
       "      <td>22539.019225</td>\n",
       "      <td>12440.193986</td>\n",
       "      <td>936.719375</td>\n",
       "      <td>4.967006</td>\n",
       "      <td>125.121886</td>\n",
       "      <td>red</td>\n",
       "      <td>23844.713794</td>\n",
       "    </tr>\n",
       "  </tbody>\n",
       "</table>\n",
       "<p>18064 rows × 11 columns</p>\n",
       "</div>"
      ],
      "text/plain": [
       "       wavelength  binwidth  efficiency      gain        target           sky  \\\n",
       "0      370.017059  0.031717    0.020227  1.068125   4603.837588   2553.476471   \n",
       "1      370.048775  0.031717    0.020300  1.068125   4620.314860   2628.135355   \n",
       "2      370.080492  0.031717    0.020373  1.068125   4636.902365   2658.738805   \n",
       "3      370.112208  0.031716    0.020446  1.068125   4653.617682   2675.215011   \n",
       "4      370.143925  0.031716    0.020520  1.068125   4670.594542   2691.598612   \n",
       "...           ...       ...         ...       ...           ...           ...   \n",
       "18059  949.801748  0.039845    0.106341  1.063250  22605.648627  18509.876612   \n",
       "18060  949.841592  0.039844    0.106224  1.063250  22609.773436  18856.479346   \n",
       "18061  949.881436  0.039842    0.106106  1.063250  22586.837738  17965.834865   \n",
       "18062  949.921277  0.039841    0.105993  1.063250  22562.087868  15596.225503   \n",
       "18063  949.961117  0.039839    0.105886  1.063250  22539.019225  12440.193986   \n",
       "\n",
       "             dark       ron       noise   arm             R  \n",
       "0      720.044792  5.306038   61.335626  blue  11666.290648  \n",
       "1      720.044792  5.306038   61.954545  blue  11667.334123  \n",
       "2      720.044792  5.306038   62.214370  blue  11668.377635  \n",
       "3      720.044792  5.306038   62.360048  blue  11669.421183  \n",
       "4      720.044792  5.306038   62.504855  blue  11670.464768  \n",
       "...           ...       ...         ...   ...           ...  \n",
       "18059  936.719375  4.967006  147.417204   red  23837.279151  \n",
       "18060  936.719375  4.967006  148.589526   red  23839.137573  \n",
       "18061  936.719375  4.967006  145.553802   red  23840.996155  \n",
       "18062  936.719375  4.967006  137.163497   red  23842.854895  \n",
       "18063  936.719375  4.967006  125.121886   red  23844.713794  \n",
       "\n",
       "[18064 rows x 11 columns]"
      ]
     },
     "execution_count": 13,
     "metadata": {},
     "output_type": "execute_result"
    }
   ],
   "source": [
    "tbl_low['R'] = tbl_low.apply(lambda x: x['wavelength'] / x['binwidth'], axis=1)\n",
    "tbl_low"
   ]
  },
  {
   "cell_type": "code",
   "execution_count": 14,
   "id": "746ad470",
   "metadata": {},
   "outputs": [
    {
     "data": {
      "text/html": [
       "<div>\n",
       "<style scoped>\n",
       "    .dataframe tbody tr th:only-of-type {\n",
       "        vertical-align: middle;\n",
       "    }\n",
       "\n",
       "    .dataframe tbody tr th {\n",
       "        vertical-align: top;\n",
       "    }\n",
       "\n",
       "    .dataframe thead th {\n",
       "        text-align: right;\n",
       "    }\n",
       "</style>\n",
       "<table border=\"1\" class=\"dataframe\">\n",
       "  <thead>\n",
       "    <tr style=\"text-align: right;\">\n",
       "      <th></th>\n",
       "      <th>wavelength</th>\n",
       "      <th>binwidth</th>\n",
       "      <th>efficiency</th>\n",
       "      <th>gain</th>\n",
       "      <th>target</th>\n",
       "      <th>sky</th>\n",
       "      <th>dark</th>\n",
       "      <th>ron</th>\n",
       "      <th>noise</th>\n",
       "      <th>arm</th>\n",
       "      <th>R</th>\n",
       "    </tr>\n",
       "  </thead>\n",
       "  <tbody>\n",
       "    <tr>\n",
       "      <th>0</th>\n",
       "      <td>392.606928</td>\n",
       "      <td>0.007923</td>\n",
       "      <td>0.102040</td>\n",
       "      <td>1.051500</td>\n",
       "      <td>6082.976358</td>\n",
       "      <td>2753.555458</td>\n",
       "      <td>520.493958</td>\n",
       "      <td>6.208353</td>\n",
       "      <td>62.617016</td>\n",
       "      <td>blue</td>\n",
       "      <td>49555.857815</td>\n",
       "    </tr>\n",
       "    <tr>\n",
       "      <th>1</th>\n",
       "      <td>392.614851</td>\n",
       "      <td>0.007922</td>\n",
       "      <td>0.102070</td>\n",
       "      <td>1.051500</td>\n",
       "      <td>6084.692546</td>\n",
       "      <td>2750.854642</td>\n",
       "      <td>520.493958</td>\n",
       "      <td>6.208353</td>\n",
       "      <td>62.596817</td>\n",
       "      <td>blue</td>\n",
       "      <td>49558.217212</td>\n",
       "    </tr>\n",
       "    <tr>\n",
       "      <th>2</th>\n",
       "      <td>392.622773</td>\n",
       "      <td>0.007922</td>\n",
       "      <td>0.102100</td>\n",
       "      <td>1.051500</td>\n",
       "      <td>6086.367342</td>\n",
       "      <td>2768.206539</td>\n",
       "      <td>520.493958</td>\n",
       "      <td>6.208353</td>\n",
       "      <td>62.736599</td>\n",
       "      <td>blue</td>\n",
       "      <td>49560.576843</td>\n",
       "    </tr>\n",
       "    <tr>\n",
       "      <th>3</th>\n",
       "      <td>392.630695</td>\n",
       "      <td>0.007922</td>\n",
       "      <td>0.102131</td>\n",
       "      <td>1.051500</td>\n",
       "      <td>6088.025198</td>\n",
       "      <td>2879.087851</td>\n",
       "      <td>520.493958</td>\n",
       "      <td>6.208353</td>\n",
       "      <td>63.615470</td>\n",
       "      <td>blue</td>\n",
       "      <td>49562.936707</td>\n",
       "    </tr>\n",
       "    <tr>\n",
       "      <th>4</th>\n",
       "      <td>392.638617</td>\n",
       "      <td>0.007922</td>\n",
       "      <td>0.102161</td>\n",
       "      <td>1.051500</td>\n",
       "      <td>6089.683743</td>\n",
       "      <td>3128.693712</td>\n",
       "      <td>520.493958</td>\n",
       "      <td>6.208353</td>\n",
       "      <td>65.549216</td>\n",
       "      <td>blue</td>\n",
       "      <td>49565.296805</td>\n",
       "    </tr>\n",
       "    <tr>\n",
       "      <th>...</th>\n",
       "      <td>...</td>\n",
       "      <td>...</td>\n",
       "      <td>...</td>\n",
       "      <td>...</td>\n",
       "      <td>...</td>\n",
       "      <td>...</td>\n",
       "      <td>...</td>\n",
       "      <td>...</td>\n",
       "      <td>...</td>\n",
       "      <td>...</td>\n",
       "      <td>...</td>\n",
       "    </tr>\n",
       "    <tr>\n",
       "      <th>18013</th>\n",
       "      <td>678.950329</td>\n",
       "      <td>0.010058</td>\n",
       "      <td>0.197119</td>\n",
       "      <td>1.072625</td>\n",
       "      <td>18597.758020</td>\n",
       "      <td>8942.909376</td>\n",
       "      <td>674.056458</td>\n",
       "      <td>5.165317</td>\n",
       "      <td>107.254008</td>\n",
       "      <td>red</td>\n",
       "      <td>67500.423246</td>\n",
       "    </tr>\n",
       "    <tr>\n",
       "      <th>18014</th>\n",
       "      <td>678.960387</td>\n",
       "      <td>0.010058</td>\n",
       "      <td>0.197090</td>\n",
       "      <td>1.072625</td>\n",
       "      <td>18594.257094</td>\n",
       "      <td>9811.415115</td>\n",
       "      <td>674.056458</td>\n",
       "      <td>5.165317</td>\n",
       "      <td>111.227595</td>\n",
       "      <td>red</td>\n",
       "      <td>67504.404181</td>\n",
       "    </tr>\n",
       "    <tr>\n",
       "      <th>18015</th>\n",
       "      <td>678.970445</td>\n",
       "      <td>0.010058</td>\n",
       "      <td>0.197062</td>\n",
       "      <td>1.072625</td>\n",
       "      <td>18590.793479</td>\n",
       "      <td>9817.954387</td>\n",
       "      <td>674.056458</td>\n",
       "      <td>5.165317</td>\n",
       "      <td>111.255430</td>\n",
       "      <td>red</td>\n",
       "      <td>67508.385393</td>\n",
       "    </tr>\n",
       "    <tr>\n",
       "      <th>18016</th>\n",
       "      <td>678.980502</td>\n",
       "      <td>0.010057</td>\n",
       "      <td>0.197033</td>\n",
       "      <td>1.072625</td>\n",
       "      <td>18587.463651</td>\n",
       "      <td>8976.202491</td>\n",
       "      <td>674.056458</td>\n",
       "      <td>5.165317</td>\n",
       "      <td>107.404310</td>\n",
       "      <td>red</td>\n",
       "      <td>67512.366881</td>\n",
       "    </tr>\n",
       "    <tr>\n",
       "      <th>18017</th>\n",
       "      <td>678.990559</td>\n",
       "      <td>0.010057</td>\n",
       "      <td>0.197005</td>\n",
       "      <td>1.072625</td>\n",
       "      <td>18584.394982</td>\n",
       "      <td>8302.773480</td>\n",
       "      <td>674.056458</td>\n",
       "      <td>5.165317</td>\n",
       "      <td>104.220679</td>\n",
       "      <td>red</td>\n",
       "      <td>67516.348646</td>\n",
       "    </tr>\n",
       "  </tbody>\n",
       "</table>\n",
       "<p>18018 rows × 11 columns</p>\n",
       "</div>"
      ],
      "text/plain": [
       "       wavelength  binwidth  efficiency      gain        target          sky  \\\n",
       "0      392.606928  0.007923    0.102040  1.051500   6082.976358  2753.555458   \n",
       "1      392.614851  0.007922    0.102070  1.051500   6084.692546  2750.854642   \n",
       "2      392.622773  0.007922    0.102100  1.051500   6086.367342  2768.206539   \n",
       "3      392.630695  0.007922    0.102131  1.051500   6088.025198  2879.087851   \n",
       "4      392.638617  0.007922    0.102161  1.051500   6089.683743  3128.693712   \n",
       "...           ...       ...         ...       ...           ...          ...   \n",
       "18013  678.950329  0.010058    0.197119  1.072625  18597.758020  8942.909376   \n",
       "18014  678.960387  0.010058    0.197090  1.072625  18594.257094  9811.415115   \n",
       "18015  678.970445  0.010058    0.197062  1.072625  18590.793479  9817.954387   \n",
       "18016  678.980502  0.010057    0.197033  1.072625  18587.463651  8976.202491   \n",
       "18017  678.990559  0.010057    0.197005  1.072625  18584.394982  8302.773480   \n",
       "\n",
       "             dark       ron       noise   arm             R  \n",
       "0      520.493958  6.208353   62.617016  blue  49555.857815  \n",
       "1      520.493958  6.208353   62.596817  blue  49558.217212  \n",
       "2      520.493958  6.208353   62.736599  blue  49560.576843  \n",
       "3      520.493958  6.208353   63.615470  blue  49562.936707  \n",
       "4      520.493958  6.208353   65.549216  blue  49565.296805  \n",
       "...           ...       ...         ...   ...           ...  \n",
       "18013  674.056458  5.165317  107.254008   red  67500.423246  \n",
       "18014  674.056458  5.165317  111.227595   red  67504.404181  \n",
       "18015  674.056458  5.165317  111.255430   red  67508.385393  \n",
       "18016  674.056458  5.165317  107.404310   red  67512.366881  \n",
       "18017  674.056458  5.165317  104.220679   red  67516.348646  \n",
       "\n",
       "[18018 rows x 11 columns]"
      ]
     },
     "execution_count": 14,
     "metadata": {},
     "output_type": "execute_result"
    }
   ],
   "source": [
    "tbl_pd['R'] = tbl_pd.apply(lambda x: x['wavelength'] / x['binwidth'], axis=1)\n",
    "tbl_pd"
   ]
  },
  {
   "cell_type": "code",
   "execution_count": 15,
   "id": "21505767",
   "metadata": {},
   "outputs": [
    {
     "data": {
      "text/plain": [
       "Text(0.5, 0, 'R')"
      ]
     },
     "execution_count": 15,
     "metadata": {},
     "output_type": "execute_result"
    },
    {
     "data": {
      "image/png": "[encoded data removed]",
      "text/plain": [
       "<Figure size 640x480 with 1 Axes>"
      ]
     },
     "metadata": {},
     "output_type": "display_data"
    }
   ],
   "source": [
    "plt.hist(R_lrs, bins=50, edgecolor='w');\n",
    "# plt.yscale('log')\n",
    "\n",
    "plt.xlabel('R')"
   ]
  },
  {
   "cell_type": "code",
   "execution_count": 19,
   "id": "0c5bf430",
   "metadata": {},
   "outputs": [
    {
     "data": {
      "image/png": "[encoded data removed]",
      "text/plain": [
       "<Figure size 1500x700 with 3 Axes>"
      ]
     },
     "metadata": {},
     "output_type": "display_data"
    }
   ],
   "source": [
    "fig, (ax1, ax2, ax3) = plt.subplots(ncols=1, nrows=3, sharex=True, figsize=(15, 7))\n",
    "\n",
    "colors = ['r', 'b', 'g']\n",
    "arms = ['red', 'blue', 'green']\n",
    "\n",
    "for i in range(3):\n",
    "    arm = arms[i]\n",
    "    color = colors[i]\n",
    "\n",
    "    tbl_arm = tbl_low.loc[tbl_low['arm']==arm]\n",
    "\n",
    "    ax1.plot(tbl_arm['wavelength'], tbl_arm['target'], c=color, lw=3)\n",
    "\n",
    "    ax2.plot(tbl_arm['wavelength'], tbl_arm['binwidth'], c=color, lw=3)\n",
    "\n",
    "    ax3.plot(tbl_arm['wavelength'], tbl_arm['R'], c=color, lw=3)\n",
    "\n",
    "ax1.set_ylabel('target [e-]')\n",
    "ax2.set_ylabel('binwidth [nm]')\n",
    "ax3.set_ylabel('R')\n",
    "ax3.set_xlabel('Wavelength [nm]')\n",
    "\n",
    "plt.savefig('spec_obs_expose_output_low_res.png', dpi=200)\n",
    "\n",
    "plt.show()"
   ]
  },
  {
   "cell_type": "code",
   "execution_count": 20,
   "id": "37df662b",
   "metadata": {},
   "outputs": [
    {
     "data": {
      "image/png": "[encoded data removed]",
      "text/plain": [
       "<Figure size 1500x700 with 3 Axes>"
      ]
     },
     "metadata": {},
     "output_type": "display_data"
    }
   ],
   "source": [
    "fig, (ax1, ax2, ax3) = plt.subplots(ncols=1, nrows=3, sharex=True, figsize=(15, 7))\n",
    "\n",
    "colors = ['r', 'b', 'g']\n",
    "arms = ['red', 'blue', 'green']\n",
    "\n",
    "for i in range(3):\n",
    "    arm = arms[i]\n",
    "    color = colors[i]\n",
    "\n",
    "    tbl_arm = tbl_pd.loc[tbl_pd['arm']==arm]\n",
    "\n",
    "    ax1.plot(tbl_arm['wavelength'], tbl_arm['target'], c=color, lw=3)\n",
    "\n",
    "    ax2.plot(tbl_arm['wavelength'], tbl_arm['binwidth'], c=color, lw=3)\n",
    "\n",
    "    ax3.plot(tbl_arm['wavelength'], tbl_arm['R'], c=color, lw=3)\n",
    "\n",
    "ax1.set_ylabel('target [e-]')\n",
    "ax2.set_ylabel('binwidth [nm]')\n",
    "ax3.set_ylabel('R')\n",
    "ax3.set_xlabel('Wavelength [nm]')\n",
    "\n",
    "plt.savefig('spec_obs_expose_output_high_res.png', dpi=200)\n",
    "\n",
    "plt.show()"
   ]
  },
  {
   "cell_type": "markdown",
   "id": "ab90b13a",
   "metadata": {},
   "source": [
    "### Check L1 Output"
   ]
  },
  {
   "cell_type": "code",
   "execution_count": 12,
   "id": "0e9ca2b2",
   "metadata": {},
   "outputs": [
    {
     "data": {
      "text/plain": [
       "<qmostetc.l1output.L1DXU at 0x7f8ba1a5b410>"
      ]
     },
     "execution_count": 12,
     "metadata": {},
     "output_type": "execute_result"
    }
   ],
   "source": [
    "dxu = L1DXU(qmost, tbl, (100000*60)*u.s)\n",
    "dxu"
   ]
  },
  {
   "cell_type": "code",
   "execution_count": 13,
   "id": "16ecac88",
   "metadata": {},
   "outputs": [
    {
     "name": "stderr",
     "output_type": "stream",
     "text": [
      "/home/nguerrav/miniconda3/envs/etc_4fs/lib/python3.12/site-packages/astropy/units/quantity.py:658: RuntimeWarning: invalid value encountered in divide\n",
      "  result = super().__array_ufunc__(function, method, *arrays, **kwargs)\n"
     ]
    },
    {
     "data": {
      "text/html": [
       "<div><i>QTable length=33775</i>\n",
       "<table id=\"table140237652531184\" class=\"table-striped table-bordered table-condensed\">\n",
       "<thead><tr><th>WAVE</th><th>FLUX</th><th>ERR_FLUX</th><th>QUAL</th><th>FLUX_NOSS</th><th>ERR_FLUX_NOSS</th></tr></thead>\n",
       "<thead><tr><th>Angstrom</th><th>erg / (Angstrom s cm2)</th><th>erg / (Angstrom s cm2)</th><th></th><th>erg / (Angstrom s cm2)</th><th>erg / (Angstrom s cm2)</th></tr></thead>\n",
       "<thead><tr><th>float32</th><th>float32</th><th>float32</th><th>int32</th><th>float32</th><th>float32</th></tr></thead>\n",
       "<tr><td>3926.10</td><td>8.82359e-19</td><td>1.10100e-19</td><td>0</td><td>4.72864e-18</td><td>1.10100e-19</td></tr>\n",
       "<tr><td>3926.15</td><td>8.80377e-19</td><td>1.10053e-19</td><td>0</td><td>4.72393e-18</td><td>1.10053e-19</td></tr>\n",
       "<tr><td>3926.20</td><td>8.83337e-19</td><td>1.10058e-19</td><td>0</td><td>4.72796e-18</td><td>1.10058e-19</td></tr>\n",
       "<tr><td>3926.25</td><td>9.03405e-19</td><td>1.10186e-19</td><td>0</td><td>4.76261e-18</td><td>1.10186e-19</td></tr>\n",
       "<tr><td>3926.30</td><td>8.02925e-19</td><td>1.10866e-19</td><td>0</td><td>4.73053e-18</td><td>1.10866e-19</td></tr>\n",
       "<tr><td>3926.35</td><td>6.55260e-19</td><td>1.11892e-19</td><td>0</td><td>4.68821e-18</td><td>1.11892e-19</td></tr>\n",
       "<tr><td>3926.40</td><td>7.34472e-19</td><td>1.14031e-19</td><td>0</td><td>4.98650e-18</td><td>1.14031e-19</td></tr>\n",
       "<tr><td>3926.45</td><td>8.12480e-19</td><td>1.15664e-19</td><td>0</td><td>5.23625e-18</td><td>1.15664e-19</td></tr>\n",
       "<tr><td>3926.50</td><td>8.89209e-19</td><td>1.16799e-19</td><td>0</td><td>5.43439e-18</td><td>1.16799e-19</td></tr>\n",
       "<tr><td>...</td><td>...</td><td>...</td><td>...</td><td>...</td><td>...</td></tr>\n",
       "<tr><td>6789.50</td><td>6.16837e-19</td><td>4.92906e-20</td><td>0</td><td>3.44479e-18</td><td>4.92906e-20</td></tr>\n",
       "<tr><td>6789.55</td><td>6.38629e-19</td><td>5.00214e-20</td><td>0</td><td>3.57648e-18</td><td>5.00214e-20</td></tr>\n",
       "<tr><td>6789.60</td><td>6.08731e-19</td><td>5.10091e-20</td><td>0</td><td>3.68673e-18</td><td>5.10091e-20</td></tr>\n",
       "<tr><td>6789.65</td><td>5.74843e-19</td><td>5.19261e-20</td><td>0</td><td>3.79534e-18</td><td>5.19261e-20</td></tr>\n",
       "<tr><td>6789.70</td><td>5.73761e-19</td><td>5.20081e-20</td><td>0</td><td>3.80736e-18</td><td>5.20081e-20</td></tr>\n",
       "<tr><td>6789.75</td><td>5.75657e-19</td><td>5.20152e-20</td><td>0</td><td>3.81061e-18</td><td>5.20152e-20</td></tr>\n",
       "<tr><td>6789.80</td><td>6.02874e-19</td><td>5.12138e-20</td><td>0</td><td>3.71336e-18</td><td>5.12138e-20</td></tr>\n",
       "<tr><td>6789.85</td><td>6.32744e-19</td><td>5.03130e-20</td><td>0</td><td>3.60558e-18</td><td>5.03130e-20</td></tr>\n",
       "<tr><td>6789.90</td><td>5.90063e-19</td><td>4.95604e-20</td><td>0</td><td>3.44982e-18</td><td>4.95604e-20</td></tr>\n",
       "</table></div>"
      ],
      "text/plain": [
       "<QTable length=33775>\n",
       "  WAVE            FLUX          ...     ERR_FLUX_NOSS     \n",
       "Angstrom erg / (Angstrom s cm2) ... erg / (Angstrom s cm2)\n",
       "float32         float32         ...        float32        \n",
       "-------- ---------------------- ... ----------------------\n",
       " 3926.10            8.82359e-19 ...            1.10100e-19\n",
       " 3926.15            8.80377e-19 ...            1.10053e-19\n",
       " 3926.20            8.83337e-19 ...            1.10058e-19\n",
       " 3926.25            9.03405e-19 ...            1.10186e-19\n",
       " 3926.30            8.02925e-19 ...            1.10866e-19\n",
       " 3926.35            6.55260e-19 ...            1.11892e-19\n",
       " 3926.40            7.34472e-19 ...            1.14031e-19\n",
       " 3926.45            8.12480e-19 ...            1.15664e-19\n",
       " 3926.50            8.89209e-19 ...            1.16799e-19\n",
       "     ...                    ... ...                    ...\n",
       " 6789.50            6.16837e-19 ...            4.92906e-20\n",
       " 6789.55            6.38629e-19 ...            5.00214e-20\n",
       " 6789.60            6.08731e-19 ...            5.10091e-20\n",
       " 6789.65            5.74843e-19 ...            5.19261e-20\n",
       " 6789.70            5.73761e-19 ...            5.20081e-20\n",
       " 6789.75            5.75657e-19 ...            5.20152e-20\n",
       " 6789.80            6.02874e-19 ...            5.12138e-20\n",
       " 6789.85            6.32744e-19 ...            5.03130e-20\n",
       " 6789.90            5.90063e-19 ...            4.95604e-20"
      ]
     },
     "execution_count": 13,
     "metadata": {},
     "output_type": "execute_result"
    }
   ],
   "source": [
    "dxu.joined_spectrum()"
   ]
  },
  {
   "cell_type": "code",
   "execution_count": 59,
   "id": "22ea1dbe",
   "metadata": {},
   "outputs": [
    {
     "name": "stderr",
     "output_type": "stream",
     "text": [
      "/home/nguerrav/miniconda3/envs/etc_4fs/lib/python3.12/site-packages/astropy/units/quantity.py:658: RuntimeWarning: invalid value encountered in divide\n",
      "  result = super().__array_ufunc__(function, method, *arrays, **kwargs)\n"
     ]
    },
    {
     "data": {
      "text/html": [
       "<div>\n",
       "<style scoped>\n",
       "    .dataframe tbody tr th:only-of-type {\n",
       "        vertical-align: middle;\n",
       "    }\n",
       "\n",
       "    .dataframe tbody tr th {\n",
       "        vertical-align: top;\n",
       "    }\n",
       "\n",
       "    .dataframe thead th {\n",
       "        text-align: right;\n",
       "    }\n",
       "</style>\n",
       "<table border=\"1\" class=\"dataframe\">\n",
       "  <thead>\n",
       "    <tr style=\"text-align: right;\">\n",
       "      <th></th>\n",
       "      <th>WAVE</th>\n",
       "      <th>FLUX</th>\n",
       "      <th>ERR_FLUX</th>\n",
       "      <th>QUAL</th>\n",
       "      <th>FLUX_NOSS</th>\n",
       "      <th>ERR_FLUX_NOSS</th>\n",
       "    </tr>\n",
       "  </thead>\n",
       "  <tbody>\n",
       "    <tr>\n",
       "      <th>0</th>\n",
       "      <td>3926.100098</td>\n",
       "      <td>7.841640e-19</td>\n",
       "      <td>1.100996e-19</td>\n",
       "      <td>0</td>\n",
       "      <td>4.630445e-18</td>\n",
       "      <td>1.100996e-19</td>\n",
       "    </tr>\n",
       "    <tr>\n",
       "      <th>1</th>\n",
       "      <td>3926.149902</td>\n",
       "      <td>7.723214e-19</td>\n",
       "      <td>1.100527e-19</td>\n",
       "      <td>0</td>\n",
       "      <td>4.615879e-18</td>\n",
       "      <td>1.100527e-19</td>\n",
       "    </tr>\n",
       "    <tr>\n",
       "      <th>2</th>\n",
       "      <td>3926.199951</td>\n",
       "      <td>8.045699e-19</td>\n",
       "      <td>1.100584e-19</td>\n",
       "      <td>0</td>\n",
       "      <td>4.649192e-18</td>\n",
       "      <td>1.100584e-19</td>\n",
       "    </tr>\n",
       "    <tr>\n",
       "      <th>3</th>\n",
       "      <td>3926.250000</td>\n",
       "      <td>9.863574e-19</td>\n",
       "      <td>1.101859e-19</td>\n",
       "      <td>0</td>\n",
       "      <td>4.845563e-18</td>\n",
       "      <td>1.101859e-19</td>\n",
       "    </tr>\n",
       "    <tr>\n",
       "      <th>4</th>\n",
       "      <td>3926.300049</td>\n",
       "      <td>9.615978e-19</td>\n",
       "      <td>1.108655e-19</td>\n",
       "      <td>0</td>\n",
       "      <td>4.889200e-18</td>\n",
       "      <td>1.108655e-19</td>\n",
       "    </tr>\n",
       "    <tr>\n",
       "      <th>...</th>\n",
       "      <td>...</td>\n",
       "      <td>...</td>\n",
       "      <td>...</td>\n",
       "      <td>...</td>\n",
       "      <td>...</td>\n",
       "      <td>...</td>\n",
       "    </tr>\n",
       "    <tr>\n",
       "      <th>33770</th>\n",
       "      <td>6789.700195</td>\n",
       "      <td>6.271703e-19</td>\n",
       "      <td>5.200811e-20</td>\n",
       "      <td>0</td>\n",
       "      <td>3.860769e-18</td>\n",
       "      <td>5.200811e-20</td>\n",
       "    </tr>\n",
       "    <tr>\n",
       "      <th>33771</th>\n",
       "      <td>6789.750000</td>\n",
       "      <td>5.497010e-19</td>\n",
       "      <td>5.201516e-20</td>\n",
       "      <td>0</td>\n",
       "      <td>3.784648e-18</td>\n",
       "      <td>5.201516e-20</td>\n",
       "    </tr>\n",
       "    <tr>\n",
       "      <th>33772</th>\n",
       "      <td>6789.799805</td>\n",
       "      <td>5.518579e-19</td>\n",
       "      <td>5.121379e-20</td>\n",
       "      <td>0</td>\n",
       "      <td>3.662341e-18</td>\n",
       "      <td>5.121379e-20</td>\n",
       "    </tr>\n",
       "    <tr>\n",
       "      <th>33773</th>\n",
       "      <td>6789.850098</td>\n",
       "      <td>5.623492e-19</td>\n",
       "      <td>5.031297e-20</td>\n",
       "      <td>0</td>\n",
       "      <td>3.535186e-18</td>\n",
       "      <td>5.031297e-20</td>\n",
       "    </tr>\n",
       "    <tr>\n",
       "      <th>33774</th>\n",
       "      <td>6789.899902</td>\n",
       "      <td>5.829131e-19</td>\n",
       "      <td>4.956042e-20</td>\n",
       "      <td>0</td>\n",
       "      <td>3.442670e-18</td>\n",
       "      <td>4.956042e-20</td>\n",
       "    </tr>\n",
       "  </tbody>\n",
       "</table>\n",
       "<p>33775 rows × 6 columns</p>\n",
       "</div>"
      ],
      "text/plain": [
       "              WAVE          FLUX      ERR_FLUX  QUAL     FLUX_NOSS  \\\n",
       "0      3926.100098  7.841640e-19  1.100996e-19     0  4.630445e-18   \n",
       "1      3926.149902  7.723214e-19  1.100527e-19     0  4.615879e-18   \n",
       "2      3926.199951  8.045699e-19  1.100584e-19     0  4.649192e-18   \n",
       "3      3926.250000  9.863574e-19  1.101859e-19     0  4.845563e-18   \n",
       "4      3926.300049  9.615978e-19  1.108655e-19     0  4.889200e-18   \n",
       "...            ...           ...           ...   ...           ...   \n",
       "33770  6789.700195  6.271703e-19  5.200811e-20     0  3.860769e-18   \n",
       "33771  6789.750000  5.497010e-19  5.201516e-20     0  3.784648e-18   \n",
       "33772  6789.799805  5.518579e-19  5.121379e-20     0  3.662341e-18   \n",
       "33773  6789.850098  5.623492e-19  5.031297e-20     0  3.535186e-18   \n",
       "33774  6789.899902  5.829131e-19  4.956042e-20     0  3.442670e-18   \n",
       "\n",
       "       ERR_FLUX_NOSS  \n",
       "0       1.100996e-19  \n",
       "1       1.100527e-19  \n",
       "2       1.100584e-19  \n",
       "3       1.101859e-19  \n",
       "4       1.108655e-19  \n",
       "...              ...  \n",
       "33770   5.200811e-20  \n",
       "33771   5.201516e-20  \n",
       "33772   5.121379e-20  \n",
       "33773   5.031297e-20  \n",
       "33774   4.956042e-20  \n",
       "\n",
       "[33775 rows x 6 columns]"
      ]
     },
     "execution_count": 59,
     "metadata": {},
     "output_type": "execute_result"
    }
   ],
   "source": [
    "dxu_pd = dxu.joined_spectrum().to_pandas();\n",
    "dxu_pd"
   ]
  },
  {
   "cell_type": "code",
   "execution_count": 214,
   "id": "866a059d",
   "metadata": {},
   "outputs": [
    {
     "name": "stderr",
     "output_type": "stream",
     "text": [
      "/opt/anaconda3/envs/etc_4fs/lib/python3.13/site-packages/astropy/units/quantity.py:658: RuntimeWarning: invalid value encountered in divide\n",
      "  result = super().__array_ufunc__(function, method, *arrays, **kwargs)\n",
      "/opt/anaconda3/envs/etc_4fs/lib/python3.13/site-packages/astropy/units/quantity.py:658: RuntimeWarning: invalid value encountered in divide\n",
      "  result = super().__array_ufunc__(function, method, *arrays, **kwargs)\n"
     ]
    },
    {
     "data": {
      "image/png": "[encoded data removed]",
      "text/plain": [
       "<Figure size 640x480 with 1 Axes>"
      ]
     },
     "metadata": {},
     "output_type": "display_data"
    }
   ],
   "source": [
    "plt.plot(dxu.joined_spectrum()['WAVE'], dxu.joined_spectrum()['FLUX'], label='dxu')\n",
    "#plt.plot(spec.wavelength, spec.flux, label='spec')\n",
    "\n",
    "plt.legend()\n",
    "# plt.yscale('log')\n",
    "\n",
    "plt.xlim(3500, 7000)\n",
    "\n",
    "plt.show()"
   ]
  },
  {
   "cell_type": "code",
   "execution_count": null,
   "id": "9bebbbc9",
   "metadata": {},
   "outputs": [],
   "source": []
  },
  {
   "cell_type": "code",
   "execution_count": null,
   "id": "beb1338c",
   "metadata": {},
   "outputs": [],
   "source": []
  },
  {
   "cell_type": "code",
   "execution_count": null,
   "id": "26f599f0",
   "metadata": {},
   "outputs": [],
   "source": []
  },
  {
   "cell_type": "code",
   "execution_count": 12,
   "id": "1d3f7efe-97a9-4fce-be82-5c718ff923b9",
   "metadata": {},
   "outputs": [
    {
     "data": {
      "text/html": [
       "<div><i>QTable length=18018</i>\n",
       "<table id=\"table5192637552\" class=\"table-striped table-bordered table-condensed\">\n",
       "<thead><tr><th>wavelength</th><th>binwidth</th><th>efficiency</th><th>gain</th><th>target</th><th>sky</th><th>dark</th><th>ron</th><th>noise</th><th>arm</th><th>SNR</th></tr></thead>\n",
       "<thead><tr><th>nm</th><th>nm</th><th>electron / ph</th><th>electron / adu</th><th>electron</th><th>electron</th><th>electron</th><th>electron</th><th>electron</th><th></th><th></th></tr></thead>\n",
       "<thead><tr><th>float64</th><th>float64</th><th>float64</th><th>float64</th><th>float64</th><th>float64</th><th>float64</th><th>float64</th><th>float64</th><th>str5</th><th>float64</th></tr></thead>\n",
       "<tr><td>392.60692846030474</td><td>0.007922513014023025</td><td>0.1020396156178534</td><td>1.0514999999999999</td><td>1.805529226681413</td><td>14.593843928305944</td><td>2.7586179791666665</td><td>6.208353296809067</td><td>7.596159673950649</td><td>blue</td><td>0.23768974115605762</td></tr>\n",
       "<tr><td>392.61485086465916</td><td>0.007922295694868353</td><td>0.10206980419587068</td><td>1.0514999999999999</td><td>1.806100828950598</td><td>14.579529603638992</td><td>2.7586179791666665</td><td>6.208353296809067</td><td>7.595255036518278</td><td>blue</td><td>0.23779330914719726</td></tr>\n",
       "<tr><td>392.6227730516839</td><td>0.007922078354624773</td><td>0.10210015341074719</td><td>1.0514999999999999</td><td>1.806740245768082</td><td>14.671494658468434</td><td>2.7586179791666665</td><td>6.208353296809067</td><td>7.601348797509767</td><td>blue</td><td>0.23768679663272094</td></tr>\n",
       "<tr><td>392.63069502135795</td><td>0.007921860993405971</td><td>0.10213065037771042</td><td>1.0514999999999999</td><td>1.8073969826660659</td><td>15.259165611252218</td><td>2.7586179791666665</td><td>6.208353296809067</td><td>7.639949687732567</td><td>blue</td><td>0.23657184360365552</td></tr>\n",
       "<tr><td>392.63861677366026</td><td>0.007921643611211948</td><td>0.10216126507272123</td><td>1.0514999999999999</td><td>1.8079817714615165</td><td>16.582076675705693</td><td>2.7586179791666665</td><td>6.208353296809067</td><td>7.726080965427031</td><td>blue</td><td>0.23401020252725074</td></tr>\n",
       "<tr><td>392.64653830856986</td><td>0.00792142620798586</td><td>0.10219198240460484</td><td>1.0514999999999999</td><td>1.8084995900329757</td><td>17.317957185792558</td><td>2.7586179791666665</td><td>6.208353296809067</td><td>7.773591538857197</td><td>blue</td><td>0.23264659340447477</td></tr>\n",
       "<tr><td>392.65445962606566</td><td>0.007921208783670863</td><td>0.10222281478523706</td><td>1.0514999999999999</td><td>1.8089984661243357</td><td>16.251485076522012</td><td>2.7586179791666665</td><td>6.208353296809067</td><td>7.704722719203659</td><td>blue</td><td>0.23479085906822994</td></tr>\n",
       "<tr><td>392.6623807261268</td><td>0.007920991338608019</td><td>0.10225372022098599</td><td>1.0514999999999999</td><td>1.8094994757728342</td><td>14.914439506941877</td><td>2.7586179791666665</td><td>6.208353296809067</td><td>7.617493526080701</td><td>blue</td><td>0.23754525941866406</td></tr>\n",
       "<tr><td>392.6703016087323</td><td>0.007920773872399423</td><td>0.10228467701408718</td><td>1.0514999999999999</td><td>1.8100298285269778</td><td>14.396326124273209</td><td>2.7586179791666665</td><td>6.208353296809067</td><td>7.58344411134986</td><td>blue</td><td>0.23868176542871505</td></tr>\n",
       "<tr><td>...</td><td>...</td><td>...</td><td>...</td><td>...</td><td>...</td><td>...</td><td>...</td><td>...</td><td>...</td><td>...</td></tr>\n",
       "<tr><td>678.9100914433202</td><td>0.010060237069865252</td><td>0.19723300552861509</td><td>1.072625</td><td>7.796134469122259</td><td>42.75575762796842</td><td>3.5724992291666666</td><td>5.165317028024514</td><td>8.989154094032283</td><td>red</td><td>0.867282325741635</td></tr>\n",
       "<tr><td>678.9201514582929</td><td>0.010059792875608764</td><td>0.19720431489966248</td><td>1.072625</td><td>7.79465813674753</td><td>42.75164511495539</td><td>3.5724992291666666</td><td>5.165317028024514</td><td>8.988843222621561</td><td>red</td><td>0.8671480794248682</td></tr>\n",
       "<tr><td>678.9302110290738</td><td>0.010059348686127123</td><td>0.19717567877250758</td><td>1.072625</td><td>7.793198599067049</td><td>42.85708425265705</td><td>3.5724992291666666</td><td>5.165317028024514</td><td>8.994625177342899</td><td>red</td><td>0.8664283886668012</td></tr>\n",
       "<tr><td>678.9402701556673</td><td>0.010058904501079269</td><td>0.1971470896972282</td><td>1.072625</td><td>7.791790798821566</td><td>43.84809143498507</td><td>3.5724992291666666</td><td>5.165317028024514</td><td>9.049468573511557</td><td>red</td><td>0.8610219191907794</td></tr>\n",
       "<tr><td>678.9503288380781</td><td>0.010058460320465201</td><td>0.1971185767579062</td><td>1.072625</td><td>7.790442948895808</td><td>47.39741969512715</td><td>3.5724992291666666</td><td>5.165317028024514</td><td>9.243422627641214</td><td>red</td><td>0.8428093426778447</td></tr>\n",
       "<tr><td>678.9603870763107</td><td>0.010058016144512294</td><td>0.1970901383147928</td><td>1.072625</td><td>7.789088139381619</td><td>52.00050011163981</td><td>3.5724992291666666</td><td>5.165317028024514</td><td>9.489077272326751</td><td>red</td><td>0.8208477932935738</td></tr>\n",
       "<tr><td>678.9704448703694</td><td>0.010057571972993173</td><td>0.19706177581134426</td><td>1.072625</td><td>7.787688313584036</td><td>52.03515825010976</td><td>3.5724992291666666</td><td>5.165317028024514</td><td>9.490829562944457</td><td>red</td><td>0.8205487478133541</td></tr>\n",
       "<tr><td>678.980502220259</td><td>0.010057127806135213</td><td>0.19703349659784228</td><td>1.072625</td><td>7.786304895069129</td><td>47.57387320394892</td><td>3.5724992291666666</td><td>5.165317028024514</td><td>9.252738909543742</td><td>red</td><td>0.841513520611496</td></tr>\n",
       "<tr><td>678.990559125984</td><td>0.010056683643938413</td><td>0.19700531799426202</td><td>1.072625</td><td>7.785020614889527</td><td>44.00469944519496</td><td>3.5724992291666666</td><td>5.165317028024514</td><td>9.057743609158473</td><td>red</td><td>0.8594878537981502</td></tr>\n",
       "</table></div>"
      ],
      "text/plain": [
       "<QTable length=18018>\n",
       "    wavelength           binwidth       ... arm          SNR        \n",
       "        nm                  nm          ...                         \n",
       "     float64             float64        ... str5       float64      \n",
       "------------------ -------------------- ... ---- -------------------\n",
       "392.60692846030474 0.007922513014023025 ... blue 0.23768974115605762\n",
       "392.61485086465916 0.007922295694868353 ... blue 0.23779330914719726\n",
       " 392.6227730516839 0.007922078354624773 ... blue 0.23768679663272094\n",
       "392.63069502135795 0.007921860993405971 ... blue 0.23657184360365552\n",
       "392.63861677366026 0.007921643611211948 ... blue 0.23401020252725074\n",
       "392.64653830856986  0.00792142620798586 ... blue 0.23264659340447477\n",
       "392.65445962606566 0.007921208783670863 ... blue 0.23479085906822994\n",
       " 392.6623807261268 0.007920991338608019 ... blue 0.23754525941866406\n",
       " 392.6703016087323 0.007920773872399423 ... blue 0.23868176542871505\n",
       "               ...                  ... ...  ...                 ...\n",
       " 678.9100914433202 0.010060237069865252 ...  red   0.867282325741635\n",
       " 678.9201514582929 0.010059792875608764 ...  red  0.8671480794248682\n",
       " 678.9302110290738 0.010059348686127123 ...  red  0.8664283886668012\n",
       " 678.9402701556673 0.010058904501079269 ...  red  0.8610219191907794\n",
       " 678.9503288380781 0.010058460320465201 ...  red  0.8428093426778447\n",
       " 678.9603870763107 0.010058016144512294 ...  red  0.8208477932935738\n",
       " 678.9704448703694 0.010057571972993173 ...  red  0.8205487478133541\n",
       "  678.980502220259 0.010057127806135213 ...  red   0.841513520611496\n",
       "  678.990559125984 0.010056683643938413 ...  red  0.8594878537981502"
      ]
     },
     "execution_count": 12,
     "metadata": {},
     "output_type": "execute_result"
    }
   ],
   "source": [
    "tbl['SNR'] = tbl['target'] / tbl['noise']\n",
    "tbl"
   ]
  },
  {
   "cell_type": "code",
   "execution_count": 19,
   "id": "11b082d8",
   "metadata": {},
   "outputs": [],
   "source": [
    "wavelen = np.linspace(300., 1100., 10000) * u.nm\n",
    "flat_flux = np.ones(wavelen.shape) * u.photon/(u.m**2*u.s*u.nm)"
   ]
  },
  {
   "cell_type": "markdown",
   "id": "41ee30a6",
   "metadata": {},
   "source": [
    "## Saving debugging"
   ]
  },
  {
   "cell_type": "code",
   "execution_count": 41,
   "id": "c9b80a18",
   "metadata": {},
   "outputs": [],
   "source": [
    "def SNR_4MOST_like(mag, t_exp, wavelen=wavelen, template_flux=flat_flux, mag_type='DECam.z', airmass=45, seeing=1.3, moon='gray'):\n",
    "    '''\n",
    "    mag: magnitude\n",
    "    t_exp: exposure time [mins]\n",
    "    wavelen: wavelength grid [nm]\n",
    "    flux: flux array [any]\n",
    "    mag_type: filter name\n",
    "    airmass [degrees]\n",
    "    seeing [arcsec]\n",
    "    moon condition: 'dark', 'gray', 'bright' or 'super-bright'\n",
    "    '''\n",
    "    mag = mag\n",
    "\n",
    "    spec = Spectrum(wavelen, template_flux)\n",
    "\n",
    "    template = SEDTemplate(spec)\n",
    "\n",
    "    flux = template(mag*u.ABmag, mag_type)\n",
    "\n",
    "    qmost = QMostObservatory('hrs')  # high-resolution\n",
    "    obs = qmost(airmass*u.deg,  # airmass\n",
    "                seeing*u.arcsec,  # seeing\n",
    "                moon)  # moon conditions\n",
    "\n",
    "    obs.set_target(flux, 'point')\n",
    "\n",
    "    observation = obs.expose((t_exp*60)*u.s)\n",
    "\n",
    "    dxu = L1DXU(qmost, observation, (t_exp*60)*u.s)\n",
    "\n",
    "    return observation[['wavelength', 'binwidth', 'target', 'sky', 'dark', 'ron', 'noise', 'arm']], dxu"
   ]
  },
  {
   "cell_type": "markdown",
   "id": "8ffcf34e",
   "metadata": {},
   "source": [
    "### Testing wavelength grid"
   ]
  },
  {
   "cell_type": "code",
   "execution_count": 35,
   "id": "2d6b7389",
   "metadata": {},
   "outputs": [
    {
     "data": {
      "text/latex": [
       "$[3926.04,~3926.12,~3926.2,~\\dots,~6789.8,~6789.88,~6789.96] \\; \\mathrm{\\mathring{A}}$"
      ],
      "text/plain": [
       "<Quantity [3926.04, 3926.12, 3926.2 , ..., 6789.8 , 6789.88, 6789.96] Angstrom>"
      ]
     },
     "execution_count": 35,
     "metadata": {},
     "output_type": "execute_result"
    }
   ],
   "source": [
    "tng_grid = np.load('/data2/home2/nguerrav/TNG50_spec/npy_files/TNG50_wavelength_grid.npy')\n",
    "tng_grid = tng_grid * u.AA\n",
    "tng_grid"
   ]
  },
  {
   "cell_type": "code",
   "execution_count": 37,
   "id": "5ea37d9d",
   "metadata": {},
   "outputs": [],
   "source": [
    "while tng_grid[-1].value < 10150:\n",
    "    tng_grid = np.append(tng_grid, [(tng_grid[-1].value + (tng_grid[-1].value - tng_grid[-2].value)) * u.AA])"
   ]
  },
  {
   "cell_type": "code",
   "execution_count": 36,
   "id": "9a51a11a",
   "metadata": {},
   "outputs": [
    {
     "data": {
      "text/latex": [
       "$6789.96 \\; \\mathrm{\\mathring{A}}$"
      ],
      "text/plain": [
       "<Quantity 6789.96 Angstrom>"
      ]
     },
     "execution_count": 36,
     "metadata": {},
     "output_type": "execute_result"
    }
   ],
   "source": [
    "tng_grid[-1]"
   ]
  },
  {
   "cell_type": "code",
   "execution_count": 38,
   "id": "3a032fc4",
   "metadata": {},
   "outputs": [
    {
     "data": {
      "text/latex": [
       "$[3926.04,~3926.12,~3926.2,~\\dots,~10149.88,~10149.96,~10150.04] \\; \\mathrm{\\mathring{A}}$"
      ],
      "text/plain": [
       "<Quantity [ 3926.04      ,  3926.12      ,  3926.2       , ...,\n",
       "           10149.87999995, 10149.95999995, 10150.03999995] Angstrom>"
      ]
     },
     "execution_count": 38,
     "metadata": {},
     "output_type": "execute_result"
    }
   ],
   "source": [
    "tng_grid"
   ]
  },
  {
   "cell_type": "code",
   "execution_count": 42,
   "id": "8f2085d7",
   "metadata": {},
   "outputs": [],
   "source": [
    "obs_tng_grid, dxu = SNR_4MOST_like(19, 90, tng_grid, np.ones(tng_grid.shape) * u.photon/(u.m**2*u.s*u.nm))"
   ]
  },
  {
   "cell_type": "code",
   "execution_count": 43,
   "id": "ce3e3f2d",
   "metadata": {},
   "outputs": [
    {
     "data": {
      "text/html": [
       "<div><i>QTable length=18018</i>\n",
       "<table id=\"table140237640928096\" class=\"table-striped table-bordered table-condensed\">\n",
       "<thead><tr><th>wavelength</th><th>binwidth</th><th>target</th><th>sky</th><th>dark</th><th>ron</th><th>noise</th><th>arm</th></tr></thead>\n",
       "<thead><tr><th>nm</th><th>nm</th><th>Angstrom electron / nm</th><th>electron</th><th>electron</th><th>electron</th><th>electron</th><th></th></tr></thead>\n",
       "<thead><tr><th>float64</th><th>float64</th><th>float64</th><th>float64</th><th>float64</th><th>float64</th><th>float64</th><th>str5</th></tr></thead>\n",
       "<tr><td>392.60692846030474</td><td>0.007922513014023025</td><td>77.01673611300913</td><td>24.781999123538395</td><td>4.6844456249999995</td><td>6.208353296809067</td><td>8.701251003036248</td><td>blue</td></tr>\n",
       "<tr><td>392.61485086465916</td><td>0.007922295694868353</td><td>77.04091281921932</td><td>24.757691779764325</td><td>4.6844456249999995</td><td>6.208353296809067</td><td>8.699993065783802</td><td>blue</td></tr>\n",
       "<tr><td>392.6227730516839</td><td>0.007922078354624773</td><td>77.06538126431275</td><td>24.913858854003003</td><td>4.6844456249999995</td><td>6.208353296809067</td><td>8.709104044816224</td><td>blue</td></tr>\n",
       "<tr><td>392.63069502135795</td><td>0.007921860993405971</td><td>77.08976580385055</td><td>25.911790660616973</td><td>4.6844456249999995</td><td>6.208353296809067</td><td>8.76634835744063</td><td>blue</td></tr>\n",
       "<tr><td>392.63861677366026</td><td>0.007921643611211948</td><td>77.11411517857357</td><td>28.158243411575704</td><td>4.6844456249999995</td><td>6.208353296809067</td><td>8.893691652650944</td><td>blue</td></tr>\n",
       "<tr><td>392.64653830856986</td><td>0.00792142620798586</td><td>77.13858088710234</td><td>29.40785182493076</td><td>4.6844456249999995</td><td>6.208353296809067</td><td>8.963805341295682</td><td>blue</td></tr>\n",
       "<tr><td>392.65445962606566</td><td>0.007921208783670863</td><td>77.16324551291622</td><td>27.596861450697755</td><td>4.6844456249999995</td><td>6.208353296809067</td><td>8.862351961245356</td><td>blue</td></tr>\n",
       "<tr><td>392.6623807261268</td><td>0.007920991338608019</td><td>77.18798954433957</td><td>25.326406709901303</td><td>4.6844456249999995</td><td>6.208353296809067</td><td>8.733458761987446</td><td>blue</td></tr>\n",
       "<tr><td>392.6703016087323</td><td>0.007920773872399423</td><td>77.21267515338573</td><td>24.446591531784694</td><td>4.6844456249999995</td><td>6.208353296809067</td><td>8.683084436427144</td><td>blue</td></tr>\n",
       "<tr><td>...</td><td>...</td><td>...</td><td>...</td><td>...</td><td>...</td><td>...</td><td>...</td></tr>\n",
       "<tr><td>678.9100914433202</td><td>0.010060237069865252</td><td>332.5418412787339</td><td>72.60411672673884</td><td>6.066508125</td><td>5.165317028024514</td><td>11.773075595595751</td><td>red</td></tr>\n",
       "<tr><td>678.9201514582929</td><td>0.010059792875608764</td><td>332.4810500660697</td><td>72.59713321407519</td><td>6.066508125</td><td>5.165317028024514</td><td>11.77252081525797</td><td>red</td></tr>\n",
       "<tr><td>678.9302110290738</td><td>0.010059348686127123</td><td>332.4203317122179</td><td>72.77618080639877</td><td>6.066508125</td><td>5.165317028024514</td><td>11.779865113939996</td><td>red</td></tr>\n",
       "<tr><td>678.9402701556673</td><td>0.010058904501079269</td><td>332.3596838629303</td><td>74.45902319148408</td><td>6.066508125</td><td>5.165317028024514</td><td>11.85082274370759</td><td>red</td></tr>\n",
       "<tr><td>678.9503288380781</td><td>0.010058460320465201</td><td>332.1961018835512</td><td>80.48618438795177</td><td>6.066508125</td><td>5.165317028024514</td><td>12.10176857741491</td><td>red</td></tr>\n",
       "<tr><td>678.9603870763107</td><td>0.010058016144512294</td><td>329.9769344587653</td><td>88.30273603863364</td><td>6.066508125</td><td>5.165317028024514</td><td>12.411584814579891</td><td>red</td></tr>\n",
       "<tr><td>678.9704448703694</td><td>0.010057571972993173</td><td>310.9593913313427</td><td>88.36158948131846</td><td>6.066508125</td><td>5.165317028024514</td><td>12.337120277416961</td><td>red</td></tr>\n",
       "<tr><td>678.980502220259</td><td>0.010057127806135213</td><td>241.095769022638</td><td>80.78582242180005</td><td>6.066508125</td><td>5.165317028024514</td><td>11.732110102153996</td><td>red</td></tr>\n",
       "<tr><td>678.990559125984</td><td>0.010056683643938413</td><td>133.2659024641593</td><td>74.72496132202917</td><td>6.066508125</td><td>5.165317028024514</td><td>10.990839808378844</td><td>red</td></tr>\n",
       "</table></div>"
      ],
      "text/plain": [
       "<QTable length=18018>\n",
       "    wavelength           binwidth       ...       noise        arm \n",
       "        nm                  nm          ...      electron          \n",
       "     float64             float64        ...      float64       str5\n",
       "------------------ -------------------- ... ------------------ ----\n",
       "392.60692846030474 0.007922513014023025 ...  8.701251003036248 blue\n",
       "392.61485086465916 0.007922295694868353 ...  8.699993065783802 blue\n",
       " 392.6227730516839 0.007922078354624773 ...  8.709104044816224 blue\n",
       "392.63069502135795 0.007921860993405971 ...   8.76634835744063 blue\n",
       "392.63861677366026 0.007921643611211948 ...  8.893691652650944 blue\n",
       "392.64653830856986  0.00792142620798586 ...  8.963805341295682 blue\n",
       "392.65445962606566 0.007921208783670863 ...  8.862351961245356 blue\n",
       " 392.6623807261268 0.007920991338608019 ...  8.733458761987446 blue\n",
       " 392.6703016087323 0.007920773872399423 ...  8.683084436427144 blue\n",
       "               ...                  ... ...                ...  ...\n",
       " 678.9100914433202 0.010060237069865252 ... 11.773075595595751  red\n",
       " 678.9201514582929 0.010059792875608764 ...  11.77252081525797  red\n",
       " 678.9302110290738 0.010059348686127123 ... 11.779865113939996  red\n",
       " 678.9402701556673 0.010058904501079269 ...  11.85082274370759  red\n",
       " 678.9503288380781 0.010058460320465201 ...  12.10176857741491  red\n",
       " 678.9603870763107 0.010058016144512294 ... 12.411584814579891  red\n",
       " 678.9704448703694 0.010057571972993173 ... 12.337120277416961  red\n",
       "  678.980502220259 0.010057127806135213 ... 11.732110102153996  red\n",
       "  678.990559125984 0.010056683643938413 ... 10.990839808378844  red"
      ]
     },
     "execution_count": 43,
     "metadata": {},
     "output_type": "execute_result"
    }
   ],
   "source": [
    "obs_tng_grid"
   ]
  },
  {
   "cell_type": "code",
   "execution_count": 62,
   "id": "e6286181",
   "metadata": {},
   "outputs": [
    {
     "name": "stderr",
     "output_type": "stream",
     "text": [
      "/home/nguerrav/miniconda3/envs/etc_4fs/lib/python3.12/site-packages/astropy/units/quantity.py:658: RuntimeWarning: invalid value encountered in divide\n",
      "  result = super().__array_ufunc__(function, method, *arrays, **kwargs)\n"
     ]
    },
    {
     "data": {
      "text/html": [
       "<div>\n",
       "<style scoped>\n",
       "    .dataframe tbody tr th:only-of-type {\n",
       "        vertical-align: middle;\n",
       "    }\n",
       "\n",
       "    .dataframe tbody tr th {\n",
       "        vertical-align: top;\n",
       "    }\n",
       "\n",
       "    .dataframe thead th {\n",
       "        text-align: right;\n",
       "    }\n",
       "</style>\n",
       "<table border=\"1\" class=\"dataframe\">\n",
       "  <thead>\n",
       "    <tr style=\"text-align: right;\">\n",
       "      <th></th>\n",
       "      <th>WAVE</th>\n",
       "      <th>FLUX</th>\n",
       "      <th>ERR_FLUX</th>\n",
       "      <th>QUAL</th>\n",
       "      <th>FLUX_NOSS</th>\n",
       "      <th>ERR_FLUX_NOSS</th>\n",
       "    </tr>\n",
       "  </thead>\n",
       "  <tbody>\n",
       "    <tr>\n",
       "      <th>0</th>\n",
       "      <td>3926.100098</td>\n",
       "      <td>2.796855e-17</td>\n",
       "      <td>1.699902e-17</td>\n",
       "      <td>0</td>\n",
       "      <td>6.643136e-17</td>\n",
       "      <td>1.699902e-17</td>\n",
       "    </tr>\n",
       "    <tr>\n",
       "      <th>1</th>\n",
       "      <td>3926.149902</td>\n",
       "      <td>1.819879e-17</td>\n",
       "      <td>1.699436e-17</td>\n",
       "      <td>0</td>\n",
       "      <td>5.663436e-17</td>\n",
       "      <td>1.699436e-17</td>\n",
       "    </tr>\n",
       "    <tr>\n",
       "      <th>2</th>\n",
       "      <td>3926.199951</td>\n",
       "      <td>1.206672e-17</td>\n",
       "      <td>1.699247e-17</td>\n",
       "      <td>0</td>\n",
       "      <td>5.051294e-17</td>\n",
       "      <td>1.699247e-17</td>\n",
       "    </tr>\n",
       "    <tr>\n",
       "      <th>3</th>\n",
       "      <td>3926.250000</td>\n",
       "      <td>2.437422e-17</td>\n",
       "      <td>1.700044e-17</td>\n",
       "      <td>0</td>\n",
       "      <td>6.296627e-17</td>\n",
       "      <td>1.700044e-17</td>\n",
       "    </tr>\n",
       "    <tr>\n",
       "      <th>4</th>\n",
       "      <td>3926.300049</td>\n",
       "      <td>2.331265e-17</td>\n",
       "      <td>1.704721e-17</td>\n",
       "      <td>0</td>\n",
       "      <td>6.258868e-17</td>\n",
       "      <td>1.704721e-17</td>\n",
       "    </tr>\n",
       "    <tr>\n",
       "      <th>...</th>\n",
       "      <td>...</td>\n",
       "      <td>...</td>\n",
       "      <td>...</td>\n",
       "      <td>...</td>\n",
       "      <td>...</td>\n",
       "      <td>...</td>\n",
       "    </tr>\n",
       "    <tr>\n",
       "      <th>33770</th>\n",
       "      <td>6789.700195</td>\n",
       "      <td>1.326418e-17</td>\n",
       "      <td>6.426611e-18</td>\n",
       "      <td>0</td>\n",
       "      <td>4.560017e-17</td>\n",
       "      <td>6.426611e-18</td>\n",
       "    </tr>\n",
       "    <tr>\n",
       "      <th>33771</th>\n",
       "      <td>6789.750000</td>\n",
       "      <td>1.146987e-17</td>\n",
       "      <td>6.407847e-18</td>\n",
       "      <td>0</td>\n",
       "      <td>4.381935e-17</td>\n",
       "      <td>6.407847e-18</td>\n",
       "    </tr>\n",
       "    <tr>\n",
       "      <th>33772</th>\n",
       "      <td>6789.799805</td>\n",
       "      <td>1.149489e-17</td>\n",
       "      <td>6.267050e-18</td>\n",
       "      <td>0</td>\n",
       "      <td>4.259973e-17</td>\n",
       "      <td>6.267050e-18</td>\n",
       "    </tr>\n",
       "    <tr>\n",
       "      <th>33773</th>\n",
       "      <td>6789.850098</td>\n",
       "      <td>1.171032e-17</td>\n",
       "      <td>6.109769e-18</td>\n",
       "      <td>0</td>\n",
       "      <td>4.143869e-17</td>\n",
       "      <td>6.109769e-18</td>\n",
       "    </tr>\n",
       "    <tr>\n",
       "      <th>33774</th>\n",
       "      <td>6789.899902</td>\n",
       "      <td>7.214295e-18</td>\n",
       "      <td>5.925179e-18</td>\n",
       "      <td>0</td>\n",
       "      <td>3.581186e-17</td>\n",
       "      <td>5.925179e-18</td>\n",
       "    </tr>\n",
       "  </tbody>\n",
       "</table>\n",
       "<p>33775 rows × 6 columns</p>\n",
       "</div>"
      ],
      "text/plain": [
       "              WAVE          FLUX      ERR_FLUX  QUAL     FLUX_NOSS  \\\n",
       "0      3926.100098  2.796855e-17  1.699902e-17     0  6.643136e-17   \n",
       "1      3926.149902  1.819879e-17  1.699436e-17     0  5.663436e-17   \n",
       "2      3926.199951  1.206672e-17  1.699247e-17     0  5.051294e-17   \n",
       "3      3926.250000  2.437422e-17  1.700044e-17     0  6.296627e-17   \n",
       "4      3926.300049  2.331265e-17  1.704721e-17     0  6.258868e-17   \n",
       "...            ...           ...           ...   ...           ...   \n",
       "33770  6789.700195  1.326418e-17  6.426611e-18     0  4.560017e-17   \n",
       "33771  6789.750000  1.146987e-17  6.407847e-18     0  4.381935e-17   \n",
       "33772  6789.799805  1.149489e-17  6.267050e-18     0  4.259973e-17   \n",
       "33773  6789.850098  1.171032e-17  6.109769e-18     0  4.143869e-17   \n",
       "33774  6789.899902  7.214295e-18  5.925179e-18     0  3.581186e-17   \n",
       "\n",
       "       ERR_FLUX_NOSS  \n",
       "0       1.699902e-17  \n",
       "1       1.699436e-17  \n",
       "2       1.699247e-17  \n",
       "3       1.700044e-17  \n",
       "4       1.704721e-17  \n",
       "...              ...  \n",
       "33770   6.426611e-18  \n",
       "33771   6.407847e-18  \n",
       "33772   6.267050e-18  \n",
       "33773   6.109769e-18  \n",
       "33774   5.925179e-18  \n",
       "\n",
       "[33775 rows x 6 columns]"
      ]
     },
     "execution_count": 62,
     "metadata": {},
     "output_type": "execute_result"
    }
   ],
   "source": [
    "spec = dxu.joined_spectrum().to_pandas();\n",
    "spec"
   ]
  },
  {
   "cell_type": "code",
   "execution_count": 68,
   "id": "59f596f9",
   "metadata": {},
   "outputs": [
    {
     "name": "stderr",
     "output_type": "stream",
     "text": [
      "/home/nguerrav/miniconda3/envs/etc_4fs/lib/python3.12/site-packages/astropy/units/quantity.py:658: RuntimeWarning: invalid value encountered in divide\n",
      "  result = super().__array_ufunc__(function, method, *arrays, **kwargs)\n"
     ]
    },
    {
     "data": {
      "text/plain": [
       "array([3926.1 , 3926.15, 3926.2 , ..., 6789.8 , 6789.85, 6789.9 ],\n",
       "      dtype=float32)"
      ]
     },
     "execution_count": 68,
     "metadata": {},
     "output_type": "execute_result"
    }
   ],
   "source": [
    "spec = dxu.joined()#.to_pandas();\n",
    "spec = Table.read(spec[1])\n",
    "spec['WAVE'][0]"
   ]
  },
  {
   "cell_type": "code",
   "execution_count": 59,
   "id": "394e1e9f",
   "metadata": {},
   "outputs": [
    {
     "data": {
      "text/latex": [
       "$[3926.1001,~3926.1499,~3926.2,~\\dots,~6789.7998,~6789.8501,~6789.8999] \\; \\mathrm{\\mathring{A}}$"
      ],
      "text/plain": [
       "<Quantity [3926.1 , 3926.15, 3926.2 , ..., 6789.8 , 6789.85, 6789.9 ] Angstrom>"
      ]
     },
     "execution_count": 59,
     "metadata": {},
     "output_type": "execute_result"
    }
   ],
   "source": [
    "spec['WAVE'][0]"
   ]
  },
  {
   "cell_type": "code",
   "execution_count": null,
   "id": "c0fbc213",
   "metadata": {},
   "outputs": [],
   "source": []
  },
  {
   "cell_type": "code",
   "execution_count": null,
   "id": "bb90679a",
   "metadata": {},
   "outputs": [],
   "source": []
  },
  {
   "cell_type": "code",
   "execution_count": 15,
   "id": "810233bb",
   "metadata": {},
   "outputs": [],
   "source": [
    "cols_to_save_from_cat = ['RA', 'DEC', 'SUBSURVEY', 'MAG', 'REDSHIFT_ESTIMATE', 'REDSHIFT_ERROR', 'TEXP_D', 'TEXP_G', 'TEXP_B', 'TEXP_S']\n",
    "cols_to_save_from_etc = ['wavelength', 'binwidth', 'target', 'sky', 'dark', 'ron', 'noise',  # 'SNR', \n",
    "                         'arm_int']"
   ]
  },
  {
   "cell_type": "code",
   "execution_count": 12,
   "id": "b7c840d0",
   "metadata": {},
   "outputs": [],
   "source": [
    "airmass = 45\n",
    "seeing = 1.3\n",
    "moon = 'gray'\n",
    "save_name = 'SNR_curves_ByCycle_cat_moon_' + moon + '_airmass_' + str(airmass) + '_seeing_' + str(seeing).replace('.', '_')"
   ]
  },
  {
   "cell_type": "code",
   "execution_count": 16,
   "id": "ea3b3beb",
   "metadata": {},
   "outputs": [],
   "source": [
    "def binarize_arm(arm_str):\n",
    "\n",
    "    if arm_str == 'blue':\n",
    "        return 1\n",
    "    elif arm_str == 'green':\n",
    "        return 2\n",
    "    elif arm_str == 'red':\n",
    "        return 3"
   ]
  },
  {
   "cell_type": "code",
   "execution_count": 17,
   "id": "fc5aa992",
   "metadata": {},
   "outputs": [],
   "source": [
    "def bin_arm_str_array(arm_str_array):\n",
    "\n",
    "    arm_int_array = np.zeros(len(arm_str_array))\n",
    "\n",
    "    for i in range(len(arm_str_array)):\n",
    "        arm_int_array[i] = int(binarize_arm(arm_str_array[i]))\n",
    "\n",
    "    return arm_int_array"
   ]
  },
  {
   "cell_type": "code",
   "execution_count": null,
   "id": "e63a68e5",
   "metadata": {},
   "outputs": [
    {
     "name": "stdout",
     "output_type": "stream",
     "text": [
      "RA\n",
      "DEC\n",
      "SUBSURVEY\n",
      "MAG\n",
      "REDSHIFT_ESTIMATE\n",
      "REDSHIFT_ERROR\n",
      "TEXP_D\n",
      "TEXP_G\n",
      "TEXP_B\n",
      "TEXP_S\n",
      "first for loop etc_col\n",
      "wavelength\n",
      "shape (1674374, 18018)\n",
      "binwidth\n",
      "shape (1674374, 18018)\n",
      "target\n",
      "shape (1674374, 18018)\n",
      "sky\n",
      "shape (1674374, 18018)\n",
      "dark\n",
      "shape (1674374, 18018)\n",
      "ron\n",
      "shape (1674374, 18018)\n",
      "noise\n",
      "shape (1674374, 18018)\n",
      "arm_int\n",
      "shape (1674374, 18018)\n",
      "for loop through objects\n",
      "0\n",
      "second for loop etc_col\n",
      "wavelength\n",
      "binwidth\n",
      "target\n",
      "sky\n",
      "dark\n",
      "ron\n",
      "noise\n",
      "arm_int\n",
      "1\n",
      "second for loop etc_col\n",
      "wavelength\n",
      "binwidth\n",
      "target\n",
      "sky\n",
      "dark\n",
      "ron\n",
      "noise\n",
      "arm_int\n",
      "2\n",
      "second for loop etc_col\n",
      "wavelength\n",
      "binwidth\n",
      "target\n",
      "sky\n",
      "dark\n",
      "ron\n",
      "noise\n",
      "arm_int\n",
      "3\n",
      "second for loop etc_col\n",
      "wavelength\n",
      "binwidth\n",
      "target\n",
      "sky\n",
      "dark\n",
      "ron\n",
      "noise\n",
      "arm_int\n",
      "4\n",
      "second for loop etc_col\n",
      "wavelength\n",
      "binwidth\n",
      "target\n",
      "sky\n",
      "dark\n",
      "ron\n",
      "noise\n",
      "arm_int\n",
      "5\n",
      "second for loop etc_col\n",
      "wavelength\n",
      "binwidth\n",
      "target\n",
      "sky\n",
      "dark\n",
      "ron\n",
      "noise\n",
      "arm_int\n",
      "6\n",
      "second for loop etc_col\n",
      "wavelength\n",
      "binwidth\n",
      "target\n",
      "sky\n",
      "dark\n",
      "ron\n",
      "noise\n",
      "arm_int\n",
      "7\n",
      "second for loop etc_col\n",
      "wavelength\n",
      "binwidth\n",
      "target\n",
      "sky\n",
      "dark\n",
      "ron\n",
      "noise\n",
      "arm_int\n",
      "8\n",
      "second for loop etc_col\n",
      "wavelength\n",
      "binwidth\n",
      "target\n",
      "sky\n",
      "dark\n",
      "ron\n",
      "noise\n",
      "arm_int\n",
      "9\n",
      "second for loop etc_col\n",
      "wavelength\n",
      "binwidth\n",
      "target\n",
      "sky\n",
      "dark\n",
      "ron\n",
      "noise\n",
      "arm_int\n"
     ]
    }
   ],
   "source": [
    "with h5py.File(save_name + '.hdf5', 'w') as f:\n",
    "\n",
    "    f.clear()\n",
    "\n",
    "    for cat_col in cols_to_save_from_cat:\n",
    "\n",
    "\n",
    "        if cat[cat_col].dtype.kind == 'S' or cat[cat_col].dtype.kind == 'U' or cat[cat_col].dtype.kind == 'O':\n",
    "            f.create_dataset(cat_col, data=np.array(cat[cat_col].astype('S')))\n",
    "\n",
    "        else:\n",
    "            f.create_dataset(cat_col, data=cat[cat_col])\n",
    "\n",
    "    n_objects = cat.shape[0]\n",
    "\n",
    "    test_obs = SNR_4MOST_like(cat['MAG'][0], cat['TEXP_G'][0])\n",
    "    test_obs['arm_int'] = bin_arm_str_array(np.asarray(test_obs['arm']))\n",
    "\n",
    "    for etc_col in cols_to_save_from_etc:\n",
    "\n",
    "        test_data = test_obs[etc_col]\n",
    "\n",
    "        if np.issubdtype(np.array(test_data).dtype, np.character) or isinstance(test_data[0], str):\n",
    "\n",
    "            if np.array(test_data).ndim == 0:\n",
    "                dtype = h5py.special_dtype(vlen=str)\n",
    "                f.create_dataset(etc_col, shape=(n_objects,), dtype=dtype)\n",
    "            else:\n",
    "                max_length = max([len(s) for s in test_data])\n",
    "                dtype = h5py.special_dtype(vlen=str)\n",
    "                shape = (n_objects,) + np.array(test_data).shape\n",
    "                f.create_dataset(etc_col, shape=shape, dtype=dtype)\n",
    "        \n",
    "        else:\n",
    "\n",
    "            shape = (n_objects,) + test_data.shape\n",
    "            f.create_dataset(etc_col, shape=shape)\n",
    "\n",
    "    for i in range(n_objects):\n",
    "\n",
    "        if i % 10000 == 0.0:\n",
    "            print(str(i * 100 / n_objects), '% \\n')\n",
    "\n",
    "        obs = SNR_4MOST_like(cat['MAG'][i], cat['TEXP_G'][i])\n",
    "\n",
    "        obs['arm_int'] = bin_arm_str_array(np.asarray(obs['arm']))\n",
    "\n",
    "        for etc_col_ in cols_to_save_from_etc:\n",
    "\n",
    "            f[etc_col_][i] = np.asarray(obs[etc_col_])"
   ]
  },
  {
   "cell_type": "code",
   "execution_count": 15,
   "id": "889d8071",
   "metadata": {},
   "outputs": [],
   "source": [
    "testing = h5py.File(save_name+'.hdf5', 'r')"
   ]
  },
  {
   "cell_type": "code",
   "execution_count": 16,
   "id": "00bd5f4d",
   "metadata": {},
   "outputs": [
    {
     "data": {
      "text/plain": [
       "<KeysViewHDF5 ['DEC', 'MAG', 'RA', 'REDSHIFT_ERROR', 'REDSHIFT_ESTIMATE', 'SUBSURVEY', 'TEXP_B', 'TEXP_D', 'TEXP_G', 'TEXP_S', 'arm_int', 'binwidth', 'dark', 'noise', 'ron', 'sky', 'target', 'wavelength']>"
      ]
     },
     "execution_count": 16,
     "metadata": {},
     "output_type": "execute_result"
    }
   ],
   "source": [
    "testing.keys()"
   ]
  },
  {
   "cell_type": "code",
   "execution_count": 17,
   "id": "20064860",
   "metadata": {},
   "outputs": [
    {
     "data": {
      "text/plain": [
       "(1674374, 18018)"
      ]
     },
     "execution_count": 17,
     "metadata": {},
     "output_type": "execute_result"
    }
   ],
   "source": [
    "testing['wavelength'][:].shape"
   ]
  },
  {
   "cell_type": "code",
   "execution_count": 19,
   "id": "64aa1aae",
   "metadata": {},
   "outputs": [
    {
     "data": {
      "text/plain": [
       "(18018,)"
      ]
     },
     "execution_count": 19,
     "metadata": {},
     "output_type": "execute_result"
    }
   ],
   "source": [
    "testing['wavelength'][0].shape"
   ]
  },
  {
   "cell_type": "code",
   "execution_count": 35,
   "id": "b725bf64",
   "metadata": {},
   "outputs": [
    {
     "name": "stdout",
     "output_type": "stream",
     "text": [
      "DEC\n",
      "(1674374,)\n",
      " \n",
      "MAG\n",
      "(1674374,)\n",
      " \n",
      "RA\n",
      "(1674374,)\n",
      " \n",
      "REDSHIFT_ERROR\n",
      "(1674374,)\n",
      " \n",
      "REDSHIFT_ESTIMATE\n",
      "(1674374,)\n",
      " \n",
      "SUBSURVEY\n",
      "(1674374,)\n",
      " \n",
      "TEXP_B\n",
      "(1674374,)\n",
      " \n",
      "TEXP_D\n",
      "(1674374,)\n",
      " \n",
      "TEXP_G\n",
      "(1674374,)\n",
      " \n",
      "TEXP_S\n",
      "(1674374,)\n",
      " \n",
      "arm_int\n",
      "(1674374, 18018)\n",
      " \n",
      "binwidth\n"
     ]
    },
    {
     "ename": "KeyboardInterrupt",
     "evalue": "",
     "output_type": "error",
     "traceback": [
      "\u001b[31m---------------------------------------------------------------------------\u001b[39m",
      "\u001b[31mKeyboardInterrupt\u001b[39m                         Traceback (most recent call last)",
      "\u001b[36mCell\u001b[39m\u001b[36m \u001b[39m\u001b[32mIn[35]\u001b[39m\u001b[32m, line 3\u001b[39m\n\u001b[32m      1\u001b[39m \u001b[38;5;28;01mfor\u001b[39;00m key \u001b[38;5;129;01min\u001b[39;00m testing.keys():\n\u001b[32m      2\u001b[39m     \u001b[38;5;28mprint\u001b[39m(key)\n\u001b[32m----> \u001b[39m\u001b[32m3\u001b[39m     \u001b[38;5;28mprint\u001b[39m(\u001b[43mtesting\u001b[49m\u001b[43m[\u001b[49m\u001b[43mkey\u001b[49m\u001b[43m]\u001b[49m\u001b[43m[\u001b[49m\u001b[43m:\u001b[49m\u001b[43m]\u001b[49m.shape)\n\u001b[32m      4\u001b[39m     \u001b[38;5;28mprint\u001b[39m(\u001b[33m'\u001b[39m\u001b[33m \u001b[39m\u001b[33m'\u001b[39m)\n",
      "\u001b[36mFile \u001b[39m\u001b[32mh5py/_objects.pyx:54\u001b[39m, in \u001b[36mh5py._objects.with_phil.wrapper\u001b[39m\u001b[34m()\u001b[39m\n",
      "\u001b[36mFile \u001b[39m\u001b[32mh5py/_objects.pyx:55\u001b[39m, in \u001b[36mh5py._objects.with_phil.wrapper\u001b[39m\u001b[34m()\u001b[39m\n",
      "\u001b[36mFile \u001b[39m\u001b[32m~/miniconda3/envs/etc_4fs/lib/python3.12/site-packages/h5py/_hl/dataset.py:802\u001b[39m, in \u001b[36mDataset.__getitem__\u001b[39m\u001b[34m(self, args, new_dtype)\u001b[39m\n\u001b[32m    800\u001b[39m \u001b[38;5;28;01mif\u001b[39;00m \u001b[38;5;28mself\u001b[39m._fast_read_ok \u001b[38;5;129;01mand\u001b[39;00m (new_dtype \u001b[38;5;129;01mis\u001b[39;00m \u001b[38;5;28;01mNone\u001b[39;00m):\n\u001b[32m    801\u001b[39m     \u001b[38;5;28;01mtry\u001b[39;00m:\n\u001b[32m--> \u001b[39m\u001b[32m802\u001b[39m         \u001b[38;5;28;01mreturn\u001b[39;00m \u001b[38;5;28;43mself\u001b[39;49m\u001b[43m.\u001b[49m\u001b[43m_fast_reader\u001b[49m\u001b[43m.\u001b[49m\u001b[43mread\u001b[49m\u001b[43m(\u001b[49m\u001b[43margs\u001b[49m\u001b[43m)\u001b[49m\n\u001b[32m    803\u001b[39m     \u001b[38;5;28;01mexcept\u001b[39;00m \u001b[38;5;167;01mTypeError\u001b[39;00m:\n\u001b[32m    804\u001b[39m         \u001b[38;5;28;01mpass\u001b[39;00m  \u001b[38;5;66;03m# Fall back to Python read pathway below\u001b[39;00m\n",
      "\u001b[31mKeyboardInterrupt\u001b[39m: "
     ]
    }
   ],
   "source": [
    "for key in testing.keys():\n",
    "    print(key)\n",
    "    print(testing[key][:].shape)\n",
    "    print(' ')"
   ]
  },
  {
   "cell_type": "code",
   "execution_count": null,
   "id": "bd210d05",
   "metadata": {},
   "outputs": [],
   "source": []
  },
  {
   "cell_type": "code",
   "execution_count": null,
   "id": "cc390ae1",
   "metadata": {},
   "outputs": [],
   "source": []
  },
  {
   "cell_type": "markdown",
   "id": "be729269",
   "metadata": {},
   "source": [
    "## Plotting"
   ]
  },
  {
   "cell_type": "code",
   "execution_count": 150,
   "id": "aadb76e3",
   "metadata": {},
   "outputs": [
    {
     "data": {
      "text/plain": [
       "[<matplotlib.lines.Line2D at 0x7f9ae0b45880>]"
      ]
     },
     "execution_count": 150,
     "metadata": {},
     "output_type": "execute_result"
    },
    {
     "data": {
      "image/png": "[encoded data removed]",
      "text/plain": [
       "<Figure size 640x480 with 1 Axes>"
      ]
     },
     "metadata": {},
     "output_type": "display_data"
    }
   ],
   "source": [
    "plt.plot(tbl[tbl['arm']==\"blue\"]['wavelength'],tbl[tbl['arm']==\"blue\"]['sky'])\n",
    "plt.plot(tbl[tbl['arm']==\"green\"]['wavelength'],tbl[tbl['arm']==\"green\"]['sky'])\n",
    "plt.plot(tbl[tbl['arm']==\"red\"]['wavelength'],tbl[tbl['arm']==\"red\"]['sky'])"
   ]
  },
  {
   "cell_type": "code",
   "execution_count": 149,
   "id": "55c774f4",
   "metadata": {},
   "outputs": [
    {
     "data": {
      "text/plain": [
       "[<matplotlib.lines.Line2D at 0x7f9ae0cc35c0>]"
      ]
     },
     "execution_count": 149,
     "metadata": {},
     "output_type": "execute_result"
    },
    {
     "data": {
      "image/png": "[encoded data removed]",
      "text/plain": [
       "<Figure size 640x480 with 1 Axes>"
      ]
     },
     "metadata": {},
     "output_type": "display_data"
    }
   ],
   "source": [
    "plt.plot(tbl[tbl['arm']==\"blue\"]['wavelength'],tbl[tbl['arm']==\"blue\"]['noise'])\n",
    "plt.plot(tbl[tbl['arm']==\"green\"]['wavelength'],tbl[tbl['arm']==\"green\"]['noise'])\n",
    "plt.plot(tbl[tbl['arm']==\"red\"]['wavelength'],tbl[tbl['arm']==\"red\"]['noise'])"
   ]
  },
  {
   "cell_type": "code",
   "execution_count": 148,
   "id": "fb28f816-05d1-4376-a5ea-9f4183312bf9",
   "metadata": {},
   "outputs": [
    {
     "data": {
      "text/plain": [
       "[<matplotlib.lines.Line2D at 0x7f9ae0c6a600>]"
      ]
     },
     "execution_count": 148,
     "metadata": {},
     "output_type": "execute_result"
    },
    {
     "data": {
      "image/png": "[encoded data removed]",
      "text/plain": [
       "<Figure size 640x480 with 1 Axes>"
      ]
     },
     "metadata": {},
     "output_type": "display_data"
    }
   ],
   "source": [
    "plt.plot(tbl[tbl['arm']==\"blue\"]['wavelength'],tbl[tbl['arm']==\"blue\"]['target']/tbl[tbl['arm']==\"blue\"]['noise'])\n",
    "plt.plot(tbl[tbl['arm']==\"green\"]['wavelength'],tbl[tbl['arm']==\"green\"]['target']/tbl[tbl['arm']==\"green\"]['noise'])\n",
    "plt.plot(tbl[tbl['arm']==\"red\"]['wavelength'],tbl[tbl['arm']==\"red\"]['target']/tbl[tbl['arm']==\"red\"]['noise'])\n",
    "\n",
    "# plt.xlim(620, 650)\n",
    "# plt.ylim(30, 40)"
   ]
  },
  {
   "cell_type": "code",
   "execution_count": null,
   "id": "63a7ecb1-1379-4edf-adbc-fd0ac5beda18",
   "metadata": {},
   "outputs": [
    {
     "data": {
      "text/plain": [
       "[<matplotlib.lines.Line2D at 0x13ecbc2f0>]"
      ]
     },
     "execution_count": 49,
     "metadata": {},
     "output_type": "execute_result"
    },
    {
     "data": {
      "image/png": "[encoded data removed]",
      "text/plain": [
       "<Figure size 640x480 with 1 Axes>"
      ]
     },
     "metadata": {},
     "output_type": "display_data"
    }
   ],
   "source": [
    "flux = template(17*u.ABmag, 'DECam.z')\n",
    "obs.set_target(flux, 'point')\n",
    "tbl = obs.expose((53.7*60)*u.s)\n",
    "\n",
    "plt.plot(tbl[tbl['arm']==\"blue\"]['wavelength'],tbl[tbl['arm']==\"blue\"]['target']/tbl[tbl['arm']==\"blue\"]['noise'])\n",
    "plt.plot(tbl[tbl['arm']==\"green\"]['wavelength'],tbl[tbl['arm']==\"green\"]['target']/tbl[tbl['arm']==\"green\"]['noise'])\n",
    "plt.plot(tbl[tbl['arm']==\"red\"]['wavelength'],tbl[tbl['arm']==\"red\"]['target']/tbl[tbl['arm']==\"red\"]['noise'])\n"
   ]
  },
  {
   "cell_type": "code",
   "execution_count": null,
   "id": "93c0a0da-81e0-4bfb-bda0-ac4eee5812a2",
   "metadata": {
    "scrolled": true
   },
   "outputs": [
    {
     "data": {
      "text/plain": [
       "[<matplotlib.lines.Line2D at 0x13ed11970>]"
      ]
     },
     "execution_count": 50,
     "metadata": {},
     "output_type": "execute_result"
    },
    {
     "data": {
      "image/png": "[encoded data removed]",
      "text/plain": [
       "<Figure size 640x480 with 1 Axes>"
      ]
     },
     "metadata": {},
     "output_type": "display_data"
    }
   ],
   "source": [
    "flux = template(19*u.ABmag, 'DECam.z')\n",
    "obs.set_target(flux, 'point')\n",
    "tbl = obs.expose((53.7*60)*u.s)\n",
    "\n",
    "plt.plot(tbl[tbl['arm']==\"blue\"]['wavelength'],tbl[tbl['arm']==\"blue\"]['target']/tbl[tbl['arm']==\"blue\"]['noise'])\n",
    "plt.plot(tbl[tbl['arm']==\"green\"]['wavelength'],tbl[tbl['arm']==\"green\"]['target']/tbl[tbl['arm']==\"green\"]['noise'])\n",
    "plt.plot(tbl[tbl['arm']==\"red\"]['wavelength'],tbl[tbl['arm']==\"red\"]['target']/tbl[tbl['arm']==\"red\"]['noise'])"
   ]
  },
  {
   "cell_type": "code",
   "execution_count": null,
   "id": "123f83cb-6c48-476d-b0fd-f898e829bff1",
   "metadata": {},
   "outputs": [],
   "source": []
  }
 ],
 "metadata": {
  "kernelspec": {
   "display_name": "etc_4fs",
   "language": "python",
   "name": "python3"
  },
  "language_info": {
   "codemirror_mode": {
    "name": "ipython",
    "version": 3
   },
   "file_extension": ".py",
   "mimetype": "text/x-python",
   "name": "python",
   "nbconvert_exporter": "python",
   "pygments_lexer": "ipython3",
   "version": "3.12.9"
  }
 },
 "nbformat": 4,
 "nbformat_minor": 5
}
