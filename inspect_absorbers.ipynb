{
 "cells": [
  {
   "cell_type": "code",
   "execution_count": 2,
   "id": "9cfcfe04",
   "metadata": {},
   "outputs": [],
   "source": [
    "from astropy.io import fits\n",
    "from astropy.table import Table, vstack\n",
    "import astropy.units as u\n",
    "import numpy as np\n",
    "import os\n",
    "import sys\n",
    "import pandas as pd\n",
    "from pathlib import Path\n",
    "import h5py"
   ]
  },
  {
   "cell_type": "markdown",
   "id": "8efeb17f",
   "metadata": {},
   "source": [
    "### Read cat & random QSO"
   ]
  },
  {
   "cell_type": "code",
   "execution_count": 3,
   "id": "d98458cd",
   "metadata": {},
   "outputs": [],
   "source": [
    "path_qso_models = Path('/data2/home2/nguerrav/QSO_simpaqs/QSOs_full_cat/')"
   ]
  },
  {
   "cell_type": "code",
   "execution_count": 8,
   "id": "9fd5920d",
   "metadata": {},
   "outputs": [
    {
     "data": {
      "text/plain": [
       "Index(['SWEEP_NAME', 'INDEX_SWEEP', 'BRICKNAME', 'OBJID', 'TYPE', 'RA', 'DEC',\n",
       "       'EBV', 'SN_MAX', 'PLXSIG', 'PMSIG', 'BAND_LEGACY', 'REFERENCE_BAND',\n",
       "       'COMBINATION_USE', 'CAL_MAG_BLUE', 'CAL_MAG_GREEN', 'CAL_MAG_RED',\n",
       "       'MAG', 'CAL_MAG_ERR_BLUE', 'CAL_MAG_ERR_GREEN', 'CAL_MAG_ERR_RED',\n",
       "       'MAG_ERR', 'MAG_Y', 'MAG_J', 'MAG_H', 'MAG_K', 'MAGERR_Y', 'MAGERR_J',\n",
       "       'MAGERR_H', 'MAGERR_K', 'MAG_W1', 'MAG_W2', 'MAGERR_W1', 'MAGERR_W2',\n",
       "       'P_QSO', 'REDSHIFT_ESTIMATE', 'Z1_QSO', 'Z2_QSO', 'P_QSO_Z', 'P_GALAXY',\n",
       "       'PHOTOZ_GALAXY', 'Z1_GALAXY', 'Z2_GALAXY', 'P_GALAXY_Z', 'P_STAR',\n",
       "       'RATIO', 'CLASS_SPEC', 'Z_SPEC', 'REDSHIFT_ERROR', 'REDSHIFT_REF', 'l',\n",
       "       'b', 'pm', 'PMRA', 'PMDEC', 'pmra_error', 'pmdec_error', 'Z_DESI',\n",
       "       'SPECTYPE_DESI', 'SUBSURVEY', 'EPOCH', 'RESOLUTION', 'CADENCE',\n",
       "       'TEMPLATE', 'EXTENT_FLAG', 'EXTENT_PARAMETER', 'EXTENT_INDEX',\n",
       "       'REDDENING', 'TEMPLATE_REDSHIFT', 'DATE_EARLIEST', 'DATE_LATEST',\n",
       "       'CLASSIFICATION', 'COMPLETENESS', 'PARALLAX', 'MAG_TYPE',\n",
       "       'CAL_MAG_ID_BLUE', 'CAL_MAG_ID_GREEN', 'CAL_MAG_ID_RED', 'RULESET',\n",
       "       'NAME', 'fobs', 'SNR_mean', 'SNR_blue_mean', 'SNR_green_mean',\n",
       "       'SNR_red_mean', 'golden'],\n",
       "      dtype='object')"
      ]
     },
     "execution_count": 8,
     "metadata": {},
     "output_type": "execute_result"
    }
   ],
   "source": [
    "catalog = Table.read('/data2/home2/nguerrav/Catalogues/ByCycle_Final_Cat_fobs_qso_templates_with_SNR_golden_label.fits').to_pandas()\n",
    "catalog.columns"
   ]
  },
  {
   "cell_type": "code",
   "execution_count": 5,
   "id": "3298833b",
   "metadata": {},
   "outputs": [
    {
     "data": {
      "text/html": [
       "<div><i>Table length=77801</i>\n",
       "<table id=\"table140656049882896\" class=\"table-striped table-bordered table-condensed\">\n",
       "<thead><tr><th>LAMBDA</th><th>FLUX_DENSITY</th></tr></thead>\n",
       "<thead><tr><th>Angstrom</th><th>erg / (Angstrom s cm2)</th></tr></thead>\n",
       "<thead><tr><th>float64</th><th>float32</th></tr></thead>\n",
       "<tr><td>3926.04</td><td>1.1058494e-15</td></tr>\n",
       "<tr><td>3926.12</td><td>1.105827e-15</td></tr>\n",
       "<tr><td>3926.2</td><td>1.1058069e-15</td></tr>\n",
       "<tr><td>3926.2799999999997</td><td>1.1057868e-15</td></tr>\n",
       "<tr><td>3926.36</td><td>1.1057666e-15</td></tr>\n",
       "<tr><td>3926.44</td><td>1.1057465e-15</td></tr>\n",
       "<tr><td>3926.52</td><td>1.1057262e-15</td></tr>\n",
       "<tr><td>3926.6</td><td>1.1057061e-15</td></tr>\n",
       "<tr><td>3926.68</td><td>1.1056859e-15</td></tr>\n",
       "<tr><td>...</td><td>...</td></tr>\n",
       "<tr><td>10149.399999996946</td><td>2.5961647e-16</td></tr>\n",
       "<tr><td>10149.479999996945</td><td>2.5960967e-16</td></tr>\n",
       "<tr><td>10149.559999996945</td><td>2.5960284e-16</td></tr>\n",
       "<tr><td>10149.639999996945</td><td>2.5959604e-16</td></tr>\n",
       "<tr><td>10149.719999996945</td><td>2.595892e-16</td></tr>\n",
       "<tr><td>10149.799999996945</td><td>2.5958238e-16</td></tr>\n",
       "<tr><td>10149.879999996945</td><td>2.5957558e-16</td></tr>\n",
       "<tr><td>10149.959999996945</td><td>2.5956875e-16</td></tr>\n",
       "<tr><td>10150.039999996945</td><td>2.5956194e-16</td></tr>\n",
       "</table></div>"
      ],
      "text/plain": [
       "<Table length=77801>\n",
       "      LAMBDA            FLUX_DENSITY     \n",
       "     Angstrom      erg / (Angstrom s cm2)\n",
       "     float64              float32        \n",
       "------------------ ----------------------\n",
       "           3926.04          1.1058494e-15\n",
       "           3926.12           1.105827e-15\n",
       "            3926.2          1.1058069e-15\n",
       "3926.2799999999997          1.1057868e-15\n",
       "           3926.36          1.1057666e-15\n",
       "           3926.44          1.1057465e-15\n",
       "           3926.52          1.1057262e-15\n",
       "            3926.6          1.1057061e-15\n",
       "           3926.68          1.1056859e-15\n",
       "               ...                    ...\n",
       "10149.399999996946          2.5961647e-16\n",
       "10149.479999996945          2.5960967e-16\n",
       "10149.559999996945          2.5960284e-16\n",
       "10149.639999996945          2.5959604e-16\n",
       "10149.719999996945           2.595892e-16\n",
       "10149.799999996945          2.5958238e-16\n",
       "10149.879999996945          2.5957558e-16\n",
       "10149.959999996945          2.5956875e-16\n",
       "10150.039999996945          2.5956194e-16"
      ]
     },
     "execution_count": 5,
     "metadata": {},
     "output_type": "execute_result"
    }
   ],
   "source": [
    "random_qso = Table.read(path_qso_models / 'QSO_sim_z0.6_MgIIBlueDeep_0.364m34.7046.fits')\n",
    "random_qso"
   ]
  },
  {
   "cell_type": "code",
   "execution_count": 15,
   "id": "f83bcd41",
   "metadata": {},
   "outputs": [
    {
     "data": {
      "text/plain": [
       "array([1.1058494e-15, 1.1058270e-15, 1.1058069e-15, ..., 2.5957558e-16,\n",
       "       2.5956875e-16, 2.5956194e-16], dtype='>f4')"
      ]
     },
     "execution_count": 15,
     "metadata": {},
     "output_type": "execute_result"
    }
   ],
   "source": [
    "np.array(random_qso['FLUX_DENSITY'][:])"
   ]
  },
  {
   "cell_type": "markdown",
   "id": "e25dc90f",
   "metadata": {},
   "source": [
    "### Read absorbers"
   ]
  },
  {
   "cell_type": "code",
   "execution_count": 6,
   "id": "b6ec10ff",
   "metadata": {},
   "outputs": [
    {
     "data": {
      "text/plain": [
       "<KeysViewHDF5 ['EW_MgII_2796', 'EW_MgII_2803', 'flux', 'ray_dir', 'ray_pos', 'ray_total_dl', 'tau_MgII_2796', 'tau_MgII_2803', 'wave']>"
      ]
     },
     "execution_count": 6,
     "metadata": {},
     "output_type": "execute_result"
    }
   ],
   "source": [
    "absorbers_z_05 = h5py.File('/data2/home2/nguerrav/TNG50_spec/spectra_TNG50-1_z0.5_n2000d2-rndfullbox_4MOST-HRS_MgII_combined.hdf5', 'r')\n",
    "absorbers_z_05.keys()"
   ]
  },
  {
   "cell_type": "markdown",
   "id": "7b1ae43a",
   "metadata": {},
   "source": [
    "### Wavelength grids in TNG & simqso"
   ]
  },
  {
   "cell_type": "code",
   "execution_count": 7,
   "id": "cc305c09",
   "metadata": {},
   "outputs": [
    {
     "data": {
      "text/plain": [
       "array([0.])"
      ]
     },
     "execution_count": 7,
     "metadata": {},
     "output_type": "execute_result"
    }
   ],
   "source": [
    "np.unique(np.subtract(np.asarray(random_qso['LAMBDA'][:35800]), absorbers_z_05['wave'][:]))"
   ]
  },
  {
   "cell_type": "code",
   "execution_count": 11,
   "id": "2c90e2a8",
   "metadata": {},
   "outputs": [
    {
     "data": {
      "text/plain": [
       "(1361483, 86)"
      ]
     },
     "execution_count": 11,
     "metadata": {},
     "output_type": "execute_result"
    }
   ],
   "source": [
    "catalog.shape"
   ]
  },
  {
   "cell_type": "code",
   "execution_count": null,
   "id": "a220b3d0",
   "metadata": {},
   "outputs": [
    {
     "name": "stdout",
     "output_type": "stream",
     "text": [
      "0\n",
      "1\n",
      "2\n",
      "3\n",
      "4\n",
      "5\n",
      "6\n",
      "7\n",
      "8\n",
      "9\n",
      "10\n",
      "11\n",
      "12\n",
      "13\n",
      "14\n",
      "15\n",
      "16\n",
      "17\n",
      "18\n",
      "19\n",
      "20\n",
      "21\n",
      "22\n",
      "23\n",
      "24\n",
      "25\n",
      "26\n",
      "27\n",
      "28\n",
      "29\n",
      "30\n",
      "31\n",
      "32\n",
      "33\n",
      "34\n",
      "35\n",
      "36\n",
      "37\n",
      "38\n",
      "39\n",
      "40\n",
      "41\n",
      "42\n",
      "43\n",
      "44\n",
      "45\n",
      "46\n",
      "47\n",
      "48\n",
      "49\n",
      "50\n",
      "51\n",
      "52\n",
      "53\n",
      "54\n",
      "55\n",
      "56\n",
      "57\n",
      "58\n",
      "59\n",
      "60\n",
      "61\n",
      "62\n",
      "63\n",
      "64\n",
      "65\n",
      "66\n",
      "67\n",
      "68\n",
      "69\n",
      "70\n",
      "71\n",
      "72\n",
      "73\n",
      "74\n",
      "75\n",
      "76\n",
      "77\n",
      "78\n",
      "79\n",
      "80\n",
      "81\n",
      "82\n",
      "83\n",
      "84\n",
      "85\n"
     ]
    }
   ],
   "source": [
    "for num, row in enumerate(catalog, 1):\n",
    "    print(num)\n",
    "    # print(row)"
   ]
  },
  {
   "cell_type": "code",
   "execution_count": null,
   "id": "1a6b86a3",
   "metadata": {},
   "outputs": [],
   "source": []
  }
 ],
 "metadata": {
  "kernelspec": {
   "display_name": "etc_4fs",
   "language": "python",
   "name": "python3"
  },
  "language_info": {
   "codemirror_mode": {
    "name": "ipython",
    "version": 3
   },
   "file_extension": ".py",
   "mimetype": "text/x-python",
   "name": "python",
   "nbconvert_exporter": "python",
   "pygments_lexer": "ipython3",
   "version": "3.12.9"
  }
 },
 "nbformat": 4,
 "nbformat_minor": 5
}
